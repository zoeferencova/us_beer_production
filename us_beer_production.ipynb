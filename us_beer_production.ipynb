{
 "cells": [
  {
   "cell_type": "code",
   "execution_count": 513,
   "id": "507bc71f",
   "metadata": {},
   "outputs": [],
   "source": [
    "import pandas as pd\n",
    "import numpy as np\n",
    "import plotly.express as px\n",
    "import re\n",
    "from siuba.dply.forcats import fct_lump, fct_reorder\n",
    "\n",
    "%matplotlib inline"
   ]
  },
  {
   "cell_type": "markdown",
   "id": "7c50ac29",
   "metadata": {},
   "source": [
    "## Importing Data"
   ]
  },
  {
   "cell_type": "code",
   "execution_count": 457,
   "id": "a8172ba7",
   "metadata": {},
   "outputs": [],
   "source": [
    "brewing_materials = pd.read_csv('https://raw.githubusercontent.com/rfordatascience/tidytuesday/master/data/2020/2020-03-31/brewing_materials.csv')\n",
    "beer_taxed = pd.read_csv('https://raw.githubusercontent.com/rfordatascience/tidytuesday/master/data/2020/2020-03-31/beer_taxed.csv')\n",
    "brewer_size = pd.read_csv('https://raw.githubusercontent.com/rfordatascience/tidytuesday/master/data/2020/2020-03-31/brewer_size.csv')\n",
    "beer_states = pd.read_csv('https://raw.githubusercontent.com/rfordatascience/tidytuesday/master/data/2020/2020-03-31/beer_states.csv')"
   ]
  },
  {
   "cell_type": "markdown",
   "id": "b47f15c4",
   "metadata": {},
   "source": [
    "## Exploring Data"
   ]
  },
  {
   "cell_type": "markdown",
   "id": "64308d8a",
   "metadata": {},
   "source": [
    "The `brewing_materials` dataset looks like it shows annual and monthly quantites (lbs) of different brewing materials used to produce beer."
   ]
  },
  {
   "cell_type": "code",
   "execution_count": 155,
   "id": "d308a66e",
   "metadata": {},
   "outputs": [
    {
     "data": {
      "text/html": [
       "<div>\n",
       "<style scoped>\n",
       "    .dataframe tbody tr th:only-of-type {\n",
       "        vertical-align: middle;\n",
       "    }\n",
       "\n",
       "    .dataframe tbody tr th {\n",
       "        vertical-align: top;\n",
       "    }\n",
       "\n",
       "    .dataframe thead th {\n",
       "        text-align: right;\n",
       "    }\n",
       "</style>\n",
       "<table border=\"1\" class=\"dataframe\">\n",
       "  <thead>\n",
       "    <tr style=\"text-align: right;\">\n",
       "      <th></th>\n",
       "      <th>data_type</th>\n",
       "      <th>material_type</th>\n",
       "      <th>year</th>\n",
       "      <th>month</th>\n",
       "      <th>type</th>\n",
       "      <th>month_current</th>\n",
       "      <th>month_prior_year</th>\n",
       "      <th>ytd_current</th>\n",
       "      <th>ytd_prior_year</th>\n",
       "    </tr>\n",
       "  </thead>\n",
       "  <tbody>\n",
       "    <tr>\n",
       "      <th>0</th>\n",
       "      <td>Pounds of Materials Used</td>\n",
       "      <td>Grain Products</td>\n",
       "      <td>2008</td>\n",
       "      <td>1</td>\n",
       "      <td>Malt and malt products</td>\n",
       "      <td>374165152</td>\n",
       "      <td>365300134</td>\n",
       "      <td>374165152.0</td>\n",
       "      <td>365300134.0</td>\n",
       "    </tr>\n",
       "    <tr>\n",
       "      <th>1</th>\n",
       "      <td>Pounds of Materials Used</td>\n",
       "      <td>Grain Products</td>\n",
       "      <td>2008</td>\n",
       "      <td>1</td>\n",
       "      <td>Corn and corn products</td>\n",
       "      <td>57563519</td>\n",
       "      <td>41647092</td>\n",
       "      <td>57563519.0</td>\n",
       "      <td>41647092.0</td>\n",
       "    </tr>\n",
       "    <tr>\n",
       "      <th>2</th>\n",
       "      <td>Pounds of Materials Used</td>\n",
       "      <td>Grain Products</td>\n",
       "      <td>2008</td>\n",
       "      <td>1</td>\n",
       "      <td>Rice and rice products</td>\n",
       "      <td>72402143</td>\n",
       "      <td>81050102</td>\n",
       "      <td>72402143.0</td>\n",
       "      <td>81050102.0</td>\n",
       "    </tr>\n",
       "    <tr>\n",
       "      <th>3</th>\n",
       "      <td>Pounds of Materials Used</td>\n",
       "      <td>Grain Products</td>\n",
       "      <td>2008</td>\n",
       "      <td>1</td>\n",
       "      <td>Barley and barley products</td>\n",
       "      <td>3800844</td>\n",
       "      <td>2362162</td>\n",
       "      <td>3800844.0</td>\n",
       "      <td>2362162.0</td>\n",
       "    </tr>\n",
       "    <tr>\n",
       "      <th>4</th>\n",
       "      <td>Pounds of Materials Used</td>\n",
       "      <td>Grain Products</td>\n",
       "      <td>2008</td>\n",
       "      <td>1</td>\n",
       "      <td>Wheat and wheat products</td>\n",
       "      <td>1177186</td>\n",
       "      <td>1195381</td>\n",
       "      <td>1177186.0</td>\n",
       "      <td>1195381.0</td>\n",
       "    </tr>\n",
       "  </tbody>\n",
       "</table>\n",
       "</div>"
      ],
      "text/plain": [
       "                  data_type   material_type  year  month  \\\n",
       "0  Pounds of Materials Used  Grain Products  2008      1   \n",
       "1  Pounds of Materials Used  Grain Products  2008      1   \n",
       "2  Pounds of Materials Used  Grain Products  2008      1   \n",
       "3  Pounds of Materials Used  Grain Products  2008      1   \n",
       "4  Pounds of Materials Used  Grain Products  2008      1   \n",
       "\n",
       "                         type  month_current  month_prior_year  ytd_current  \\\n",
       "0      Malt and malt products      374165152         365300134  374165152.0   \n",
       "1      Corn and corn products       57563519          41647092   57563519.0   \n",
       "2      Rice and rice products       72402143          81050102   72402143.0   \n",
       "3  Barley and barley products        3800844           2362162    3800844.0   \n",
       "4    Wheat and wheat products        1177186           1195381    1177186.0   \n",
       "\n",
       "   ytd_prior_year  \n",
       "0     365300134.0  \n",
       "1      41647092.0  \n",
       "2      81050102.0  \n",
       "3       2362162.0  \n",
       "4       1195381.0  "
      ]
     },
     "execution_count": 155,
     "metadata": {},
     "output_type": "execute_result"
    }
   ],
   "source": [
    "brewing_materials.head()"
   ]
  },
  {
   "cell_type": "markdown",
   "id": "c8ca503a",
   "metadata": {},
   "source": [
    "The `beer_taxed` dataset contains data on the barrels of beer produced by year and by type of production."
   ]
  },
  {
   "cell_type": "code",
   "execution_count": 156,
   "id": "9fc6453c",
   "metadata": {},
   "outputs": [
    {
     "data": {
      "text/html": [
       "<div>\n",
       "<style scoped>\n",
       "    .dataframe tbody tr th:only-of-type {\n",
       "        vertical-align: middle;\n",
       "    }\n",
       "\n",
       "    .dataframe tbody tr th {\n",
       "        vertical-align: top;\n",
       "    }\n",
       "\n",
       "    .dataframe thead th {\n",
       "        text-align: right;\n",
       "    }\n",
       "</style>\n",
       "<table border=\"1\" class=\"dataframe\">\n",
       "  <thead>\n",
       "    <tr style=\"text-align: right;\">\n",
       "      <th></th>\n",
       "      <th>data_type</th>\n",
       "      <th>tax_status</th>\n",
       "      <th>year</th>\n",
       "      <th>month</th>\n",
       "      <th>type</th>\n",
       "      <th>month_current</th>\n",
       "      <th>month_prior_year</th>\n",
       "      <th>ytd_current</th>\n",
       "      <th>ytd_prior_year</th>\n",
       "      <th>tax_rate</th>\n",
       "    </tr>\n",
       "  </thead>\n",
       "  <tbody>\n",
       "    <tr>\n",
       "      <th>0</th>\n",
       "      <td>Barrels Produced</td>\n",
       "      <td>Totals</td>\n",
       "      <td>2008</td>\n",
       "      <td>1</td>\n",
       "      <td>Production</td>\n",
       "      <td>16211480</td>\n",
       "      <td>15880125</td>\n",
       "      <td>16211480.0</td>\n",
       "      <td>15880125.0</td>\n",
       "      <td>$7/$18 per barrel</td>\n",
       "    </tr>\n",
       "    <tr>\n",
       "      <th>1</th>\n",
       "      <td>Barrels Produced</td>\n",
       "      <td>Taxable</td>\n",
       "      <td>2008</td>\n",
       "      <td>1</td>\n",
       "      <td>In bottles and cans</td>\n",
       "      <td>13222104</td>\n",
       "      <td>12824278</td>\n",
       "      <td>13222104.0</td>\n",
       "      <td>12824278.0</td>\n",
       "      <td>$7/$18 per barrel</td>\n",
       "    </tr>\n",
       "    <tr>\n",
       "      <th>2</th>\n",
       "      <td>Barrels Produced</td>\n",
       "      <td>Taxable</td>\n",
       "      <td>2008</td>\n",
       "      <td>1</td>\n",
       "      <td>In barrels and kegs</td>\n",
       "      <td>1371239</td>\n",
       "      <td>1357372</td>\n",
       "      <td>1371239.0</td>\n",
       "      <td>1357372.0</td>\n",
       "      <td>$7/$18 per barrel</td>\n",
       "    </tr>\n",
       "    <tr>\n",
       "      <th>3</th>\n",
       "      <td>Barrels Produced</td>\n",
       "      <td>Taxable</td>\n",
       "      <td>2008</td>\n",
       "      <td>1</td>\n",
       "      <td>Tax Determined, Premises Use</td>\n",
       "      <td>7426</td>\n",
       "      <td>8419</td>\n",
       "      <td>7426.0</td>\n",
       "      <td>8419.0</td>\n",
       "      <td>$7/$18 per barrel</td>\n",
       "    </tr>\n",
       "    <tr>\n",
       "      <th>4</th>\n",
       "      <td>Barrels Produced</td>\n",
       "      <td>Sub Total Taxable</td>\n",
       "      <td>2008</td>\n",
       "      <td>1</td>\n",
       "      <td>Sub Total Taxable</td>\n",
       "      <td>14600769</td>\n",
       "      <td>14190069</td>\n",
       "      <td>14600769.0</td>\n",
       "      <td>14190069.0</td>\n",
       "      <td>$7/$18 per barrel</td>\n",
       "    </tr>\n",
       "  </tbody>\n",
       "</table>\n",
       "</div>"
      ],
      "text/plain": [
       "          data_type         tax_status  year  month  \\\n",
       "0  Barrels Produced             Totals  2008      1   \n",
       "1  Barrels Produced            Taxable  2008      1   \n",
       "2  Barrels Produced            Taxable  2008      1   \n",
       "3  Barrels Produced            Taxable  2008      1   \n",
       "4  Barrels Produced  Sub Total Taxable  2008      1   \n",
       "\n",
       "                           type  month_current  month_prior_year  ytd_current  \\\n",
       "0                    Production       16211480          15880125   16211480.0   \n",
       "1           In bottles and cans       13222104          12824278   13222104.0   \n",
       "2           In barrels and kegs        1371239           1357372    1371239.0   \n",
       "3  Tax Determined, Premises Use           7426              8419       7426.0   \n",
       "4             Sub Total Taxable       14600769          14190069   14600769.0   \n",
       "\n",
       "   ytd_prior_year           tax_rate  \n",
       "0      15880125.0  $7/$18 per barrel  \n",
       "1      12824278.0  $7/$18 per barrel  \n",
       "2       1357372.0  $7/$18 per barrel  \n",
       "3          8419.0  $7/$18 per barrel  \n",
       "4      14190069.0  $7/$18 per barrel  "
      ]
     },
     "execution_count": 156,
     "metadata": {},
     "output_type": "execute_result"
    }
   ],
   "source": [
    "beer_taxed.head()"
   ]
  },
  {
   "cell_type": "markdown",
   "id": "64059693",
   "metadata": {},
   "source": [
    "The `brewer_size` dataset shows the annual number of brewers by range of barrels produced. "
   ]
  },
  {
   "cell_type": "code",
   "execution_count": 157,
   "id": "fcac0499",
   "metadata": {
    "scrolled": true
   },
   "outputs": [
    {
     "data": {
      "text/html": [
       "<div>\n",
       "<style scoped>\n",
       "    .dataframe tbody tr th:only-of-type {\n",
       "        vertical-align: middle;\n",
       "    }\n",
       "\n",
       "    .dataframe tbody tr th {\n",
       "        vertical-align: top;\n",
       "    }\n",
       "\n",
       "    .dataframe thead th {\n",
       "        text-align: right;\n",
       "    }\n",
       "</style>\n",
       "<table border=\"1\" class=\"dataframe\">\n",
       "  <thead>\n",
       "    <tr style=\"text-align: right;\">\n",
       "      <th></th>\n",
       "      <th>year</th>\n",
       "      <th>brewer_size</th>\n",
       "      <th>n_of_brewers</th>\n",
       "      <th>total_barrels</th>\n",
       "      <th>taxable_removals</th>\n",
       "      <th>total_shipped</th>\n",
       "    </tr>\n",
       "  </thead>\n",
       "  <tbody>\n",
       "    <tr>\n",
       "      <th>0</th>\n",
       "      <td>2009</td>\n",
       "      <td>6,000,001 Barrels and Over</td>\n",
       "      <td>18</td>\n",
       "      <td>1.712329e+08</td>\n",
       "      <td>1.596440e+08</td>\n",
       "      <td>3639970.0</td>\n",
       "    </tr>\n",
       "    <tr>\n",
       "      <th>1</th>\n",
       "      <td>2009</td>\n",
       "      <td>1,000,001 to 6,000,000 Barrels</td>\n",
       "      <td>4</td>\n",
       "      <td>9.970404e+06</td>\n",
       "      <td>9.592723e+06</td>\n",
       "      <td>14548.0</td>\n",
       "    </tr>\n",
       "    <tr>\n",
       "      <th>2</th>\n",
       "      <td>2009</td>\n",
       "      <td>500,001 to 1,000,000 Barrels</td>\n",
       "      <td>7</td>\n",
       "      <td>4.831386e+06</td>\n",
       "      <td>4.535659e+06</td>\n",
       "      <td>21563.0</td>\n",
       "    </tr>\n",
       "    <tr>\n",
       "      <th>3</th>\n",
       "      <td>2009</td>\n",
       "      <td>100,001 to 500,000 Barrels</td>\n",
       "      <td>27</td>\n",
       "      <td>5.422156e+06</td>\n",
       "      <td>4.469289e+06</td>\n",
       "      <td>128000.0</td>\n",
       "    </tr>\n",
       "    <tr>\n",
       "      <th>4</th>\n",
       "      <td>2009</td>\n",
       "      <td>60,001 to 100,000 Barrels</td>\n",
       "      <td>19</td>\n",
       "      <td>1.501977e+06</td>\n",
       "      <td>1.224618e+06</td>\n",
       "      <td>95732.0</td>\n",
       "    </tr>\n",
       "  </tbody>\n",
       "</table>\n",
       "</div>"
      ],
      "text/plain": [
       "   year                     brewer_size  n_of_brewers  total_barrels  \\\n",
       "0  2009      6,000,001 Barrels and Over            18   1.712329e+08   \n",
       "1  2009  1,000,001 to 6,000,000 Barrels             4   9.970404e+06   \n",
       "2  2009    500,001 to 1,000,000 Barrels             7   4.831386e+06   \n",
       "3  2009      100,001 to 500,000 Barrels            27   5.422156e+06   \n",
       "4  2009       60,001 to 100,000 Barrels            19   1.501977e+06   \n",
       "\n",
       "   taxable_removals  total_shipped  \n",
       "0      1.596440e+08      3639970.0  \n",
       "1      9.592723e+06        14548.0  \n",
       "2      4.535659e+06        21563.0  \n",
       "3      4.469289e+06       128000.0  \n",
       "4      1.224618e+06        95732.0  "
      ]
     },
     "execution_count": 157,
     "metadata": {},
     "output_type": "execute_result"
    }
   ],
   "source": [
    "brewer_size.head()"
   ]
  },
  {
   "cell_type": "markdown",
   "id": "c26c1de6",
   "metadata": {},
   "source": [
    "Finally, `beer_states` seems to contain data on the annual amount of beer consumed (barrels) per state per production type. This could be represented nicely on a map."
   ]
  },
  {
   "cell_type": "code",
   "execution_count": 158,
   "id": "0e67aa5e",
   "metadata": {},
   "outputs": [
    {
     "data": {
      "text/html": [
       "<div>\n",
       "<style scoped>\n",
       "    .dataframe tbody tr th:only-of-type {\n",
       "        vertical-align: middle;\n",
       "    }\n",
       "\n",
       "    .dataframe tbody tr th {\n",
       "        vertical-align: top;\n",
       "    }\n",
       "\n",
       "    .dataframe thead th {\n",
       "        text-align: right;\n",
       "    }\n",
       "</style>\n",
       "<table border=\"1\" class=\"dataframe\">\n",
       "  <thead>\n",
       "    <tr style=\"text-align: right;\">\n",
       "      <th></th>\n",
       "      <th>state</th>\n",
       "      <th>year</th>\n",
       "      <th>barrels</th>\n",
       "      <th>type</th>\n",
       "    </tr>\n",
       "  </thead>\n",
       "  <tbody>\n",
       "    <tr>\n",
       "      <th>0</th>\n",
       "      <td>AK</td>\n",
       "      <td>2008</td>\n",
       "      <td>2067.69</td>\n",
       "      <td>On Premises</td>\n",
       "    </tr>\n",
       "    <tr>\n",
       "      <th>1</th>\n",
       "      <td>AK</td>\n",
       "      <td>2009</td>\n",
       "      <td>2263.65</td>\n",
       "      <td>On Premises</td>\n",
       "    </tr>\n",
       "    <tr>\n",
       "      <th>2</th>\n",
       "      <td>AK</td>\n",
       "      <td>2010</td>\n",
       "      <td>1929.15</td>\n",
       "      <td>On Premises</td>\n",
       "    </tr>\n",
       "    <tr>\n",
       "      <th>3</th>\n",
       "      <td>AK</td>\n",
       "      <td>2011</td>\n",
       "      <td>2251.02</td>\n",
       "      <td>On Premises</td>\n",
       "    </tr>\n",
       "    <tr>\n",
       "      <th>4</th>\n",
       "      <td>AK</td>\n",
       "      <td>2012</td>\n",
       "      <td>2312.43</td>\n",
       "      <td>On Premises</td>\n",
       "    </tr>\n",
       "  </tbody>\n",
       "</table>\n",
       "</div>"
      ],
      "text/plain": [
       "  state  year  barrels         type\n",
       "0    AK  2008  2067.69  On Premises\n",
       "1    AK  2009  2263.65  On Premises\n",
       "2    AK  2010  1929.15  On Premises\n",
       "3    AK  2011  2251.02  On Premises\n",
       "4    AK  2012  2312.43  On Premises"
      ]
     },
     "execution_count": 158,
     "metadata": {},
     "output_type": "execute_result"
    }
   ],
   "source": [
    "beer_states.head()"
   ]
  },
  {
   "cell_type": "markdown",
   "id": "9c802d43",
   "metadata": {},
   "source": [
    "### What ingredients are used in US beer production?"
   ]
  },
  {
   "cell_type": "markdown",
   "id": "23a5da31",
   "metadata": {},
   "source": [
    "Creating new date column for month and year values to make working with data over time easier:"
   ]
  },
  {
   "cell_type": "code",
   "execution_count": 159,
   "id": "2ffa1ac1",
   "metadata": {},
   "outputs": [],
   "source": [
    "brewing_materials[\"date\"] = pd.to_datetime(brewing_materials[\"month\"].astype(str) + \"-\" + brewing_materials[\"year\"].astype(str))"
   ]
  },
  {
   "cell_type": "markdown",
   "id": "974f3ca1",
   "metadata": {},
   "source": [
    "Plotting the data for most recent month by type:"
   ]
  },
  {
   "cell_type": "code",
   "execution_count": 328,
   "id": "06b96f98",
   "metadata": {
    "scrolled": true
   },
   "outputs": [
    {
     "data": {
      "application/vnd.plotly.v1+json": {
       "config": {
        "plotlyServerURL": "https://plot.ly"
       },
       "data": [
        {
         "alignmentgroup": "True",
         "hovertemplate": "month_current=%{x}<br>type=%{y}<extra></extra>",
         "legendgroup": "",
         "marker": {
          "color": "#636efa",
          "pattern": {
           "shape": ""
          }
         },
         "name": "",
         "offsetgroup": "",
         "orientation": "h",
         "showlegend": false,
         "textposition": "auto",
         "type": "bar",
         "x": [
          12651943,
          2777,
          2472,
          1093381,
          128174,
          13878747,
          36213,
          1453024,
          2117,
          657306,
          2148660,
          16027407
         ],
         "xaxis": "x",
         "y": [
          "Malt and malt products",
          "Corn and corn products",
          "Rice and rice products",
          "Barley and barley products",
          "Wheat and wheat products",
          "Total Grain products",
          "Sugar and syrups",
          "Hops (dry)",
          "Hops (used as extracts)",
          "Other",
          "Total Non-Grain products",
          "Total Used"
         ],
         "yaxis": "y"
        }
       ],
       "layout": {
        "barmode": "relative",
        "legend": {
         "tracegroupgap": 0
        },
        "margin": {
         "t": 60
        },
        "template": {
         "data": {
          "bar": [
           {
            "error_x": {
             "color": "#2a3f5f"
            },
            "error_y": {
             "color": "#2a3f5f"
            },
            "marker": {
             "line": {
              "color": "#E5ECF6",
              "width": 0.5
             },
             "pattern": {
              "fillmode": "overlay",
              "size": 10,
              "solidity": 0.2
             }
            },
            "type": "bar"
           }
          ],
          "barpolar": [
           {
            "marker": {
             "line": {
              "color": "#E5ECF6",
              "width": 0.5
             },
             "pattern": {
              "fillmode": "overlay",
              "size": 10,
              "solidity": 0.2
             }
            },
            "type": "barpolar"
           }
          ],
          "carpet": [
           {
            "aaxis": {
             "endlinecolor": "#2a3f5f",
             "gridcolor": "white",
             "linecolor": "white",
             "minorgridcolor": "white",
             "startlinecolor": "#2a3f5f"
            },
            "baxis": {
             "endlinecolor": "#2a3f5f",
             "gridcolor": "white",
             "linecolor": "white",
             "minorgridcolor": "white",
             "startlinecolor": "#2a3f5f"
            },
            "type": "carpet"
           }
          ],
          "choropleth": [
           {
            "colorbar": {
             "outlinewidth": 0,
             "ticks": ""
            },
            "type": "choropleth"
           }
          ],
          "contour": [
           {
            "colorbar": {
             "outlinewidth": 0,
             "ticks": ""
            },
            "colorscale": [
             [
              0,
              "#0d0887"
             ],
             [
              0.1111111111111111,
              "#46039f"
             ],
             [
              0.2222222222222222,
              "#7201a8"
             ],
             [
              0.3333333333333333,
              "#9c179e"
             ],
             [
              0.4444444444444444,
              "#bd3786"
             ],
             [
              0.5555555555555556,
              "#d8576b"
             ],
             [
              0.6666666666666666,
              "#ed7953"
             ],
             [
              0.7777777777777778,
              "#fb9f3a"
             ],
             [
              0.8888888888888888,
              "#fdca26"
             ],
             [
              1,
              "#f0f921"
             ]
            ],
            "type": "contour"
           }
          ],
          "contourcarpet": [
           {
            "colorbar": {
             "outlinewidth": 0,
             "ticks": ""
            },
            "type": "contourcarpet"
           }
          ],
          "heatmap": [
           {
            "colorbar": {
             "outlinewidth": 0,
             "ticks": ""
            },
            "colorscale": [
             [
              0,
              "#0d0887"
             ],
             [
              0.1111111111111111,
              "#46039f"
             ],
             [
              0.2222222222222222,
              "#7201a8"
             ],
             [
              0.3333333333333333,
              "#9c179e"
             ],
             [
              0.4444444444444444,
              "#bd3786"
             ],
             [
              0.5555555555555556,
              "#d8576b"
             ],
             [
              0.6666666666666666,
              "#ed7953"
             ],
             [
              0.7777777777777778,
              "#fb9f3a"
             ],
             [
              0.8888888888888888,
              "#fdca26"
             ],
             [
              1,
              "#f0f921"
             ]
            ],
            "type": "heatmap"
           }
          ],
          "heatmapgl": [
           {
            "colorbar": {
             "outlinewidth": 0,
             "ticks": ""
            },
            "colorscale": [
             [
              0,
              "#0d0887"
             ],
             [
              0.1111111111111111,
              "#46039f"
             ],
             [
              0.2222222222222222,
              "#7201a8"
             ],
             [
              0.3333333333333333,
              "#9c179e"
             ],
             [
              0.4444444444444444,
              "#bd3786"
             ],
             [
              0.5555555555555556,
              "#d8576b"
             ],
             [
              0.6666666666666666,
              "#ed7953"
             ],
             [
              0.7777777777777778,
              "#fb9f3a"
             ],
             [
              0.8888888888888888,
              "#fdca26"
             ],
             [
              1,
              "#f0f921"
             ]
            ],
            "type": "heatmapgl"
           }
          ],
          "histogram": [
           {
            "marker": {
             "pattern": {
              "fillmode": "overlay",
              "size": 10,
              "solidity": 0.2
             }
            },
            "type": "histogram"
           }
          ],
          "histogram2d": [
           {
            "colorbar": {
             "outlinewidth": 0,
             "ticks": ""
            },
            "colorscale": [
             [
              0,
              "#0d0887"
             ],
             [
              0.1111111111111111,
              "#46039f"
             ],
             [
              0.2222222222222222,
              "#7201a8"
             ],
             [
              0.3333333333333333,
              "#9c179e"
             ],
             [
              0.4444444444444444,
              "#bd3786"
             ],
             [
              0.5555555555555556,
              "#d8576b"
             ],
             [
              0.6666666666666666,
              "#ed7953"
             ],
             [
              0.7777777777777778,
              "#fb9f3a"
             ],
             [
              0.8888888888888888,
              "#fdca26"
             ],
             [
              1,
              "#f0f921"
             ]
            ],
            "type": "histogram2d"
           }
          ],
          "histogram2dcontour": [
           {
            "colorbar": {
             "outlinewidth": 0,
             "ticks": ""
            },
            "colorscale": [
             [
              0,
              "#0d0887"
             ],
             [
              0.1111111111111111,
              "#46039f"
             ],
             [
              0.2222222222222222,
              "#7201a8"
             ],
             [
              0.3333333333333333,
              "#9c179e"
             ],
             [
              0.4444444444444444,
              "#bd3786"
             ],
             [
              0.5555555555555556,
              "#d8576b"
             ],
             [
              0.6666666666666666,
              "#ed7953"
             ],
             [
              0.7777777777777778,
              "#fb9f3a"
             ],
             [
              0.8888888888888888,
              "#fdca26"
             ],
             [
              1,
              "#f0f921"
             ]
            ],
            "type": "histogram2dcontour"
           }
          ],
          "mesh3d": [
           {
            "colorbar": {
             "outlinewidth": 0,
             "ticks": ""
            },
            "type": "mesh3d"
           }
          ],
          "parcoords": [
           {
            "line": {
             "colorbar": {
              "outlinewidth": 0,
              "ticks": ""
             }
            },
            "type": "parcoords"
           }
          ],
          "pie": [
           {
            "automargin": true,
            "type": "pie"
           }
          ],
          "scatter": [
           {
            "fillpattern": {
             "fillmode": "overlay",
             "size": 10,
             "solidity": 0.2
            },
            "type": "scatter"
           }
          ],
          "scatter3d": [
           {
            "line": {
             "colorbar": {
              "outlinewidth": 0,
              "ticks": ""
             }
            },
            "marker": {
             "colorbar": {
              "outlinewidth": 0,
              "ticks": ""
             }
            },
            "type": "scatter3d"
           }
          ],
          "scattercarpet": [
           {
            "marker": {
             "colorbar": {
              "outlinewidth": 0,
              "ticks": ""
             }
            },
            "type": "scattercarpet"
           }
          ],
          "scattergeo": [
           {
            "marker": {
             "colorbar": {
              "outlinewidth": 0,
              "ticks": ""
             }
            },
            "type": "scattergeo"
           }
          ],
          "scattergl": [
           {
            "marker": {
             "colorbar": {
              "outlinewidth": 0,
              "ticks": ""
             }
            },
            "type": "scattergl"
           }
          ],
          "scattermapbox": [
           {
            "marker": {
             "colorbar": {
              "outlinewidth": 0,
              "ticks": ""
             }
            },
            "type": "scattermapbox"
           }
          ],
          "scatterpolar": [
           {
            "marker": {
             "colorbar": {
              "outlinewidth": 0,
              "ticks": ""
             }
            },
            "type": "scatterpolar"
           }
          ],
          "scatterpolargl": [
           {
            "marker": {
             "colorbar": {
              "outlinewidth": 0,
              "ticks": ""
             }
            },
            "type": "scatterpolargl"
           }
          ],
          "scatterternary": [
           {
            "marker": {
             "colorbar": {
              "outlinewidth": 0,
              "ticks": ""
             }
            },
            "type": "scatterternary"
           }
          ],
          "surface": [
           {
            "colorbar": {
             "outlinewidth": 0,
             "ticks": ""
            },
            "colorscale": [
             [
              0,
              "#0d0887"
             ],
             [
              0.1111111111111111,
              "#46039f"
             ],
             [
              0.2222222222222222,
              "#7201a8"
             ],
             [
              0.3333333333333333,
              "#9c179e"
             ],
             [
              0.4444444444444444,
              "#bd3786"
             ],
             [
              0.5555555555555556,
              "#d8576b"
             ],
             [
              0.6666666666666666,
              "#ed7953"
             ],
             [
              0.7777777777777778,
              "#fb9f3a"
             ],
             [
              0.8888888888888888,
              "#fdca26"
             ],
             [
              1,
              "#f0f921"
             ]
            ],
            "type": "surface"
           }
          ],
          "table": [
           {
            "cells": {
             "fill": {
              "color": "#EBF0F8"
             },
             "line": {
              "color": "white"
             }
            },
            "header": {
             "fill": {
              "color": "#C8D4E3"
             },
             "line": {
              "color": "white"
             }
            },
            "type": "table"
           }
          ]
         },
         "layout": {
          "annotationdefaults": {
           "arrowcolor": "#2a3f5f",
           "arrowhead": 0,
           "arrowwidth": 1
          },
          "autotypenumbers": "strict",
          "coloraxis": {
           "colorbar": {
            "outlinewidth": 0,
            "ticks": ""
           }
          },
          "colorscale": {
           "diverging": [
            [
             0,
             "#8e0152"
            ],
            [
             0.1,
             "#c51b7d"
            ],
            [
             0.2,
             "#de77ae"
            ],
            [
             0.3,
             "#f1b6da"
            ],
            [
             0.4,
             "#fde0ef"
            ],
            [
             0.5,
             "#f7f7f7"
            ],
            [
             0.6,
             "#e6f5d0"
            ],
            [
             0.7,
             "#b8e186"
            ],
            [
             0.8,
             "#7fbc41"
            ],
            [
             0.9,
             "#4d9221"
            ],
            [
             1,
             "#276419"
            ]
           ],
           "sequential": [
            [
             0,
             "#0d0887"
            ],
            [
             0.1111111111111111,
             "#46039f"
            ],
            [
             0.2222222222222222,
             "#7201a8"
            ],
            [
             0.3333333333333333,
             "#9c179e"
            ],
            [
             0.4444444444444444,
             "#bd3786"
            ],
            [
             0.5555555555555556,
             "#d8576b"
            ],
            [
             0.6666666666666666,
             "#ed7953"
            ],
            [
             0.7777777777777778,
             "#fb9f3a"
            ],
            [
             0.8888888888888888,
             "#fdca26"
            ],
            [
             1,
             "#f0f921"
            ]
           ],
           "sequentialminus": [
            [
             0,
             "#0d0887"
            ],
            [
             0.1111111111111111,
             "#46039f"
            ],
            [
             0.2222222222222222,
             "#7201a8"
            ],
            [
             0.3333333333333333,
             "#9c179e"
            ],
            [
             0.4444444444444444,
             "#bd3786"
            ],
            [
             0.5555555555555556,
             "#d8576b"
            ],
            [
             0.6666666666666666,
             "#ed7953"
            ],
            [
             0.7777777777777778,
             "#fb9f3a"
            ],
            [
             0.8888888888888888,
             "#fdca26"
            ],
            [
             1,
             "#f0f921"
            ]
           ]
          },
          "colorway": [
           "#636efa",
           "#EF553B",
           "#00cc96",
           "#ab63fa",
           "#FFA15A",
           "#19d3f3",
           "#FF6692",
           "#B6E880",
           "#FF97FF",
           "#FECB52"
          ],
          "font": {
           "color": "#2a3f5f"
          },
          "geo": {
           "bgcolor": "white",
           "lakecolor": "white",
           "landcolor": "#E5ECF6",
           "showlakes": true,
           "showland": true,
           "subunitcolor": "white"
          },
          "hoverlabel": {
           "align": "left"
          },
          "hovermode": "closest",
          "mapbox": {
           "style": "light"
          },
          "paper_bgcolor": "white",
          "plot_bgcolor": "#E5ECF6",
          "polar": {
           "angularaxis": {
            "gridcolor": "white",
            "linecolor": "white",
            "ticks": ""
           },
           "bgcolor": "#E5ECF6",
           "radialaxis": {
            "gridcolor": "white",
            "linecolor": "white",
            "ticks": ""
           }
          },
          "scene": {
           "xaxis": {
            "backgroundcolor": "#E5ECF6",
            "gridcolor": "white",
            "gridwidth": 2,
            "linecolor": "white",
            "showbackground": true,
            "ticks": "",
            "zerolinecolor": "white"
           },
           "yaxis": {
            "backgroundcolor": "#E5ECF6",
            "gridcolor": "white",
            "gridwidth": 2,
            "linecolor": "white",
            "showbackground": true,
            "ticks": "",
            "zerolinecolor": "white"
           },
           "zaxis": {
            "backgroundcolor": "#E5ECF6",
            "gridcolor": "white",
            "gridwidth": 2,
            "linecolor": "white",
            "showbackground": true,
            "ticks": "",
            "zerolinecolor": "white"
           }
          },
          "shapedefaults": {
           "line": {
            "color": "#2a3f5f"
           }
          },
          "ternary": {
           "aaxis": {
            "gridcolor": "white",
            "linecolor": "white",
            "ticks": ""
           },
           "baxis": {
            "gridcolor": "white",
            "linecolor": "white",
            "ticks": ""
           },
           "bgcolor": "#E5ECF6",
           "caxis": {
            "gridcolor": "white",
            "linecolor": "white",
            "ticks": ""
           }
          },
          "title": {
           "x": 0.05
          },
          "xaxis": {
           "automargin": true,
           "gridcolor": "white",
           "linecolor": "white",
           "ticks": "",
           "title": {
            "standoff": 15
           },
           "zerolinecolor": "white",
           "zerolinewidth": 2
          },
          "yaxis": {
           "automargin": true,
           "gridcolor": "white",
           "linecolor": "white",
           "ticks": "",
           "title": {
            "standoff": 15
           },
           "zerolinecolor": "white",
           "zerolinewidth": 2
          }
         }
        },
        "xaxis": {
         "anchor": "y",
         "domain": [
          0,
          1
         ],
         "title": {
          "text": "month_current"
         }
        },
        "yaxis": {
         "anchor": "x",
         "domain": [
          0,
          1
         ],
         "title": {
          "text": "type"
         }
        }
       }
      },
      "text/html": [
       "<div>                            <div id=\"b55af3ae-9a9e-4573-ad1f-b204220b0b40\" class=\"plotly-graph-div\" style=\"height:525px; width:100%;\"></div>            <script type=\"text/javascript\">                require([\"plotly\"], function(Plotly) {                    window.PLOTLYENV=window.PLOTLYENV || {};                                    if (document.getElementById(\"b55af3ae-9a9e-4573-ad1f-b204220b0b40\")) {                    Plotly.newPlot(                        \"b55af3ae-9a9e-4573-ad1f-b204220b0b40\",                        [{\"alignmentgroup\":\"True\",\"hovertemplate\":\"month_current=%{x}<br>type=%{y}<extra></extra>\",\"legendgroup\":\"\",\"marker\":{\"color\":\"#636efa\",\"pattern\":{\"shape\":\"\"}},\"name\":\"\",\"offsetgroup\":\"\",\"orientation\":\"h\",\"showlegend\":false,\"textposition\":\"auto\",\"x\":[12651943,2777,2472,1093381,128174,13878747,36213,1453024,2117,657306,2148660,16027407],\"xaxis\":\"x\",\"y\":[\"Malt and malt products\",\"Corn and corn products\",\"Rice and rice products\",\"Barley and barley products\",\"Wheat and wheat products\",\"Total Grain products\",\"Sugar and syrups\",\"Hops (dry)\",\"Hops (used as extracts)\",\"Other\",\"Total Non-Grain products\",\"Total Used\"],\"yaxis\":\"y\",\"type\":\"bar\"}],                        {\"template\":{\"data\":{\"histogram2dcontour\":[{\"type\":\"histogram2dcontour\",\"colorbar\":{\"outlinewidth\":0,\"ticks\":\"\"},\"colorscale\":[[0.0,\"#0d0887\"],[0.1111111111111111,\"#46039f\"],[0.2222222222222222,\"#7201a8\"],[0.3333333333333333,\"#9c179e\"],[0.4444444444444444,\"#bd3786\"],[0.5555555555555556,\"#d8576b\"],[0.6666666666666666,\"#ed7953\"],[0.7777777777777778,\"#fb9f3a\"],[0.8888888888888888,\"#fdca26\"],[1.0,\"#f0f921\"]]}],\"choropleth\":[{\"type\":\"choropleth\",\"colorbar\":{\"outlinewidth\":0,\"ticks\":\"\"}}],\"histogram2d\":[{\"type\":\"histogram2d\",\"colorbar\":{\"outlinewidth\":0,\"ticks\":\"\"},\"colorscale\":[[0.0,\"#0d0887\"],[0.1111111111111111,\"#46039f\"],[0.2222222222222222,\"#7201a8\"],[0.3333333333333333,\"#9c179e\"],[0.4444444444444444,\"#bd3786\"],[0.5555555555555556,\"#d8576b\"],[0.6666666666666666,\"#ed7953\"],[0.7777777777777778,\"#fb9f3a\"],[0.8888888888888888,\"#fdca26\"],[1.0,\"#f0f921\"]]}],\"heatmap\":[{\"type\":\"heatmap\",\"colorbar\":{\"outlinewidth\":0,\"ticks\":\"\"},\"colorscale\":[[0.0,\"#0d0887\"],[0.1111111111111111,\"#46039f\"],[0.2222222222222222,\"#7201a8\"],[0.3333333333333333,\"#9c179e\"],[0.4444444444444444,\"#bd3786\"],[0.5555555555555556,\"#d8576b\"],[0.6666666666666666,\"#ed7953\"],[0.7777777777777778,\"#fb9f3a\"],[0.8888888888888888,\"#fdca26\"],[1.0,\"#f0f921\"]]}],\"heatmapgl\":[{\"type\":\"heatmapgl\",\"colorbar\":{\"outlinewidth\":0,\"ticks\":\"\"},\"colorscale\":[[0.0,\"#0d0887\"],[0.1111111111111111,\"#46039f\"],[0.2222222222222222,\"#7201a8\"],[0.3333333333333333,\"#9c179e\"],[0.4444444444444444,\"#bd3786\"],[0.5555555555555556,\"#d8576b\"],[0.6666666666666666,\"#ed7953\"],[0.7777777777777778,\"#fb9f3a\"],[0.8888888888888888,\"#fdca26\"],[1.0,\"#f0f921\"]]}],\"contourcarpet\":[{\"type\":\"contourcarpet\",\"colorbar\":{\"outlinewidth\":0,\"ticks\":\"\"}}],\"contour\":[{\"type\":\"contour\",\"colorbar\":{\"outlinewidth\":0,\"ticks\":\"\"},\"colorscale\":[[0.0,\"#0d0887\"],[0.1111111111111111,\"#46039f\"],[0.2222222222222222,\"#7201a8\"],[0.3333333333333333,\"#9c179e\"],[0.4444444444444444,\"#bd3786\"],[0.5555555555555556,\"#d8576b\"],[0.6666666666666666,\"#ed7953\"],[0.7777777777777778,\"#fb9f3a\"],[0.8888888888888888,\"#fdca26\"],[1.0,\"#f0f921\"]]}],\"surface\":[{\"type\":\"surface\",\"colorbar\":{\"outlinewidth\":0,\"ticks\":\"\"},\"colorscale\":[[0.0,\"#0d0887\"],[0.1111111111111111,\"#46039f\"],[0.2222222222222222,\"#7201a8\"],[0.3333333333333333,\"#9c179e\"],[0.4444444444444444,\"#bd3786\"],[0.5555555555555556,\"#d8576b\"],[0.6666666666666666,\"#ed7953\"],[0.7777777777777778,\"#fb9f3a\"],[0.8888888888888888,\"#fdca26\"],[1.0,\"#f0f921\"]]}],\"mesh3d\":[{\"type\":\"mesh3d\",\"colorbar\":{\"outlinewidth\":0,\"ticks\":\"\"}}],\"scatter\":[{\"fillpattern\":{\"fillmode\":\"overlay\",\"size\":10,\"solidity\":0.2},\"type\":\"scatter\"}],\"parcoords\":[{\"type\":\"parcoords\",\"line\":{\"colorbar\":{\"outlinewidth\":0,\"ticks\":\"\"}}}],\"scatterpolargl\":[{\"type\":\"scatterpolargl\",\"marker\":{\"colorbar\":{\"outlinewidth\":0,\"ticks\":\"\"}}}],\"bar\":[{\"error_x\":{\"color\":\"#2a3f5f\"},\"error_y\":{\"color\":\"#2a3f5f\"},\"marker\":{\"line\":{\"color\":\"#E5ECF6\",\"width\":0.5},\"pattern\":{\"fillmode\":\"overlay\",\"size\":10,\"solidity\":0.2}},\"type\":\"bar\"}],\"scattergeo\":[{\"type\":\"scattergeo\",\"marker\":{\"colorbar\":{\"outlinewidth\":0,\"ticks\":\"\"}}}],\"scatterpolar\":[{\"type\":\"scatterpolar\",\"marker\":{\"colorbar\":{\"outlinewidth\":0,\"ticks\":\"\"}}}],\"histogram\":[{\"marker\":{\"pattern\":{\"fillmode\":\"overlay\",\"size\":10,\"solidity\":0.2}},\"type\":\"histogram\"}],\"scattergl\":[{\"type\":\"scattergl\",\"marker\":{\"colorbar\":{\"outlinewidth\":0,\"ticks\":\"\"}}}],\"scatter3d\":[{\"type\":\"scatter3d\",\"line\":{\"colorbar\":{\"outlinewidth\":0,\"ticks\":\"\"}},\"marker\":{\"colorbar\":{\"outlinewidth\":0,\"ticks\":\"\"}}}],\"scattermapbox\":[{\"type\":\"scattermapbox\",\"marker\":{\"colorbar\":{\"outlinewidth\":0,\"ticks\":\"\"}}}],\"scatterternary\":[{\"type\":\"scatterternary\",\"marker\":{\"colorbar\":{\"outlinewidth\":0,\"ticks\":\"\"}}}],\"scattercarpet\":[{\"type\":\"scattercarpet\",\"marker\":{\"colorbar\":{\"outlinewidth\":0,\"ticks\":\"\"}}}],\"carpet\":[{\"aaxis\":{\"endlinecolor\":\"#2a3f5f\",\"gridcolor\":\"white\",\"linecolor\":\"white\",\"minorgridcolor\":\"white\",\"startlinecolor\":\"#2a3f5f\"},\"baxis\":{\"endlinecolor\":\"#2a3f5f\",\"gridcolor\":\"white\",\"linecolor\":\"white\",\"minorgridcolor\":\"white\",\"startlinecolor\":\"#2a3f5f\"},\"type\":\"carpet\"}],\"table\":[{\"cells\":{\"fill\":{\"color\":\"#EBF0F8\"},\"line\":{\"color\":\"white\"}},\"header\":{\"fill\":{\"color\":\"#C8D4E3\"},\"line\":{\"color\":\"white\"}},\"type\":\"table\"}],\"barpolar\":[{\"marker\":{\"line\":{\"color\":\"#E5ECF6\",\"width\":0.5},\"pattern\":{\"fillmode\":\"overlay\",\"size\":10,\"solidity\":0.2}},\"type\":\"barpolar\"}],\"pie\":[{\"automargin\":true,\"type\":\"pie\"}]},\"layout\":{\"autotypenumbers\":\"strict\",\"colorway\":[\"#636efa\",\"#EF553B\",\"#00cc96\",\"#ab63fa\",\"#FFA15A\",\"#19d3f3\",\"#FF6692\",\"#B6E880\",\"#FF97FF\",\"#FECB52\"],\"font\":{\"color\":\"#2a3f5f\"},\"hovermode\":\"closest\",\"hoverlabel\":{\"align\":\"left\"},\"paper_bgcolor\":\"white\",\"plot_bgcolor\":\"#E5ECF6\",\"polar\":{\"bgcolor\":\"#E5ECF6\",\"angularaxis\":{\"gridcolor\":\"white\",\"linecolor\":\"white\",\"ticks\":\"\"},\"radialaxis\":{\"gridcolor\":\"white\",\"linecolor\":\"white\",\"ticks\":\"\"}},\"ternary\":{\"bgcolor\":\"#E5ECF6\",\"aaxis\":{\"gridcolor\":\"white\",\"linecolor\":\"white\",\"ticks\":\"\"},\"baxis\":{\"gridcolor\":\"white\",\"linecolor\":\"white\",\"ticks\":\"\"},\"caxis\":{\"gridcolor\":\"white\",\"linecolor\":\"white\",\"ticks\":\"\"}},\"coloraxis\":{\"colorbar\":{\"outlinewidth\":0,\"ticks\":\"\"}},\"colorscale\":{\"sequential\":[[0.0,\"#0d0887\"],[0.1111111111111111,\"#46039f\"],[0.2222222222222222,\"#7201a8\"],[0.3333333333333333,\"#9c179e\"],[0.4444444444444444,\"#bd3786\"],[0.5555555555555556,\"#d8576b\"],[0.6666666666666666,\"#ed7953\"],[0.7777777777777778,\"#fb9f3a\"],[0.8888888888888888,\"#fdca26\"],[1.0,\"#f0f921\"]],\"sequentialminus\":[[0.0,\"#0d0887\"],[0.1111111111111111,\"#46039f\"],[0.2222222222222222,\"#7201a8\"],[0.3333333333333333,\"#9c179e\"],[0.4444444444444444,\"#bd3786\"],[0.5555555555555556,\"#d8576b\"],[0.6666666666666666,\"#ed7953\"],[0.7777777777777778,\"#fb9f3a\"],[0.8888888888888888,\"#fdca26\"],[1.0,\"#f0f921\"]],\"diverging\":[[0,\"#8e0152\"],[0.1,\"#c51b7d\"],[0.2,\"#de77ae\"],[0.3,\"#f1b6da\"],[0.4,\"#fde0ef\"],[0.5,\"#f7f7f7\"],[0.6,\"#e6f5d0\"],[0.7,\"#b8e186\"],[0.8,\"#7fbc41\"],[0.9,\"#4d9221\"],[1,\"#276419\"]]},\"xaxis\":{\"gridcolor\":\"white\",\"linecolor\":\"white\",\"ticks\":\"\",\"title\":{\"standoff\":15},\"zerolinecolor\":\"white\",\"automargin\":true,\"zerolinewidth\":2},\"yaxis\":{\"gridcolor\":\"white\",\"linecolor\":\"white\",\"ticks\":\"\",\"title\":{\"standoff\":15},\"zerolinecolor\":\"white\",\"automargin\":true,\"zerolinewidth\":2},\"scene\":{\"xaxis\":{\"backgroundcolor\":\"#E5ECF6\",\"gridcolor\":\"white\",\"linecolor\":\"white\",\"showbackground\":true,\"ticks\":\"\",\"zerolinecolor\":\"white\",\"gridwidth\":2},\"yaxis\":{\"backgroundcolor\":\"#E5ECF6\",\"gridcolor\":\"white\",\"linecolor\":\"white\",\"showbackground\":true,\"ticks\":\"\",\"zerolinecolor\":\"white\",\"gridwidth\":2},\"zaxis\":{\"backgroundcolor\":\"#E5ECF6\",\"gridcolor\":\"white\",\"linecolor\":\"white\",\"showbackground\":true,\"ticks\":\"\",\"zerolinecolor\":\"white\",\"gridwidth\":2}},\"shapedefaults\":{\"line\":{\"color\":\"#2a3f5f\"}},\"annotationdefaults\":{\"arrowcolor\":\"#2a3f5f\",\"arrowhead\":0,\"arrowwidth\":1},\"geo\":{\"bgcolor\":\"white\",\"landcolor\":\"#E5ECF6\",\"subunitcolor\":\"white\",\"showland\":true,\"showlakes\":true,\"lakecolor\":\"white\"},\"title\":{\"x\":0.05},\"mapbox\":{\"style\":\"light\"}}},\"xaxis\":{\"anchor\":\"y\",\"domain\":[0.0,1.0],\"title\":{\"text\":\"month_current\"}},\"yaxis\":{\"anchor\":\"x\",\"domain\":[0.0,1.0],\"title\":{\"text\":\"type\"}},\"legend\":{\"tracegroupgap\":0},\"margin\":{\"t\":60},\"barmode\":\"relative\"},                        {\"responsive\": true}                    ).then(function(){\n",
       "                            \n",
       "var gd = document.getElementById('b55af3ae-9a9e-4573-ad1f-b204220b0b40');\n",
       "var x = new MutationObserver(function (mutations, observer) {{\n",
       "        var display = window.getComputedStyle(gd).display;\n",
       "        if (!display || display === 'none') {{\n",
       "            console.log([gd, 'removed!']);\n",
       "            Plotly.purge(gd);\n",
       "            observer.disconnect();\n",
       "        }}\n",
       "}});\n",
       "\n",
       "// Listen for the removal of the full notebook cells\n",
       "var notebookContainer = gd.closest('#notebook-container');\n",
       "if (notebookContainer) {{\n",
       "    x.observe(notebookContainer, {childList: true});\n",
       "}}\n",
       "\n",
       "// Listen for the clearing of the current output cell\n",
       "var outputEl = gd.closest('.output');\n",
       "if (outputEl) {{\n",
       "    x.observe(outputEl, {childList: true});\n",
       "}}\n",
       "\n",
       "                        })                };                });            </script>        </div>"
      ]
     },
     "metadata": {},
     "output_type": "display_data"
    }
   ],
   "source": [
    "brewing_materials_sample = brewing_materials[brewing_materials['date'] == brewing_materials['date'].max()]\n",
    "fig = px.bar(\n",
    "    brewing_materials_sample,\n",
    "    x='month_current',\n",
    "    y='type',\n",
    "    orientation='h'\n",
    ")\n",
    "\n",
    "fig.show()"
   ]
  },
  {
   "cell_type": "markdown",
   "id": "012a74ee",
   "metadata": {},
   "source": [
    "Based on the above, it looks like \"Total Used\" is a sum of \"Total grain products\" and \"Total non-grain products\" which are sums of the individual materials by type. Removing totals and colour coding the bar chart by material type, we can see the comparison of individual materials used and their respective types."
   ]
  },
  {
   "cell_type": "code",
   "execution_count": 329,
   "id": "00ba1cd9",
   "metadata": {},
   "outputs": [
    {
     "data": {
      "application/vnd.plotly.v1+json": {
       "config": {
        "plotlyServerURL": "https://plot.ly"
       },
       "data": [
        {
         "alignmentgroup": "True",
         "hovertemplate": "material_type=Grain Products<br>month_current=%{x}<br>type=%{y}<extra></extra>",
         "legendgroup": "Grain Products",
         "marker": {
          "color": "#636efa",
          "pattern": {
           "shape": ""
          }
         },
         "name": "Grain Products",
         "offsetgroup": "Grain Products",
         "orientation": "h",
         "showlegend": true,
         "textposition": "auto",
         "type": "bar",
         "x": [
          12651943,
          2777,
          2472,
          1093381,
          128174
         ],
         "xaxis": "x",
         "y": [
          "Malt and malt products",
          "Corn and corn products",
          "Rice and rice products",
          "Barley and barley products",
          "Wheat and wheat products"
         ],
         "yaxis": "y"
        },
        {
         "alignmentgroup": "True",
         "hovertemplate": "material_type=Non-Grain Products<br>month_current=%{x}<br>type=%{y}<extra></extra>",
         "legendgroup": "Non-Grain Products",
         "marker": {
          "color": "#EF553B",
          "pattern": {
           "shape": ""
          }
         },
         "name": "Non-Grain Products",
         "offsetgroup": "Non-Grain Products",
         "orientation": "h",
         "showlegend": true,
         "textposition": "auto",
         "type": "bar",
         "x": [
          36213,
          1453024,
          2117,
          657306
         ],
         "xaxis": "x",
         "y": [
          "Sugar and syrups",
          "Hops (dry)",
          "Hops (used as extracts)",
          "Other"
         ],
         "yaxis": "y"
        }
       ],
       "layout": {
        "barmode": "relative",
        "legend": {
         "title": {
          "text": "material_type"
         },
         "tracegroupgap": 0
        },
        "margin": {
         "t": 60
        },
        "template": {
         "data": {
          "bar": [
           {
            "error_x": {
             "color": "#2a3f5f"
            },
            "error_y": {
             "color": "#2a3f5f"
            },
            "marker": {
             "line": {
              "color": "#E5ECF6",
              "width": 0.5
             },
             "pattern": {
              "fillmode": "overlay",
              "size": 10,
              "solidity": 0.2
             }
            },
            "type": "bar"
           }
          ],
          "barpolar": [
           {
            "marker": {
             "line": {
              "color": "#E5ECF6",
              "width": 0.5
             },
             "pattern": {
              "fillmode": "overlay",
              "size": 10,
              "solidity": 0.2
             }
            },
            "type": "barpolar"
           }
          ],
          "carpet": [
           {
            "aaxis": {
             "endlinecolor": "#2a3f5f",
             "gridcolor": "white",
             "linecolor": "white",
             "minorgridcolor": "white",
             "startlinecolor": "#2a3f5f"
            },
            "baxis": {
             "endlinecolor": "#2a3f5f",
             "gridcolor": "white",
             "linecolor": "white",
             "minorgridcolor": "white",
             "startlinecolor": "#2a3f5f"
            },
            "type": "carpet"
           }
          ],
          "choropleth": [
           {
            "colorbar": {
             "outlinewidth": 0,
             "ticks": ""
            },
            "type": "choropleth"
           }
          ],
          "contour": [
           {
            "colorbar": {
             "outlinewidth": 0,
             "ticks": ""
            },
            "colorscale": [
             [
              0,
              "#0d0887"
             ],
             [
              0.1111111111111111,
              "#46039f"
             ],
             [
              0.2222222222222222,
              "#7201a8"
             ],
             [
              0.3333333333333333,
              "#9c179e"
             ],
             [
              0.4444444444444444,
              "#bd3786"
             ],
             [
              0.5555555555555556,
              "#d8576b"
             ],
             [
              0.6666666666666666,
              "#ed7953"
             ],
             [
              0.7777777777777778,
              "#fb9f3a"
             ],
             [
              0.8888888888888888,
              "#fdca26"
             ],
             [
              1,
              "#f0f921"
             ]
            ],
            "type": "contour"
           }
          ],
          "contourcarpet": [
           {
            "colorbar": {
             "outlinewidth": 0,
             "ticks": ""
            },
            "type": "contourcarpet"
           }
          ],
          "heatmap": [
           {
            "colorbar": {
             "outlinewidth": 0,
             "ticks": ""
            },
            "colorscale": [
             [
              0,
              "#0d0887"
             ],
             [
              0.1111111111111111,
              "#46039f"
             ],
             [
              0.2222222222222222,
              "#7201a8"
             ],
             [
              0.3333333333333333,
              "#9c179e"
             ],
             [
              0.4444444444444444,
              "#bd3786"
             ],
             [
              0.5555555555555556,
              "#d8576b"
             ],
             [
              0.6666666666666666,
              "#ed7953"
             ],
             [
              0.7777777777777778,
              "#fb9f3a"
             ],
             [
              0.8888888888888888,
              "#fdca26"
             ],
             [
              1,
              "#f0f921"
             ]
            ],
            "type": "heatmap"
           }
          ],
          "heatmapgl": [
           {
            "colorbar": {
             "outlinewidth": 0,
             "ticks": ""
            },
            "colorscale": [
             [
              0,
              "#0d0887"
             ],
             [
              0.1111111111111111,
              "#46039f"
             ],
             [
              0.2222222222222222,
              "#7201a8"
             ],
             [
              0.3333333333333333,
              "#9c179e"
             ],
             [
              0.4444444444444444,
              "#bd3786"
             ],
             [
              0.5555555555555556,
              "#d8576b"
             ],
             [
              0.6666666666666666,
              "#ed7953"
             ],
             [
              0.7777777777777778,
              "#fb9f3a"
             ],
             [
              0.8888888888888888,
              "#fdca26"
             ],
             [
              1,
              "#f0f921"
             ]
            ],
            "type": "heatmapgl"
           }
          ],
          "histogram": [
           {
            "marker": {
             "pattern": {
              "fillmode": "overlay",
              "size": 10,
              "solidity": 0.2
             }
            },
            "type": "histogram"
           }
          ],
          "histogram2d": [
           {
            "colorbar": {
             "outlinewidth": 0,
             "ticks": ""
            },
            "colorscale": [
             [
              0,
              "#0d0887"
             ],
             [
              0.1111111111111111,
              "#46039f"
             ],
             [
              0.2222222222222222,
              "#7201a8"
             ],
             [
              0.3333333333333333,
              "#9c179e"
             ],
             [
              0.4444444444444444,
              "#bd3786"
             ],
             [
              0.5555555555555556,
              "#d8576b"
             ],
             [
              0.6666666666666666,
              "#ed7953"
             ],
             [
              0.7777777777777778,
              "#fb9f3a"
             ],
             [
              0.8888888888888888,
              "#fdca26"
             ],
             [
              1,
              "#f0f921"
             ]
            ],
            "type": "histogram2d"
           }
          ],
          "histogram2dcontour": [
           {
            "colorbar": {
             "outlinewidth": 0,
             "ticks": ""
            },
            "colorscale": [
             [
              0,
              "#0d0887"
             ],
             [
              0.1111111111111111,
              "#46039f"
             ],
             [
              0.2222222222222222,
              "#7201a8"
             ],
             [
              0.3333333333333333,
              "#9c179e"
             ],
             [
              0.4444444444444444,
              "#bd3786"
             ],
             [
              0.5555555555555556,
              "#d8576b"
             ],
             [
              0.6666666666666666,
              "#ed7953"
             ],
             [
              0.7777777777777778,
              "#fb9f3a"
             ],
             [
              0.8888888888888888,
              "#fdca26"
             ],
             [
              1,
              "#f0f921"
             ]
            ],
            "type": "histogram2dcontour"
           }
          ],
          "mesh3d": [
           {
            "colorbar": {
             "outlinewidth": 0,
             "ticks": ""
            },
            "type": "mesh3d"
           }
          ],
          "parcoords": [
           {
            "line": {
             "colorbar": {
              "outlinewidth": 0,
              "ticks": ""
             }
            },
            "type": "parcoords"
           }
          ],
          "pie": [
           {
            "automargin": true,
            "type": "pie"
           }
          ],
          "scatter": [
           {
            "fillpattern": {
             "fillmode": "overlay",
             "size": 10,
             "solidity": 0.2
            },
            "type": "scatter"
           }
          ],
          "scatter3d": [
           {
            "line": {
             "colorbar": {
              "outlinewidth": 0,
              "ticks": ""
             }
            },
            "marker": {
             "colorbar": {
              "outlinewidth": 0,
              "ticks": ""
             }
            },
            "type": "scatter3d"
           }
          ],
          "scattercarpet": [
           {
            "marker": {
             "colorbar": {
              "outlinewidth": 0,
              "ticks": ""
             }
            },
            "type": "scattercarpet"
           }
          ],
          "scattergeo": [
           {
            "marker": {
             "colorbar": {
              "outlinewidth": 0,
              "ticks": ""
             }
            },
            "type": "scattergeo"
           }
          ],
          "scattergl": [
           {
            "marker": {
             "colorbar": {
              "outlinewidth": 0,
              "ticks": ""
             }
            },
            "type": "scattergl"
           }
          ],
          "scattermapbox": [
           {
            "marker": {
             "colorbar": {
              "outlinewidth": 0,
              "ticks": ""
             }
            },
            "type": "scattermapbox"
           }
          ],
          "scatterpolar": [
           {
            "marker": {
             "colorbar": {
              "outlinewidth": 0,
              "ticks": ""
             }
            },
            "type": "scatterpolar"
           }
          ],
          "scatterpolargl": [
           {
            "marker": {
             "colorbar": {
              "outlinewidth": 0,
              "ticks": ""
             }
            },
            "type": "scatterpolargl"
           }
          ],
          "scatterternary": [
           {
            "marker": {
             "colorbar": {
              "outlinewidth": 0,
              "ticks": ""
             }
            },
            "type": "scatterternary"
           }
          ],
          "surface": [
           {
            "colorbar": {
             "outlinewidth": 0,
             "ticks": ""
            },
            "colorscale": [
             [
              0,
              "#0d0887"
             ],
             [
              0.1111111111111111,
              "#46039f"
             ],
             [
              0.2222222222222222,
              "#7201a8"
             ],
             [
              0.3333333333333333,
              "#9c179e"
             ],
             [
              0.4444444444444444,
              "#bd3786"
             ],
             [
              0.5555555555555556,
              "#d8576b"
             ],
             [
              0.6666666666666666,
              "#ed7953"
             ],
             [
              0.7777777777777778,
              "#fb9f3a"
             ],
             [
              0.8888888888888888,
              "#fdca26"
             ],
             [
              1,
              "#f0f921"
             ]
            ],
            "type": "surface"
           }
          ],
          "table": [
           {
            "cells": {
             "fill": {
              "color": "#EBF0F8"
             },
             "line": {
              "color": "white"
             }
            },
            "header": {
             "fill": {
              "color": "#C8D4E3"
             },
             "line": {
              "color": "white"
             }
            },
            "type": "table"
           }
          ]
         },
         "layout": {
          "annotationdefaults": {
           "arrowcolor": "#2a3f5f",
           "arrowhead": 0,
           "arrowwidth": 1
          },
          "autotypenumbers": "strict",
          "coloraxis": {
           "colorbar": {
            "outlinewidth": 0,
            "ticks": ""
           }
          },
          "colorscale": {
           "diverging": [
            [
             0,
             "#8e0152"
            ],
            [
             0.1,
             "#c51b7d"
            ],
            [
             0.2,
             "#de77ae"
            ],
            [
             0.3,
             "#f1b6da"
            ],
            [
             0.4,
             "#fde0ef"
            ],
            [
             0.5,
             "#f7f7f7"
            ],
            [
             0.6,
             "#e6f5d0"
            ],
            [
             0.7,
             "#b8e186"
            ],
            [
             0.8,
             "#7fbc41"
            ],
            [
             0.9,
             "#4d9221"
            ],
            [
             1,
             "#276419"
            ]
           ],
           "sequential": [
            [
             0,
             "#0d0887"
            ],
            [
             0.1111111111111111,
             "#46039f"
            ],
            [
             0.2222222222222222,
             "#7201a8"
            ],
            [
             0.3333333333333333,
             "#9c179e"
            ],
            [
             0.4444444444444444,
             "#bd3786"
            ],
            [
             0.5555555555555556,
             "#d8576b"
            ],
            [
             0.6666666666666666,
             "#ed7953"
            ],
            [
             0.7777777777777778,
             "#fb9f3a"
            ],
            [
             0.8888888888888888,
             "#fdca26"
            ],
            [
             1,
             "#f0f921"
            ]
           ],
           "sequentialminus": [
            [
             0,
             "#0d0887"
            ],
            [
             0.1111111111111111,
             "#46039f"
            ],
            [
             0.2222222222222222,
             "#7201a8"
            ],
            [
             0.3333333333333333,
             "#9c179e"
            ],
            [
             0.4444444444444444,
             "#bd3786"
            ],
            [
             0.5555555555555556,
             "#d8576b"
            ],
            [
             0.6666666666666666,
             "#ed7953"
            ],
            [
             0.7777777777777778,
             "#fb9f3a"
            ],
            [
             0.8888888888888888,
             "#fdca26"
            ],
            [
             1,
             "#f0f921"
            ]
           ]
          },
          "colorway": [
           "#636efa",
           "#EF553B",
           "#00cc96",
           "#ab63fa",
           "#FFA15A",
           "#19d3f3",
           "#FF6692",
           "#B6E880",
           "#FF97FF",
           "#FECB52"
          ],
          "font": {
           "color": "#2a3f5f"
          },
          "geo": {
           "bgcolor": "white",
           "lakecolor": "white",
           "landcolor": "#E5ECF6",
           "showlakes": true,
           "showland": true,
           "subunitcolor": "white"
          },
          "hoverlabel": {
           "align": "left"
          },
          "hovermode": "closest",
          "mapbox": {
           "style": "light"
          },
          "paper_bgcolor": "white",
          "plot_bgcolor": "#E5ECF6",
          "polar": {
           "angularaxis": {
            "gridcolor": "white",
            "linecolor": "white",
            "ticks": ""
           },
           "bgcolor": "#E5ECF6",
           "radialaxis": {
            "gridcolor": "white",
            "linecolor": "white",
            "ticks": ""
           }
          },
          "scene": {
           "xaxis": {
            "backgroundcolor": "#E5ECF6",
            "gridcolor": "white",
            "gridwidth": 2,
            "linecolor": "white",
            "showbackground": true,
            "ticks": "",
            "zerolinecolor": "white"
           },
           "yaxis": {
            "backgroundcolor": "#E5ECF6",
            "gridcolor": "white",
            "gridwidth": 2,
            "linecolor": "white",
            "showbackground": true,
            "ticks": "",
            "zerolinecolor": "white"
           },
           "zaxis": {
            "backgroundcolor": "#E5ECF6",
            "gridcolor": "white",
            "gridwidth": 2,
            "linecolor": "white",
            "showbackground": true,
            "ticks": "",
            "zerolinecolor": "white"
           }
          },
          "shapedefaults": {
           "line": {
            "color": "#2a3f5f"
           }
          },
          "ternary": {
           "aaxis": {
            "gridcolor": "white",
            "linecolor": "white",
            "ticks": ""
           },
           "baxis": {
            "gridcolor": "white",
            "linecolor": "white",
            "ticks": ""
           },
           "bgcolor": "#E5ECF6",
           "caxis": {
            "gridcolor": "white",
            "linecolor": "white",
            "ticks": ""
           }
          },
          "title": {
           "x": 0.05
          },
          "xaxis": {
           "automargin": true,
           "gridcolor": "white",
           "linecolor": "white",
           "ticks": "",
           "title": {
            "standoff": 15
           },
           "zerolinecolor": "white",
           "zerolinewidth": 2
          },
          "yaxis": {
           "automargin": true,
           "gridcolor": "white",
           "linecolor": "white",
           "ticks": "",
           "title": {
            "standoff": 15
           },
           "zerolinecolor": "white",
           "zerolinewidth": 2
          }
         }
        },
        "xaxis": {
         "anchor": "y",
         "domain": [
          0,
          1
         ],
         "title": {
          "text": "month_current"
         }
        },
        "yaxis": {
         "anchor": "x",
         "categoryorder": "total ascending",
         "domain": [
          0,
          1
         ],
         "title": {
          "text": "type"
         }
        }
       }
      },
      "text/html": [
       "<div>                            <div id=\"a1f53032-09a2-4aa5-9dda-03cd6b91f386\" class=\"plotly-graph-div\" style=\"height:525px; width:100%;\"></div>            <script type=\"text/javascript\">                require([\"plotly\"], function(Plotly) {                    window.PLOTLYENV=window.PLOTLYENV || {};                                    if (document.getElementById(\"a1f53032-09a2-4aa5-9dda-03cd6b91f386\")) {                    Plotly.newPlot(                        \"a1f53032-09a2-4aa5-9dda-03cd6b91f386\",                        [{\"alignmentgroup\":\"True\",\"hovertemplate\":\"material_type=Grain Products<br>month_current=%{x}<br>type=%{y}<extra></extra>\",\"legendgroup\":\"Grain Products\",\"marker\":{\"color\":\"#636efa\",\"pattern\":{\"shape\":\"\"}},\"name\":\"Grain Products\",\"offsetgroup\":\"Grain Products\",\"orientation\":\"h\",\"showlegend\":true,\"textposition\":\"auto\",\"x\":[12651943,2777,2472,1093381,128174],\"xaxis\":\"x\",\"y\":[\"Malt and malt products\",\"Corn and corn products\",\"Rice and rice products\",\"Barley and barley products\",\"Wheat and wheat products\"],\"yaxis\":\"y\",\"type\":\"bar\"},{\"alignmentgroup\":\"True\",\"hovertemplate\":\"material_type=Non-Grain Products<br>month_current=%{x}<br>type=%{y}<extra></extra>\",\"legendgroup\":\"Non-Grain Products\",\"marker\":{\"color\":\"#EF553B\",\"pattern\":{\"shape\":\"\"}},\"name\":\"Non-Grain Products\",\"offsetgroup\":\"Non-Grain Products\",\"orientation\":\"h\",\"showlegend\":true,\"textposition\":\"auto\",\"x\":[36213,1453024,2117,657306],\"xaxis\":\"x\",\"y\":[\"Sugar and syrups\",\"Hops (dry)\",\"Hops (used as extracts)\",\"Other\"],\"yaxis\":\"y\",\"type\":\"bar\"}],                        {\"template\":{\"data\":{\"histogram2dcontour\":[{\"type\":\"histogram2dcontour\",\"colorbar\":{\"outlinewidth\":0,\"ticks\":\"\"},\"colorscale\":[[0.0,\"#0d0887\"],[0.1111111111111111,\"#46039f\"],[0.2222222222222222,\"#7201a8\"],[0.3333333333333333,\"#9c179e\"],[0.4444444444444444,\"#bd3786\"],[0.5555555555555556,\"#d8576b\"],[0.6666666666666666,\"#ed7953\"],[0.7777777777777778,\"#fb9f3a\"],[0.8888888888888888,\"#fdca26\"],[1.0,\"#f0f921\"]]}],\"choropleth\":[{\"type\":\"choropleth\",\"colorbar\":{\"outlinewidth\":0,\"ticks\":\"\"}}],\"histogram2d\":[{\"type\":\"histogram2d\",\"colorbar\":{\"outlinewidth\":0,\"ticks\":\"\"},\"colorscale\":[[0.0,\"#0d0887\"],[0.1111111111111111,\"#46039f\"],[0.2222222222222222,\"#7201a8\"],[0.3333333333333333,\"#9c179e\"],[0.4444444444444444,\"#bd3786\"],[0.5555555555555556,\"#d8576b\"],[0.6666666666666666,\"#ed7953\"],[0.7777777777777778,\"#fb9f3a\"],[0.8888888888888888,\"#fdca26\"],[1.0,\"#f0f921\"]]}],\"heatmap\":[{\"type\":\"heatmap\",\"colorbar\":{\"outlinewidth\":0,\"ticks\":\"\"},\"colorscale\":[[0.0,\"#0d0887\"],[0.1111111111111111,\"#46039f\"],[0.2222222222222222,\"#7201a8\"],[0.3333333333333333,\"#9c179e\"],[0.4444444444444444,\"#bd3786\"],[0.5555555555555556,\"#d8576b\"],[0.6666666666666666,\"#ed7953\"],[0.7777777777777778,\"#fb9f3a\"],[0.8888888888888888,\"#fdca26\"],[1.0,\"#f0f921\"]]}],\"heatmapgl\":[{\"type\":\"heatmapgl\",\"colorbar\":{\"outlinewidth\":0,\"ticks\":\"\"},\"colorscale\":[[0.0,\"#0d0887\"],[0.1111111111111111,\"#46039f\"],[0.2222222222222222,\"#7201a8\"],[0.3333333333333333,\"#9c179e\"],[0.4444444444444444,\"#bd3786\"],[0.5555555555555556,\"#d8576b\"],[0.6666666666666666,\"#ed7953\"],[0.7777777777777778,\"#fb9f3a\"],[0.8888888888888888,\"#fdca26\"],[1.0,\"#f0f921\"]]}],\"contourcarpet\":[{\"type\":\"contourcarpet\",\"colorbar\":{\"outlinewidth\":0,\"ticks\":\"\"}}],\"contour\":[{\"type\":\"contour\",\"colorbar\":{\"outlinewidth\":0,\"ticks\":\"\"},\"colorscale\":[[0.0,\"#0d0887\"],[0.1111111111111111,\"#46039f\"],[0.2222222222222222,\"#7201a8\"],[0.3333333333333333,\"#9c179e\"],[0.4444444444444444,\"#bd3786\"],[0.5555555555555556,\"#d8576b\"],[0.6666666666666666,\"#ed7953\"],[0.7777777777777778,\"#fb9f3a\"],[0.8888888888888888,\"#fdca26\"],[1.0,\"#f0f921\"]]}],\"surface\":[{\"type\":\"surface\",\"colorbar\":{\"outlinewidth\":0,\"ticks\":\"\"},\"colorscale\":[[0.0,\"#0d0887\"],[0.1111111111111111,\"#46039f\"],[0.2222222222222222,\"#7201a8\"],[0.3333333333333333,\"#9c179e\"],[0.4444444444444444,\"#bd3786\"],[0.5555555555555556,\"#d8576b\"],[0.6666666666666666,\"#ed7953\"],[0.7777777777777778,\"#fb9f3a\"],[0.8888888888888888,\"#fdca26\"],[1.0,\"#f0f921\"]]}],\"mesh3d\":[{\"type\":\"mesh3d\",\"colorbar\":{\"outlinewidth\":0,\"ticks\":\"\"}}],\"scatter\":[{\"fillpattern\":{\"fillmode\":\"overlay\",\"size\":10,\"solidity\":0.2},\"type\":\"scatter\"}],\"parcoords\":[{\"type\":\"parcoords\",\"line\":{\"colorbar\":{\"outlinewidth\":0,\"ticks\":\"\"}}}],\"scatterpolargl\":[{\"type\":\"scatterpolargl\",\"marker\":{\"colorbar\":{\"outlinewidth\":0,\"ticks\":\"\"}}}],\"bar\":[{\"error_x\":{\"color\":\"#2a3f5f\"},\"error_y\":{\"color\":\"#2a3f5f\"},\"marker\":{\"line\":{\"color\":\"#E5ECF6\",\"width\":0.5},\"pattern\":{\"fillmode\":\"overlay\",\"size\":10,\"solidity\":0.2}},\"type\":\"bar\"}],\"scattergeo\":[{\"type\":\"scattergeo\",\"marker\":{\"colorbar\":{\"outlinewidth\":0,\"ticks\":\"\"}}}],\"scatterpolar\":[{\"type\":\"scatterpolar\",\"marker\":{\"colorbar\":{\"outlinewidth\":0,\"ticks\":\"\"}}}],\"histogram\":[{\"marker\":{\"pattern\":{\"fillmode\":\"overlay\",\"size\":10,\"solidity\":0.2}},\"type\":\"histogram\"}],\"scattergl\":[{\"type\":\"scattergl\",\"marker\":{\"colorbar\":{\"outlinewidth\":0,\"ticks\":\"\"}}}],\"scatter3d\":[{\"type\":\"scatter3d\",\"line\":{\"colorbar\":{\"outlinewidth\":0,\"ticks\":\"\"}},\"marker\":{\"colorbar\":{\"outlinewidth\":0,\"ticks\":\"\"}}}],\"scattermapbox\":[{\"type\":\"scattermapbox\",\"marker\":{\"colorbar\":{\"outlinewidth\":0,\"ticks\":\"\"}}}],\"scatterternary\":[{\"type\":\"scatterternary\",\"marker\":{\"colorbar\":{\"outlinewidth\":0,\"ticks\":\"\"}}}],\"scattercarpet\":[{\"type\":\"scattercarpet\",\"marker\":{\"colorbar\":{\"outlinewidth\":0,\"ticks\":\"\"}}}],\"carpet\":[{\"aaxis\":{\"endlinecolor\":\"#2a3f5f\",\"gridcolor\":\"white\",\"linecolor\":\"white\",\"minorgridcolor\":\"white\",\"startlinecolor\":\"#2a3f5f\"},\"baxis\":{\"endlinecolor\":\"#2a3f5f\",\"gridcolor\":\"white\",\"linecolor\":\"white\",\"minorgridcolor\":\"white\",\"startlinecolor\":\"#2a3f5f\"},\"type\":\"carpet\"}],\"table\":[{\"cells\":{\"fill\":{\"color\":\"#EBF0F8\"},\"line\":{\"color\":\"white\"}},\"header\":{\"fill\":{\"color\":\"#C8D4E3\"},\"line\":{\"color\":\"white\"}},\"type\":\"table\"}],\"barpolar\":[{\"marker\":{\"line\":{\"color\":\"#E5ECF6\",\"width\":0.5},\"pattern\":{\"fillmode\":\"overlay\",\"size\":10,\"solidity\":0.2}},\"type\":\"barpolar\"}],\"pie\":[{\"automargin\":true,\"type\":\"pie\"}]},\"layout\":{\"autotypenumbers\":\"strict\",\"colorway\":[\"#636efa\",\"#EF553B\",\"#00cc96\",\"#ab63fa\",\"#FFA15A\",\"#19d3f3\",\"#FF6692\",\"#B6E880\",\"#FF97FF\",\"#FECB52\"],\"font\":{\"color\":\"#2a3f5f\"},\"hovermode\":\"closest\",\"hoverlabel\":{\"align\":\"left\"},\"paper_bgcolor\":\"white\",\"plot_bgcolor\":\"#E5ECF6\",\"polar\":{\"bgcolor\":\"#E5ECF6\",\"angularaxis\":{\"gridcolor\":\"white\",\"linecolor\":\"white\",\"ticks\":\"\"},\"radialaxis\":{\"gridcolor\":\"white\",\"linecolor\":\"white\",\"ticks\":\"\"}},\"ternary\":{\"bgcolor\":\"#E5ECF6\",\"aaxis\":{\"gridcolor\":\"white\",\"linecolor\":\"white\",\"ticks\":\"\"},\"baxis\":{\"gridcolor\":\"white\",\"linecolor\":\"white\",\"ticks\":\"\"},\"caxis\":{\"gridcolor\":\"white\",\"linecolor\":\"white\",\"ticks\":\"\"}},\"coloraxis\":{\"colorbar\":{\"outlinewidth\":0,\"ticks\":\"\"}},\"colorscale\":{\"sequential\":[[0.0,\"#0d0887\"],[0.1111111111111111,\"#46039f\"],[0.2222222222222222,\"#7201a8\"],[0.3333333333333333,\"#9c179e\"],[0.4444444444444444,\"#bd3786\"],[0.5555555555555556,\"#d8576b\"],[0.6666666666666666,\"#ed7953\"],[0.7777777777777778,\"#fb9f3a\"],[0.8888888888888888,\"#fdca26\"],[1.0,\"#f0f921\"]],\"sequentialminus\":[[0.0,\"#0d0887\"],[0.1111111111111111,\"#46039f\"],[0.2222222222222222,\"#7201a8\"],[0.3333333333333333,\"#9c179e\"],[0.4444444444444444,\"#bd3786\"],[0.5555555555555556,\"#d8576b\"],[0.6666666666666666,\"#ed7953\"],[0.7777777777777778,\"#fb9f3a\"],[0.8888888888888888,\"#fdca26\"],[1.0,\"#f0f921\"]],\"diverging\":[[0,\"#8e0152\"],[0.1,\"#c51b7d\"],[0.2,\"#de77ae\"],[0.3,\"#f1b6da\"],[0.4,\"#fde0ef\"],[0.5,\"#f7f7f7\"],[0.6,\"#e6f5d0\"],[0.7,\"#b8e186\"],[0.8,\"#7fbc41\"],[0.9,\"#4d9221\"],[1,\"#276419\"]]},\"xaxis\":{\"gridcolor\":\"white\",\"linecolor\":\"white\",\"ticks\":\"\",\"title\":{\"standoff\":15},\"zerolinecolor\":\"white\",\"automargin\":true,\"zerolinewidth\":2},\"yaxis\":{\"gridcolor\":\"white\",\"linecolor\":\"white\",\"ticks\":\"\",\"title\":{\"standoff\":15},\"zerolinecolor\":\"white\",\"automargin\":true,\"zerolinewidth\":2},\"scene\":{\"xaxis\":{\"backgroundcolor\":\"#E5ECF6\",\"gridcolor\":\"white\",\"linecolor\":\"white\",\"showbackground\":true,\"ticks\":\"\",\"zerolinecolor\":\"white\",\"gridwidth\":2},\"yaxis\":{\"backgroundcolor\":\"#E5ECF6\",\"gridcolor\":\"white\",\"linecolor\":\"white\",\"showbackground\":true,\"ticks\":\"\",\"zerolinecolor\":\"white\",\"gridwidth\":2},\"zaxis\":{\"backgroundcolor\":\"#E5ECF6\",\"gridcolor\":\"white\",\"linecolor\":\"white\",\"showbackground\":true,\"ticks\":\"\",\"zerolinecolor\":\"white\",\"gridwidth\":2}},\"shapedefaults\":{\"line\":{\"color\":\"#2a3f5f\"}},\"annotationdefaults\":{\"arrowcolor\":\"#2a3f5f\",\"arrowhead\":0,\"arrowwidth\":1},\"geo\":{\"bgcolor\":\"white\",\"landcolor\":\"#E5ECF6\",\"subunitcolor\":\"white\",\"showland\":true,\"showlakes\":true,\"lakecolor\":\"white\"},\"title\":{\"x\":0.05},\"mapbox\":{\"style\":\"light\"}}},\"xaxis\":{\"anchor\":\"y\",\"domain\":[0.0,1.0],\"title\":{\"text\":\"month_current\"}},\"yaxis\":{\"anchor\":\"x\",\"domain\":[0.0,1.0],\"title\":{\"text\":\"type\"},\"categoryorder\":\"total ascending\"},\"legend\":{\"title\":{\"text\":\"material_type\"},\"tracegroupgap\":0},\"margin\":{\"t\":60},\"barmode\":\"relative\"},                        {\"responsive\": true}                    ).then(function(){\n",
       "                            \n",
       "var gd = document.getElementById('a1f53032-09a2-4aa5-9dda-03cd6b91f386');\n",
       "var x = new MutationObserver(function (mutations, observer) {{\n",
       "        var display = window.getComputedStyle(gd).display;\n",
       "        if (!display || display === 'none') {{\n",
       "            console.log([gd, 'removed!']);\n",
       "            Plotly.purge(gd);\n",
       "            observer.disconnect();\n",
       "        }}\n",
       "}});\n",
       "\n",
       "// Listen for the removal of the full notebook cells\n",
       "var notebookContainer = gd.closest('#notebook-container');\n",
       "if (notebookContainer) {{\n",
       "    x.observe(notebookContainer, {childList: true});\n",
       "}}\n",
       "\n",
       "// Listen for the clearing of the current output cell\n",
       "var outputEl = gd.closest('.output');\n",
       "if (outputEl) {{\n",
       "    x.observe(outputEl, {childList: true});\n",
       "}}\n",
       "\n",
       "                        })                };                });            </script>        </div>"
      ]
     },
     "metadata": {},
     "output_type": "display_data"
    }
   ],
   "source": [
    "brewing_materials_sample = brewing_materials_sample[brewing_materials_sample['material_type'].str.contains('Total') == False]\n",
    "fig = px.bar(\n",
    "    brewing_materials_sample,\n",
    "    x='month_current',\n",
    "    y='type',\n",
    "    orientation='h',\n",
    "    color='material_type'\n",
    ")\n",
    "\n",
    "fig.update_layout(yaxis={'categoryorder': 'total ascending'})\n",
    "\n",
    "fig.show()"
   ]
  },
  {
   "cell_type": "markdown",
   "id": "1f1258f9",
   "metadata": {},
   "source": [
    "From the above, it is clear that malt and malt products are by far the most used material (at least in the sample month). Let's take a look at plotting these values over time."
   ]
  },
  {
   "cell_type": "code",
   "execution_count": 330,
   "id": "fac2420a",
   "metadata": {
    "scrolled": true
   },
   "outputs": [
    {
     "data": {
      "application/vnd.plotly.v1+json": {
       "config": {
        "plotlyServerURL": "https://plot.ly"
       },
       "data": [
        {
         "alignmentgroup": "True",
         "hovertemplate": "type=Malt and malt products<br>date=%{x}<br>month_current=%{y}<extra></extra>",
         "legendgroup": "Malt and malt products",
         "marker": {
          "color": "#636efa",
          "pattern": {
           "shape": ""
          }
         },
         "name": "Malt and malt products",
         "offsetgroup": "Malt and malt products",
         "orientation": "v",
         "showlegend": true,
         "textposition": "auto",
         "type": "bar",
         "x": [
          "2008-01-01T00:00:00",
          "2008-02-01T00:00:00",
          "2008-03-01T00:00:00",
          "2008-04-01T00:00:00",
          "2008-05-01T00:00:00",
          "2008-06-01T00:00:00",
          "2008-07-01T00:00:00",
          "2008-08-01T00:00:00",
          "2008-09-01T00:00:00",
          "2008-10-01T00:00:00",
          "2008-11-01T00:00:00",
          "2008-12-01T00:00:00",
          "2009-01-01T00:00:00",
          "2009-02-01T00:00:00",
          "2009-03-01T00:00:00",
          "2009-04-01T00:00:00",
          "2009-05-01T00:00:00",
          "2009-06-01T00:00:00",
          "2009-07-01T00:00:00",
          "2009-08-01T00:00:00",
          "2009-09-01T00:00:00",
          "2009-10-01T00:00:00",
          "2009-11-01T00:00:00",
          "2009-12-01T00:00:00",
          "2010-01-01T00:00:00",
          "2010-02-01T00:00:00",
          "2010-03-01T00:00:00",
          "2010-04-01T00:00:00",
          "2010-05-01T00:00:00",
          "2010-06-01T00:00:00",
          "2010-07-01T00:00:00",
          "2010-08-01T00:00:00",
          "2010-09-01T00:00:00",
          "2010-10-01T00:00:00",
          "2010-11-01T00:00:00",
          "2010-12-01T00:00:00",
          "2011-01-01T00:00:00",
          "2011-02-01T00:00:00",
          "2011-03-01T00:00:00",
          "2011-04-01T00:00:00",
          "2011-05-01T00:00:00",
          "2011-06-01T00:00:00",
          "2011-07-01T00:00:00",
          "2011-08-01T00:00:00",
          "2011-09-01T00:00:00",
          "2011-10-01T00:00:00",
          "2011-11-01T00:00:00",
          "2011-12-01T00:00:00",
          "2012-01-01T00:00:00",
          "2012-02-01T00:00:00",
          "2012-03-01T00:00:00",
          "2012-04-01T00:00:00",
          "2012-05-01T00:00:00",
          "2012-06-01T00:00:00",
          "2012-07-01T00:00:00",
          "2012-08-01T00:00:00",
          "2012-09-01T00:00:00",
          "2012-10-01T00:00:00",
          "2012-11-01T00:00:00",
          "2012-12-01T00:00:00",
          "2013-01-01T00:00:00",
          "2013-02-01T00:00:00",
          "2013-03-01T00:00:00",
          "2013-04-01T00:00:00",
          "2013-05-01T00:00:00",
          "2013-06-01T00:00:00",
          "2013-07-01T00:00:00",
          "2013-08-01T00:00:00",
          "2013-09-01T00:00:00",
          "2013-10-01T00:00:00",
          "2013-11-01T00:00:00",
          "2013-12-01T00:00:00",
          "2014-01-01T00:00:00",
          "2014-02-01T00:00:00",
          "2014-03-01T00:00:00",
          "2014-04-01T00:00:00",
          "2014-05-01T00:00:00",
          "2014-06-01T00:00:00",
          "2014-07-01T00:00:00",
          "2014-08-01T00:00:00",
          "2014-09-01T00:00:00",
          "2014-10-01T00:00:00",
          "2014-11-01T00:00:00",
          "2014-12-01T00:00:00",
          "2015-01-01T00:00:00",
          "2015-02-01T00:00:00",
          "2015-03-01T00:00:00",
          "2015-04-01T00:00:00",
          "2015-05-01T00:00:00",
          "2015-06-01T00:00:00",
          "2015-07-01T00:00:00",
          "2015-08-01T00:00:00",
          "2015-09-01T00:00:00",
          "2015-10-01T00:00:00",
          "2015-11-01T00:00:00",
          "2015-12-01T00:00:00",
          "2016-01-01T00:00:00",
          "2016-02-01T00:00:00",
          "2016-03-01T00:00:00",
          "2016-04-01T00:00:00",
          "2016-05-01T00:00:00",
          "2016-06-01T00:00:00",
          "2016-07-01T00:00:00",
          "2016-08-01T00:00:00",
          "2016-09-01T00:00:00",
          "2016-10-01T00:00:00",
          "2016-11-01T00:00:00",
          "2016-12-01T00:00:00",
          "2017-01-01T00:00:00",
          "2017-02-01T00:00:00",
          "2017-03-01T00:00:00",
          "2017-04-01T00:00:00",
          "2017-05-01T00:00:00",
          "2017-06-01T00:00:00",
          "2017-07-01T00:00:00",
          "2017-08-01T00:00:00",
          "2017-09-01T00:00:00",
          "2017-10-01T00:00:00",
          "2017-11-01T00:00:00",
          "2017-12-01T00:00:00"
         ],
         "xaxis": "x",
         "y": [
          374165152,
          355687578,
          399855819,
          388639443,
          411307544,
          415161326,
          405393784,
          389391266,
          362587470,
          353803777,
          322733711,
          318741733,
          361377478,
          339472713,
          380133298,
          384396702,
          391469434,
          381247341,
          382672919,
          362521445,
          370369895,
          333286901,
          309688888,
          302237874,
          330304432,
          305543380,
          366733254,
          374018118,
          399504457,
          380521275,
          384726834,
          358726926,
          329671455,
          333230020,
          298251207,
          285382073,
          322480722,
          307076591,
          363234183,
          349781343,
          352623620,
          372541998,
          350751002,
          361924350,
          312845217,
          313380880,
          303152329,
          293640890,
          315214803,
          320430694,
          366122047,
          357106000,
          373071360,
          387306474,
          363222892,
          362799587,
          336789908,
          321542825,
          295672895,
          299861553,
          326450615,
          311283986,
          340319408,
          334351807,
          353589770,
          370101067,
          367999200,
          339968116,
          303711377,
          321371392,
          275715285,
          294248188,
          315728713,
          293750079,
          335350528,
          314317091,
          332831907,
          382399712,
          370565836,
          342497886,
          346653525,
          329412159,
          272737485,
          153777615,
          314189672,
          292567431,
          319448327,
          310767436,
          332384559,
          383818029,
          351222725,
          326075404,
          328674963,
          305864536,
          248702560,
          155495923,
          13269843,
          11593322,
          16110664,
          10396531,
          9714394,
          14335998,
          10855750,
          10454205,
          13362702,
          9801457,
          9290949,
          11827661,
          8435064,
          2746382,
          11015402,
          8777098,
          10242822,
          12936288,
          8321067,
          8784839,
          11745875,
          8675502,
          8092727,
          12651943
         ],
         "yaxis": "y"
        },
        {
         "alignmentgroup": "True",
         "hovertemplate": "type=Corn and corn products<br>date=%{x}<br>month_current=%{y}<extra></extra>",
         "legendgroup": "Corn and corn products",
         "marker": {
          "color": "#EF553B",
          "pattern": {
           "shape": ""
          }
         },
         "name": "Corn and corn products",
         "offsetgroup": "Corn and corn products",
         "orientation": "v",
         "showlegend": true,
         "textposition": "auto",
         "type": "bar",
         "x": [
          "2008-01-01T00:00:00",
          "2008-02-01T00:00:00",
          "2008-03-01T00:00:00",
          "2008-04-01T00:00:00",
          "2008-05-01T00:00:00",
          "2008-06-01T00:00:00",
          "2008-07-01T00:00:00",
          "2008-08-01T00:00:00",
          "2008-09-01T00:00:00",
          "2008-10-01T00:00:00",
          "2008-11-01T00:00:00",
          "2008-12-01T00:00:00",
          "2009-01-01T00:00:00",
          "2009-02-01T00:00:00",
          "2009-03-01T00:00:00",
          "2009-04-01T00:00:00",
          "2009-05-01T00:00:00",
          "2009-06-01T00:00:00",
          "2009-07-01T00:00:00",
          "2009-08-01T00:00:00",
          "2009-09-01T00:00:00",
          "2009-10-01T00:00:00",
          "2009-11-01T00:00:00",
          "2009-12-01T00:00:00",
          "2010-01-01T00:00:00",
          "2010-02-01T00:00:00",
          "2010-03-01T00:00:00",
          "2010-04-01T00:00:00",
          "2010-05-01T00:00:00",
          "2010-06-01T00:00:00",
          "2010-07-01T00:00:00",
          "2010-08-01T00:00:00",
          "2010-09-01T00:00:00",
          "2010-10-01T00:00:00",
          "2010-11-01T00:00:00",
          "2010-12-01T00:00:00",
          "2011-01-01T00:00:00",
          "2011-02-01T00:00:00",
          "2011-03-01T00:00:00",
          "2011-04-01T00:00:00",
          "2011-05-01T00:00:00",
          "2011-06-01T00:00:00",
          "2011-07-01T00:00:00",
          "2011-08-01T00:00:00",
          "2011-09-01T00:00:00",
          "2011-10-01T00:00:00",
          "2011-11-01T00:00:00",
          "2011-12-01T00:00:00",
          "2012-01-01T00:00:00",
          "2012-02-01T00:00:00",
          "2012-03-01T00:00:00",
          "2012-04-01T00:00:00",
          "2012-05-01T00:00:00",
          "2012-06-01T00:00:00",
          "2012-07-01T00:00:00",
          "2012-08-01T00:00:00",
          "2012-09-01T00:00:00",
          "2012-10-01T00:00:00",
          "2012-11-01T00:00:00",
          "2012-12-01T00:00:00",
          "2013-01-01T00:00:00",
          "2013-02-01T00:00:00",
          "2013-03-01T00:00:00",
          "2013-04-01T00:00:00",
          "2013-05-01T00:00:00",
          "2013-06-01T00:00:00",
          "2013-07-01T00:00:00",
          "2013-08-01T00:00:00",
          "2013-09-01T00:00:00",
          "2013-10-01T00:00:00",
          "2013-11-01T00:00:00",
          "2013-12-01T00:00:00",
          "2014-01-01T00:00:00",
          "2014-02-01T00:00:00",
          "2014-03-01T00:00:00",
          "2014-04-01T00:00:00",
          "2014-05-01T00:00:00",
          "2014-06-01T00:00:00",
          "2014-07-01T00:00:00",
          "2014-08-01T00:00:00",
          "2014-09-01T00:00:00",
          "2014-10-01T00:00:00",
          "2014-11-01T00:00:00",
          "2014-12-01T00:00:00",
          "2015-01-01T00:00:00",
          "2015-02-01T00:00:00",
          "2015-03-01T00:00:00",
          "2015-04-01T00:00:00",
          "2015-05-01T00:00:00",
          "2015-06-01T00:00:00",
          "2015-07-01T00:00:00",
          "2015-08-01T00:00:00",
          "2015-09-01T00:00:00",
          "2015-10-01T00:00:00",
          "2015-11-01T00:00:00",
          "2015-12-01T00:00:00",
          "2016-01-01T00:00:00",
          "2016-02-01T00:00:00",
          "2016-03-01T00:00:00",
          "2016-04-01T00:00:00",
          "2016-05-01T00:00:00",
          "2016-06-01T00:00:00",
          "2016-07-01T00:00:00",
          "2016-08-01T00:00:00",
          "2016-09-01T00:00:00",
          "2016-10-01T00:00:00",
          "2016-11-01T00:00:00",
          "2016-12-01T00:00:00",
          "2017-01-01T00:00:00",
          "2017-02-01T00:00:00",
          "2017-03-01T00:00:00",
          "2017-04-01T00:00:00",
          "2017-05-01T00:00:00",
          "2017-06-01T00:00:00",
          "2017-07-01T00:00:00",
          "2017-08-01T00:00:00",
          "2017-09-01T00:00:00",
          "2017-10-01T00:00:00",
          "2017-11-01T00:00:00",
          "2017-12-01T00:00:00"
         ],
         "xaxis": "x",
         "y": [
          57563519,
          59513161,
          60800221,
          61555980,
          63945802,
          65645480,
          66406321,
          64953210,
          59787127,
          63047343,
          53628776,
          49919452,
          63115693,
          60966715,
          66543131,
          67266636,
          62481084,
          62107546,
          68510353,
          57684547,
          54632420,
          55590153,
          47018983,
          45851254,
          56705162,
          54486996,
          60991969,
          61273430,
          62684555,
          60811086,
          58694301,
          60424525,
          77399155,
          51427974,
          47348859,
          48503335,
          58632672,
          53981943,
          61094976,
          58628353,
          50573951,
          49399750,
          47864835,
          49085339,
          47180399,
          48090884,
          53879230,
          50507994,
          61859978,
          62631394,
          62376094,
          61313630,
          66220273,
          63113188,
          62878256,
          53320491,
          50320517,
          50852126,
          44981825,
          43809820,
          50597106,
          46499056,
          47314812,
          46416330,
          53185970,
          53527463,
          49297406,
          50568490,
          51834721,
          53528251,
          41543251,
          48242094,
          60186876,
          49718568,
          53923554,
          51063013,
          59741914,
          59290119,
          47760795,
          49539298,
          46554596,
          46194312,
          38032693,
          30884481,
          59759340,
          49291032,
          53588473,
          50651219,
          59463385,
          58932810,
          47503607,
          49124855,
          41626738,
          41417962,
          31612117,
          27270242,
          63293,
          44157,
          7456,
          275,
          500,
          8684,
          345,
          205,
          10236,
          0,
          150,
          16200,
          0,
          350,
          6481,
          10660,
          1642,
          4584,
          125,
          225,
          9543,
          125,
          275,
          2777
         ],
         "yaxis": "y"
        },
        {
         "alignmentgroup": "True",
         "hovertemplate": "type=Rice and rice products<br>date=%{x}<br>month_current=%{y}<extra></extra>",
         "legendgroup": "Rice and rice products",
         "marker": {
          "color": "#00cc96",
          "pattern": {
           "shape": ""
          }
         },
         "name": "Rice and rice products",
         "offsetgroup": "Rice and rice products",
         "orientation": "v",
         "showlegend": true,
         "textposition": "auto",
         "type": "bar",
         "x": [
          "2008-01-01T00:00:00",
          "2008-02-01T00:00:00",
          "2008-03-01T00:00:00",
          "2008-04-01T00:00:00",
          "2008-05-01T00:00:00",
          "2008-06-01T00:00:00",
          "2008-07-01T00:00:00",
          "2008-08-01T00:00:00",
          "2008-09-01T00:00:00",
          "2008-10-01T00:00:00",
          "2008-11-01T00:00:00",
          "2008-12-01T00:00:00",
          "2009-01-01T00:00:00",
          "2009-02-01T00:00:00",
          "2009-03-01T00:00:00",
          "2009-04-01T00:00:00",
          "2009-05-01T00:00:00",
          "2009-06-01T00:00:00",
          "2009-07-01T00:00:00",
          "2009-08-01T00:00:00",
          "2009-09-01T00:00:00",
          "2009-10-01T00:00:00",
          "2009-11-01T00:00:00",
          "2009-12-01T00:00:00",
          "2010-01-01T00:00:00",
          "2010-02-01T00:00:00",
          "2010-03-01T00:00:00",
          "2010-04-01T00:00:00",
          "2010-05-01T00:00:00",
          "2010-06-01T00:00:00",
          "2010-07-01T00:00:00",
          "2010-08-01T00:00:00",
          "2010-09-01T00:00:00",
          "2010-10-01T00:00:00",
          "2010-11-01T00:00:00",
          "2010-12-01T00:00:00",
          "2011-01-01T00:00:00",
          "2011-02-01T00:00:00",
          "2011-03-01T00:00:00",
          "2011-04-01T00:00:00",
          "2011-05-01T00:00:00",
          "2011-06-01T00:00:00",
          "2011-07-01T00:00:00",
          "2011-08-01T00:00:00",
          "2011-09-01T00:00:00",
          "2011-10-01T00:00:00",
          "2011-11-01T00:00:00",
          "2011-12-01T00:00:00",
          "2012-01-01T00:00:00",
          "2012-02-01T00:00:00",
          "2012-03-01T00:00:00",
          "2012-04-01T00:00:00",
          "2012-05-01T00:00:00",
          "2012-06-01T00:00:00",
          "2012-07-01T00:00:00",
          "2012-08-01T00:00:00",
          "2012-09-01T00:00:00",
          "2012-10-01T00:00:00",
          "2012-11-01T00:00:00",
          "2012-12-01T00:00:00",
          "2013-01-01T00:00:00",
          "2013-02-01T00:00:00",
          "2013-03-01T00:00:00",
          "2013-04-01T00:00:00",
          "2013-05-01T00:00:00",
          "2013-06-01T00:00:00",
          "2013-07-01T00:00:00",
          "2013-08-01T00:00:00",
          "2013-09-01T00:00:00",
          "2013-10-01T00:00:00",
          "2013-11-01T00:00:00",
          "2013-12-01T00:00:00",
          "2014-01-01T00:00:00",
          "2014-02-01T00:00:00",
          "2014-03-01T00:00:00",
          "2014-04-01T00:00:00",
          "2014-05-01T00:00:00",
          "2014-06-01T00:00:00",
          "2014-07-01T00:00:00",
          "2014-08-01T00:00:00",
          "2014-09-01T00:00:00",
          "2014-10-01T00:00:00",
          "2014-11-01T00:00:00",
          "2014-12-01T00:00:00",
          "2015-01-01T00:00:00",
          "2015-02-01T00:00:00",
          "2015-03-01T00:00:00",
          "2015-04-01T00:00:00",
          "2015-05-01T00:00:00",
          "2015-06-01T00:00:00",
          "2015-07-01T00:00:00",
          "2015-08-01T00:00:00",
          "2015-09-01T00:00:00",
          "2015-10-01T00:00:00",
          "2015-11-01T00:00:00",
          "2015-12-01T00:00:00",
          "2016-01-01T00:00:00",
          "2016-02-01T00:00:00",
          "2016-03-01T00:00:00",
          "2016-04-01T00:00:00",
          "2016-05-01T00:00:00",
          "2016-06-01T00:00:00",
          "2016-07-01T00:00:00",
          "2016-08-01T00:00:00",
          "2016-09-01T00:00:00",
          "2016-10-01T00:00:00",
          "2016-11-01T00:00:00",
          "2016-12-01T00:00:00",
          "2017-01-01T00:00:00",
          "2017-02-01T00:00:00",
          "2017-03-01T00:00:00",
          "2017-04-01T00:00:00",
          "2017-05-01T00:00:00",
          "2017-06-01T00:00:00",
          "2017-07-01T00:00:00",
          "2017-08-01T00:00:00",
          "2017-09-01T00:00:00",
          "2017-10-01T00:00:00",
          "2017-11-01T00:00:00",
          "2017-12-01T00:00:00"
         ],
         "xaxis": "x",
         "y": [
          72402143,
          66061597,
          72629666,
          73309991,
          76219021,
          71779022,
          74945452,
          70993476,
          61739894,
          58607059,
          53971515,
          61716256,
          59961083,
          60150183,
          64006735,
          63166930,
          67120251,
          64576127,
          63277242,
          61417028,
          57686245,
          55167784,
          50460060,
          51919861,
          59701345,
          55198940,
          59991160,
          59803024,
          69284131,
          66627541,
          68031711,
          63192375,
          54884345,
          55450803,
          53779401,
          47504543,
          108112318,
          54287863,
          62041512,
          53392697,
          62118962,
          69701464,
          69787950,
          72428017,
          55188865,
          50132872,
          43496310,
          46841203,
          63568058,
          54333308,
          59022797,
          57264320,
          61702673,
          59527958,
          60381322,
          65214228,
          62119884,
          59885904,
          61082730,
          51883289,
          62177066,
          61926310,
          62869950,
          63584763,
          65774053,
          64271218,
          76426446,
          66799703,
          53400257,
          54082902,
          44402687,
          47832575,
          52099471,
          48969378,
          48705125,
          55893495,
          59209512,
          47368927,
          64828200,
          58158328,
          56748056,
          54599783,
          47373098,
          44864070,
          52438465,
          48975137,
          48710754,
          55895095,
          59210512,
          47366346,
          64827600,
          58190840,
          48134917,
          45050667,
          38579400,
          36403087,
          245003,
          676833,
          793898,
          676607,
          648892,
          648601,
          889144,
          675382,
          759649,
          736241,
          724774,
          15038,
          10405,
          590680,
          819857,
          412657,
          1849,
          4901,
          1532,
          3212,
          3557,
          1160,
          1560,
          2472
         ],
         "yaxis": "y"
        },
        {
         "alignmentgroup": "True",
         "hovertemplate": "type=Barley and barley products<br>date=%{x}<br>month_current=%{y}<extra></extra>",
         "legendgroup": "Barley and barley products",
         "marker": {
          "color": "#ab63fa",
          "pattern": {
           "shape": ""
          }
         },
         "name": "Barley and barley products",
         "offsetgroup": "Barley and barley products",
         "orientation": "v",
         "showlegend": true,
         "textposition": "auto",
         "type": "bar",
         "x": [
          "2008-01-01T00:00:00",
          "2008-02-01T00:00:00",
          "2008-03-01T00:00:00",
          "2008-04-01T00:00:00",
          "2008-05-01T00:00:00",
          "2008-06-01T00:00:00",
          "2008-07-01T00:00:00",
          "2008-08-01T00:00:00",
          "2008-09-01T00:00:00",
          "2008-10-01T00:00:00",
          "2008-11-01T00:00:00",
          "2008-12-01T00:00:00",
          "2009-01-01T00:00:00",
          "2009-02-01T00:00:00",
          "2009-03-01T00:00:00",
          "2009-04-01T00:00:00",
          "2009-05-01T00:00:00",
          "2009-06-01T00:00:00",
          "2009-07-01T00:00:00",
          "2009-08-01T00:00:00",
          "2009-09-01T00:00:00",
          "2009-10-01T00:00:00",
          "2009-11-01T00:00:00",
          "2009-12-01T00:00:00",
          "2010-01-01T00:00:00",
          "2010-02-01T00:00:00",
          "2010-03-01T00:00:00",
          "2010-04-01T00:00:00",
          "2010-05-01T00:00:00",
          "2010-06-01T00:00:00",
          "2010-07-01T00:00:00",
          "2010-08-01T00:00:00",
          "2010-09-01T00:00:00",
          "2010-10-01T00:00:00",
          "2010-11-01T00:00:00",
          "2010-12-01T00:00:00",
          "2011-01-01T00:00:00",
          "2011-02-01T00:00:00",
          "2011-03-01T00:00:00",
          "2011-04-01T00:00:00",
          "2011-05-01T00:00:00",
          "2011-06-01T00:00:00",
          "2011-07-01T00:00:00",
          "2011-08-01T00:00:00",
          "2011-09-01T00:00:00",
          "2011-10-01T00:00:00",
          "2011-11-01T00:00:00",
          "2011-12-01T00:00:00",
          "2012-01-01T00:00:00",
          "2012-02-01T00:00:00",
          "2012-03-01T00:00:00",
          "2012-04-01T00:00:00",
          "2012-05-01T00:00:00",
          "2012-06-01T00:00:00",
          "2012-07-01T00:00:00",
          "2012-08-01T00:00:00",
          "2012-09-01T00:00:00",
          "2012-10-01T00:00:00",
          "2012-11-01T00:00:00",
          "2012-12-01T00:00:00",
          "2013-01-01T00:00:00",
          "2013-02-01T00:00:00",
          "2013-03-01T00:00:00",
          "2013-04-01T00:00:00",
          "2013-05-01T00:00:00",
          "2013-06-01T00:00:00",
          "2013-07-01T00:00:00",
          "2013-08-01T00:00:00",
          "2013-09-01T00:00:00",
          "2013-10-01T00:00:00",
          "2013-11-01T00:00:00",
          "2013-12-01T00:00:00",
          "2014-01-01T00:00:00",
          "2014-02-01T00:00:00",
          "2014-03-01T00:00:00",
          "2014-04-01T00:00:00",
          "2014-05-01T00:00:00",
          "2014-06-01T00:00:00",
          "2014-07-01T00:00:00",
          "2014-08-01T00:00:00",
          "2014-09-01T00:00:00",
          "2014-10-01T00:00:00",
          "2014-11-01T00:00:00",
          "2014-12-01T00:00:00",
          "2015-01-01T00:00:00",
          "2015-02-01T00:00:00",
          "2015-03-01T00:00:00",
          "2015-04-01T00:00:00",
          "2015-05-01T00:00:00",
          "2015-06-01T00:00:00",
          "2015-07-01T00:00:00",
          "2015-08-01T00:00:00",
          "2015-09-01T00:00:00",
          "2015-10-01T00:00:00",
          "2015-11-01T00:00:00",
          "2015-12-01T00:00:00",
          "2016-01-01T00:00:00",
          "2016-02-01T00:00:00",
          "2016-03-01T00:00:00",
          "2016-04-01T00:00:00",
          "2016-05-01T00:00:00",
          "2016-06-01T00:00:00",
          "2016-07-01T00:00:00",
          "2016-08-01T00:00:00",
          "2016-09-01T00:00:00",
          "2016-10-01T00:00:00",
          "2016-11-01T00:00:00",
          "2016-12-01T00:00:00",
          "2017-01-01T00:00:00",
          "2017-02-01T00:00:00",
          "2017-03-01T00:00:00",
          "2017-04-01T00:00:00",
          "2017-05-01T00:00:00",
          "2017-06-01T00:00:00",
          "2017-07-01T00:00:00",
          "2017-08-01T00:00:00",
          "2017-09-01T00:00:00",
          "2017-10-01T00:00:00",
          "2017-11-01T00:00:00",
          "2017-12-01T00:00:00"
         ],
         "xaxis": "x",
         "y": [
          3800844,
          3236714,
          6950276,
          3912088,
          3660048,
          7751285,
          3395619,
          3772040,
          8282404,
          3825118,
          3309266,
          6152633,
          2169601,
          3334476,
          7094005,
          3349556,
          3684818,
          8146509,
          4185235,
          3789027,
          8106300,
          3615556,
          3374449,
          7271474,
          3668374,
          3726630,
          10220654,
          5030962,
          4903020,
          11280602,
          5224206,
          5276045,
          14107767,
          6203762,
          5235825,
          12815197,
          4705175,
          4322047,
          11614373,
          4768751,
          5564462,
          10363329,
          6014579,
          6775228,
          32343039,
          6773403,
          5909830,
          11793946,
          5391781,
          5493934,
          15647530,
          7634002,
          7116069,
          17104839,
          9486054,
          8622164,
          16834020,
          9353404,
          7563555,
          14176754,
          7749970,
          7486134,
          15469983,
          8355161,
          9322039,
          18971859,
          9479272,
          10069803,
          19626718,
          10271881,
          7902110,
          19579344,
          8185386,
          8893650,
          20694786,
          10091164,
          11263219,
          23906204,
          11164504,
          10774103,
          25194159,
          14289508,
          10643784,
          9077439,
          8728262,
          9108543,
          22013439,
          9432668,
          11006146,
          24840171,
          11059580,
          11696242,
          26802044,
          13833433,
          8852396,
          11466970,
          1288972,
          710739,
          3944620,
          539712,
          418612,
          3380038,
          699997,
          310695,
          3451469,
          383392,
          182314,
          2446254,
          153874,
          157027,
          1773434,
          142779,
          183174,
          1333243,
          175807,
          178401,
          1685465,
          140920,
          133699,
          1093381
         ],
         "yaxis": "y"
        },
        {
         "alignmentgroup": "True",
         "hovertemplate": "type=Wheat and wheat products<br>date=%{x}<br>month_current=%{y}<extra></extra>",
         "legendgroup": "Wheat and wheat products",
         "marker": {
          "color": "#FFA15A",
          "pattern": {
           "shape": ""
          }
         },
         "name": "Wheat and wheat products",
         "offsetgroup": "Wheat and wheat products",
         "orientation": "v",
         "showlegend": true,
         "textposition": "auto",
         "type": "bar",
         "x": [
          "2008-01-01T00:00:00",
          "2008-02-01T00:00:00",
          "2008-03-01T00:00:00",
          "2008-04-01T00:00:00",
          "2008-05-01T00:00:00",
          "2008-06-01T00:00:00",
          "2008-07-01T00:00:00",
          "2008-08-01T00:00:00",
          "2008-09-01T00:00:00",
          "2008-10-01T00:00:00",
          "2008-11-01T00:00:00",
          "2008-12-01T00:00:00",
          "2009-01-01T00:00:00",
          "2009-02-01T00:00:00",
          "2009-03-01T00:00:00",
          "2009-04-01T00:00:00",
          "2009-05-01T00:00:00",
          "2009-06-01T00:00:00",
          "2009-07-01T00:00:00",
          "2009-08-01T00:00:00",
          "2009-09-01T00:00:00",
          "2009-10-01T00:00:00",
          "2009-11-01T00:00:00",
          "2009-12-01T00:00:00",
          "2010-01-01T00:00:00",
          "2010-02-01T00:00:00",
          "2010-03-01T00:00:00",
          "2010-04-01T00:00:00",
          "2010-05-01T00:00:00",
          "2010-06-01T00:00:00",
          "2010-07-01T00:00:00",
          "2010-08-01T00:00:00",
          "2010-09-01T00:00:00",
          "2010-10-01T00:00:00",
          "2010-11-01T00:00:00",
          "2010-12-01T00:00:00",
          "2011-01-01T00:00:00",
          "2011-02-01T00:00:00",
          "2011-03-01T00:00:00",
          "2011-04-01T00:00:00",
          "2011-05-01T00:00:00",
          "2011-06-01T00:00:00",
          "2011-07-01T00:00:00",
          "2011-08-01T00:00:00",
          "2011-09-01T00:00:00",
          "2011-10-01T00:00:00",
          "2011-11-01T00:00:00",
          "2011-12-01T00:00:00",
          "2012-01-01T00:00:00",
          "2012-02-01T00:00:00",
          "2012-03-01T00:00:00",
          "2012-04-01T00:00:00",
          "2012-05-01T00:00:00",
          "2012-06-01T00:00:00",
          "2012-07-01T00:00:00",
          "2012-08-01T00:00:00",
          "2012-09-01T00:00:00",
          "2012-10-01T00:00:00",
          "2012-11-01T00:00:00",
          "2012-12-01T00:00:00",
          "2013-01-01T00:00:00",
          "2013-02-01T00:00:00",
          "2013-03-01T00:00:00",
          "2013-04-01T00:00:00",
          "2013-05-01T00:00:00",
          "2013-06-01T00:00:00",
          "2013-07-01T00:00:00",
          "2013-08-01T00:00:00",
          "2013-09-01T00:00:00",
          "2013-10-01T00:00:00",
          "2013-11-01T00:00:00",
          "2013-12-01T00:00:00",
          "2014-01-01T00:00:00",
          "2014-02-01T00:00:00",
          "2014-03-01T00:00:00",
          "2014-04-01T00:00:00",
          "2014-05-01T00:00:00",
          "2014-06-01T00:00:00",
          "2014-07-01T00:00:00",
          "2014-08-01T00:00:00",
          "2014-09-01T00:00:00",
          "2014-10-01T00:00:00",
          "2014-11-01T00:00:00",
          "2014-12-01T00:00:00",
          "2015-01-01T00:00:00",
          "2015-02-01T00:00:00",
          "2015-03-01T00:00:00",
          "2015-04-01T00:00:00",
          "2015-05-01T00:00:00",
          "2015-06-01T00:00:00",
          "2015-07-01T00:00:00",
          "2015-08-01T00:00:00",
          "2015-09-01T00:00:00",
          "2015-10-01T00:00:00",
          "2015-11-01T00:00:00",
          "2015-12-01T00:00:00",
          "2016-01-01T00:00:00",
          "2016-02-01T00:00:00",
          "2016-03-01T00:00:00",
          "2016-04-01T00:00:00",
          "2016-05-01T00:00:00",
          "2016-06-01T00:00:00",
          "2016-07-01T00:00:00",
          "2016-08-01T00:00:00",
          "2016-09-01T00:00:00",
          "2016-10-01T00:00:00",
          "2016-11-01T00:00:00",
          "2016-12-01T00:00:00",
          "2017-01-01T00:00:00",
          "2017-02-01T00:00:00",
          "2017-03-01T00:00:00",
          "2017-04-01T00:00:00",
          "2017-05-01T00:00:00",
          "2017-06-01T00:00:00",
          "2017-07-01T00:00:00",
          "2017-08-01T00:00:00",
          "2017-09-01T00:00:00",
          "2017-10-01T00:00:00",
          "2017-11-01T00:00:00",
          "2017-12-01T00:00:00"
         ],
         "xaxis": "x",
         "y": [
          1177186,
          1240983,
          1888250,
          1404733,
          1697578,
          2258532,
          1371856,
          1588068,
          1840600,
          1431903,
          959228,
          1348759,
          873714,
          1142813,
          2175247,
          1569606,
          1712205,
          1966215,
          1475523,
          1298648,
          1934968,
          1025133,
          1116613,
          1851868,
          1409685,
          1683401,
          2762670,
          2247616,
          2264521,
          2896874,
          1628102,
          1379102,
          2150923,
          1053279,
          1097679,
          1588739,
          1210137,
          955671,
          5019351,
          1816659,
          1721632,
          2305971,
          1523087,
          1749667,
          2260859,
          1555618,
          1297888,
          1612682,
          1319508,
          1358318,
          2817135,
          2001345,
          2141313,
          2947584,
          2062199,
          2286719,
          2676324,
          1762481,
          1709859,
          1789996,
          1537526,
          1823446,
          2721578,
          2339352,
          4781594,
          3161620,
          2159949,
          1940771,
          2861762,
          1915107,
          1331387,
          2311377,
          1372263,
          2120033,
          3621626,
          2547858,
          3267690,
          4273103,
          4202335,
          3109619,
          3802119,
          1872895,
          1345356,
          946014,
          1316582,
          2060046,
          3719861,
          2543086,
          3270150,
          4325143,
          4133710,
          3015906,
          3829592,
          1568734,
          1292617,
          1070326,
          141812,
          89222,
          337907,
          51605,
          36194,
          368680,
          74798,
          58487,
          311154,
          19912,
          28557,
          220831,
          28355,
          31070,
          193320,
          46116,
          36851,
          235017,
          35188,
          37292,
          146220,
          25505,
          33324,
          128174
         ],
         "yaxis": "y"
        },
        {
         "alignmentgroup": "True",
         "hovertemplate": "type=Sugar and syrups<br>date=%{x}<br>month_current=%{y}<extra></extra>",
         "legendgroup": "Sugar and syrups",
         "marker": {
          "color": "#19d3f3",
          "pattern": {
           "shape": ""
          }
         },
         "name": "Sugar and syrups",
         "offsetgroup": "Sugar and syrups",
         "orientation": "v",
         "showlegend": true,
         "textposition": "auto",
         "type": "bar",
         "x": [
          "2008-01-01T00:00:00",
          "2008-02-01T00:00:00",
          "2008-03-01T00:00:00",
          "2008-04-01T00:00:00",
          "2008-05-01T00:00:00",
          "2008-06-01T00:00:00",
          "2008-07-01T00:00:00",
          "2008-08-01T00:00:00",
          "2008-09-01T00:00:00",
          "2008-10-01T00:00:00",
          "2008-11-01T00:00:00",
          "2008-12-01T00:00:00",
          "2009-01-01T00:00:00",
          "2009-02-01T00:00:00",
          "2009-03-01T00:00:00",
          "2009-04-01T00:00:00",
          "2009-05-01T00:00:00",
          "2009-06-01T00:00:00",
          "2009-07-01T00:00:00",
          "2009-08-01T00:00:00",
          "2009-09-01T00:00:00",
          "2009-10-01T00:00:00",
          "2009-11-01T00:00:00",
          "2009-12-01T00:00:00",
          "2010-01-01T00:00:00",
          "2010-02-01T00:00:00",
          "2010-03-01T00:00:00",
          "2010-04-01T00:00:00",
          "2010-05-01T00:00:00",
          "2010-06-01T00:00:00",
          "2010-07-01T00:00:00",
          "2010-08-01T00:00:00",
          "2010-09-01T00:00:00",
          "2010-10-01T00:00:00",
          "2010-11-01T00:00:00",
          "2010-12-01T00:00:00",
          "2011-01-01T00:00:00",
          "2011-02-01T00:00:00",
          "2011-03-01T00:00:00",
          "2011-04-01T00:00:00",
          "2011-05-01T00:00:00",
          "2011-06-01T00:00:00",
          "2011-07-01T00:00:00",
          "2011-08-01T00:00:00",
          "2011-09-01T00:00:00",
          "2011-10-01T00:00:00",
          "2011-11-01T00:00:00",
          "2011-12-01T00:00:00",
          "2012-01-01T00:00:00",
          "2012-02-01T00:00:00",
          "2012-03-01T00:00:00",
          "2012-04-01T00:00:00",
          "2012-05-01T00:00:00",
          "2012-06-01T00:00:00",
          "2012-07-01T00:00:00",
          "2012-08-01T00:00:00",
          "2012-09-01T00:00:00",
          "2012-10-01T00:00:00",
          "2012-11-01T00:00:00",
          "2012-12-01T00:00:00",
          "2013-01-01T00:00:00",
          "2013-02-01T00:00:00",
          "2013-03-01T00:00:00",
          "2013-04-01T00:00:00",
          "2013-05-01T00:00:00",
          "2013-06-01T00:00:00",
          "2013-07-01T00:00:00",
          "2013-08-01T00:00:00",
          "2013-09-01T00:00:00",
          "2013-10-01T00:00:00",
          "2013-11-01T00:00:00",
          "2013-12-01T00:00:00",
          "2014-01-01T00:00:00",
          "2014-02-01T00:00:00",
          "2014-03-01T00:00:00",
          "2014-04-01T00:00:00",
          "2014-05-01T00:00:00",
          "2014-06-01T00:00:00",
          "2014-07-01T00:00:00",
          "2014-08-01T00:00:00",
          "2014-09-01T00:00:00",
          "2014-10-01T00:00:00",
          "2014-11-01T00:00:00",
          "2014-12-01T00:00:00",
          "2015-01-01T00:00:00",
          "2015-02-01T00:00:00",
          "2015-03-01T00:00:00",
          "2015-04-01T00:00:00",
          "2015-05-01T00:00:00",
          "2015-06-01T00:00:00",
          "2015-07-01T00:00:00",
          "2015-08-01T00:00:00",
          "2015-09-01T00:00:00",
          "2015-10-01T00:00:00",
          "2015-11-01T00:00:00",
          "2015-12-01T00:00:00",
          "2016-01-01T00:00:00",
          "2016-02-01T00:00:00",
          "2016-03-01T00:00:00",
          "2016-04-01T00:00:00",
          "2016-05-01T00:00:00",
          "2016-06-01T00:00:00",
          "2016-07-01T00:00:00",
          "2016-08-01T00:00:00",
          "2016-09-01T00:00:00",
          "2016-10-01T00:00:00",
          "2016-11-01T00:00:00",
          "2016-12-01T00:00:00",
          "2017-01-01T00:00:00",
          "2017-02-01T00:00:00",
          "2017-03-01T00:00:00",
          "2017-04-01T00:00:00",
          "2017-05-01T00:00:00",
          "2017-06-01T00:00:00",
          "2017-07-01T00:00:00",
          "2017-08-01T00:00:00",
          "2017-09-01T00:00:00",
          "2017-10-01T00:00:00",
          "2017-11-01T00:00:00",
          "2017-12-01T00:00:00"
         ],
         "xaxis": "x",
         "y": [
          78358212,
          80188744,
          78907213,
          81199989,
          89946309,
          81012422,
          76728131,
          83928121,
          71982604,
          42828943,
          44000736,
          38952441,
          67834569,
          69375203,
          70030415,
          71341108,
          75011893,
          69563483,
          64776817,
          61354833,
          50025197,
          47840939,
          44926666,
          39077880,
          47308358,
          46718854,
          61007512,
          73040421,
          76115769,
          67266337,
          76584550,
          75815015,
          69053125,
          67265699,
          59184495,
          49709103,
          73793509,
          63374850,
          74925793,
          68297327,
          66314234,
          67178952,
          62190400,
          60003874,
          61317581,
          65478836,
          55627592,
          52413557,
          62988309,
          65344809,
          79859286,
          82481856,
          87785168,
          89443470,
          92543919,
          77156577,
          65251144,
          70185532,
          64916501,
          59586860,
          72878590,
          71244280,
          85703037,
          92273777,
          96158421,
          87459068,
          89540845,
          79896297,
          62065299,
          66002563,
          58514321,
          61764460,
          72039259,
          74414600,
          86871712,
          83132566,
          81403402,
          78715950,
          79758226,
          84424807,
          71386473,
          77825404,
          61665023,
          11292897,
          71798065,
          74138605,
          82468474,
          82896506,
          81171257,
          78547713,
          74805384,
          80080228,
          71270147,
          77650579,
          61470208,
          11332454,
          164096,
          118169,
          219736,
          153518,
          118046,
          209884,
          141651,
          178201,
          114284,
          115864,
          63448,
          87586,
          39933,
          55403,
          149440,
          132019,
          24725,
          57026,
          23179,
          22887,
          50807,
          21869,
          23158,
          36213
         ],
         "yaxis": "y"
        },
        {
         "alignmentgroup": "True",
         "hovertemplate": "type=Hops (dry)<br>date=%{x}<br>month_current=%{y}<extra></extra>",
         "legendgroup": "Hops (dry)",
         "marker": {
          "color": "#FF6692",
          "pattern": {
           "shape": ""
          }
         },
         "name": "Hops (dry)",
         "offsetgroup": "Hops (dry)",
         "orientation": "v",
         "showlegend": true,
         "textposition": "auto",
         "type": "bar",
         "x": [
          "2008-01-01T00:00:00",
          "2008-02-01T00:00:00",
          "2008-03-01T00:00:00",
          "2008-04-01T00:00:00",
          "2008-05-01T00:00:00",
          "2008-06-01T00:00:00",
          "2008-07-01T00:00:00",
          "2008-08-01T00:00:00",
          "2008-09-01T00:00:00",
          "2008-10-01T00:00:00",
          "2008-11-01T00:00:00",
          "2008-12-01T00:00:00",
          "2009-01-01T00:00:00",
          "2009-02-01T00:00:00",
          "2009-03-01T00:00:00",
          "2009-04-01T00:00:00",
          "2009-05-01T00:00:00",
          "2009-06-01T00:00:00",
          "2009-07-01T00:00:00",
          "2009-08-01T00:00:00",
          "2009-09-01T00:00:00",
          "2009-10-01T00:00:00",
          "2009-11-01T00:00:00",
          "2009-12-01T00:00:00",
          "2010-01-01T00:00:00",
          "2010-02-01T00:00:00",
          "2010-03-01T00:00:00",
          "2010-04-01T00:00:00",
          "2010-05-01T00:00:00",
          "2010-06-01T00:00:00",
          "2010-07-01T00:00:00",
          "2010-08-01T00:00:00",
          "2010-09-01T00:00:00",
          "2010-10-01T00:00:00",
          "2010-11-01T00:00:00",
          "2010-12-01T00:00:00",
          "2011-01-01T00:00:00",
          "2011-02-01T00:00:00",
          "2011-03-01T00:00:00",
          "2011-04-01T00:00:00",
          "2011-05-01T00:00:00",
          "2011-06-01T00:00:00",
          "2011-07-01T00:00:00",
          "2011-08-01T00:00:00",
          "2011-09-01T00:00:00",
          "2011-10-01T00:00:00",
          "2011-11-01T00:00:00",
          "2011-12-01T00:00:00",
          "2012-01-01T00:00:00",
          "2012-02-01T00:00:00",
          "2012-03-01T00:00:00",
          "2012-04-01T00:00:00",
          "2012-05-01T00:00:00",
          "2012-06-01T00:00:00",
          "2012-07-01T00:00:00",
          "2012-08-01T00:00:00",
          "2012-09-01T00:00:00",
          "2012-10-01T00:00:00",
          "2012-11-01T00:00:00",
          "2012-12-01T00:00:00",
          "2013-01-01T00:00:00",
          "2013-02-01T00:00:00",
          "2013-03-01T00:00:00",
          "2013-04-01T00:00:00",
          "2013-05-01T00:00:00",
          "2013-06-01T00:00:00",
          "2013-07-01T00:00:00",
          "2013-08-01T00:00:00",
          "2013-09-01T00:00:00",
          "2013-10-01T00:00:00",
          "2013-11-01T00:00:00",
          "2013-12-01T00:00:00",
          "2014-01-01T00:00:00",
          "2014-02-01T00:00:00",
          "2014-03-01T00:00:00",
          "2014-04-01T00:00:00",
          "2014-05-01T00:00:00",
          "2014-06-01T00:00:00",
          "2014-07-01T00:00:00",
          "2014-08-01T00:00:00",
          "2014-09-01T00:00:00",
          "2014-10-01T00:00:00",
          "2014-11-01T00:00:00",
          "2014-12-01T00:00:00",
          "2015-01-01T00:00:00",
          "2015-02-01T00:00:00",
          "2015-03-01T00:00:00",
          "2015-04-01T00:00:00",
          "2015-05-01T00:00:00",
          "2015-06-01T00:00:00",
          "2015-07-01T00:00:00",
          "2015-08-01T00:00:00",
          "2015-09-01T00:00:00",
          "2015-10-01T00:00:00",
          "2015-11-01T00:00:00",
          "2015-12-01T00:00:00",
          "2016-01-01T00:00:00",
          "2016-02-01T00:00:00",
          "2016-03-01T00:00:00",
          "2016-04-01T00:00:00",
          "2016-05-01T00:00:00",
          "2016-06-01T00:00:00",
          "2016-07-01T00:00:00",
          "2016-08-01T00:00:00",
          "2016-09-01T00:00:00",
          "2016-10-01T00:00:00",
          "2016-11-01T00:00:00",
          "2016-12-01T00:00:00",
          "2017-01-01T00:00:00",
          "2017-02-01T00:00:00",
          "2017-03-01T00:00:00",
          "2017-04-01T00:00:00",
          "2017-05-01T00:00:00",
          "2017-06-01T00:00:00",
          "2017-07-01T00:00:00",
          "2017-08-01T00:00:00",
          "2017-09-01T00:00:00",
          "2017-10-01T00:00:00",
          "2017-11-01T00:00:00",
          "2017-12-01T00:00:00"
         ],
         "xaxis": "x",
         "y": [
          4506546,
          1815271,
          6067167,
          6864440,
          7470130,
          7361941,
          1759452,
          5992025,
          3788942,
          3788949,
          3897905,
          1576751,
          1461121,
          4601598,
          6787391,
          5574889,
          7051829,
          6854083,
          7309199,
          5393471,
          5216389,
          1326445,
          4442654,
          3887961,
          4765924,
          4899463,
          7932387,
          8240399,
          9080801,
          10418215,
          8297261,
          7272871,
          6437916,
          9244763,
          7727370,
          6540100,
          6059066,
          7617974,
          10736471,
          9942341,
          10076039,
          10603566,
          9514024,
          7575266,
          7462299,
          7238838,
          8455615,
          11606511,
          9562820,
          1366949,
          10288665,
          11641934,
          12583340,
          12720422,
          12188084,
          10374025,
          10180667,
          9505007,
          10621547,
          7808600,
          9164708,
          9456485,
          9754327,
          9791137,
          10286943,
          12319034,
          11044977,
          1670049,
          2339398,
          1681113,
          1440544,
          2129685,
          1890937,
          1733845,
          3719722,
          2167689,
          2173226,
          2894437,
          2423064,
          1835895,
          4289504,
          1899541,
          1492949,
          284055954,
          1899000,
          1754927,
          3743541,
          2184404,
          2188410,
          2991932,
          2352314,
          1807220,
          4335014,
          1826524,
          1360528,
          284114545,
          145761,
          117249,
          452882,
          78105,
          66909,
          324830,
          175278,
          178127,
          341114,
          61685,
          48846,
          218904,
          43972,
          55754,
          157263,
          151966,
          147645,
          251754,
          136540,
          157967,
          273705,
          52286,
          150955,
          1453024
         ],
         "yaxis": "y"
        },
        {
         "alignmentgroup": "True",
         "hovertemplate": "type=Hops (used as extracts)<br>date=%{x}<br>month_current=%{y}<extra></extra>",
         "legendgroup": "Hops (used as extracts)",
         "marker": {
          "color": "#B6E880",
          "pattern": {
           "shape": ""
          }
         },
         "name": "Hops (used as extracts)",
         "offsetgroup": "Hops (used as extracts)",
         "orientation": "v",
         "showlegend": true,
         "textposition": "auto",
         "type": "bar",
         "x": [
          "2008-01-01T00:00:00",
          "2008-02-01T00:00:00",
          "2008-03-01T00:00:00",
          "2008-04-01T00:00:00",
          "2008-05-01T00:00:00",
          "2008-06-01T00:00:00",
          "2008-07-01T00:00:00",
          "2008-08-01T00:00:00",
          "2008-09-01T00:00:00",
          "2008-10-01T00:00:00",
          "2008-11-01T00:00:00",
          "2008-12-01T00:00:00",
          "2009-01-01T00:00:00",
          "2009-02-01T00:00:00",
          "2009-03-01T00:00:00",
          "2009-04-01T00:00:00",
          "2009-05-01T00:00:00",
          "2009-06-01T00:00:00",
          "2009-07-01T00:00:00",
          "2009-08-01T00:00:00",
          "2009-09-01T00:00:00",
          "2009-10-01T00:00:00",
          "2009-11-01T00:00:00",
          "2009-12-01T00:00:00",
          "2010-01-01T00:00:00",
          "2010-02-01T00:00:00",
          "2010-03-01T00:00:00",
          "2010-04-01T00:00:00",
          "2010-05-01T00:00:00",
          "2010-06-01T00:00:00",
          "2010-07-01T00:00:00",
          "2010-08-01T00:00:00",
          "2010-09-01T00:00:00",
          "2010-10-01T00:00:00",
          "2010-11-01T00:00:00",
          "2010-12-01T00:00:00",
          "2011-01-01T00:00:00",
          "2011-02-01T00:00:00",
          "2011-03-01T00:00:00",
          "2011-04-01T00:00:00",
          "2011-05-01T00:00:00",
          "2011-06-01T00:00:00",
          "2011-07-01T00:00:00",
          "2011-08-01T00:00:00",
          "2011-09-01T00:00:00",
          "2011-10-01T00:00:00",
          "2011-11-01T00:00:00",
          "2011-12-01T00:00:00",
          "2012-01-01T00:00:00",
          "2012-02-01T00:00:00",
          "2012-03-01T00:00:00",
          "2012-04-01T00:00:00",
          "2012-05-01T00:00:00",
          "2012-06-01T00:00:00",
          "2012-07-01T00:00:00",
          "2012-08-01T00:00:00",
          "2012-09-01T00:00:00",
          "2012-10-01T00:00:00",
          "2012-11-01T00:00:00",
          "2012-12-01T00:00:00",
          "2013-01-01T00:00:00",
          "2013-02-01T00:00:00",
          "2013-03-01T00:00:00",
          "2013-04-01T00:00:00",
          "2013-05-01T00:00:00",
          "2013-06-01T00:00:00",
          "2013-07-01T00:00:00",
          "2013-08-01T00:00:00",
          "2013-09-01T00:00:00",
          "2013-10-01T00:00:00",
          "2013-11-01T00:00:00",
          "2013-12-01T00:00:00",
          "2014-01-01T00:00:00",
          "2014-02-01T00:00:00",
          "2014-03-01T00:00:00",
          "2014-04-01T00:00:00",
          "2014-05-01T00:00:00",
          "2014-06-01T00:00:00",
          "2014-07-01T00:00:00",
          "2014-08-01T00:00:00",
          "2014-09-01T00:00:00",
          "2014-10-01T00:00:00",
          "2014-11-01T00:00:00",
          "2014-12-01T00:00:00",
          "2015-01-01T00:00:00",
          "2015-02-01T00:00:00",
          "2015-03-01T00:00:00",
          "2015-04-01T00:00:00",
          "2015-05-01T00:00:00",
          "2015-06-01T00:00:00",
          "2015-07-01T00:00:00",
          "2015-08-01T00:00:00",
          "2015-09-01T00:00:00",
          "2015-10-01T00:00:00",
          "2015-11-01T00:00:00",
          "2015-12-01T00:00:00",
          "2016-01-01T00:00:00",
          "2016-02-01T00:00:00",
          "2016-03-01T00:00:00",
          "2016-04-01T00:00:00",
          "2016-05-01T00:00:00",
          "2016-06-01T00:00:00",
          "2016-07-01T00:00:00",
          "2016-08-01T00:00:00",
          "2016-09-01T00:00:00",
          "2016-10-01T00:00:00",
          "2016-11-01T00:00:00",
          "2016-12-01T00:00:00",
          "2017-01-01T00:00:00",
          "2017-02-01T00:00:00",
          "2017-03-01T00:00:00",
          "2017-04-01T00:00:00",
          "2017-05-01T00:00:00",
          "2017-06-01T00:00:00",
          "2017-07-01T00:00:00",
          "2017-08-01T00:00:00",
          "2017-09-01T00:00:00",
          "2017-10-01T00:00:00",
          "2017-11-01T00:00:00",
          "2017-12-01T00:00:00"
         ],
         "xaxis": "x",
         "y": [
          621912,
          476688,
          1195722,
          503072,
          545875,
          513130,
          508794,
          377424,
          337294,
          337430,
          329906,
          272045,
          324497,
          345975,
          382897,
          388369,
          450264,
          381321,
          359130,
          322875,
          305344,
          302264,
          289240,
          260877,
          271405,
          268589,
          320406,
          456519,
          396737,
          355258,
          369505,
          718808,
          300116,
          293914,
          281893,
          255382,
          296605,
          275963,
          350949,
          330339,
          438895,
          338467,
          333313,
          324190,
          298977,
          306588,
          290356,
          238892,
          293488,
          361152,
          335010,
          338454,
          346461,
          474060,
          391852,
          472469,
          301893,
          309173,
          303256,
          293877,
          323285,
          324126,
          372356,
          302532,
          323157,
          338940,
          345552,
          324649,
          310392,
          325023,
          282732,
          312373,
          298281,
          298524,
          351254,
          321444,
          345805,
          403502,
          339167,
          312437,
          341156,
          334633,
          262480,
          42981,
          298514,
          298894,
          321462,
          321444,
          345805,
          403948,
          339168,
          312425,
          339156,
          330925,
          258557,
          41207,
          8042,
          6093,
          6977,
          6071,
          1795,
          2901,
          1791,
          5131,
          2952,
          2122,
          5033,
          8997,
          6974,
          1690,
          2133,
          1614,
          1939,
          3152,
          1850,
          5922,
          237,
          82,
          1431,
          2117
         ],
         "yaxis": "y"
        },
        {
         "alignmentgroup": "True",
         "hovertemplate": "type=Other<br>date=%{x}<br>month_current=%{y}<extra></extra>",
         "legendgroup": "Other",
         "marker": {
          "color": "#FF97FF",
          "pattern": {
           "shape": ""
          }
         },
         "name": "Other",
         "offsetgroup": "Other",
         "orientation": "v",
         "showlegend": true,
         "textposition": "auto",
         "type": "bar",
         "x": [
          "2008-01-01T00:00:00",
          "2008-02-01T00:00:00",
          "2008-03-01T00:00:00",
          "2008-04-01T00:00:00",
          "2008-05-01T00:00:00",
          "2008-06-01T00:00:00",
          "2008-07-01T00:00:00",
          "2008-08-01T00:00:00",
          "2008-09-01T00:00:00",
          "2008-10-01T00:00:00",
          "2008-11-01T00:00:00",
          "2008-12-01T00:00:00",
          "2009-01-01T00:00:00",
          "2009-02-01T00:00:00",
          "2009-03-01T00:00:00",
          "2009-04-01T00:00:00",
          "2009-05-01T00:00:00",
          "2009-06-01T00:00:00",
          "2009-07-01T00:00:00",
          "2009-08-01T00:00:00",
          "2009-09-01T00:00:00",
          "2009-10-01T00:00:00",
          "2009-11-01T00:00:00",
          "2009-12-01T00:00:00",
          "2010-01-01T00:00:00",
          "2010-02-01T00:00:00",
          "2010-03-01T00:00:00",
          "2010-04-01T00:00:00",
          "2010-05-01T00:00:00",
          "2010-06-01T00:00:00",
          "2010-07-01T00:00:00",
          "2010-08-01T00:00:00",
          "2010-09-01T00:00:00",
          "2010-10-01T00:00:00",
          "2010-11-01T00:00:00",
          "2010-12-01T00:00:00",
          "2011-01-01T00:00:00",
          "2011-02-01T00:00:00",
          "2011-03-01T00:00:00",
          "2011-04-01T00:00:00",
          "2011-05-01T00:00:00",
          "2011-06-01T00:00:00",
          "2011-07-01T00:00:00",
          "2011-08-01T00:00:00",
          "2011-09-01T00:00:00",
          "2011-10-01T00:00:00",
          "2011-11-01T00:00:00",
          "2011-12-01T00:00:00",
          "2012-01-01T00:00:00",
          "2012-02-01T00:00:00",
          "2012-03-01T00:00:00",
          "2012-04-01T00:00:00",
          "2012-05-01T00:00:00",
          "2012-06-01T00:00:00",
          "2012-07-01T00:00:00",
          "2012-08-01T00:00:00",
          "2012-09-01T00:00:00",
          "2012-10-01T00:00:00",
          "2012-11-01T00:00:00",
          "2012-12-01T00:00:00",
          "2013-01-01T00:00:00",
          "2013-02-01T00:00:00",
          "2013-03-01T00:00:00",
          "2013-04-01T00:00:00",
          "2013-05-01T00:00:00",
          "2013-06-01T00:00:00",
          "2013-07-01T00:00:00",
          "2013-08-01T00:00:00",
          "2013-09-01T00:00:00",
          "2013-10-01T00:00:00",
          "2013-11-01T00:00:00",
          "2013-12-01T00:00:00",
          "2014-01-01T00:00:00",
          "2014-02-01T00:00:00",
          "2014-03-01T00:00:00",
          "2014-04-01T00:00:00",
          "2014-05-01T00:00:00",
          "2014-06-01T00:00:00",
          "2014-07-01T00:00:00",
          "2014-08-01T00:00:00",
          "2014-09-01T00:00:00",
          "2014-10-01T00:00:00",
          "2014-11-01T00:00:00",
          "2014-12-01T00:00:00",
          "2015-01-01T00:00:00",
          "2015-02-01T00:00:00",
          "2015-03-01T00:00:00",
          "2015-04-01T00:00:00",
          "2015-05-01T00:00:00",
          "2015-06-01T00:00:00",
          "2015-07-01T00:00:00",
          "2015-08-01T00:00:00",
          "2015-09-01T00:00:00",
          "2015-10-01T00:00:00",
          "2015-11-01T00:00:00",
          "2015-12-01T00:00:00",
          "2016-01-01T00:00:00",
          "2016-02-01T00:00:00",
          "2016-03-01T00:00:00",
          "2016-04-01T00:00:00",
          "2016-05-01T00:00:00",
          "2016-06-01T00:00:00",
          "2016-07-01T00:00:00",
          "2016-08-01T00:00:00",
          "2016-09-01T00:00:00",
          "2016-10-01T00:00:00",
          "2016-11-01T00:00:00",
          "2016-12-01T00:00:00",
          "2017-01-01T00:00:00",
          "2017-02-01T00:00:00",
          "2017-03-01T00:00:00",
          "2017-04-01T00:00:00",
          "2017-05-01T00:00:00",
          "2017-06-01T00:00:00",
          "2017-07-01T00:00:00",
          "2017-08-01T00:00:00",
          "2017-09-01T00:00:00",
          "2017-10-01T00:00:00",
          "2017-11-01T00:00:00",
          "2017-12-01T00:00:00"
         ],
         "xaxis": "x",
         "y": [
          1291615,
          1599119,
          2211210,
          1332607,
          1804156,
          2446573,
          1437970,
          1664171,
          1732698,
          1568462,
          1247790,
          1574456,
          1424001,
          939857,
          6604657,
          6169478,
          6915331,
          6216613,
          13368693,
          10315854,
          11250446,
          8944515,
          9915569,
          8051559,
          10537742,
          9022834,
          11678127,
          11213037,
          11525375,
          12877498,
          13378852,
          9572674,
          9180751,
          8888902,
          9117383,
          8217736,
          7972930,
          7997916,
          10489641,
          10127397,
          10565868,
          11982901,
          9659056,
          9175477,
          10334415,
          9544745,
          8504780,
          8090886,
          8994300,
          7134068,
          11713920,
          9872076,
          10260031,
          11784212,
          10558223,
          10626133,
          11155361,
          10274692,
          9681814,
          9358030,
          10673797,
          9279419,
          13802289,
          11928594,
          12546040,
          13473911,
          13505472,
          13373297,
          12336644,
          11808695,
          11793486,
          12527321,
          10970144,
          11645142,
          13362414,
          13188832,
          15253410,
          32242095,
          25013032,
          13675594,
          17318046,
          13016053,
          13116911,
          2442418,
          11573104,
          12263652,
          14164052,
          14074835,
          16048061,
          33086953,
          25049222,
          13967238,
          18361202,
          13718274,
          13861638,
          3237774,
          378366,
          446955,
          1372711,
          95756,
          88626,
          1395602,
          386932,
          70364,
          1106696,
          66207,
          55017,
          662408,
          477233,
          67903,
          583019,
          69748,
          74380,
          1223682,
          42006,
          30649,
          639700,
          75566,
          105394,
          657306
         ],
         "yaxis": "y"
        }
       ],
       "layout": {
        "barmode": "relative",
        "legend": {
         "title": {
          "text": "type"
         },
         "tracegroupgap": 0
        },
        "margin": {
         "t": 60
        },
        "template": {
         "data": {
          "bar": [
           {
            "error_x": {
             "color": "#2a3f5f"
            },
            "error_y": {
             "color": "#2a3f5f"
            },
            "marker": {
             "line": {
              "color": "#E5ECF6",
              "width": 0.5
             },
             "pattern": {
              "fillmode": "overlay",
              "size": 10,
              "solidity": 0.2
             }
            },
            "type": "bar"
           }
          ],
          "barpolar": [
           {
            "marker": {
             "line": {
              "color": "#E5ECF6",
              "width": 0.5
             },
             "pattern": {
              "fillmode": "overlay",
              "size": 10,
              "solidity": 0.2
             }
            },
            "type": "barpolar"
           }
          ],
          "carpet": [
           {
            "aaxis": {
             "endlinecolor": "#2a3f5f",
             "gridcolor": "white",
             "linecolor": "white",
             "minorgridcolor": "white",
             "startlinecolor": "#2a3f5f"
            },
            "baxis": {
             "endlinecolor": "#2a3f5f",
             "gridcolor": "white",
             "linecolor": "white",
             "minorgridcolor": "white",
             "startlinecolor": "#2a3f5f"
            },
            "type": "carpet"
           }
          ],
          "choropleth": [
           {
            "colorbar": {
             "outlinewidth": 0,
             "ticks": ""
            },
            "type": "choropleth"
           }
          ],
          "contour": [
           {
            "colorbar": {
             "outlinewidth": 0,
             "ticks": ""
            },
            "colorscale": [
             [
              0,
              "#0d0887"
             ],
             [
              0.1111111111111111,
              "#46039f"
             ],
             [
              0.2222222222222222,
              "#7201a8"
             ],
             [
              0.3333333333333333,
              "#9c179e"
             ],
             [
              0.4444444444444444,
              "#bd3786"
             ],
             [
              0.5555555555555556,
              "#d8576b"
             ],
             [
              0.6666666666666666,
              "#ed7953"
             ],
             [
              0.7777777777777778,
              "#fb9f3a"
             ],
             [
              0.8888888888888888,
              "#fdca26"
             ],
             [
              1,
              "#f0f921"
             ]
            ],
            "type": "contour"
           }
          ],
          "contourcarpet": [
           {
            "colorbar": {
             "outlinewidth": 0,
             "ticks": ""
            },
            "type": "contourcarpet"
           }
          ],
          "heatmap": [
           {
            "colorbar": {
             "outlinewidth": 0,
             "ticks": ""
            },
            "colorscale": [
             [
              0,
              "#0d0887"
             ],
             [
              0.1111111111111111,
              "#46039f"
             ],
             [
              0.2222222222222222,
              "#7201a8"
             ],
             [
              0.3333333333333333,
              "#9c179e"
             ],
             [
              0.4444444444444444,
              "#bd3786"
             ],
             [
              0.5555555555555556,
              "#d8576b"
             ],
             [
              0.6666666666666666,
              "#ed7953"
             ],
             [
              0.7777777777777778,
              "#fb9f3a"
             ],
             [
              0.8888888888888888,
              "#fdca26"
             ],
             [
              1,
              "#f0f921"
             ]
            ],
            "type": "heatmap"
           }
          ],
          "heatmapgl": [
           {
            "colorbar": {
             "outlinewidth": 0,
             "ticks": ""
            },
            "colorscale": [
             [
              0,
              "#0d0887"
             ],
             [
              0.1111111111111111,
              "#46039f"
             ],
             [
              0.2222222222222222,
              "#7201a8"
             ],
             [
              0.3333333333333333,
              "#9c179e"
             ],
             [
              0.4444444444444444,
              "#bd3786"
             ],
             [
              0.5555555555555556,
              "#d8576b"
             ],
             [
              0.6666666666666666,
              "#ed7953"
             ],
             [
              0.7777777777777778,
              "#fb9f3a"
             ],
             [
              0.8888888888888888,
              "#fdca26"
             ],
             [
              1,
              "#f0f921"
             ]
            ],
            "type": "heatmapgl"
           }
          ],
          "histogram": [
           {
            "marker": {
             "pattern": {
              "fillmode": "overlay",
              "size": 10,
              "solidity": 0.2
             }
            },
            "type": "histogram"
           }
          ],
          "histogram2d": [
           {
            "colorbar": {
             "outlinewidth": 0,
             "ticks": ""
            },
            "colorscale": [
             [
              0,
              "#0d0887"
             ],
             [
              0.1111111111111111,
              "#46039f"
             ],
             [
              0.2222222222222222,
              "#7201a8"
             ],
             [
              0.3333333333333333,
              "#9c179e"
             ],
             [
              0.4444444444444444,
              "#bd3786"
             ],
             [
              0.5555555555555556,
              "#d8576b"
             ],
             [
              0.6666666666666666,
              "#ed7953"
             ],
             [
              0.7777777777777778,
              "#fb9f3a"
             ],
             [
              0.8888888888888888,
              "#fdca26"
             ],
             [
              1,
              "#f0f921"
             ]
            ],
            "type": "histogram2d"
           }
          ],
          "histogram2dcontour": [
           {
            "colorbar": {
             "outlinewidth": 0,
             "ticks": ""
            },
            "colorscale": [
             [
              0,
              "#0d0887"
             ],
             [
              0.1111111111111111,
              "#46039f"
             ],
             [
              0.2222222222222222,
              "#7201a8"
             ],
             [
              0.3333333333333333,
              "#9c179e"
             ],
             [
              0.4444444444444444,
              "#bd3786"
             ],
             [
              0.5555555555555556,
              "#d8576b"
             ],
             [
              0.6666666666666666,
              "#ed7953"
             ],
             [
              0.7777777777777778,
              "#fb9f3a"
             ],
             [
              0.8888888888888888,
              "#fdca26"
             ],
             [
              1,
              "#f0f921"
             ]
            ],
            "type": "histogram2dcontour"
           }
          ],
          "mesh3d": [
           {
            "colorbar": {
             "outlinewidth": 0,
             "ticks": ""
            },
            "type": "mesh3d"
           }
          ],
          "parcoords": [
           {
            "line": {
             "colorbar": {
              "outlinewidth": 0,
              "ticks": ""
             }
            },
            "type": "parcoords"
           }
          ],
          "pie": [
           {
            "automargin": true,
            "type": "pie"
           }
          ],
          "scatter": [
           {
            "fillpattern": {
             "fillmode": "overlay",
             "size": 10,
             "solidity": 0.2
            },
            "type": "scatter"
           }
          ],
          "scatter3d": [
           {
            "line": {
             "colorbar": {
              "outlinewidth": 0,
              "ticks": ""
             }
            },
            "marker": {
             "colorbar": {
              "outlinewidth": 0,
              "ticks": ""
             }
            },
            "type": "scatter3d"
           }
          ],
          "scattercarpet": [
           {
            "marker": {
             "colorbar": {
              "outlinewidth": 0,
              "ticks": ""
             }
            },
            "type": "scattercarpet"
           }
          ],
          "scattergeo": [
           {
            "marker": {
             "colorbar": {
              "outlinewidth": 0,
              "ticks": ""
             }
            },
            "type": "scattergeo"
           }
          ],
          "scattergl": [
           {
            "marker": {
             "colorbar": {
              "outlinewidth": 0,
              "ticks": ""
             }
            },
            "type": "scattergl"
           }
          ],
          "scattermapbox": [
           {
            "marker": {
             "colorbar": {
              "outlinewidth": 0,
              "ticks": ""
             }
            },
            "type": "scattermapbox"
           }
          ],
          "scatterpolar": [
           {
            "marker": {
             "colorbar": {
              "outlinewidth": 0,
              "ticks": ""
             }
            },
            "type": "scatterpolar"
           }
          ],
          "scatterpolargl": [
           {
            "marker": {
             "colorbar": {
              "outlinewidth": 0,
              "ticks": ""
             }
            },
            "type": "scatterpolargl"
           }
          ],
          "scatterternary": [
           {
            "marker": {
             "colorbar": {
              "outlinewidth": 0,
              "ticks": ""
             }
            },
            "type": "scatterternary"
           }
          ],
          "surface": [
           {
            "colorbar": {
             "outlinewidth": 0,
             "ticks": ""
            },
            "colorscale": [
             [
              0,
              "#0d0887"
             ],
             [
              0.1111111111111111,
              "#46039f"
             ],
             [
              0.2222222222222222,
              "#7201a8"
             ],
             [
              0.3333333333333333,
              "#9c179e"
             ],
             [
              0.4444444444444444,
              "#bd3786"
             ],
             [
              0.5555555555555556,
              "#d8576b"
             ],
             [
              0.6666666666666666,
              "#ed7953"
             ],
             [
              0.7777777777777778,
              "#fb9f3a"
             ],
             [
              0.8888888888888888,
              "#fdca26"
             ],
             [
              1,
              "#f0f921"
             ]
            ],
            "type": "surface"
           }
          ],
          "table": [
           {
            "cells": {
             "fill": {
              "color": "#EBF0F8"
             },
             "line": {
              "color": "white"
             }
            },
            "header": {
             "fill": {
              "color": "#C8D4E3"
             },
             "line": {
              "color": "white"
             }
            },
            "type": "table"
           }
          ]
         },
         "layout": {
          "annotationdefaults": {
           "arrowcolor": "#2a3f5f",
           "arrowhead": 0,
           "arrowwidth": 1
          },
          "autotypenumbers": "strict",
          "coloraxis": {
           "colorbar": {
            "outlinewidth": 0,
            "ticks": ""
           }
          },
          "colorscale": {
           "diverging": [
            [
             0,
             "#8e0152"
            ],
            [
             0.1,
             "#c51b7d"
            ],
            [
             0.2,
             "#de77ae"
            ],
            [
             0.3,
             "#f1b6da"
            ],
            [
             0.4,
             "#fde0ef"
            ],
            [
             0.5,
             "#f7f7f7"
            ],
            [
             0.6,
             "#e6f5d0"
            ],
            [
             0.7,
             "#b8e186"
            ],
            [
             0.8,
             "#7fbc41"
            ],
            [
             0.9,
             "#4d9221"
            ],
            [
             1,
             "#276419"
            ]
           ],
           "sequential": [
            [
             0,
             "#0d0887"
            ],
            [
             0.1111111111111111,
             "#46039f"
            ],
            [
             0.2222222222222222,
             "#7201a8"
            ],
            [
             0.3333333333333333,
             "#9c179e"
            ],
            [
             0.4444444444444444,
             "#bd3786"
            ],
            [
             0.5555555555555556,
             "#d8576b"
            ],
            [
             0.6666666666666666,
             "#ed7953"
            ],
            [
             0.7777777777777778,
             "#fb9f3a"
            ],
            [
             0.8888888888888888,
             "#fdca26"
            ],
            [
             1,
             "#f0f921"
            ]
           ],
           "sequentialminus": [
            [
             0,
             "#0d0887"
            ],
            [
             0.1111111111111111,
             "#46039f"
            ],
            [
             0.2222222222222222,
             "#7201a8"
            ],
            [
             0.3333333333333333,
             "#9c179e"
            ],
            [
             0.4444444444444444,
             "#bd3786"
            ],
            [
             0.5555555555555556,
             "#d8576b"
            ],
            [
             0.6666666666666666,
             "#ed7953"
            ],
            [
             0.7777777777777778,
             "#fb9f3a"
            ],
            [
             0.8888888888888888,
             "#fdca26"
            ],
            [
             1,
             "#f0f921"
            ]
           ]
          },
          "colorway": [
           "#636efa",
           "#EF553B",
           "#00cc96",
           "#ab63fa",
           "#FFA15A",
           "#19d3f3",
           "#FF6692",
           "#B6E880",
           "#FF97FF",
           "#FECB52"
          ],
          "font": {
           "color": "#2a3f5f"
          },
          "geo": {
           "bgcolor": "white",
           "lakecolor": "white",
           "landcolor": "#E5ECF6",
           "showlakes": true,
           "showland": true,
           "subunitcolor": "white"
          },
          "hoverlabel": {
           "align": "left"
          },
          "hovermode": "closest",
          "mapbox": {
           "style": "light"
          },
          "paper_bgcolor": "white",
          "plot_bgcolor": "#E5ECF6",
          "polar": {
           "angularaxis": {
            "gridcolor": "white",
            "linecolor": "white",
            "ticks": ""
           },
           "bgcolor": "#E5ECF6",
           "radialaxis": {
            "gridcolor": "white",
            "linecolor": "white",
            "ticks": ""
           }
          },
          "scene": {
           "xaxis": {
            "backgroundcolor": "#E5ECF6",
            "gridcolor": "white",
            "gridwidth": 2,
            "linecolor": "white",
            "showbackground": true,
            "ticks": "",
            "zerolinecolor": "white"
           },
           "yaxis": {
            "backgroundcolor": "#E5ECF6",
            "gridcolor": "white",
            "gridwidth": 2,
            "linecolor": "white",
            "showbackground": true,
            "ticks": "",
            "zerolinecolor": "white"
           },
           "zaxis": {
            "backgroundcolor": "#E5ECF6",
            "gridcolor": "white",
            "gridwidth": 2,
            "linecolor": "white",
            "showbackground": true,
            "ticks": "",
            "zerolinecolor": "white"
           }
          },
          "shapedefaults": {
           "line": {
            "color": "#2a3f5f"
           }
          },
          "ternary": {
           "aaxis": {
            "gridcolor": "white",
            "linecolor": "white",
            "ticks": ""
           },
           "baxis": {
            "gridcolor": "white",
            "linecolor": "white",
            "ticks": ""
           },
           "bgcolor": "#E5ECF6",
           "caxis": {
            "gridcolor": "white",
            "linecolor": "white",
            "ticks": ""
           }
          },
          "title": {
           "x": 0.05
          },
          "xaxis": {
           "automargin": true,
           "gridcolor": "white",
           "linecolor": "white",
           "ticks": "",
           "title": {
            "standoff": 15
           },
           "zerolinecolor": "white",
           "zerolinewidth": 2
          },
          "yaxis": {
           "automargin": true,
           "gridcolor": "white",
           "linecolor": "white",
           "ticks": "",
           "title": {
            "standoff": 15
           },
           "zerolinecolor": "white",
           "zerolinewidth": 2
          }
         }
        },
        "xaxis": {
         "anchor": "y",
         "domain": [
          0,
          1
         ],
         "title": {
          "text": "date"
         }
        },
        "yaxis": {
         "anchor": "x",
         "domain": [
          0,
          1
         ],
         "title": {
          "text": "month_current"
         }
        }
       }
      },
      "text/html": [
       "<div>                            <div id=\"eae7a5d1-19c8-4085-aef0-cfc8b6efaa2e\" class=\"plotly-graph-div\" style=\"height:525px; width:100%;\"></div>            <script type=\"text/javascript\">                require([\"plotly\"], function(Plotly) {                    window.PLOTLYENV=window.PLOTLYENV || {};                                    if (document.getElementById(\"eae7a5d1-19c8-4085-aef0-cfc8b6efaa2e\")) {                    Plotly.newPlot(                        \"eae7a5d1-19c8-4085-aef0-cfc8b6efaa2e\",                        [{\"alignmentgroup\":\"True\",\"hovertemplate\":\"type=Malt and malt products<br>date=%{x}<br>month_current=%{y}<extra></extra>\",\"legendgroup\":\"Malt and malt products\",\"marker\":{\"color\":\"#636efa\",\"pattern\":{\"shape\":\"\"}},\"name\":\"Malt and malt products\",\"offsetgroup\":\"Malt and malt products\",\"orientation\":\"v\",\"showlegend\":true,\"textposition\":\"auto\",\"x\":[\"2008-01-01T00:00:00\",\"2008-02-01T00:00:00\",\"2008-03-01T00:00:00\",\"2008-04-01T00:00:00\",\"2008-05-01T00:00:00\",\"2008-06-01T00:00:00\",\"2008-07-01T00:00:00\",\"2008-08-01T00:00:00\",\"2008-09-01T00:00:00\",\"2008-10-01T00:00:00\",\"2008-11-01T00:00:00\",\"2008-12-01T00:00:00\",\"2009-01-01T00:00:00\",\"2009-02-01T00:00:00\",\"2009-03-01T00:00:00\",\"2009-04-01T00:00:00\",\"2009-05-01T00:00:00\",\"2009-06-01T00:00:00\",\"2009-07-01T00:00:00\",\"2009-08-01T00:00:00\",\"2009-09-01T00:00:00\",\"2009-10-01T00:00:00\",\"2009-11-01T00:00:00\",\"2009-12-01T00:00:00\",\"2010-01-01T00:00:00\",\"2010-02-01T00:00:00\",\"2010-03-01T00:00:00\",\"2010-04-01T00:00:00\",\"2010-05-01T00:00:00\",\"2010-06-01T00:00:00\",\"2010-07-01T00:00:00\",\"2010-08-01T00:00:00\",\"2010-09-01T00:00:00\",\"2010-10-01T00:00:00\",\"2010-11-01T00:00:00\",\"2010-12-01T00:00:00\",\"2011-01-01T00:00:00\",\"2011-02-01T00:00:00\",\"2011-03-01T00:00:00\",\"2011-04-01T00:00:00\",\"2011-05-01T00:00:00\",\"2011-06-01T00:00:00\",\"2011-07-01T00:00:00\",\"2011-08-01T00:00:00\",\"2011-09-01T00:00:00\",\"2011-10-01T00:00:00\",\"2011-11-01T00:00:00\",\"2011-12-01T00:00:00\",\"2012-01-01T00:00:00\",\"2012-02-01T00:00:00\",\"2012-03-01T00:00:00\",\"2012-04-01T00:00:00\",\"2012-05-01T00:00:00\",\"2012-06-01T00:00:00\",\"2012-07-01T00:00:00\",\"2012-08-01T00:00:00\",\"2012-09-01T00:00:00\",\"2012-10-01T00:00:00\",\"2012-11-01T00:00:00\",\"2012-12-01T00:00:00\",\"2013-01-01T00:00:00\",\"2013-02-01T00:00:00\",\"2013-03-01T00:00:00\",\"2013-04-01T00:00:00\",\"2013-05-01T00:00:00\",\"2013-06-01T00:00:00\",\"2013-07-01T00:00:00\",\"2013-08-01T00:00:00\",\"2013-09-01T00:00:00\",\"2013-10-01T00:00:00\",\"2013-11-01T00:00:00\",\"2013-12-01T00:00:00\",\"2014-01-01T00:00:00\",\"2014-02-01T00:00:00\",\"2014-03-01T00:00:00\",\"2014-04-01T00:00:00\",\"2014-05-01T00:00:00\",\"2014-06-01T00:00:00\",\"2014-07-01T00:00:00\",\"2014-08-01T00:00:00\",\"2014-09-01T00:00:00\",\"2014-10-01T00:00:00\",\"2014-11-01T00:00:00\",\"2014-12-01T00:00:00\",\"2015-01-01T00:00:00\",\"2015-02-01T00:00:00\",\"2015-03-01T00:00:00\",\"2015-04-01T00:00:00\",\"2015-05-01T00:00:00\",\"2015-06-01T00:00:00\",\"2015-07-01T00:00:00\",\"2015-08-01T00:00:00\",\"2015-09-01T00:00:00\",\"2015-10-01T00:00:00\",\"2015-11-01T00:00:00\",\"2015-12-01T00:00:00\",\"2016-01-01T00:00:00\",\"2016-02-01T00:00:00\",\"2016-03-01T00:00:00\",\"2016-04-01T00:00:00\",\"2016-05-01T00:00:00\",\"2016-06-01T00:00:00\",\"2016-07-01T00:00:00\",\"2016-08-01T00:00:00\",\"2016-09-01T00:00:00\",\"2016-10-01T00:00:00\",\"2016-11-01T00:00:00\",\"2016-12-01T00:00:00\",\"2017-01-01T00:00:00\",\"2017-02-01T00:00:00\",\"2017-03-01T00:00:00\",\"2017-04-01T00:00:00\",\"2017-05-01T00:00:00\",\"2017-06-01T00:00:00\",\"2017-07-01T00:00:00\",\"2017-08-01T00:00:00\",\"2017-09-01T00:00:00\",\"2017-10-01T00:00:00\",\"2017-11-01T00:00:00\",\"2017-12-01T00:00:00\"],\"xaxis\":\"x\",\"y\":[374165152,355687578,399855819,388639443,411307544,415161326,405393784,389391266,362587470,353803777,322733711,318741733,361377478,339472713,380133298,384396702,391469434,381247341,382672919,362521445,370369895,333286901,309688888,302237874,330304432,305543380,366733254,374018118,399504457,380521275,384726834,358726926,329671455,333230020,298251207,285382073,322480722,307076591,363234183,349781343,352623620,372541998,350751002,361924350,312845217,313380880,303152329,293640890,315214803,320430694,366122047,357106000,373071360,387306474,363222892,362799587,336789908,321542825,295672895,299861553,326450615,311283986,340319408,334351807,353589770,370101067,367999200,339968116,303711377,321371392,275715285,294248188,315728713,293750079,335350528,314317091,332831907,382399712,370565836,342497886,346653525,329412159,272737485,153777615,314189672,292567431,319448327,310767436,332384559,383818029,351222725,326075404,328674963,305864536,248702560,155495923,13269843,11593322,16110664,10396531,9714394,14335998,10855750,10454205,13362702,9801457,9290949,11827661,8435064,2746382,11015402,8777098,10242822,12936288,8321067,8784839,11745875,8675502,8092727,12651943],\"yaxis\":\"y\",\"type\":\"bar\"},{\"alignmentgroup\":\"True\",\"hovertemplate\":\"type=Corn and corn products<br>date=%{x}<br>month_current=%{y}<extra></extra>\",\"legendgroup\":\"Corn and corn products\",\"marker\":{\"color\":\"#EF553B\",\"pattern\":{\"shape\":\"\"}},\"name\":\"Corn and corn products\",\"offsetgroup\":\"Corn and corn products\",\"orientation\":\"v\",\"showlegend\":true,\"textposition\":\"auto\",\"x\":[\"2008-01-01T00:00:00\",\"2008-02-01T00:00:00\",\"2008-03-01T00:00:00\",\"2008-04-01T00:00:00\",\"2008-05-01T00:00:00\",\"2008-06-01T00:00:00\",\"2008-07-01T00:00:00\",\"2008-08-01T00:00:00\",\"2008-09-01T00:00:00\",\"2008-10-01T00:00:00\",\"2008-11-01T00:00:00\",\"2008-12-01T00:00:00\",\"2009-01-01T00:00:00\",\"2009-02-01T00:00:00\",\"2009-03-01T00:00:00\",\"2009-04-01T00:00:00\",\"2009-05-01T00:00:00\",\"2009-06-01T00:00:00\",\"2009-07-01T00:00:00\",\"2009-08-01T00:00:00\",\"2009-09-01T00:00:00\",\"2009-10-01T00:00:00\",\"2009-11-01T00:00:00\",\"2009-12-01T00:00:00\",\"2010-01-01T00:00:00\",\"2010-02-01T00:00:00\",\"2010-03-01T00:00:00\",\"2010-04-01T00:00:00\",\"2010-05-01T00:00:00\",\"2010-06-01T00:00:00\",\"2010-07-01T00:00:00\",\"2010-08-01T00:00:00\",\"2010-09-01T00:00:00\",\"2010-10-01T00:00:00\",\"2010-11-01T00:00:00\",\"2010-12-01T00:00:00\",\"2011-01-01T00:00:00\",\"2011-02-01T00:00:00\",\"2011-03-01T00:00:00\",\"2011-04-01T00:00:00\",\"2011-05-01T00:00:00\",\"2011-06-01T00:00:00\",\"2011-07-01T00:00:00\",\"2011-08-01T00:00:00\",\"2011-09-01T00:00:00\",\"2011-10-01T00:00:00\",\"2011-11-01T00:00:00\",\"2011-12-01T00:00:00\",\"2012-01-01T00:00:00\",\"2012-02-01T00:00:00\",\"2012-03-01T00:00:00\",\"2012-04-01T00:00:00\",\"2012-05-01T00:00:00\",\"2012-06-01T00:00:00\",\"2012-07-01T00:00:00\",\"2012-08-01T00:00:00\",\"2012-09-01T00:00:00\",\"2012-10-01T00:00:00\",\"2012-11-01T00:00:00\",\"2012-12-01T00:00:00\",\"2013-01-01T00:00:00\",\"2013-02-01T00:00:00\",\"2013-03-01T00:00:00\",\"2013-04-01T00:00:00\",\"2013-05-01T00:00:00\",\"2013-06-01T00:00:00\",\"2013-07-01T00:00:00\",\"2013-08-01T00:00:00\",\"2013-09-01T00:00:00\",\"2013-10-01T00:00:00\",\"2013-11-01T00:00:00\",\"2013-12-01T00:00:00\",\"2014-01-01T00:00:00\",\"2014-02-01T00:00:00\",\"2014-03-01T00:00:00\",\"2014-04-01T00:00:00\",\"2014-05-01T00:00:00\",\"2014-06-01T00:00:00\",\"2014-07-01T00:00:00\",\"2014-08-01T00:00:00\",\"2014-09-01T00:00:00\",\"2014-10-01T00:00:00\",\"2014-11-01T00:00:00\",\"2014-12-01T00:00:00\",\"2015-01-01T00:00:00\",\"2015-02-01T00:00:00\",\"2015-03-01T00:00:00\",\"2015-04-01T00:00:00\",\"2015-05-01T00:00:00\",\"2015-06-01T00:00:00\",\"2015-07-01T00:00:00\",\"2015-08-01T00:00:00\",\"2015-09-01T00:00:00\",\"2015-10-01T00:00:00\",\"2015-11-01T00:00:00\",\"2015-12-01T00:00:00\",\"2016-01-01T00:00:00\",\"2016-02-01T00:00:00\",\"2016-03-01T00:00:00\",\"2016-04-01T00:00:00\",\"2016-05-01T00:00:00\",\"2016-06-01T00:00:00\",\"2016-07-01T00:00:00\",\"2016-08-01T00:00:00\",\"2016-09-01T00:00:00\",\"2016-10-01T00:00:00\",\"2016-11-01T00:00:00\",\"2016-12-01T00:00:00\",\"2017-01-01T00:00:00\",\"2017-02-01T00:00:00\",\"2017-03-01T00:00:00\",\"2017-04-01T00:00:00\",\"2017-05-01T00:00:00\",\"2017-06-01T00:00:00\",\"2017-07-01T00:00:00\",\"2017-08-01T00:00:00\",\"2017-09-01T00:00:00\",\"2017-10-01T00:00:00\",\"2017-11-01T00:00:00\",\"2017-12-01T00:00:00\"],\"xaxis\":\"x\",\"y\":[57563519,59513161,60800221,61555980,63945802,65645480,66406321,64953210,59787127,63047343,53628776,49919452,63115693,60966715,66543131,67266636,62481084,62107546,68510353,57684547,54632420,55590153,47018983,45851254,56705162,54486996,60991969,61273430,62684555,60811086,58694301,60424525,77399155,51427974,47348859,48503335,58632672,53981943,61094976,58628353,50573951,49399750,47864835,49085339,47180399,48090884,53879230,50507994,61859978,62631394,62376094,61313630,66220273,63113188,62878256,53320491,50320517,50852126,44981825,43809820,50597106,46499056,47314812,46416330,53185970,53527463,49297406,50568490,51834721,53528251,41543251,48242094,60186876,49718568,53923554,51063013,59741914,59290119,47760795,49539298,46554596,46194312,38032693,30884481,59759340,49291032,53588473,50651219,59463385,58932810,47503607,49124855,41626738,41417962,31612117,27270242,63293,44157,7456,275,500,8684,345,205,10236,0,150,16200,0,350,6481,10660,1642,4584,125,225,9543,125,275,2777],\"yaxis\":\"y\",\"type\":\"bar\"},{\"alignmentgroup\":\"True\",\"hovertemplate\":\"type=Rice and rice products<br>date=%{x}<br>month_current=%{y}<extra></extra>\",\"legendgroup\":\"Rice and rice products\",\"marker\":{\"color\":\"#00cc96\",\"pattern\":{\"shape\":\"\"}},\"name\":\"Rice and rice products\",\"offsetgroup\":\"Rice and rice products\",\"orientation\":\"v\",\"showlegend\":true,\"textposition\":\"auto\",\"x\":[\"2008-01-01T00:00:00\",\"2008-02-01T00:00:00\",\"2008-03-01T00:00:00\",\"2008-04-01T00:00:00\",\"2008-05-01T00:00:00\",\"2008-06-01T00:00:00\",\"2008-07-01T00:00:00\",\"2008-08-01T00:00:00\",\"2008-09-01T00:00:00\",\"2008-10-01T00:00:00\",\"2008-11-01T00:00:00\",\"2008-12-01T00:00:00\",\"2009-01-01T00:00:00\",\"2009-02-01T00:00:00\",\"2009-03-01T00:00:00\",\"2009-04-01T00:00:00\",\"2009-05-01T00:00:00\",\"2009-06-01T00:00:00\",\"2009-07-01T00:00:00\",\"2009-08-01T00:00:00\",\"2009-09-01T00:00:00\",\"2009-10-01T00:00:00\",\"2009-11-01T00:00:00\",\"2009-12-01T00:00:00\",\"2010-01-01T00:00:00\",\"2010-02-01T00:00:00\",\"2010-03-01T00:00:00\",\"2010-04-01T00:00:00\",\"2010-05-01T00:00:00\",\"2010-06-01T00:00:00\",\"2010-07-01T00:00:00\",\"2010-08-01T00:00:00\",\"2010-09-01T00:00:00\",\"2010-10-01T00:00:00\",\"2010-11-01T00:00:00\",\"2010-12-01T00:00:00\",\"2011-01-01T00:00:00\",\"2011-02-01T00:00:00\",\"2011-03-01T00:00:00\",\"2011-04-01T00:00:00\",\"2011-05-01T00:00:00\",\"2011-06-01T00:00:00\",\"2011-07-01T00:00:00\",\"2011-08-01T00:00:00\",\"2011-09-01T00:00:00\",\"2011-10-01T00:00:00\",\"2011-11-01T00:00:00\",\"2011-12-01T00:00:00\",\"2012-01-01T00:00:00\",\"2012-02-01T00:00:00\",\"2012-03-01T00:00:00\",\"2012-04-01T00:00:00\",\"2012-05-01T00:00:00\",\"2012-06-01T00:00:00\",\"2012-07-01T00:00:00\",\"2012-08-01T00:00:00\",\"2012-09-01T00:00:00\",\"2012-10-01T00:00:00\",\"2012-11-01T00:00:00\",\"2012-12-01T00:00:00\",\"2013-01-01T00:00:00\",\"2013-02-01T00:00:00\",\"2013-03-01T00:00:00\",\"2013-04-01T00:00:00\",\"2013-05-01T00:00:00\",\"2013-06-01T00:00:00\",\"2013-07-01T00:00:00\",\"2013-08-01T00:00:00\",\"2013-09-01T00:00:00\",\"2013-10-01T00:00:00\",\"2013-11-01T00:00:00\",\"2013-12-01T00:00:00\",\"2014-01-01T00:00:00\",\"2014-02-01T00:00:00\",\"2014-03-01T00:00:00\",\"2014-04-01T00:00:00\",\"2014-05-01T00:00:00\",\"2014-06-01T00:00:00\",\"2014-07-01T00:00:00\",\"2014-08-01T00:00:00\",\"2014-09-01T00:00:00\",\"2014-10-01T00:00:00\",\"2014-11-01T00:00:00\",\"2014-12-01T00:00:00\",\"2015-01-01T00:00:00\",\"2015-02-01T00:00:00\",\"2015-03-01T00:00:00\",\"2015-04-01T00:00:00\",\"2015-05-01T00:00:00\",\"2015-06-01T00:00:00\",\"2015-07-01T00:00:00\",\"2015-08-01T00:00:00\",\"2015-09-01T00:00:00\",\"2015-10-01T00:00:00\",\"2015-11-01T00:00:00\",\"2015-12-01T00:00:00\",\"2016-01-01T00:00:00\",\"2016-02-01T00:00:00\",\"2016-03-01T00:00:00\",\"2016-04-01T00:00:00\",\"2016-05-01T00:00:00\",\"2016-06-01T00:00:00\",\"2016-07-01T00:00:00\",\"2016-08-01T00:00:00\",\"2016-09-01T00:00:00\",\"2016-10-01T00:00:00\",\"2016-11-01T00:00:00\",\"2016-12-01T00:00:00\",\"2017-01-01T00:00:00\",\"2017-02-01T00:00:00\",\"2017-03-01T00:00:00\",\"2017-04-01T00:00:00\",\"2017-05-01T00:00:00\",\"2017-06-01T00:00:00\",\"2017-07-01T00:00:00\",\"2017-08-01T00:00:00\",\"2017-09-01T00:00:00\",\"2017-10-01T00:00:00\",\"2017-11-01T00:00:00\",\"2017-12-01T00:00:00\"],\"xaxis\":\"x\",\"y\":[72402143,66061597,72629666,73309991,76219021,71779022,74945452,70993476,61739894,58607059,53971515,61716256,59961083,60150183,64006735,63166930,67120251,64576127,63277242,61417028,57686245,55167784,50460060,51919861,59701345,55198940,59991160,59803024,69284131,66627541,68031711,63192375,54884345,55450803,53779401,47504543,108112318,54287863,62041512,53392697,62118962,69701464,69787950,72428017,55188865,50132872,43496310,46841203,63568058,54333308,59022797,57264320,61702673,59527958,60381322,65214228,62119884,59885904,61082730,51883289,62177066,61926310,62869950,63584763,65774053,64271218,76426446,66799703,53400257,54082902,44402687,47832575,52099471,48969378,48705125,55893495,59209512,47368927,64828200,58158328,56748056,54599783,47373098,44864070,52438465,48975137,48710754,55895095,59210512,47366346,64827600,58190840,48134917,45050667,38579400,36403087,245003,676833,793898,676607,648892,648601,889144,675382,759649,736241,724774,15038,10405,590680,819857,412657,1849,4901,1532,3212,3557,1160,1560,2472],\"yaxis\":\"y\",\"type\":\"bar\"},{\"alignmentgroup\":\"True\",\"hovertemplate\":\"type=Barley and barley products<br>date=%{x}<br>month_current=%{y}<extra></extra>\",\"legendgroup\":\"Barley and barley products\",\"marker\":{\"color\":\"#ab63fa\",\"pattern\":{\"shape\":\"\"}},\"name\":\"Barley and barley products\",\"offsetgroup\":\"Barley and barley products\",\"orientation\":\"v\",\"showlegend\":true,\"textposition\":\"auto\",\"x\":[\"2008-01-01T00:00:00\",\"2008-02-01T00:00:00\",\"2008-03-01T00:00:00\",\"2008-04-01T00:00:00\",\"2008-05-01T00:00:00\",\"2008-06-01T00:00:00\",\"2008-07-01T00:00:00\",\"2008-08-01T00:00:00\",\"2008-09-01T00:00:00\",\"2008-10-01T00:00:00\",\"2008-11-01T00:00:00\",\"2008-12-01T00:00:00\",\"2009-01-01T00:00:00\",\"2009-02-01T00:00:00\",\"2009-03-01T00:00:00\",\"2009-04-01T00:00:00\",\"2009-05-01T00:00:00\",\"2009-06-01T00:00:00\",\"2009-07-01T00:00:00\",\"2009-08-01T00:00:00\",\"2009-09-01T00:00:00\",\"2009-10-01T00:00:00\",\"2009-11-01T00:00:00\",\"2009-12-01T00:00:00\",\"2010-01-01T00:00:00\",\"2010-02-01T00:00:00\",\"2010-03-01T00:00:00\",\"2010-04-01T00:00:00\",\"2010-05-01T00:00:00\",\"2010-06-01T00:00:00\",\"2010-07-01T00:00:00\",\"2010-08-01T00:00:00\",\"2010-09-01T00:00:00\",\"2010-10-01T00:00:00\",\"2010-11-01T00:00:00\",\"2010-12-01T00:00:00\",\"2011-01-01T00:00:00\",\"2011-02-01T00:00:00\",\"2011-03-01T00:00:00\",\"2011-04-01T00:00:00\",\"2011-05-01T00:00:00\",\"2011-06-01T00:00:00\",\"2011-07-01T00:00:00\",\"2011-08-01T00:00:00\",\"2011-09-01T00:00:00\",\"2011-10-01T00:00:00\",\"2011-11-01T00:00:00\",\"2011-12-01T00:00:00\",\"2012-01-01T00:00:00\",\"2012-02-01T00:00:00\",\"2012-03-01T00:00:00\",\"2012-04-01T00:00:00\",\"2012-05-01T00:00:00\",\"2012-06-01T00:00:00\",\"2012-07-01T00:00:00\",\"2012-08-01T00:00:00\",\"2012-09-01T00:00:00\",\"2012-10-01T00:00:00\",\"2012-11-01T00:00:00\",\"2012-12-01T00:00:00\",\"2013-01-01T00:00:00\",\"2013-02-01T00:00:00\",\"2013-03-01T00:00:00\",\"2013-04-01T00:00:00\",\"2013-05-01T00:00:00\",\"2013-06-01T00:00:00\",\"2013-07-01T00:00:00\",\"2013-08-01T00:00:00\",\"2013-09-01T00:00:00\",\"2013-10-01T00:00:00\",\"2013-11-01T00:00:00\",\"2013-12-01T00:00:00\",\"2014-01-01T00:00:00\",\"2014-02-01T00:00:00\",\"2014-03-01T00:00:00\",\"2014-04-01T00:00:00\",\"2014-05-01T00:00:00\",\"2014-06-01T00:00:00\",\"2014-07-01T00:00:00\",\"2014-08-01T00:00:00\",\"2014-09-01T00:00:00\",\"2014-10-01T00:00:00\",\"2014-11-01T00:00:00\",\"2014-12-01T00:00:00\",\"2015-01-01T00:00:00\",\"2015-02-01T00:00:00\",\"2015-03-01T00:00:00\",\"2015-04-01T00:00:00\",\"2015-05-01T00:00:00\",\"2015-06-01T00:00:00\",\"2015-07-01T00:00:00\",\"2015-08-01T00:00:00\",\"2015-09-01T00:00:00\",\"2015-10-01T00:00:00\",\"2015-11-01T00:00:00\",\"2015-12-01T00:00:00\",\"2016-01-01T00:00:00\",\"2016-02-01T00:00:00\",\"2016-03-01T00:00:00\",\"2016-04-01T00:00:00\",\"2016-05-01T00:00:00\",\"2016-06-01T00:00:00\",\"2016-07-01T00:00:00\",\"2016-08-01T00:00:00\",\"2016-09-01T00:00:00\",\"2016-10-01T00:00:00\",\"2016-11-01T00:00:00\",\"2016-12-01T00:00:00\",\"2017-01-01T00:00:00\",\"2017-02-01T00:00:00\",\"2017-03-01T00:00:00\",\"2017-04-01T00:00:00\",\"2017-05-01T00:00:00\",\"2017-06-01T00:00:00\",\"2017-07-01T00:00:00\",\"2017-08-01T00:00:00\",\"2017-09-01T00:00:00\",\"2017-10-01T00:00:00\",\"2017-11-01T00:00:00\",\"2017-12-01T00:00:00\"],\"xaxis\":\"x\",\"y\":[3800844,3236714,6950276,3912088,3660048,7751285,3395619,3772040,8282404,3825118,3309266,6152633,2169601,3334476,7094005,3349556,3684818,8146509,4185235,3789027,8106300,3615556,3374449,7271474,3668374,3726630,10220654,5030962,4903020,11280602,5224206,5276045,14107767,6203762,5235825,12815197,4705175,4322047,11614373,4768751,5564462,10363329,6014579,6775228,32343039,6773403,5909830,11793946,5391781,5493934,15647530,7634002,7116069,17104839,9486054,8622164,16834020,9353404,7563555,14176754,7749970,7486134,15469983,8355161,9322039,18971859,9479272,10069803,19626718,10271881,7902110,19579344,8185386,8893650,20694786,10091164,11263219,23906204,11164504,10774103,25194159,14289508,10643784,9077439,8728262,9108543,22013439,9432668,11006146,24840171,11059580,11696242,26802044,13833433,8852396,11466970,1288972,710739,3944620,539712,418612,3380038,699997,310695,3451469,383392,182314,2446254,153874,157027,1773434,142779,183174,1333243,175807,178401,1685465,140920,133699,1093381],\"yaxis\":\"y\",\"type\":\"bar\"},{\"alignmentgroup\":\"True\",\"hovertemplate\":\"type=Wheat and wheat products<br>date=%{x}<br>month_current=%{y}<extra></extra>\",\"legendgroup\":\"Wheat and wheat products\",\"marker\":{\"color\":\"#FFA15A\",\"pattern\":{\"shape\":\"\"}},\"name\":\"Wheat and wheat products\",\"offsetgroup\":\"Wheat and wheat products\",\"orientation\":\"v\",\"showlegend\":true,\"textposition\":\"auto\",\"x\":[\"2008-01-01T00:00:00\",\"2008-02-01T00:00:00\",\"2008-03-01T00:00:00\",\"2008-04-01T00:00:00\",\"2008-05-01T00:00:00\",\"2008-06-01T00:00:00\",\"2008-07-01T00:00:00\",\"2008-08-01T00:00:00\",\"2008-09-01T00:00:00\",\"2008-10-01T00:00:00\",\"2008-11-01T00:00:00\",\"2008-12-01T00:00:00\",\"2009-01-01T00:00:00\",\"2009-02-01T00:00:00\",\"2009-03-01T00:00:00\",\"2009-04-01T00:00:00\",\"2009-05-01T00:00:00\",\"2009-06-01T00:00:00\",\"2009-07-01T00:00:00\",\"2009-08-01T00:00:00\",\"2009-09-01T00:00:00\",\"2009-10-01T00:00:00\",\"2009-11-01T00:00:00\",\"2009-12-01T00:00:00\",\"2010-01-01T00:00:00\",\"2010-02-01T00:00:00\",\"2010-03-01T00:00:00\",\"2010-04-01T00:00:00\",\"2010-05-01T00:00:00\",\"2010-06-01T00:00:00\",\"2010-07-01T00:00:00\",\"2010-08-01T00:00:00\",\"2010-09-01T00:00:00\",\"2010-10-01T00:00:00\",\"2010-11-01T00:00:00\",\"2010-12-01T00:00:00\",\"2011-01-01T00:00:00\",\"2011-02-01T00:00:00\",\"2011-03-01T00:00:00\",\"2011-04-01T00:00:00\",\"2011-05-01T00:00:00\",\"2011-06-01T00:00:00\",\"2011-07-01T00:00:00\",\"2011-08-01T00:00:00\",\"2011-09-01T00:00:00\",\"2011-10-01T00:00:00\",\"2011-11-01T00:00:00\",\"2011-12-01T00:00:00\",\"2012-01-01T00:00:00\",\"2012-02-01T00:00:00\",\"2012-03-01T00:00:00\",\"2012-04-01T00:00:00\",\"2012-05-01T00:00:00\",\"2012-06-01T00:00:00\",\"2012-07-01T00:00:00\",\"2012-08-01T00:00:00\",\"2012-09-01T00:00:00\",\"2012-10-01T00:00:00\",\"2012-11-01T00:00:00\",\"2012-12-01T00:00:00\",\"2013-01-01T00:00:00\",\"2013-02-01T00:00:00\",\"2013-03-01T00:00:00\",\"2013-04-01T00:00:00\",\"2013-05-01T00:00:00\",\"2013-06-01T00:00:00\",\"2013-07-01T00:00:00\",\"2013-08-01T00:00:00\",\"2013-09-01T00:00:00\",\"2013-10-01T00:00:00\",\"2013-11-01T00:00:00\",\"2013-12-01T00:00:00\",\"2014-01-01T00:00:00\",\"2014-02-01T00:00:00\",\"2014-03-01T00:00:00\",\"2014-04-01T00:00:00\",\"2014-05-01T00:00:00\",\"2014-06-01T00:00:00\",\"2014-07-01T00:00:00\",\"2014-08-01T00:00:00\",\"2014-09-01T00:00:00\",\"2014-10-01T00:00:00\",\"2014-11-01T00:00:00\",\"2014-12-01T00:00:00\",\"2015-01-01T00:00:00\",\"2015-02-01T00:00:00\",\"2015-03-01T00:00:00\",\"2015-04-01T00:00:00\",\"2015-05-01T00:00:00\",\"2015-06-01T00:00:00\",\"2015-07-01T00:00:00\",\"2015-08-01T00:00:00\",\"2015-09-01T00:00:00\",\"2015-10-01T00:00:00\",\"2015-11-01T00:00:00\",\"2015-12-01T00:00:00\",\"2016-01-01T00:00:00\",\"2016-02-01T00:00:00\",\"2016-03-01T00:00:00\",\"2016-04-01T00:00:00\",\"2016-05-01T00:00:00\",\"2016-06-01T00:00:00\",\"2016-07-01T00:00:00\",\"2016-08-01T00:00:00\",\"2016-09-01T00:00:00\",\"2016-10-01T00:00:00\",\"2016-11-01T00:00:00\",\"2016-12-01T00:00:00\",\"2017-01-01T00:00:00\",\"2017-02-01T00:00:00\",\"2017-03-01T00:00:00\",\"2017-04-01T00:00:00\",\"2017-05-01T00:00:00\",\"2017-06-01T00:00:00\",\"2017-07-01T00:00:00\",\"2017-08-01T00:00:00\",\"2017-09-01T00:00:00\",\"2017-10-01T00:00:00\",\"2017-11-01T00:00:00\",\"2017-12-01T00:00:00\"],\"xaxis\":\"x\",\"y\":[1177186,1240983,1888250,1404733,1697578,2258532,1371856,1588068,1840600,1431903,959228,1348759,873714,1142813,2175247,1569606,1712205,1966215,1475523,1298648,1934968,1025133,1116613,1851868,1409685,1683401,2762670,2247616,2264521,2896874,1628102,1379102,2150923,1053279,1097679,1588739,1210137,955671,5019351,1816659,1721632,2305971,1523087,1749667,2260859,1555618,1297888,1612682,1319508,1358318,2817135,2001345,2141313,2947584,2062199,2286719,2676324,1762481,1709859,1789996,1537526,1823446,2721578,2339352,4781594,3161620,2159949,1940771,2861762,1915107,1331387,2311377,1372263,2120033,3621626,2547858,3267690,4273103,4202335,3109619,3802119,1872895,1345356,946014,1316582,2060046,3719861,2543086,3270150,4325143,4133710,3015906,3829592,1568734,1292617,1070326,141812,89222,337907,51605,36194,368680,74798,58487,311154,19912,28557,220831,28355,31070,193320,46116,36851,235017,35188,37292,146220,25505,33324,128174],\"yaxis\":\"y\",\"type\":\"bar\"},{\"alignmentgroup\":\"True\",\"hovertemplate\":\"type=Sugar and syrups<br>date=%{x}<br>month_current=%{y}<extra></extra>\",\"legendgroup\":\"Sugar and syrups\",\"marker\":{\"color\":\"#19d3f3\",\"pattern\":{\"shape\":\"\"}},\"name\":\"Sugar and syrups\",\"offsetgroup\":\"Sugar and syrups\",\"orientation\":\"v\",\"showlegend\":true,\"textposition\":\"auto\",\"x\":[\"2008-01-01T00:00:00\",\"2008-02-01T00:00:00\",\"2008-03-01T00:00:00\",\"2008-04-01T00:00:00\",\"2008-05-01T00:00:00\",\"2008-06-01T00:00:00\",\"2008-07-01T00:00:00\",\"2008-08-01T00:00:00\",\"2008-09-01T00:00:00\",\"2008-10-01T00:00:00\",\"2008-11-01T00:00:00\",\"2008-12-01T00:00:00\",\"2009-01-01T00:00:00\",\"2009-02-01T00:00:00\",\"2009-03-01T00:00:00\",\"2009-04-01T00:00:00\",\"2009-05-01T00:00:00\",\"2009-06-01T00:00:00\",\"2009-07-01T00:00:00\",\"2009-08-01T00:00:00\",\"2009-09-01T00:00:00\",\"2009-10-01T00:00:00\",\"2009-11-01T00:00:00\",\"2009-12-01T00:00:00\",\"2010-01-01T00:00:00\",\"2010-02-01T00:00:00\",\"2010-03-01T00:00:00\",\"2010-04-01T00:00:00\",\"2010-05-01T00:00:00\",\"2010-06-01T00:00:00\",\"2010-07-01T00:00:00\",\"2010-08-01T00:00:00\",\"2010-09-01T00:00:00\",\"2010-10-01T00:00:00\",\"2010-11-01T00:00:00\",\"2010-12-01T00:00:00\",\"2011-01-01T00:00:00\",\"2011-02-01T00:00:00\",\"2011-03-01T00:00:00\",\"2011-04-01T00:00:00\",\"2011-05-01T00:00:00\",\"2011-06-01T00:00:00\",\"2011-07-01T00:00:00\",\"2011-08-01T00:00:00\",\"2011-09-01T00:00:00\",\"2011-10-01T00:00:00\",\"2011-11-01T00:00:00\",\"2011-12-01T00:00:00\",\"2012-01-01T00:00:00\",\"2012-02-01T00:00:00\",\"2012-03-01T00:00:00\",\"2012-04-01T00:00:00\",\"2012-05-01T00:00:00\",\"2012-06-01T00:00:00\",\"2012-07-01T00:00:00\",\"2012-08-01T00:00:00\",\"2012-09-01T00:00:00\",\"2012-10-01T00:00:00\",\"2012-11-01T00:00:00\",\"2012-12-01T00:00:00\",\"2013-01-01T00:00:00\",\"2013-02-01T00:00:00\",\"2013-03-01T00:00:00\",\"2013-04-01T00:00:00\",\"2013-05-01T00:00:00\",\"2013-06-01T00:00:00\",\"2013-07-01T00:00:00\",\"2013-08-01T00:00:00\",\"2013-09-01T00:00:00\",\"2013-10-01T00:00:00\",\"2013-11-01T00:00:00\",\"2013-12-01T00:00:00\",\"2014-01-01T00:00:00\",\"2014-02-01T00:00:00\",\"2014-03-01T00:00:00\",\"2014-04-01T00:00:00\",\"2014-05-01T00:00:00\",\"2014-06-01T00:00:00\",\"2014-07-01T00:00:00\",\"2014-08-01T00:00:00\",\"2014-09-01T00:00:00\",\"2014-10-01T00:00:00\",\"2014-11-01T00:00:00\",\"2014-12-01T00:00:00\",\"2015-01-01T00:00:00\",\"2015-02-01T00:00:00\",\"2015-03-01T00:00:00\",\"2015-04-01T00:00:00\",\"2015-05-01T00:00:00\",\"2015-06-01T00:00:00\",\"2015-07-01T00:00:00\",\"2015-08-01T00:00:00\",\"2015-09-01T00:00:00\",\"2015-10-01T00:00:00\",\"2015-11-01T00:00:00\",\"2015-12-01T00:00:00\",\"2016-01-01T00:00:00\",\"2016-02-01T00:00:00\",\"2016-03-01T00:00:00\",\"2016-04-01T00:00:00\",\"2016-05-01T00:00:00\",\"2016-06-01T00:00:00\",\"2016-07-01T00:00:00\",\"2016-08-01T00:00:00\",\"2016-09-01T00:00:00\",\"2016-10-01T00:00:00\",\"2016-11-01T00:00:00\",\"2016-12-01T00:00:00\",\"2017-01-01T00:00:00\",\"2017-02-01T00:00:00\",\"2017-03-01T00:00:00\",\"2017-04-01T00:00:00\",\"2017-05-01T00:00:00\",\"2017-06-01T00:00:00\",\"2017-07-01T00:00:00\",\"2017-08-01T00:00:00\",\"2017-09-01T00:00:00\",\"2017-10-01T00:00:00\",\"2017-11-01T00:00:00\",\"2017-12-01T00:00:00\"],\"xaxis\":\"x\",\"y\":[78358212,80188744,78907213,81199989,89946309,81012422,76728131,83928121,71982604,42828943,44000736,38952441,67834569,69375203,70030415,71341108,75011893,69563483,64776817,61354833,50025197,47840939,44926666,39077880,47308358,46718854,61007512,73040421,76115769,67266337,76584550,75815015,69053125,67265699,59184495,49709103,73793509,63374850,74925793,68297327,66314234,67178952,62190400,60003874,61317581,65478836,55627592,52413557,62988309,65344809,79859286,82481856,87785168,89443470,92543919,77156577,65251144,70185532,64916501,59586860,72878590,71244280,85703037,92273777,96158421,87459068,89540845,79896297,62065299,66002563,58514321,61764460,72039259,74414600,86871712,83132566,81403402,78715950,79758226,84424807,71386473,77825404,61665023,11292897,71798065,74138605,82468474,82896506,81171257,78547713,74805384,80080228,71270147,77650579,61470208,11332454,164096,118169,219736,153518,118046,209884,141651,178201,114284,115864,63448,87586,39933,55403,149440,132019,24725,57026,23179,22887,50807,21869,23158,36213],\"yaxis\":\"y\",\"type\":\"bar\"},{\"alignmentgroup\":\"True\",\"hovertemplate\":\"type=Hops (dry)<br>date=%{x}<br>month_current=%{y}<extra></extra>\",\"legendgroup\":\"Hops (dry)\",\"marker\":{\"color\":\"#FF6692\",\"pattern\":{\"shape\":\"\"}},\"name\":\"Hops (dry)\",\"offsetgroup\":\"Hops (dry)\",\"orientation\":\"v\",\"showlegend\":true,\"textposition\":\"auto\",\"x\":[\"2008-01-01T00:00:00\",\"2008-02-01T00:00:00\",\"2008-03-01T00:00:00\",\"2008-04-01T00:00:00\",\"2008-05-01T00:00:00\",\"2008-06-01T00:00:00\",\"2008-07-01T00:00:00\",\"2008-08-01T00:00:00\",\"2008-09-01T00:00:00\",\"2008-10-01T00:00:00\",\"2008-11-01T00:00:00\",\"2008-12-01T00:00:00\",\"2009-01-01T00:00:00\",\"2009-02-01T00:00:00\",\"2009-03-01T00:00:00\",\"2009-04-01T00:00:00\",\"2009-05-01T00:00:00\",\"2009-06-01T00:00:00\",\"2009-07-01T00:00:00\",\"2009-08-01T00:00:00\",\"2009-09-01T00:00:00\",\"2009-10-01T00:00:00\",\"2009-11-01T00:00:00\",\"2009-12-01T00:00:00\",\"2010-01-01T00:00:00\",\"2010-02-01T00:00:00\",\"2010-03-01T00:00:00\",\"2010-04-01T00:00:00\",\"2010-05-01T00:00:00\",\"2010-06-01T00:00:00\",\"2010-07-01T00:00:00\",\"2010-08-01T00:00:00\",\"2010-09-01T00:00:00\",\"2010-10-01T00:00:00\",\"2010-11-01T00:00:00\",\"2010-12-01T00:00:00\",\"2011-01-01T00:00:00\",\"2011-02-01T00:00:00\",\"2011-03-01T00:00:00\",\"2011-04-01T00:00:00\",\"2011-05-01T00:00:00\",\"2011-06-01T00:00:00\",\"2011-07-01T00:00:00\",\"2011-08-01T00:00:00\",\"2011-09-01T00:00:00\",\"2011-10-01T00:00:00\",\"2011-11-01T00:00:00\",\"2011-12-01T00:00:00\",\"2012-01-01T00:00:00\",\"2012-02-01T00:00:00\",\"2012-03-01T00:00:00\",\"2012-04-01T00:00:00\",\"2012-05-01T00:00:00\",\"2012-06-01T00:00:00\",\"2012-07-01T00:00:00\",\"2012-08-01T00:00:00\",\"2012-09-01T00:00:00\",\"2012-10-01T00:00:00\",\"2012-11-01T00:00:00\",\"2012-12-01T00:00:00\",\"2013-01-01T00:00:00\",\"2013-02-01T00:00:00\",\"2013-03-01T00:00:00\",\"2013-04-01T00:00:00\",\"2013-05-01T00:00:00\",\"2013-06-01T00:00:00\",\"2013-07-01T00:00:00\",\"2013-08-01T00:00:00\",\"2013-09-01T00:00:00\",\"2013-10-01T00:00:00\",\"2013-11-01T00:00:00\",\"2013-12-01T00:00:00\",\"2014-01-01T00:00:00\",\"2014-02-01T00:00:00\",\"2014-03-01T00:00:00\",\"2014-04-01T00:00:00\",\"2014-05-01T00:00:00\",\"2014-06-01T00:00:00\",\"2014-07-01T00:00:00\",\"2014-08-01T00:00:00\",\"2014-09-01T00:00:00\",\"2014-10-01T00:00:00\",\"2014-11-01T00:00:00\",\"2014-12-01T00:00:00\",\"2015-01-01T00:00:00\",\"2015-02-01T00:00:00\",\"2015-03-01T00:00:00\",\"2015-04-01T00:00:00\",\"2015-05-01T00:00:00\",\"2015-06-01T00:00:00\",\"2015-07-01T00:00:00\",\"2015-08-01T00:00:00\",\"2015-09-01T00:00:00\",\"2015-10-01T00:00:00\",\"2015-11-01T00:00:00\",\"2015-12-01T00:00:00\",\"2016-01-01T00:00:00\",\"2016-02-01T00:00:00\",\"2016-03-01T00:00:00\",\"2016-04-01T00:00:00\",\"2016-05-01T00:00:00\",\"2016-06-01T00:00:00\",\"2016-07-01T00:00:00\",\"2016-08-01T00:00:00\",\"2016-09-01T00:00:00\",\"2016-10-01T00:00:00\",\"2016-11-01T00:00:00\",\"2016-12-01T00:00:00\",\"2017-01-01T00:00:00\",\"2017-02-01T00:00:00\",\"2017-03-01T00:00:00\",\"2017-04-01T00:00:00\",\"2017-05-01T00:00:00\",\"2017-06-01T00:00:00\",\"2017-07-01T00:00:00\",\"2017-08-01T00:00:00\",\"2017-09-01T00:00:00\",\"2017-10-01T00:00:00\",\"2017-11-01T00:00:00\",\"2017-12-01T00:00:00\"],\"xaxis\":\"x\",\"y\":[4506546,1815271,6067167,6864440,7470130,7361941,1759452,5992025,3788942,3788949,3897905,1576751,1461121,4601598,6787391,5574889,7051829,6854083,7309199,5393471,5216389,1326445,4442654,3887961,4765924,4899463,7932387,8240399,9080801,10418215,8297261,7272871,6437916,9244763,7727370,6540100,6059066,7617974,10736471,9942341,10076039,10603566,9514024,7575266,7462299,7238838,8455615,11606511,9562820,1366949,10288665,11641934,12583340,12720422,12188084,10374025,10180667,9505007,10621547,7808600,9164708,9456485,9754327,9791137,10286943,12319034,11044977,1670049,2339398,1681113,1440544,2129685,1890937,1733845,3719722,2167689,2173226,2894437,2423064,1835895,4289504,1899541,1492949,284055954,1899000,1754927,3743541,2184404,2188410,2991932,2352314,1807220,4335014,1826524,1360528,284114545,145761,117249,452882,78105,66909,324830,175278,178127,341114,61685,48846,218904,43972,55754,157263,151966,147645,251754,136540,157967,273705,52286,150955,1453024],\"yaxis\":\"y\",\"type\":\"bar\"},{\"alignmentgroup\":\"True\",\"hovertemplate\":\"type=Hops (used as extracts)<br>date=%{x}<br>month_current=%{y}<extra></extra>\",\"legendgroup\":\"Hops (used as extracts)\",\"marker\":{\"color\":\"#B6E880\",\"pattern\":{\"shape\":\"\"}},\"name\":\"Hops (used as extracts)\",\"offsetgroup\":\"Hops (used as extracts)\",\"orientation\":\"v\",\"showlegend\":true,\"textposition\":\"auto\",\"x\":[\"2008-01-01T00:00:00\",\"2008-02-01T00:00:00\",\"2008-03-01T00:00:00\",\"2008-04-01T00:00:00\",\"2008-05-01T00:00:00\",\"2008-06-01T00:00:00\",\"2008-07-01T00:00:00\",\"2008-08-01T00:00:00\",\"2008-09-01T00:00:00\",\"2008-10-01T00:00:00\",\"2008-11-01T00:00:00\",\"2008-12-01T00:00:00\",\"2009-01-01T00:00:00\",\"2009-02-01T00:00:00\",\"2009-03-01T00:00:00\",\"2009-04-01T00:00:00\",\"2009-05-01T00:00:00\",\"2009-06-01T00:00:00\",\"2009-07-01T00:00:00\",\"2009-08-01T00:00:00\",\"2009-09-01T00:00:00\",\"2009-10-01T00:00:00\",\"2009-11-01T00:00:00\",\"2009-12-01T00:00:00\",\"2010-01-01T00:00:00\",\"2010-02-01T00:00:00\",\"2010-03-01T00:00:00\",\"2010-04-01T00:00:00\",\"2010-05-01T00:00:00\",\"2010-06-01T00:00:00\",\"2010-07-01T00:00:00\",\"2010-08-01T00:00:00\",\"2010-09-01T00:00:00\",\"2010-10-01T00:00:00\",\"2010-11-01T00:00:00\",\"2010-12-01T00:00:00\",\"2011-01-01T00:00:00\",\"2011-02-01T00:00:00\",\"2011-03-01T00:00:00\",\"2011-04-01T00:00:00\",\"2011-05-01T00:00:00\",\"2011-06-01T00:00:00\",\"2011-07-01T00:00:00\",\"2011-08-01T00:00:00\",\"2011-09-01T00:00:00\",\"2011-10-01T00:00:00\",\"2011-11-01T00:00:00\",\"2011-12-01T00:00:00\",\"2012-01-01T00:00:00\",\"2012-02-01T00:00:00\",\"2012-03-01T00:00:00\",\"2012-04-01T00:00:00\",\"2012-05-01T00:00:00\",\"2012-06-01T00:00:00\",\"2012-07-01T00:00:00\",\"2012-08-01T00:00:00\",\"2012-09-01T00:00:00\",\"2012-10-01T00:00:00\",\"2012-11-01T00:00:00\",\"2012-12-01T00:00:00\",\"2013-01-01T00:00:00\",\"2013-02-01T00:00:00\",\"2013-03-01T00:00:00\",\"2013-04-01T00:00:00\",\"2013-05-01T00:00:00\",\"2013-06-01T00:00:00\",\"2013-07-01T00:00:00\",\"2013-08-01T00:00:00\",\"2013-09-01T00:00:00\",\"2013-10-01T00:00:00\",\"2013-11-01T00:00:00\",\"2013-12-01T00:00:00\",\"2014-01-01T00:00:00\",\"2014-02-01T00:00:00\",\"2014-03-01T00:00:00\",\"2014-04-01T00:00:00\",\"2014-05-01T00:00:00\",\"2014-06-01T00:00:00\",\"2014-07-01T00:00:00\",\"2014-08-01T00:00:00\",\"2014-09-01T00:00:00\",\"2014-10-01T00:00:00\",\"2014-11-01T00:00:00\",\"2014-12-01T00:00:00\",\"2015-01-01T00:00:00\",\"2015-02-01T00:00:00\",\"2015-03-01T00:00:00\",\"2015-04-01T00:00:00\",\"2015-05-01T00:00:00\",\"2015-06-01T00:00:00\",\"2015-07-01T00:00:00\",\"2015-08-01T00:00:00\",\"2015-09-01T00:00:00\",\"2015-10-01T00:00:00\",\"2015-11-01T00:00:00\",\"2015-12-01T00:00:00\",\"2016-01-01T00:00:00\",\"2016-02-01T00:00:00\",\"2016-03-01T00:00:00\",\"2016-04-01T00:00:00\",\"2016-05-01T00:00:00\",\"2016-06-01T00:00:00\",\"2016-07-01T00:00:00\",\"2016-08-01T00:00:00\",\"2016-09-01T00:00:00\",\"2016-10-01T00:00:00\",\"2016-11-01T00:00:00\",\"2016-12-01T00:00:00\",\"2017-01-01T00:00:00\",\"2017-02-01T00:00:00\",\"2017-03-01T00:00:00\",\"2017-04-01T00:00:00\",\"2017-05-01T00:00:00\",\"2017-06-01T00:00:00\",\"2017-07-01T00:00:00\",\"2017-08-01T00:00:00\",\"2017-09-01T00:00:00\",\"2017-10-01T00:00:00\",\"2017-11-01T00:00:00\",\"2017-12-01T00:00:00\"],\"xaxis\":\"x\",\"y\":[621912,476688,1195722,503072,545875,513130,508794,377424,337294,337430,329906,272045,324497,345975,382897,388369,450264,381321,359130,322875,305344,302264,289240,260877,271405,268589,320406,456519,396737,355258,369505,718808,300116,293914,281893,255382,296605,275963,350949,330339,438895,338467,333313,324190,298977,306588,290356,238892,293488,361152,335010,338454,346461,474060,391852,472469,301893,309173,303256,293877,323285,324126,372356,302532,323157,338940,345552,324649,310392,325023,282732,312373,298281,298524,351254,321444,345805,403502,339167,312437,341156,334633,262480,42981,298514,298894,321462,321444,345805,403948,339168,312425,339156,330925,258557,41207,8042,6093,6977,6071,1795,2901,1791,5131,2952,2122,5033,8997,6974,1690,2133,1614,1939,3152,1850,5922,237,82,1431,2117],\"yaxis\":\"y\",\"type\":\"bar\"},{\"alignmentgroup\":\"True\",\"hovertemplate\":\"type=Other<br>date=%{x}<br>month_current=%{y}<extra></extra>\",\"legendgroup\":\"Other\",\"marker\":{\"color\":\"#FF97FF\",\"pattern\":{\"shape\":\"\"}},\"name\":\"Other\",\"offsetgroup\":\"Other\",\"orientation\":\"v\",\"showlegend\":true,\"textposition\":\"auto\",\"x\":[\"2008-01-01T00:00:00\",\"2008-02-01T00:00:00\",\"2008-03-01T00:00:00\",\"2008-04-01T00:00:00\",\"2008-05-01T00:00:00\",\"2008-06-01T00:00:00\",\"2008-07-01T00:00:00\",\"2008-08-01T00:00:00\",\"2008-09-01T00:00:00\",\"2008-10-01T00:00:00\",\"2008-11-01T00:00:00\",\"2008-12-01T00:00:00\",\"2009-01-01T00:00:00\",\"2009-02-01T00:00:00\",\"2009-03-01T00:00:00\",\"2009-04-01T00:00:00\",\"2009-05-01T00:00:00\",\"2009-06-01T00:00:00\",\"2009-07-01T00:00:00\",\"2009-08-01T00:00:00\",\"2009-09-01T00:00:00\",\"2009-10-01T00:00:00\",\"2009-11-01T00:00:00\",\"2009-12-01T00:00:00\",\"2010-01-01T00:00:00\",\"2010-02-01T00:00:00\",\"2010-03-01T00:00:00\",\"2010-04-01T00:00:00\",\"2010-05-01T00:00:00\",\"2010-06-01T00:00:00\",\"2010-07-01T00:00:00\",\"2010-08-01T00:00:00\",\"2010-09-01T00:00:00\",\"2010-10-01T00:00:00\",\"2010-11-01T00:00:00\",\"2010-12-01T00:00:00\",\"2011-01-01T00:00:00\",\"2011-02-01T00:00:00\",\"2011-03-01T00:00:00\",\"2011-04-01T00:00:00\",\"2011-05-01T00:00:00\",\"2011-06-01T00:00:00\",\"2011-07-01T00:00:00\",\"2011-08-01T00:00:00\",\"2011-09-01T00:00:00\",\"2011-10-01T00:00:00\",\"2011-11-01T00:00:00\",\"2011-12-01T00:00:00\",\"2012-01-01T00:00:00\",\"2012-02-01T00:00:00\",\"2012-03-01T00:00:00\",\"2012-04-01T00:00:00\",\"2012-05-01T00:00:00\",\"2012-06-01T00:00:00\",\"2012-07-01T00:00:00\",\"2012-08-01T00:00:00\",\"2012-09-01T00:00:00\",\"2012-10-01T00:00:00\",\"2012-11-01T00:00:00\",\"2012-12-01T00:00:00\",\"2013-01-01T00:00:00\",\"2013-02-01T00:00:00\",\"2013-03-01T00:00:00\",\"2013-04-01T00:00:00\",\"2013-05-01T00:00:00\",\"2013-06-01T00:00:00\",\"2013-07-01T00:00:00\",\"2013-08-01T00:00:00\",\"2013-09-01T00:00:00\",\"2013-10-01T00:00:00\",\"2013-11-01T00:00:00\",\"2013-12-01T00:00:00\",\"2014-01-01T00:00:00\",\"2014-02-01T00:00:00\",\"2014-03-01T00:00:00\",\"2014-04-01T00:00:00\",\"2014-05-01T00:00:00\",\"2014-06-01T00:00:00\",\"2014-07-01T00:00:00\",\"2014-08-01T00:00:00\",\"2014-09-01T00:00:00\",\"2014-10-01T00:00:00\",\"2014-11-01T00:00:00\",\"2014-12-01T00:00:00\",\"2015-01-01T00:00:00\",\"2015-02-01T00:00:00\",\"2015-03-01T00:00:00\",\"2015-04-01T00:00:00\",\"2015-05-01T00:00:00\",\"2015-06-01T00:00:00\",\"2015-07-01T00:00:00\",\"2015-08-01T00:00:00\",\"2015-09-01T00:00:00\",\"2015-10-01T00:00:00\",\"2015-11-01T00:00:00\",\"2015-12-01T00:00:00\",\"2016-01-01T00:00:00\",\"2016-02-01T00:00:00\",\"2016-03-01T00:00:00\",\"2016-04-01T00:00:00\",\"2016-05-01T00:00:00\",\"2016-06-01T00:00:00\",\"2016-07-01T00:00:00\",\"2016-08-01T00:00:00\",\"2016-09-01T00:00:00\",\"2016-10-01T00:00:00\",\"2016-11-01T00:00:00\",\"2016-12-01T00:00:00\",\"2017-01-01T00:00:00\",\"2017-02-01T00:00:00\",\"2017-03-01T00:00:00\",\"2017-04-01T00:00:00\",\"2017-05-01T00:00:00\",\"2017-06-01T00:00:00\",\"2017-07-01T00:00:00\",\"2017-08-01T00:00:00\",\"2017-09-01T00:00:00\",\"2017-10-01T00:00:00\",\"2017-11-01T00:00:00\",\"2017-12-01T00:00:00\"],\"xaxis\":\"x\",\"y\":[1291615,1599119,2211210,1332607,1804156,2446573,1437970,1664171,1732698,1568462,1247790,1574456,1424001,939857,6604657,6169478,6915331,6216613,13368693,10315854,11250446,8944515,9915569,8051559,10537742,9022834,11678127,11213037,11525375,12877498,13378852,9572674,9180751,8888902,9117383,8217736,7972930,7997916,10489641,10127397,10565868,11982901,9659056,9175477,10334415,9544745,8504780,8090886,8994300,7134068,11713920,9872076,10260031,11784212,10558223,10626133,11155361,10274692,9681814,9358030,10673797,9279419,13802289,11928594,12546040,13473911,13505472,13373297,12336644,11808695,11793486,12527321,10970144,11645142,13362414,13188832,15253410,32242095,25013032,13675594,17318046,13016053,13116911,2442418,11573104,12263652,14164052,14074835,16048061,33086953,25049222,13967238,18361202,13718274,13861638,3237774,378366,446955,1372711,95756,88626,1395602,386932,70364,1106696,66207,55017,662408,477233,67903,583019,69748,74380,1223682,42006,30649,639700,75566,105394,657306],\"yaxis\":\"y\",\"type\":\"bar\"}],                        {\"template\":{\"data\":{\"histogram2dcontour\":[{\"type\":\"histogram2dcontour\",\"colorbar\":{\"outlinewidth\":0,\"ticks\":\"\"},\"colorscale\":[[0.0,\"#0d0887\"],[0.1111111111111111,\"#46039f\"],[0.2222222222222222,\"#7201a8\"],[0.3333333333333333,\"#9c179e\"],[0.4444444444444444,\"#bd3786\"],[0.5555555555555556,\"#d8576b\"],[0.6666666666666666,\"#ed7953\"],[0.7777777777777778,\"#fb9f3a\"],[0.8888888888888888,\"#fdca26\"],[1.0,\"#f0f921\"]]}],\"choropleth\":[{\"type\":\"choropleth\",\"colorbar\":{\"outlinewidth\":0,\"ticks\":\"\"}}],\"histogram2d\":[{\"type\":\"histogram2d\",\"colorbar\":{\"outlinewidth\":0,\"ticks\":\"\"},\"colorscale\":[[0.0,\"#0d0887\"],[0.1111111111111111,\"#46039f\"],[0.2222222222222222,\"#7201a8\"],[0.3333333333333333,\"#9c179e\"],[0.4444444444444444,\"#bd3786\"],[0.5555555555555556,\"#d8576b\"],[0.6666666666666666,\"#ed7953\"],[0.7777777777777778,\"#fb9f3a\"],[0.8888888888888888,\"#fdca26\"],[1.0,\"#f0f921\"]]}],\"heatmap\":[{\"type\":\"heatmap\",\"colorbar\":{\"outlinewidth\":0,\"ticks\":\"\"},\"colorscale\":[[0.0,\"#0d0887\"],[0.1111111111111111,\"#46039f\"],[0.2222222222222222,\"#7201a8\"],[0.3333333333333333,\"#9c179e\"],[0.4444444444444444,\"#bd3786\"],[0.5555555555555556,\"#d8576b\"],[0.6666666666666666,\"#ed7953\"],[0.7777777777777778,\"#fb9f3a\"],[0.8888888888888888,\"#fdca26\"],[1.0,\"#f0f921\"]]}],\"heatmapgl\":[{\"type\":\"heatmapgl\",\"colorbar\":{\"outlinewidth\":0,\"ticks\":\"\"},\"colorscale\":[[0.0,\"#0d0887\"],[0.1111111111111111,\"#46039f\"],[0.2222222222222222,\"#7201a8\"],[0.3333333333333333,\"#9c179e\"],[0.4444444444444444,\"#bd3786\"],[0.5555555555555556,\"#d8576b\"],[0.6666666666666666,\"#ed7953\"],[0.7777777777777778,\"#fb9f3a\"],[0.8888888888888888,\"#fdca26\"],[1.0,\"#f0f921\"]]}],\"contourcarpet\":[{\"type\":\"contourcarpet\",\"colorbar\":{\"outlinewidth\":0,\"ticks\":\"\"}}],\"contour\":[{\"type\":\"contour\",\"colorbar\":{\"outlinewidth\":0,\"ticks\":\"\"},\"colorscale\":[[0.0,\"#0d0887\"],[0.1111111111111111,\"#46039f\"],[0.2222222222222222,\"#7201a8\"],[0.3333333333333333,\"#9c179e\"],[0.4444444444444444,\"#bd3786\"],[0.5555555555555556,\"#d8576b\"],[0.6666666666666666,\"#ed7953\"],[0.7777777777777778,\"#fb9f3a\"],[0.8888888888888888,\"#fdca26\"],[1.0,\"#f0f921\"]]}],\"surface\":[{\"type\":\"surface\",\"colorbar\":{\"outlinewidth\":0,\"ticks\":\"\"},\"colorscale\":[[0.0,\"#0d0887\"],[0.1111111111111111,\"#46039f\"],[0.2222222222222222,\"#7201a8\"],[0.3333333333333333,\"#9c179e\"],[0.4444444444444444,\"#bd3786\"],[0.5555555555555556,\"#d8576b\"],[0.6666666666666666,\"#ed7953\"],[0.7777777777777778,\"#fb9f3a\"],[0.8888888888888888,\"#fdca26\"],[1.0,\"#f0f921\"]]}],\"mesh3d\":[{\"type\":\"mesh3d\",\"colorbar\":{\"outlinewidth\":0,\"ticks\":\"\"}}],\"scatter\":[{\"fillpattern\":{\"fillmode\":\"overlay\",\"size\":10,\"solidity\":0.2},\"type\":\"scatter\"}],\"parcoords\":[{\"type\":\"parcoords\",\"line\":{\"colorbar\":{\"outlinewidth\":0,\"ticks\":\"\"}}}],\"scatterpolargl\":[{\"type\":\"scatterpolargl\",\"marker\":{\"colorbar\":{\"outlinewidth\":0,\"ticks\":\"\"}}}],\"bar\":[{\"error_x\":{\"color\":\"#2a3f5f\"},\"error_y\":{\"color\":\"#2a3f5f\"},\"marker\":{\"line\":{\"color\":\"#E5ECF6\",\"width\":0.5},\"pattern\":{\"fillmode\":\"overlay\",\"size\":10,\"solidity\":0.2}},\"type\":\"bar\"}],\"scattergeo\":[{\"type\":\"scattergeo\",\"marker\":{\"colorbar\":{\"outlinewidth\":0,\"ticks\":\"\"}}}],\"scatterpolar\":[{\"type\":\"scatterpolar\",\"marker\":{\"colorbar\":{\"outlinewidth\":0,\"ticks\":\"\"}}}],\"histogram\":[{\"marker\":{\"pattern\":{\"fillmode\":\"overlay\",\"size\":10,\"solidity\":0.2}},\"type\":\"histogram\"}],\"scattergl\":[{\"type\":\"scattergl\",\"marker\":{\"colorbar\":{\"outlinewidth\":0,\"ticks\":\"\"}}}],\"scatter3d\":[{\"type\":\"scatter3d\",\"line\":{\"colorbar\":{\"outlinewidth\":0,\"ticks\":\"\"}},\"marker\":{\"colorbar\":{\"outlinewidth\":0,\"ticks\":\"\"}}}],\"scattermapbox\":[{\"type\":\"scattermapbox\",\"marker\":{\"colorbar\":{\"outlinewidth\":0,\"ticks\":\"\"}}}],\"scatterternary\":[{\"type\":\"scatterternary\",\"marker\":{\"colorbar\":{\"outlinewidth\":0,\"ticks\":\"\"}}}],\"scattercarpet\":[{\"type\":\"scattercarpet\",\"marker\":{\"colorbar\":{\"outlinewidth\":0,\"ticks\":\"\"}}}],\"carpet\":[{\"aaxis\":{\"endlinecolor\":\"#2a3f5f\",\"gridcolor\":\"white\",\"linecolor\":\"white\",\"minorgridcolor\":\"white\",\"startlinecolor\":\"#2a3f5f\"},\"baxis\":{\"endlinecolor\":\"#2a3f5f\",\"gridcolor\":\"white\",\"linecolor\":\"white\",\"minorgridcolor\":\"white\",\"startlinecolor\":\"#2a3f5f\"},\"type\":\"carpet\"}],\"table\":[{\"cells\":{\"fill\":{\"color\":\"#EBF0F8\"},\"line\":{\"color\":\"white\"}},\"header\":{\"fill\":{\"color\":\"#C8D4E3\"},\"line\":{\"color\":\"white\"}},\"type\":\"table\"}],\"barpolar\":[{\"marker\":{\"line\":{\"color\":\"#E5ECF6\",\"width\":0.5},\"pattern\":{\"fillmode\":\"overlay\",\"size\":10,\"solidity\":0.2}},\"type\":\"barpolar\"}],\"pie\":[{\"automargin\":true,\"type\":\"pie\"}]},\"layout\":{\"autotypenumbers\":\"strict\",\"colorway\":[\"#636efa\",\"#EF553B\",\"#00cc96\",\"#ab63fa\",\"#FFA15A\",\"#19d3f3\",\"#FF6692\",\"#B6E880\",\"#FF97FF\",\"#FECB52\"],\"font\":{\"color\":\"#2a3f5f\"},\"hovermode\":\"closest\",\"hoverlabel\":{\"align\":\"left\"},\"paper_bgcolor\":\"white\",\"plot_bgcolor\":\"#E5ECF6\",\"polar\":{\"bgcolor\":\"#E5ECF6\",\"angularaxis\":{\"gridcolor\":\"white\",\"linecolor\":\"white\",\"ticks\":\"\"},\"radialaxis\":{\"gridcolor\":\"white\",\"linecolor\":\"white\",\"ticks\":\"\"}},\"ternary\":{\"bgcolor\":\"#E5ECF6\",\"aaxis\":{\"gridcolor\":\"white\",\"linecolor\":\"white\",\"ticks\":\"\"},\"baxis\":{\"gridcolor\":\"white\",\"linecolor\":\"white\",\"ticks\":\"\"},\"caxis\":{\"gridcolor\":\"white\",\"linecolor\":\"white\",\"ticks\":\"\"}},\"coloraxis\":{\"colorbar\":{\"outlinewidth\":0,\"ticks\":\"\"}},\"colorscale\":{\"sequential\":[[0.0,\"#0d0887\"],[0.1111111111111111,\"#46039f\"],[0.2222222222222222,\"#7201a8\"],[0.3333333333333333,\"#9c179e\"],[0.4444444444444444,\"#bd3786\"],[0.5555555555555556,\"#d8576b\"],[0.6666666666666666,\"#ed7953\"],[0.7777777777777778,\"#fb9f3a\"],[0.8888888888888888,\"#fdca26\"],[1.0,\"#f0f921\"]],\"sequentialminus\":[[0.0,\"#0d0887\"],[0.1111111111111111,\"#46039f\"],[0.2222222222222222,\"#7201a8\"],[0.3333333333333333,\"#9c179e\"],[0.4444444444444444,\"#bd3786\"],[0.5555555555555556,\"#d8576b\"],[0.6666666666666666,\"#ed7953\"],[0.7777777777777778,\"#fb9f3a\"],[0.8888888888888888,\"#fdca26\"],[1.0,\"#f0f921\"]],\"diverging\":[[0,\"#8e0152\"],[0.1,\"#c51b7d\"],[0.2,\"#de77ae\"],[0.3,\"#f1b6da\"],[0.4,\"#fde0ef\"],[0.5,\"#f7f7f7\"],[0.6,\"#e6f5d0\"],[0.7,\"#b8e186\"],[0.8,\"#7fbc41\"],[0.9,\"#4d9221\"],[1,\"#276419\"]]},\"xaxis\":{\"gridcolor\":\"white\",\"linecolor\":\"white\",\"ticks\":\"\",\"title\":{\"standoff\":15},\"zerolinecolor\":\"white\",\"automargin\":true,\"zerolinewidth\":2},\"yaxis\":{\"gridcolor\":\"white\",\"linecolor\":\"white\",\"ticks\":\"\",\"title\":{\"standoff\":15},\"zerolinecolor\":\"white\",\"automargin\":true,\"zerolinewidth\":2},\"scene\":{\"xaxis\":{\"backgroundcolor\":\"#E5ECF6\",\"gridcolor\":\"white\",\"linecolor\":\"white\",\"showbackground\":true,\"ticks\":\"\",\"zerolinecolor\":\"white\",\"gridwidth\":2},\"yaxis\":{\"backgroundcolor\":\"#E5ECF6\",\"gridcolor\":\"white\",\"linecolor\":\"white\",\"showbackground\":true,\"ticks\":\"\",\"zerolinecolor\":\"white\",\"gridwidth\":2},\"zaxis\":{\"backgroundcolor\":\"#E5ECF6\",\"gridcolor\":\"white\",\"linecolor\":\"white\",\"showbackground\":true,\"ticks\":\"\",\"zerolinecolor\":\"white\",\"gridwidth\":2}},\"shapedefaults\":{\"line\":{\"color\":\"#2a3f5f\"}},\"annotationdefaults\":{\"arrowcolor\":\"#2a3f5f\",\"arrowhead\":0,\"arrowwidth\":1},\"geo\":{\"bgcolor\":\"white\",\"landcolor\":\"#E5ECF6\",\"subunitcolor\":\"white\",\"showland\":true,\"showlakes\":true,\"lakecolor\":\"white\"},\"title\":{\"x\":0.05},\"mapbox\":{\"style\":\"light\"}}},\"xaxis\":{\"anchor\":\"y\",\"domain\":[0.0,1.0],\"title\":{\"text\":\"date\"}},\"yaxis\":{\"anchor\":\"x\",\"domain\":[0.0,1.0],\"title\":{\"text\":\"month_current\"}},\"legend\":{\"title\":{\"text\":\"type\"},\"tracegroupgap\":0},\"margin\":{\"t\":60},\"barmode\":\"relative\"},                        {\"responsive\": true}                    ).then(function(){\n",
       "                            \n",
       "var gd = document.getElementById('eae7a5d1-19c8-4085-aef0-cfc8b6efaa2e');\n",
       "var x = new MutationObserver(function (mutations, observer) {{\n",
       "        var display = window.getComputedStyle(gd).display;\n",
       "        if (!display || display === 'none') {{\n",
       "            console.log([gd, 'removed!']);\n",
       "            Plotly.purge(gd);\n",
       "            observer.disconnect();\n",
       "        }}\n",
       "}});\n",
       "\n",
       "// Listen for the removal of the full notebook cells\n",
       "var notebookContainer = gd.closest('#notebook-container');\n",
       "if (notebookContainer) {{\n",
       "    x.observe(notebookContainer, {childList: true});\n",
       "}}\n",
       "\n",
       "// Listen for the clearing of the current output cell\n",
       "var outputEl = gd.closest('.output');\n",
       "if (outputEl) {{\n",
       "    x.observe(outputEl, {childList: true});\n",
       "}}\n",
       "\n",
       "                        })                };                });            </script>        </div>"
      ]
     },
     "metadata": {},
     "output_type": "display_data"
    }
   ],
   "source": [
    "bm_over_time = brewing_materials[brewing_materials['material_type'].str.contains('Total') == False]\n",
    "fig = px.bar(\n",
    "    bm_over_time,\n",
    "    x='date',\n",
    "    y='month_current',\n",
    "    color='type'\n",
    ")\n",
    "\n",
    "fig.show()"
   ]
  },
  {
   "cell_type": "markdown",
   "id": "529e5934",
   "metadata": {},
   "source": [
    "Based on the above graph, it looks like there is something wrong with the data from 2016 onwards, so it might be better to filter out those values and only work with complete data. At this point, we can also sort the values within each date by total sum of each type. That way, the colors in each bar will be sorted by the overall value of each type.\n",
    "\n",
    "We can also update the axes and legend titles to more suitable values."
   ]
  },
  {
   "cell_type": "code",
   "execution_count": 331,
   "id": "fffc2abf",
   "metadata": {
    "scrolled": true
   },
   "outputs": [
    {
     "data": {
      "application/vnd.plotly.v1+json": {
       "config": {
        "plotlyServerURL": "https://plot.ly"
       },
       "data": [
        {
         "alignmentgroup": "True",
         "hovertemplate": "type=Malt and malt products<br>date=%{x}<br>month_current=%{y}<extra></extra>",
         "legendgroup": "Malt and malt products",
         "marker": {
          "color": "#636efa",
          "pattern": {
           "shape": ""
          }
         },
         "name": "Malt and malt products",
         "offsetgroup": "Malt and malt products",
         "orientation": "v",
         "showlegend": true,
         "textposition": "auto",
         "type": "bar",
         "x": [
          "2008-01-01T00:00:00",
          "2011-07-01T00:00:00",
          "2010-11-01T00:00:00",
          "2010-12-01T00:00:00",
          "2011-01-01T00:00:00",
          "2011-02-01T00:00:00",
          "2011-03-01T00:00:00",
          "2011-04-01T00:00:00",
          "2011-05-01T00:00:00",
          "2011-06-01T00:00:00",
          "2011-08-01T00:00:00",
          "2010-09-01T00:00:00",
          "2011-09-01T00:00:00",
          "2011-10-01T00:00:00",
          "2011-11-01T00:00:00",
          "2011-12-01T00:00:00",
          "2012-02-01T00:00:00",
          "2012-03-01T00:00:00",
          "2012-04-01T00:00:00",
          "2012-05-01T00:00:00",
          "2010-10-01T00:00:00",
          "2010-08-01T00:00:00",
          "2008-11-01T00:00:00",
          "2009-09-01T00:00:00",
          "2009-01-01T00:00:00",
          "2009-02-01T00:00:00",
          "2009-03-01T00:00:00",
          "2009-04-01T00:00:00",
          "2009-05-01T00:00:00",
          "2009-06-01T00:00:00",
          "2009-07-01T00:00:00",
          "2009-08-01T00:00:00",
          "2009-10-01T00:00:00",
          "2010-07-01T00:00:00",
          "2009-11-01T00:00:00",
          "2009-12-01T00:00:00",
          "2010-01-01T00:00:00",
          "2010-02-01T00:00:00",
          "2010-03-01T00:00:00",
          "2010-04-01T00:00:00",
          "2010-05-01T00:00:00",
          "2010-06-01T00:00:00",
          "2012-06-01T00:00:00",
          "2012-07-01T00:00:00",
          "2012-08-01T00:00:00",
          "2015-03-01T00:00:00",
          "2014-07-01T00:00:00",
          "2014-08-01T00:00:00",
          "2014-09-01T00:00:00",
          "2014-10-01T00:00:00",
          "2014-11-01T00:00:00",
          "2014-12-01T00:00:00",
          "2015-01-01T00:00:00",
          "2015-02-01T00:00:00",
          "2015-04-01T00:00:00",
          "2012-09-01T00:00:00",
          "2015-05-01T00:00:00",
          "2015-06-01T00:00:00",
          "2015-07-01T00:00:00",
          "2015-08-01T00:00:00",
          "2015-09-01T00:00:00",
          "2015-10-01T00:00:00",
          "2015-11-01T00:00:00",
          "2015-12-01T00:00:00",
          "2014-06-01T00:00:00",
          "2014-05-01T00:00:00",
          "2014-04-01T00:00:00",
          "2014-03-01T00:00:00",
          "2012-10-01T00:00:00",
          "2012-11-01T00:00:00",
          "2012-12-01T00:00:00",
          "2013-01-01T00:00:00",
          "2013-02-01T00:00:00",
          "2013-03-01T00:00:00",
          "2013-04-01T00:00:00",
          "2013-05-01T00:00:00",
          "2013-06-01T00:00:00",
          "2013-07-01T00:00:00",
          "2013-08-01T00:00:00",
          "2013-09-01T00:00:00",
          "2013-10-01T00:00:00",
          "2013-11-01T00:00:00",
          "2013-12-01T00:00:00",
          "2014-01-01T00:00:00",
          "2014-02-01T00:00:00",
          "2008-12-01T00:00:00",
          "2012-01-01T00:00:00",
          "2008-04-01T00:00:00",
          "2008-05-01T00:00:00",
          "2008-06-01T00:00:00",
          "2008-10-01T00:00:00",
          "2008-08-01T00:00:00",
          "2008-03-01T00:00:00",
          "2008-07-01T00:00:00",
          "2008-09-01T00:00:00",
          "2008-02-01T00:00:00"
         ],
         "xaxis": "x",
         "y": [
          374165152,
          350751002,
          298251207,
          285382073,
          322480722,
          307076591,
          363234183,
          349781343,
          352623620,
          372541998,
          361924350,
          329671455,
          312845217,
          313380880,
          303152329,
          293640890,
          320430694,
          366122047,
          357106000,
          373071360,
          333230020,
          358726926,
          322733711,
          370369895,
          361377478,
          339472713,
          380133298,
          384396702,
          391469434,
          381247341,
          382672919,
          362521445,
          333286901,
          384726834,
          309688888,
          302237874,
          330304432,
          305543380,
          366733254,
          374018118,
          399504457,
          380521275,
          387306474,
          363222892,
          362799587,
          319448327,
          370565836,
          342497886,
          346653525,
          329412159,
          272737485,
          153777615,
          314189672,
          292567431,
          310767436,
          336789908,
          332384559,
          383818029,
          351222725,
          326075404,
          328674963,
          305864536,
          248702560,
          155495923,
          382399712,
          332831907,
          314317091,
          335350528,
          321542825,
          295672895,
          299861553,
          326450615,
          311283986,
          340319408,
          334351807,
          353589770,
          370101067,
          367999200,
          339968116,
          303711377,
          321371392,
          275715285,
          294248188,
          315728713,
          293750079,
          318741733,
          315214803,
          388639443,
          411307544,
          415161326,
          353803777,
          389391266,
          399855819,
          405393784,
          362587470,
          355687578
         ],
         "yaxis": "y"
        },
        {
         "alignmentgroup": "True",
         "hovertemplate": "type=Sugar and syrups<br>date=%{x}<br>month_current=%{y}<extra></extra>",
         "legendgroup": "Sugar and syrups",
         "marker": {
          "color": "#EF553B",
          "pattern": {
           "shape": ""
          }
         },
         "name": "Sugar and syrups",
         "offsetgroup": "Sugar and syrups",
         "orientation": "v",
         "showlegend": true,
         "textposition": "auto",
         "type": "bar",
         "x": [
          "2011-01-01T00:00:00",
          "2009-08-01T00:00:00",
          "2013-11-01T00:00:00",
          "2010-06-01T00:00:00",
          "2008-09-01T00:00:00",
          "2012-02-01T00:00:00",
          "2015-04-01T00:00:00",
          "2009-09-01T00:00:00",
          "2013-05-01T00:00:00",
          "2014-08-01T00:00:00",
          "2012-03-01T00:00:00",
          "2015-05-01T00:00:00",
          "2014-09-01T00:00:00",
          "2013-04-01T00:00:00",
          "2009-07-01T00:00:00",
          "2010-07-01T00:00:00",
          "2011-06-01T00:00:00",
          "2011-10-01T00:00:00",
          "2009-06-01T00:00:00",
          "2015-06-01T00:00:00",
          "2010-08-01T00:00:00",
          "2014-07-01T00:00:00",
          "2011-07-01T00:00:00",
          "2008-04-01T00:00:00",
          "2011-05-01T00:00:00",
          "2013-09-01T00:00:00",
          "2014-12-01T00:00:00",
          "2008-02-01T00:00:00",
          "2013-08-01T00:00:00",
          "2008-06-01T00:00:00",
          "2014-11-01T00:00:00",
          "2010-01-01T00:00:00",
          "2010-03-01T00:00:00",
          "2015-01-01T00:00:00",
          "2011-11-01T00:00:00",
          "2013-07-01T00:00:00",
          "2011-09-01T00:00:00",
          "2009-12-01T00:00:00",
          "2014-03-01T00:00:00",
          "2012-01-01T00:00:00",
          "2010-04-01T00:00:00",
          "2015-02-01T00:00:00",
          "2011-12-01T00:00:00",
          "2011-08-01T00:00:00",
          "2009-11-01T00:00:00",
          "2014-10-01T00:00:00",
          "2008-08-01T00:00:00",
          "2013-06-01T00:00:00",
          "2013-10-01T00:00:00",
          "2010-05-01T00:00:00",
          "2009-10-01T00:00:00",
          "2015-03-01T00:00:00",
          "2013-03-01T00:00:00",
          "2012-04-01T00:00:00",
          "2009-05-01T00:00:00",
          "2011-02-01T00:00:00",
          "2015-09-01T00:00:00",
          "2014-01-01T00:00:00",
          "2009-02-01T00:00:00",
          "2011-03-01T00:00:00",
          "2010-11-01T00:00:00",
          "2012-08-01T00:00:00",
          "2009-01-01T00:00:00",
          "2015-10-01T00:00:00",
          "2008-05-01T00:00:00",
          "2014-02-01T00:00:00",
          "2012-12-01T00:00:00",
          "2008-12-01T00:00:00",
          "2013-01-01T00:00:00",
          "2015-11-01T00:00:00",
          "2012-09-01T00:00:00",
          "2014-04-01T00:00:00",
          "2010-12-01T00:00:00",
          "2008-03-01T00:00:00",
          "2008-11-01T00:00:00",
          "2008-07-01T00:00:00",
          "2015-12-01T00:00:00",
          "2012-11-01T00:00:00",
          "2008-10-01T00:00:00",
          "2012-10-01T00:00:00",
          "2010-10-01T00:00:00",
          "2014-05-01T00:00:00",
          "2010-02-01T00:00:00",
          "2013-02-01T00:00:00",
          "2011-04-01T00:00:00",
          "2012-06-01T00:00:00",
          "2009-03-01T00:00:00",
          "2010-09-01T00:00:00",
          "2013-12-01T00:00:00",
          "2008-01-01T00:00:00",
          "2012-05-01T00:00:00",
          "2014-06-01T00:00:00",
          "2015-07-01T00:00:00",
          "2009-04-01T00:00:00",
          "2012-07-01T00:00:00",
          "2015-08-01T00:00:00"
         ],
         "xaxis": "x",
         "y": [
          73793509,
          61354833,
          58514321,
          67266337,
          71982604,
          65344809,
          82896506,
          50025197,
          96158421,
          84424807,
          79859286,
          81171257,
          71386473,
          92273777,
          64776817,
          76584550,
          67178952,
          65478836,
          69563483,
          78547713,
          75815015,
          79758226,
          62190400,
          81199989,
          66314234,
          62065299,
          11292897,
          80188744,
          79896297,
          81012422,
          61665023,
          47308358,
          61007512,
          71798065,
          55627592,
          89540845,
          61317581,
          39077880,
          86871712,
          62988309,
          73040421,
          74138605,
          52413557,
          60003874,
          44926666,
          77825404,
          83928121,
          87459068,
          66002563,
          76115769,
          47840939,
          82468474,
          85703037,
          82481856,
          75011893,
          63374850,
          71270147,
          72039259,
          69375203,
          74925793,
          59184495,
          77156577,
          67834569,
          77650579,
          89946309,
          74414600,
          59586860,
          38952441,
          72878590,
          61470208,
          65251144,
          83132566,
          49709103,
          78907213,
          44000736,
          76728131,
          11332454,
          64916501,
          42828943,
          70185532,
          67265699,
          81403402,
          46718854,
          71244280,
          68297327,
          89443470,
          70030415,
          69053125,
          61764460,
          78358212,
          87785168,
          78715950,
          74805384,
          71341108,
          92543919,
          80080228
         ],
         "yaxis": "y"
        },
        {
         "alignmentgroup": "True",
         "hovertemplate": "type=Rice and rice products<br>date=%{x}<br>month_current=%{y}<extra></extra>",
         "legendgroup": "Rice and rice products",
         "marker": {
          "color": "#00cc96",
          "pattern": {
           "shape": ""
          }
         },
         "name": "Rice and rice products",
         "offsetgroup": "Rice and rice products",
         "orientation": "v",
         "showlegend": true,
         "textposition": "auto",
         "type": "bar",
         "x": [
          "2008-08-01T00:00:00",
          "2010-08-01T00:00:00",
          "2014-11-01T00:00:00",
          "2011-09-01T00:00:00",
          "2014-04-01T00:00:00",
          "2011-02-01T00:00:00",
          "2011-05-01T00:00:00",
          "2013-09-01T00:00:00",
          "2011-01-01T00:00:00",
          "2010-09-01T00:00:00",
          "2010-03-01T00:00:00",
          "2011-10-01T00:00:00",
          "2014-03-01T00:00:00",
          "2013-12-01T00:00:00",
          "2008-04-01T00:00:00",
          "2010-04-01T00:00:00",
          "2011-07-01T00:00:00",
          "2011-06-01T00:00:00",
          "2010-12-01T00:00:00",
          "2014-06-01T00:00:00",
          "2014-09-01T00:00:00",
          "2010-06-01T00:00:00",
          "2010-07-01T00:00:00",
          "2011-04-01T00:00:00",
          "2008-03-01T00:00:00",
          "2010-11-01T00:00:00",
          "2014-07-01T00:00:00",
          "2011-08-01T00:00:00",
          "2014-02-01T00:00:00",
          "2010-10-01T00:00:00",
          "2014-01-01T00:00:00",
          "2014-10-01T00:00:00",
          "2010-05-01T00:00:00",
          "2013-10-01T00:00:00",
          "2014-05-01T00:00:00",
          "2011-03-01T00:00:00",
          "2014-08-01T00:00:00",
          "2013-11-01T00:00:00",
          "2008-07-01T00:00:00",
          "2012-11-01T00:00:00",
          "2014-12-01T00:00:00",
          "2008-06-01T00:00:00",
          "2013-02-01T00:00:00",
          "2009-04-01T00:00:00",
          "2015-08-01T00:00:00",
          "2012-06-01T00:00:00",
          "2009-05-01T00:00:00",
          "2013-03-01T00:00:00",
          "2015-07-01T00:00:00",
          "2012-05-01T00:00:00",
          "2009-06-01T00:00:00",
          "2010-02-01T00:00:00",
          "2013-04-01T00:00:00",
          "2012-04-01T00:00:00",
          "2009-07-01T00:00:00",
          "2012-03-01T00:00:00",
          "2009-08-01T00:00:00",
          "2012-07-01T00:00:00",
          "2009-03-01T00:00:00",
          "2015-09-01T00:00:00",
          "2012-12-01T00:00:00",
          "2008-11-01T00:00:00",
          "2015-12-01T00:00:00",
          "2012-10-01T00:00:00",
          "2008-01-01T00:00:00",
          "2008-05-01T00:00:00",
          "2008-12-01T00:00:00",
          "2015-11-01T00:00:00",
          "2013-01-01T00:00:00",
          "2012-09-01T00:00:00",
          "2009-01-01T00:00:00",
          "2015-10-01T00:00:00",
          "2008-10-01T00:00:00",
          "2009-02-01T00:00:00",
          "2012-08-01T00:00:00",
          "2015-05-01T00:00:00",
          "2015-06-01T00:00:00",
          "2013-07-01T00:00:00",
          "2013-08-01T00:00:00",
          "2009-12-01T00:00:00",
          "2015-02-01T00:00:00",
          "2008-02-01T00:00:00",
          "2009-11-01T00:00:00",
          "2011-12-01T00:00:00",
          "2012-01-01T00:00:00",
          "2008-09-01T00:00:00",
          "2015-03-01T00:00:00",
          "2013-06-01T00:00:00",
          "2010-01-01T00:00:00",
          "2015-01-01T00:00:00",
          "2009-10-01T00:00:00",
          "2009-09-01T00:00:00",
          "2012-02-01T00:00:00",
          "2013-05-01T00:00:00",
          "2015-04-01T00:00:00",
          "2011-11-01T00:00:00"
         ],
         "xaxis": "x",
         "y": [
          70993476,
          63192375,
          47373098,
          55188865,
          55893495,
          54287863,
          62118962,
          53400257,
          108112318,
          54884345,
          59991160,
          50132872,
          48705125,
          47832575,
          73309991,
          59803024,
          69787950,
          69701464,
          47504543,
          47368927,
          56748056,
          66627541,
          68031711,
          53392697,
          72629666,
          53779401,
          64828200,
          72428017,
          48969378,
          55450803,
          52099471,
          54599783,
          69284131,
          54082902,
          59209512,
          62041512,
          58158328,
          44402687,
          74945452,
          61082730,
          44864070,
          71779022,
          61926310,
          63166930,
          58190840,
          59527958,
          67120251,
          62869950,
          64827600,
          61702673,
          64576127,
          55198940,
          63584763,
          57264320,
          63277242,
          59022797,
          61417028,
          60381322,
          64006735,
          48134917,
          51883289,
          53971515,
          36403087,
          59885904,
          72402143,
          76219021,
          61716256,
          38579400,
          62177066,
          62119884,
          59961083,
          45050667,
          58607059,
          60150183,
          65214228,
          59210512,
          47366346,
          76426446,
          66799703,
          51919861,
          48975137,
          66061597,
          50460060,
          46841203,
          63568058,
          61739894,
          48710754,
          64271218,
          59701345,
          52438465,
          55167784,
          57686245,
          54333308,
          65774053,
          55895095,
          43496310
         ],
         "yaxis": "y"
        },
        {
         "alignmentgroup": "True",
         "hovertemplate": "type=Corn and corn products<br>date=%{x}<br>month_current=%{y}<extra></extra>",
         "legendgroup": "Corn and corn products",
         "marker": {
          "color": "#ab63fa",
          "pattern": {
           "shape": ""
          }
         },
         "name": "Corn and corn products",
         "offsetgroup": "Corn and corn products",
         "orientation": "v",
         "showlegend": true,
         "textposition": "auto",
         "type": "bar",
         "x": [
          "2011-02-01T00:00:00",
          "2011-09-01T00:00:00",
          "2013-01-01T00:00:00",
          "2014-02-01T00:00:00",
          "2011-11-01T00:00:00",
          "2008-05-01T00:00:00",
          "2011-10-01T00:00:00",
          "2012-12-01T00:00:00",
          "2013-09-01T00:00:00",
          "2012-09-01T00:00:00",
          "2011-03-01T00:00:00",
          "2011-12-01T00:00:00",
          "2012-10-01T00:00:00",
          "2008-04-01T00:00:00",
          "2013-08-01T00:00:00",
          "2014-03-01T00:00:00",
          "2011-04-01T00:00:00",
          "2011-07-01T00:00:00",
          "2012-08-01T00:00:00",
          "2013-07-01T00:00:00",
          "2013-05-01T00:00:00",
          "2013-11-01T00:00:00",
          "2008-06-01T00:00:00",
          "2012-04-01T00:00:00",
          "2013-04-01T00:00:00",
          "2011-06-01T00:00:00",
          "2012-02-01T00:00:00",
          "2008-07-01T00:00:00",
          "2013-12-01T00:00:00",
          "2013-06-01T00:00:00",
          "2012-05-01T00:00:00",
          "2011-08-01T00:00:00",
          "2013-03-01T00:00:00",
          "2012-06-01T00:00:00",
          "2011-05-01T00:00:00",
          "2014-01-01T00:00:00",
          "2013-02-01T00:00:00",
          "2012-03-01T00:00:00",
          "2012-01-01T00:00:00",
          "2008-01-01T00:00:00",
          "2013-10-01T00:00:00",
          "2012-07-01T00:00:00",
          "2014-06-01T00:00:00",
          "2009-12-01T00:00:00",
          "2008-03-01T00:00:00",
          "2008-10-01T00:00:00",
          "2009-07-01T00:00:00",
          "2008-08-01T00:00:00",
          "2010-02-01T00:00:00",
          "2009-03-01T00:00:00",
          "2009-09-01T00:00:00",
          "2015-09-01T00:00:00",
          "2010-08-01T00:00:00",
          "2014-08-01T00:00:00",
          "2009-04-01T00:00:00",
          "2014-12-01T00:00:00",
          "2010-07-01T00:00:00",
          "2015-08-01T00:00:00",
          "2015-05-01T00:00:00",
          "2010-03-01T00:00:00",
          "2009-05-01T00:00:00",
          "2014-09-01T00:00:00",
          "2010-06-01T00:00:00",
          "2009-08-01T00:00:00",
          "2015-07-01T00:00:00",
          "2009-06-01T00:00:00",
          "2014-10-01T00:00:00",
          "2010-05-01T00:00:00",
          "2014-11-01T00:00:00",
          "2015-06-01T00:00:00",
          "2014-07-01T00:00:00",
          "2010-09-01T00:00:00",
          "2010-04-01T00:00:00",
          "2015-02-01T00:00:00",
          "2015-03-01T00:00:00",
          "2015-12-01T00:00:00",
          "2008-12-01T00:00:00",
          "2010-12-01T00:00:00",
          "2014-04-01T00:00:00",
          "2014-05-01T00:00:00",
          "2009-11-01T00:00:00",
          "2011-01-01T00:00:00",
          "2010-11-01T00:00:00",
          "2015-11-01T00:00:00",
          "2008-11-01T00:00:00",
          "2008-09-01T00:00:00",
          "2009-01-01T00:00:00",
          "2009-10-01T00:00:00",
          "2008-02-01T00:00:00",
          "2010-01-01T00:00:00",
          "2012-11-01T00:00:00",
          "2015-04-01T00:00:00",
          "2010-10-01T00:00:00",
          "2015-10-01T00:00:00",
          "2009-02-01T00:00:00",
          "2015-01-01T00:00:00"
         ],
         "xaxis": "x",
         "y": [
          53981943,
          47180399,
          50597106,
          49718568,
          53879230,
          63945802,
          48090884,
          43809820,
          51834721,
          50320517,
          61094976,
          50507994,
          50852126,
          61555980,
          50568490,
          53923554,
          58628353,
          47864835,
          53320491,
          49297406,
          53185970,
          41543251,
          65645480,
          61313630,
          46416330,
          49399750,
          62631394,
          66406321,
          48242094,
          53527463,
          66220273,
          49085339,
          47314812,
          63113188,
          50573951,
          60186876,
          46499056,
          62376094,
          61859978,
          57563519,
          53528251,
          62878256,
          59290119,
          45851254,
          60800221,
          63047343,
          68510353,
          64953210,
          54486996,
          66543131,
          54632420,
          41626738,
          60424525,
          49539298,
          67266636,
          30884481,
          58694301,
          49124855,
          59463385,
          60991969,
          62481084,
          46554596,
          60811086,
          57684547,
          47503607,
          62107546,
          46194312,
          62684555,
          38032693,
          58932810,
          47760795,
          77399155,
          61273430,
          49291032,
          53588473,
          27270242,
          49919452,
          48503335,
          51063013,
          59741914,
          47018983,
          58632672,
          47348859,
          31612117,
          53628776,
          59787127,
          63115693,
          55590153,
          59513161,
          56705162,
          44981825,
          50651219,
          51427974,
          41417962,
          60966715,
          59759340
         ],
         "yaxis": "y"
        },
        {
         "alignmentgroup": "True",
         "hovertemplate": "type=Hops (dry)<br>date=%{x}<br>month_current=%{y}<extra></extra>",
         "legendgroup": "Hops (dry)",
         "marker": {
          "color": "#FFA15A",
          "pattern": {
           "shape": ""
          }
         },
         "name": "Hops (dry)",
         "offsetgroup": "Hops (dry)",
         "orientation": "v",
         "showlegend": true,
         "textposition": "auto",
         "type": "bar",
         "x": [
          "2013-04-01T00:00:00",
          "2012-03-01T00:00:00",
          "2009-07-01T00:00:00",
          "2009-09-01T00:00:00",
          "2015-05-01T00:00:00",
          "2008-04-01T00:00:00",
          "2009-10-01T00:00:00",
          "2013-05-01T00:00:00",
          "2012-01-01T00:00:00",
          "2009-08-01T00:00:00",
          "2015-04-01T00:00:00",
          "2012-02-01T00:00:00",
          "2015-03-01T00:00:00",
          "2008-01-01T00:00:00",
          "2008-09-01T00:00:00",
          "2009-02-01T00:00:00",
          "2012-10-01T00:00:00",
          "2015-12-01T00:00:00",
          "2012-11-01T00:00:00",
          "2008-11-01T00:00:00",
          "2012-09-01T00:00:00",
          "2015-11-01T00:00:00",
          "2008-12-01T00:00:00",
          "2015-10-01T00:00:00",
          "2012-12-01T00:00:00",
          "2012-08-01T00:00:00",
          "2009-01-01T00:00:00",
          "2015-09-01T00:00:00",
          "2008-05-01T00:00:00",
          "2012-07-01T00:00:00",
          "2009-06-01T00:00:00",
          "2013-01-01T00:00:00",
          "2009-03-01T00:00:00",
          "2015-08-01T00:00:00",
          "2012-06-01T00:00:00",
          "2009-04-01T00:00:00",
          "2013-02-01T00:00:00",
          "2013-06-01T00:00:00",
          "2012-05-01T00:00:00",
          "2015-07-01T00:00:00",
          "2009-05-01T00:00:00",
          "2015-06-01T00:00:00",
          "2013-03-01T00:00:00",
          "2012-04-01T00:00:00",
          "2009-11-01T00:00:00",
          "2011-01-01T00:00:00",
          "2010-06-01T00:00:00",
          "2013-12-01T00:00:00",
          "2014-10-01T00:00:00",
          "2010-05-01T00:00:00",
          "2013-10-01T00:00:00",
          "2014-09-01T00:00:00",
          "2011-07-01T00:00:00",
          "2011-12-01T00:00:00",
          "2014-08-01T00:00:00",
          "2013-11-01T00:00:00",
          "2011-06-01T00:00:00",
          "2010-07-01T00:00:00",
          "2014-07-01T00:00:00",
          "2010-08-01T00:00:00",
          "2011-05-01T00:00:00",
          "2010-09-01T00:00:00",
          "2010-04-01T00:00:00",
          "2011-04-01T00:00:00",
          "2014-06-01T00:00:00",
          "2010-10-01T00:00:00",
          "2014-01-01T00:00:00",
          "2008-03-01T00:00:00",
          "2011-03-01T00:00:00",
          "2014-05-01T00:00:00",
          "2010-11-01T00:00:00",
          "2014-02-01T00:00:00",
          "2011-02-01T00:00:00",
          "2014-04-01T00:00:00",
          "2010-12-01T00:00:00",
          "2008-07-01T00:00:00",
          "2011-08-01T00:00:00",
          "2008-10-01T00:00:00",
          "2010-02-01T00:00:00",
          "2011-09-01T00:00:00",
          "2014-12-01T00:00:00",
          "2013-08-01T00:00:00",
          "2011-10-01T00:00:00",
          "2010-01-01T00:00:00",
          "2015-01-01T00:00:00",
          "2011-11-01T00:00:00",
          "2008-06-01T00:00:00",
          "2014-11-01T00:00:00",
          "2010-03-01T00:00:00",
          "2013-07-01T00:00:00",
          "2008-02-01T00:00:00",
          "2015-02-01T00:00:00",
          "2013-09-01T00:00:00",
          "2008-08-01T00:00:00",
          "2009-12-01T00:00:00",
          "2014-03-01T00:00:00"
         ],
         "xaxis": "x",
         "y": [
          9791137,
          10288665,
          7309199,
          5216389,
          2188410,
          6864440,
          1326445,
          10286943,
          9562820,
          5393471,
          2184404,
          1366949,
          3743541,
          4506546,
          3788942,
          4601598,
          9505007,
          284114545,
          10621547,
          3897905,
          10180667,
          1360528,
          1576751,
          1826524,
          7808600,
          10374025,
          1461121,
          4335014,
          7470130,
          12188084,
          6854083,
          9164708,
          6787391,
          1807220,
          12720422,
          5574889,
          9456485,
          12319034,
          12583340,
          2352314,
          7051829,
          2991932,
          9754327,
          11641934,
          4442654,
          6059066,
          10418215,
          2129685,
          1899541,
          9080801,
          1681113,
          4289504,
          9514024,
          11606511,
          1835895,
          1440544,
          10603566,
          8297261,
          2423064,
          7272871,
          10076039,
          6437916,
          8240399,
          9942341,
          2894437,
          9244763,
          1890937,
          6067167,
          10736471,
          2173226,
          7727370,
          1733845,
          7617974,
          2167689,
          6540100,
          1759452,
          7575266,
          3788949,
          4899463,
          7462299,
          284055954,
          1670049,
          7238838,
          4765924,
          1899000,
          8455615,
          7361941,
          1492949,
          7932387,
          11044977,
          1815271,
          1754927,
          2339398,
          5992025,
          3887961,
          3719722
         ],
         "yaxis": "y"
        },
        {
         "alignmentgroup": "True",
         "hovertemplate": "type=Other<br>date=%{x}<br>month_current=%{y}<extra></extra>",
         "legendgroup": "Other",
         "marker": {
          "color": "#19d3f3",
          "pattern": {
           "shape": ""
          }
         },
         "name": "Other",
         "offsetgroup": "Other",
         "orientation": "v",
         "showlegend": true,
         "textposition": "auto",
         "type": "bar",
         "x": [
          "2014-02-01T00:00:00",
          "2013-05-01T00:00:00",
          "2014-03-01T00:00:00",
          "2015-02-01T00:00:00",
          "2014-05-01T00:00:00",
          "2012-12-01T00:00:00",
          "2015-03-01T00:00:00",
          "2014-01-01T00:00:00",
          "2012-11-01T00:00:00",
          "2015-10-01T00:00:00",
          "2013-07-01T00:00:00",
          "2015-09-01T00:00:00",
          "2014-04-01T00:00:00",
          "2015-01-01T00:00:00",
          "2015-11-01T00:00:00",
          "2014-12-01T00:00:00",
          "2013-09-01T00:00:00",
          "2014-06-01T00:00:00",
          "2013-12-01T00:00:00",
          "2008-01-01T00:00:00",
          "2013-03-01T00:00:00",
          "2015-05-01T00:00:00",
          "2014-09-01T00:00:00",
          "2015-06-01T00:00:00",
          "2013-10-01T00:00:00",
          "2013-04-01T00:00:00",
          "2008-04-01T00:00:00",
          "2013-02-01T00:00:00",
          "2015-07-01T00:00:00",
          "2008-02-01T00:00:00",
          "2014-08-01T00:00:00",
          "2014-11-01T00:00:00",
          "2013-08-01T00:00:00",
          "2013-11-01T00:00:00",
          "2015-08-01T00:00:00",
          "2008-03-01T00:00:00",
          "2014-07-01T00:00:00",
          "2013-01-01T00:00:00",
          "2015-04-01T00:00:00",
          "2014-10-01T00:00:00",
          "2013-06-01T00:00:00",
          "2015-12-01T00:00:00",
          "2010-10-01T00:00:00",
          "2009-08-01T00:00:00",
          "2010-06-01T00:00:00",
          "2010-05-01T00:00:00",
          "2011-12-01T00:00:00",
          "2010-04-01T00:00:00",
          "2010-03-01T00:00:00",
          "2012-01-01T00:00:00",
          "2010-02-01T00:00:00",
          "2008-08-01T00:00:00",
          "2011-05-01T00:00:00",
          "2012-02-01T00:00:00",
          "2009-12-01T00:00:00",
          "2012-03-01T00:00:00",
          "2009-11-01T00:00:00",
          "2009-10-01T00:00:00",
          "2009-09-01T00:00:00",
          "2011-11-01T00:00:00",
          "2010-07-01T00:00:00",
          "2010-08-01T00:00:00",
          "2011-01-01T00:00:00",
          "2011-04-01T00:00:00",
          "2011-06-01T00:00:00",
          "2011-03-01T00:00:00",
          "2011-07-01T00:00:00",
          "2008-06-01T00:00:00",
          "2011-02-01T00:00:00",
          "2011-08-01T00:00:00",
          "2010-09-01T00:00:00",
          "2010-12-01T00:00:00",
          "2010-11-01T00:00:00",
          "2011-09-01T00:00:00",
          "2008-07-01T00:00:00",
          "2012-10-01T00:00:00",
          "2011-10-01T00:00:00",
          "2012-04-01T00:00:00",
          "2010-01-01T00:00:00",
          "2008-11-01T00:00:00",
          "2012-07-01T00:00:00",
          "2008-09-01T00:00:00",
          "2012-09-01T00:00:00",
          "2012-06-01T00:00:00",
          "2008-12-01T00:00:00",
          "2009-05-01T00:00:00",
          "2009-03-01T00:00:00",
          "2009-01-01T00:00:00",
          "2009-06-01T00:00:00",
          "2009-04-01T00:00:00",
          "2008-10-01T00:00:00",
          "2012-08-01T00:00:00",
          "2012-05-01T00:00:00",
          "2009-02-01T00:00:00",
          "2009-07-01T00:00:00",
          "2008-05-01T00:00:00"
         ],
         "xaxis": "x",
         "y": [
          11645142,
          12546040,
          13362414,
          12263652,
          15253410,
          9358030,
          14164052,
          10970144,
          9681814,
          13718274,
          13505472,
          18361202,
          13188832,
          11573104,
          13861638,
          2442418,
          12336644,
          32242095,
          12527321,
          1291615,
          13802289,
          16048061,
          17318046,
          33086953,
          11808695,
          11928594,
          1332607,
          9279419,
          25049222,
          1599119,
          13675594,
          13116911,
          13373297,
          11793486,
          13967238,
          2211210,
          25013032,
          10673797,
          14074835,
          13016053,
          13473911,
          3237774,
          8888902,
          10315854,
          12877498,
          11525375,
          8090886,
          11213037,
          11678127,
          8994300,
          9022834,
          1664171,
          10565868,
          7134068,
          8051559,
          11713920,
          9915569,
          8944515,
          11250446,
          8504780,
          13378852,
          9572674,
          7972930,
          10127397,
          11982901,
          10489641,
          9659056,
          2446573,
          7997916,
          9175477,
          9180751,
          8217736,
          9117383,
          10334415,
          1437970,
          10274692,
          9544745,
          9872076,
          10537742,
          1247790,
          10558223,
          1732698,
          11155361,
          11784212,
          1574456,
          6915331,
          6604657,
          1424001,
          6216613,
          6169478,
          1568462,
          10626133,
          10260031,
          939857,
          13368693,
          1804156
         ],
         "yaxis": "y"
        },
        {
         "alignmentgroup": "True",
         "hovertemplate": "type=Barley and barley products<br>date=%{x}<br>month_current=%{y}<extra></extra>",
         "legendgroup": "Barley and barley products",
         "marker": {
          "color": "#FF6692",
          "pattern": {
           "shape": ""
          }
         },
         "name": "Barley and barley products",
         "offsetgroup": "Barley and barley products",
         "orientation": "v",
         "showlegend": true,
         "textposition": "auto",
         "type": "bar",
         "x": [
          "2014-06-01T00:00:00",
          "2008-03-01T00:00:00",
          "2008-10-01T00:00:00",
          "2014-05-01T00:00:00",
          "2010-11-01T00:00:00",
          "2010-10-01T00:00:00",
          "2009-01-01T00:00:00",
          "2009-02-01T00:00:00",
          "2015-10-01T00:00:00",
          "2010-12-01T00:00:00",
          "2015-05-01T00:00:00",
          "2014-03-01T00:00:00",
          "2014-04-01T00:00:00",
          "2008-01-01T00:00:00",
          "2011-01-01T00:00:00",
          "2015-09-01T00:00:00",
          "2011-02-01T00:00:00",
          "2015-11-01T00:00:00",
          "2008-12-01T00:00:00",
          "2014-02-01T00:00:00",
          "2011-03-01T00:00:00",
          "2015-12-01T00:00:00",
          "2008-07-01T00:00:00",
          "2011-04-01T00:00:00",
          "2014-01-01T00:00:00",
          "2008-11-01T00:00:00",
          "2011-05-01T00:00:00",
          "2010-09-01T00:00:00",
          "2010-07-01T00:00:00",
          "2014-07-01T00:00:00",
          "2015-06-01T00:00:00",
          "2015-01-01T00:00:00",
          "2010-01-01T00:00:00",
          "2009-06-01T00:00:00",
          "2008-02-01T00:00:00",
          "2009-12-01T00:00:00",
          "2015-02-01T00:00:00",
          "2009-11-01T00:00:00",
          "2010-08-01T00:00:00",
          "2009-07-01T00:00:00",
          "2015-03-01T00:00:00",
          "2009-10-01T00:00:00",
          "2008-09-01T00:00:00",
          "2015-04-01T00:00:00",
          "2009-09-01T00:00:00",
          "2015-07-01T00:00:00",
          "2010-02-01T00:00:00",
          "2014-12-01T00:00:00",
          "2009-05-01T00:00:00",
          "2010-03-01T00:00:00",
          "2014-11-01T00:00:00",
          "2010-04-01T00:00:00",
          "2015-08-01T00:00:00",
          "2009-04-01T00:00:00",
          "2014-10-01T00:00:00",
          "2010-05-01T00:00:00",
          "2014-09-01T00:00:00",
          "2010-06-01T00:00:00",
          "2008-08-01T00:00:00",
          "2009-08-01T00:00:00",
          "2009-03-01T00:00:00",
          "2014-08-01T00:00:00",
          "2013-12-01T00:00:00",
          "2008-05-01T00:00:00",
          "2011-06-01T00:00:00",
          "2013-10-01T00:00:00",
          "2013-09-01T00:00:00",
          "2011-10-01T00:00:00",
          "2013-08-01T00:00:00",
          "2011-11-01T00:00:00",
          "2008-04-01T00:00:00",
          "2013-07-01T00:00:00",
          "2011-12-01T00:00:00",
          "2012-01-01T00:00:00",
          "2013-06-01T00:00:00",
          "2008-06-01T00:00:00",
          "2013-05-01T00:00:00",
          "2012-03-01T00:00:00",
          "2013-04-01T00:00:00",
          "2012-04-01T00:00:00",
          "2012-05-01T00:00:00",
          "2013-03-01T00:00:00",
          "2012-06-01T00:00:00",
          "2013-02-01T00:00:00",
          "2012-07-01T00:00:00",
          "2013-01-01T00:00:00",
          "2012-08-01T00:00:00",
          "2012-09-01T00:00:00",
          "2012-12-01T00:00:00",
          "2012-10-01T00:00:00",
          "2012-11-01T00:00:00",
          "2011-09-01T00:00:00",
          "2012-02-01T00:00:00",
          "2011-08-01T00:00:00",
          "2013-11-01T00:00:00",
          "2011-07-01T00:00:00"
         ],
         "xaxis": "x",
         "y": [
          23906204,
          6950276,
          3825118,
          11263219,
          5235825,
          6203762,
          2169601,
          3334476,
          13833433,
          12815197,
          11006146,
          20694786,
          10091164,
          3800844,
          4705175,
          26802044,
          4322047,
          8852396,
          6152633,
          8893650,
          11614373,
          11466970,
          3395619,
          4768751,
          8185386,
          3309266,
          5564462,
          14107767,
          5224206,
          11164504,
          24840171,
          8728262,
          3668374,
          8146509,
          3236714,
          7271474,
          9108543,
          3374449,
          5276045,
          4185235,
          22013439,
          3615556,
          8282404,
          9432668,
          8106300,
          11059580,
          3726630,
          9077439,
          3684818,
          10220654,
          10643784,
          5030962,
          11696242,
          3349556,
          14289508,
          4903020,
          25194159,
          11280602,
          3772040,
          3789027,
          7094005,
          10774103,
          19579344,
          3660048,
          10363329,
          10271881,
          19626718,
          6773403,
          10069803,
          5909830,
          3912088,
          9479272,
          11793946,
          5391781,
          18971859,
          7751285,
          9322039,
          15647530,
          8355161,
          7634002,
          7116069,
          15469983,
          17104839,
          7486134,
          9486054,
          7749970,
          8622164,
          16834020,
          14176754,
          9353404,
          7563555,
          32343039,
          5493934,
          6775228,
          7902110,
          6014579
         ],
         "yaxis": "y"
        },
        {
         "alignmentgroup": "True",
         "hovertemplate": "type=Wheat and wheat products<br>date=%{x}<br>month_current=%{y}<extra></extra>",
         "legendgroup": "Wheat and wheat products",
         "marker": {
          "color": "#B6E880",
          "pattern": {
           "shape": ""
          }
         },
         "name": "Wheat and wheat products",
         "offsetgroup": "Wheat and wheat products",
         "orientation": "v",
         "showlegend": true,
         "textposition": "auto",
         "type": "bar",
         "x": [
          "2013-04-01T00:00:00",
          "2012-05-01T00:00:00",
          "2009-08-01T00:00:00",
          "2013-11-01T00:00:00",
          "2008-09-01T00:00:00",
          "2013-03-01T00:00:00",
          "2015-04-01T00:00:00",
          "2014-01-01T00:00:00",
          "2009-09-01T00:00:00",
          "2009-10-01T00:00:00",
          "2015-03-01T00:00:00",
          "2012-04-01T00:00:00",
          "2009-11-01T00:00:00",
          "2011-08-01T00:00:00",
          "2015-05-01T00:00:00",
          "2014-03-01T00:00:00",
          "2012-03-01T00:00:00",
          "2015-01-01T00:00:00",
          "2011-07-01T00:00:00",
          "2010-01-01T00:00:00",
          "2008-02-01T00:00:00",
          "2013-05-01T00:00:00",
          "2012-02-01T00:00:00",
          "2014-12-01T00:00:00",
          "2010-02-01T00:00:00",
          "2010-03-01T00:00:00",
          "2014-11-01T00:00:00",
          "2012-01-01T00:00:00",
          "2011-03-01T00:00:00",
          "2015-02-01T00:00:00",
          "2009-07-01T00:00:00",
          "2010-04-01T00:00:00",
          "2012-12-01T00:00:00",
          "2011-06-01T00:00:00",
          "2015-12-01T00:00:00",
          "2012-11-01T00:00:00",
          "2008-11-01T00:00:00",
          "2012-10-01T00:00:00",
          "2008-10-01T00:00:00",
          "2013-12-01T00:00:00",
          "2008-12-01T00:00:00",
          "2015-11-01T00:00:00",
          "2008-05-01T00:00:00",
          "2012-09-01T00:00:00",
          "2011-05-01T00:00:00",
          "2009-01-01T00:00:00",
          "2015-10-01T00:00:00",
          "2008-01-01T00:00:00",
          "2011-04-01T00:00:00",
          "2009-02-01T00:00:00",
          "2015-09-01T00:00:00",
          "2012-08-01T00:00:00",
          "2009-03-01T00:00:00",
          "2013-01-01T00:00:00",
          "2015-08-01T00:00:00",
          "2009-04-01T00:00:00",
          "2012-07-01T00:00:00",
          "2009-05-01T00:00:00",
          "2015-07-01T00:00:00",
          "2009-06-01T00:00:00",
          "2015-06-01T00:00:00",
          "2013-02-01T00:00:00",
          "2012-06-01T00:00:00",
          "2013-06-01T00:00:00",
          "2009-12-01T00:00:00",
          "2010-09-01T00:00:00",
          "2014-02-01T00:00:00",
          "2014-09-01T00:00:00",
          "2013-10-01T00:00:00",
          "2011-11-01T00:00:00",
          "2014-07-01T00:00:00",
          "2010-06-01T00:00:00",
          "2011-09-01T00:00:00",
          "2013-09-01T00:00:00",
          "2010-08-01T00:00:00",
          "2010-12-01T00:00:00",
          "2013-07-01T00:00:00",
          "2008-06-01T00:00:00",
          "2008-07-01T00:00:00",
          "2014-08-01T00:00:00",
          "2011-02-01T00:00:00",
          "2010-07-01T00:00:00",
          "2014-05-01T00:00:00",
          "2008-08-01T00:00:00",
          "2011-12-01T00:00:00",
          "2008-04-01T00:00:00",
          "2010-05-01T00:00:00",
          "2014-06-01T00:00:00",
          "2014-10-01T00:00:00",
          "2011-01-01T00:00:00",
          "2013-08-01T00:00:00",
          "2010-10-01T00:00:00",
          "2011-10-01T00:00:00",
          "2008-03-01T00:00:00",
          "2014-04-01T00:00:00",
          "2010-11-01T00:00:00"
         ],
         "xaxis": "x",
         "y": [
          2339352,
          2141313,
          1298648,
          1331387,
          1840600,
          2721578,
          2543086,
          1372263,
          1934968,
          1025133,
          3719861,
          2001345,
          1116613,
          1749667,
          3270150,
          3621626,
          2817135,
          1316582,
          1523087,
          1409685,
          1240983,
          4781594,
          1358318,
          946014,
          1683401,
          2762670,
          1345356,
          1319508,
          5019351,
          2060046,
          1475523,
          2247616,
          1789996,
          2305971,
          1070326,
          1709859,
          959228,
          1762481,
          1431903,
          2311377,
          1348759,
          1292617,
          1697578,
          2676324,
          1721632,
          873714,
          1568734,
          1177186,
          1816659,
          1142813,
          3829592,
          2286719,
          2175247,
          1537526,
          3015906,
          1569606,
          2062199,
          1712205,
          4133710,
          1966215,
          4325143,
          1823446,
          2947584,
          3161620,
          1851868,
          2150923,
          2120033,
          3802119,
          1915107,
          1297888,
          4202335,
          2896874,
          2260859,
          2861762,
          1379102,
          1588739,
          2159949,
          2258532,
          1371856,
          3109619,
          955671,
          1628102,
          3267690,
          1588068,
          1612682,
          1404733,
          2264521,
          4273103,
          1872895,
          1210137,
          1940771,
          1053279,
          1555618,
          1888250,
          2547858,
          1097679
         ],
         "yaxis": "y"
        },
        {
         "alignmentgroup": "True",
         "hovertemplate": "type=Hops (used as extracts)<br>date=%{x}<br>month_current=%{y}<extra></extra>",
         "legendgroup": "Hops (used as extracts)",
         "marker": {
          "color": "#FF97FF",
          "pattern": {
           "shape": ""
          }
         },
         "name": "Hops (used as extracts)",
         "offsetgroup": "Hops (used as extracts)",
         "orientation": "v",
         "showlegend": true,
         "textposition": "auto",
         "type": "bar",
         "x": [
          "2008-03-01T00:00:00",
          "2014-05-01T00:00:00",
          "2013-01-01T00:00:00",
          "2011-06-01T00:00:00",
          "2010-10-01T00:00:00",
          "2015-08-01T00:00:00",
          "2013-08-01T00:00:00",
          "2011-02-01T00:00:00",
          "2012-07-01T00:00:00",
          "2008-05-01T00:00:00",
          "2013-12-01T00:00:00",
          "2009-04-01T00:00:00",
          "2009-03-01T00:00:00",
          "2009-05-01T00:00:00",
          "2011-09-01T00:00:00",
          "2015-07-01T00:00:00",
          "2012-12-01T00:00:00",
          "2012-08-01T00:00:00",
          "2009-02-01T00:00:00",
          "2015-12-01T00:00:00",
          "2012-10-01T00:00:00",
          "2011-01-01T00:00:00",
          "2014-03-01T00:00:00",
          "2011-08-01T00:00:00",
          "2008-11-01T00:00:00",
          "2008-06-01T00:00:00",
          "2015-11-01T00:00:00",
          "2010-12-01T00:00:00",
          "2013-09-01T00:00:00",
          "2012-11-01T00:00:00",
          "2008-12-01T00:00:00",
          "2012-09-01T00:00:00",
          "2015-10-01T00:00:00",
          "2014-04-01T00:00:00",
          "2008-07-01T00:00:00",
          "2009-01-01T00:00:00",
          "2013-11-01T00:00:00",
          "2010-11-01T00:00:00",
          "2008-01-01T00:00:00",
          "2015-09-01T00:00:00",
          "2012-06-01T00:00:00",
          "2014-10-01T00:00:00",
          "2008-09-01T00:00:00",
          "2010-05-01T00:00:00",
          "2010-06-01T00:00:00",
          "2012-03-01T00:00:00",
          "2013-04-01T00:00:00",
          "2013-10-01T00:00:00",
          "2009-12-01T00:00:00",
          "2015-01-01T00:00:00",
          "2014-01-01T00:00:00",
          "2012-02-01T00:00:00",
          "2010-01-01T00:00:00",
          "2014-09-01T00:00:00",
          "2014-12-01T00:00:00",
          "2011-05-01T00:00:00",
          "2015-06-01T00:00:00",
          "2008-02-01T00:00:00",
          "2013-05-01T00:00:00",
          "2010-02-01T00:00:00",
          "2011-03-01T00:00:00",
          "2008-08-01T00:00:00",
          "2014-11-01T00:00:00",
          "2012-01-01T00:00:00",
          "2011-12-01T00:00:00",
          "2013-06-01T00:00:00",
          "2010-03-01T00:00:00",
          "2011-07-01T00:00:00",
          "2009-11-01T00:00:00",
          "2015-02-01T00:00:00",
          "2014-08-01T00:00:00",
          "2009-10-01T00:00:00",
          "2011-04-01T00:00:00",
          "2011-10-01T00:00:00",
          "2009-06-01T00:00:00",
          "2014-06-01T00:00:00",
          "2010-09-01T00:00:00",
          "2010-04-01T00:00:00",
          "2015-05-01T00:00:00",
          "2009-07-01T00:00:00",
          "2013-02-01T00:00:00",
          "2014-02-01T00:00:00",
          "2008-10-01T00:00:00",
          "2009-08-01T00:00:00",
          "2010-08-01T00:00:00",
          "2015-04-01T00:00:00",
          "2014-07-01T00:00:00",
          "2011-11-01T00:00:00",
          "2010-07-01T00:00:00",
          "2009-09-01T00:00:00",
          "2013-03-01T00:00:00",
          "2012-04-01T00:00:00",
          "2015-03-01T00:00:00",
          "2008-04-01T00:00:00",
          "2013-07-01T00:00:00",
          "2012-05-01T00:00:00"
         ],
         "xaxis": "x",
         "y": [
          1195722,
          345805,
          323285,
          338467,
          293914,
          312425,
          324649,
          275963,
          391852,
          545875,
          312373,
          388369,
          382897,
          450264,
          298977,
          339168,
          293877,
          472469,
          345975,
          41207,
          309173,
          296605,
          351254,
          324190,
          329906,
          513130,
          258557,
          255382,
          310392,
          303256,
          272045,
          301893,
          330925,
          321444,
          508794,
          324497,
          282732,
          281893,
          621912,
          339156,
          474060,
          334633,
          337294,
          396737,
          355258,
          335010,
          302532,
          325023,
          260877,
          298514,
          298281,
          361152,
          271405,
          341156,
          42981,
          438895,
          403948,
          476688,
          323157,
          268589,
          350949,
          377424,
          262480,
          293488,
          238892,
          338940,
          320406,
          333313,
          289240,
          298894,
          312437,
          302264,
          330339,
          306588,
          381321,
          403502,
          300116,
          456519,
          345805,
          359130,
          324126,
          298524,
          337430,
          322875,
          718808,
          321444,
          339167,
          290356,
          369505,
          305344,
          372356,
          338454,
          321462,
          503072,
          345552,
          346461
         ],
         "yaxis": "y"
        }
       ],
       "layout": {
        "barmode": "relative",
        "legend": {
         "title": {
          "text": "Material"
         },
         "tracegroupgap": 0,
         "traceorder": "reversed"
        },
        "margin": {
         "t": 60
        },
        "template": {
         "data": {
          "bar": [
           {
            "error_x": {
             "color": "#2a3f5f"
            },
            "error_y": {
             "color": "#2a3f5f"
            },
            "marker": {
             "line": {
              "color": "#E5ECF6",
              "width": 0.5
             },
             "pattern": {
              "fillmode": "overlay",
              "size": 10,
              "solidity": 0.2
             }
            },
            "type": "bar"
           }
          ],
          "barpolar": [
           {
            "marker": {
             "line": {
              "color": "#E5ECF6",
              "width": 0.5
             },
             "pattern": {
              "fillmode": "overlay",
              "size": 10,
              "solidity": 0.2
             }
            },
            "type": "barpolar"
           }
          ],
          "carpet": [
           {
            "aaxis": {
             "endlinecolor": "#2a3f5f",
             "gridcolor": "white",
             "linecolor": "white",
             "minorgridcolor": "white",
             "startlinecolor": "#2a3f5f"
            },
            "baxis": {
             "endlinecolor": "#2a3f5f",
             "gridcolor": "white",
             "linecolor": "white",
             "minorgridcolor": "white",
             "startlinecolor": "#2a3f5f"
            },
            "type": "carpet"
           }
          ],
          "choropleth": [
           {
            "colorbar": {
             "outlinewidth": 0,
             "ticks": ""
            },
            "type": "choropleth"
           }
          ],
          "contour": [
           {
            "colorbar": {
             "outlinewidth": 0,
             "ticks": ""
            },
            "colorscale": [
             [
              0,
              "#0d0887"
             ],
             [
              0.1111111111111111,
              "#46039f"
             ],
             [
              0.2222222222222222,
              "#7201a8"
             ],
             [
              0.3333333333333333,
              "#9c179e"
             ],
             [
              0.4444444444444444,
              "#bd3786"
             ],
             [
              0.5555555555555556,
              "#d8576b"
             ],
             [
              0.6666666666666666,
              "#ed7953"
             ],
             [
              0.7777777777777778,
              "#fb9f3a"
             ],
             [
              0.8888888888888888,
              "#fdca26"
             ],
             [
              1,
              "#f0f921"
             ]
            ],
            "type": "contour"
           }
          ],
          "contourcarpet": [
           {
            "colorbar": {
             "outlinewidth": 0,
             "ticks": ""
            },
            "type": "contourcarpet"
           }
          ],
          "heatmap": [
           {
            "colorbar": {
             "outlinewidth": 0,
             "ticks": ""
            },
            "colorscale": [
             [
              0,
              "#0d0887"
             ],
             [
              0.1111111111111111,
              "#46039f"
             ],
             [
              0.2222222222222222,
              "#7201a8"
             ],
             [
              0.3333333333333333,
              "#9c179e"
             ],
             [
              0.4444444444444444,
              "#bd3786"
             ],
             [
              0.5555555555555556,
              "#d8576b"
             ],
             [
              0.6666666666666666,
              "#ed7953"
             ],
             [
              0.7777777777777778,
              "#fb9f3a"
             ],
             [
              0.8888888888888888,
              "#fdca26"
             ],
             [
              1,
              "#f0f921"
             ]
            ],
            "type": "heatmap"
           }
          ],
          "heatmapgl": [
           {
            "colorbar": {
             "outlinewidth": 0,
             "ticks": ""
            },
            "colorscale": [
             [
              0,
              "#0d0887"
             ],
             [
              0.1111111111111111,
              "#46039f"
             ],
             [
              0.2222222222222222,
              "#7201a8"
             ],
             [
              0.3333333333333333,
              "#9c179e"
             ],
             [
              0.4444444444444444,
              "#bd3786"
             ],
             [
              0.5555555555555556,
              "#d8576b"
             ],
             [
              0.6666666666666666,
              "#ed7953"
             ],
             [
              0.7777777777777778,
              "#fb9f3a"
             ],
             [
              0.8888888888888888,
              "#fdca26"
             ],
             [
              1,
              "#f0f921"
             ]
            ],
            "type": "heatmapgl"
           }
          ],
          "histogram": [
           {
            "marker": {
             "pattern": {
              "fillmode": "overlay",
              "size": 10,
              "solidity": 0.2
             }
            },
            "type": "histogram"
           }
          ],
          "histogram2d": [
           {
            "colorbar": {
             "outlinewidth": 0,
             "ticks": ""
            },
            "colorscale": [
             [
              0,
              "#0d0887"
             ],
             [
              0.1111111111111111,
              "#46039f"
             ],
             [
              0.2222222222222222,
              "#7201a8"
             ],
             [
              0.3333333333333333,
              "#9c179e"
             ],
             [
              0.4444444444444444,
              "#bd3786"
             ],
             [
              0.5555555555555556,
              "#d8576b"
             ],
             [
              0.6666666666666666,
              "#ed7953"
             ],
             [
              0.7777777777777778,
              "#fb9f3a"
             ],
             [
              0.8888888888888888,
              "#fdca26"
             ],
             [
              1,
              "#f0f921"
             ]
            ],
            "type": "histogram2d"
           }
          ],
          "histogram2dcontour": [
           {
            "colorbar": {
             "outlinewidth": 0,
             "ticks": ""
            },
            "colorscale": [
             [
              0,
              "#0d0887"
             ],
             [
              0.1111111111111111,
              "#46039f"
             ],
             [
              0.2222222222222222,
              "#7201a8"
             ],
             [
              0.3333333333333333,
              "#9c179e"
             ],
             [
              0.4444444444444444,
              "#bd3786"
             ],
             [
              0.5555555555555556,
              "#d8576b"
             ],
             [
              0.6666666666666666,
              "#ed7953"
             ],
             [
              0.7777777777777778,
              "#fb9f3a"
             ],
             [
              0.8888888888888888,
              "#fdca26"
             ],
             [
              1,
              "#f0f921"
             ]
            ],
            "type": "histogram2dcontour"
           }
          ],
          "mesh3d": [
           {
            "colorbar": {
             "outlinewidth": 0,
             "ticks": ""
            },
            "type": "mesh3d"
           }
          ],
          "parcoords": [
           {
            "line": {
             "colorbar": {
              "outlinewidth": 0,
              "ticks": ""
             }
            },
            "type": "parcoords"
           }
          ],
          "pie": [
           {
            "automargin": true,
            "type": "pie"
           }
          ],
          "scatter": [
           {
            "fillpattern": {
             "fillmode": "overlay",
             "size": 10,
             "solidity": 0.2
            },
            "type": "scatter"
           }
          ],
          "scatter3d": [
           {
            "line": {
             "colorbar": {
              "outlinewidth": 0,
              "ticks": ""
             }
            },
            "marker": {
             "colorbar": {
              "outlinewidth": 0,
              "ticks": ""
             }
            },
            "type": "scatter3d"
           }
          ],
          "scattercarpet": [
           {
            "marker": {
             "colorbar": {
              "outlinewidth": 0,
              "ticks": ""
             }
            },
            "type": "scattercarpet"
           }
          ],
          "scattergeo": [
           {
            "marker": {
             "colorbar": {
              "outlinewidth": 0,
              "ticks": ""
             }
            },
            "type": "scattergeo"
           }
          ],
          "scattergl": [
           {
            "marker": {
             "colorbar": {
              "outlinewidth": 0,
              "ticks": ""
             }
            },
            "type": "scattergl"
           }
          ],
          "scattermapbox": [
           {
            "marker": {
             "colorbar": {
              "outlinewidth": 0,
              "ticks": ""
             }
            },
            "type": "scattermapbox"
           }
          ],
          "scatterpolar": [
           {
            "marker": {
             "colorbar": {
              "outlinewidth": 0,
              "ticks": ""
             }
            },
            "type": "scatterpolar"
           }
          ],
          "scatterpolargl": [
           {
            "marker": {
             "colorbar": {
              "outlinewidth": 0,
              "ticks": ""
             }
            },
            "type": "scatterpolargl"
           }
          ],
          "scatterternary": [
           {
            "marker": {
             "colorbar": {
              "outlinewidth": 0,
              "ticks": ""
             }
            },
            "type": "scatterternary"
           }
          ],
          "surface": [
           {
            "colorbar": {
             "outlinewidth": 0,
             "ticks": ""
            },
            "colorscale": [
             [
              0,
              "#0d0887"
             ],
             [
              0.1111111111111111,
              "#46039f"
             ],
             [
              0.2222222222222222,
              "#7201a8"
             ],
             [
              0.3333333333333333,
              "#9c179e"
             ],
             [
              0.4444444444444444,
              "#bd3786"
             ],
             [
              0.5555555555555556,
              "#d8576b"
             ],
             [
              0.6666666666666666,
              "#ed7953"
             ],
             [
              0.7777777777777778,
              "#fb9f3a"
             ],
             [
              0.8888888888888888,
              "#fdca26"
             ],
             [
              1,
              "#f0f921"
             ]
            ],
            "type": "surface"
           }
          ],
          "table": [
           {
            "cells": {
             "fill": {
              "color": "#EBF0F8"
             },
             "line": {
              "color": "white"
             }
            },
            "header": {
             "fill": {
              "color": "#C8D4E3"
             },
             "line": {
              "color": "white"
             }
            },
            "type": "table"
           }
          ]
         },
         "layout": {
          "annotationdefaults": {
           "arrowcolor": "#2a3f5f",
           "arrowhead": 0,
           "arrowwidth": 1
          },
          "autotypenumbers": "strict",
          "coloraxis": {
           "colorbar": {
            "outlinewidth": 0,
            "ticks": ""
           }
          },
          "colorscale": {
           "diverging": [
            [
             0,
             "#8e0152"
            ],
            [
             0.1,
             "#c51b7d"
            ],
            [
             0.2,
             "#de77ae"
            ],
            [
             0.3,
             "#f1b6da"
            ],
            [
             0.4,
             "#fde0ef"
            ],
            [
             0.5,
             "#f7f7f7"
            ],
            [
             0.6,
             "#e6f5d0"
            ],
            [
             0.7,
             "#b8e186"
            ],
            [
             0.8,
             "#7fbc41"
            ],
            [
             0.9,
             "#4d9221"
            ],
            [
             1,
             "#276419"
            ]
           ],
           "sequential": [
            [
             0,
             "#0d0887"
            ],
            [
             0.1111111111111111,
             "#46039f"
            ],
            [
             0.2222222222222222,
             "#7201a8"
            ],
            [
             0.3333333333333333,
             "#9c179e"
            ],
            [
             0.4444444444444444,
             "#bd3786"
            ],
            [
             0.5555555555555556,
             "#d8576b"
            ],
            [
             0.6666666666666666,
             "#ed7953"
            ],
            [
             0.7777777777777778,
             "#fb9f3a"
            ],
            [
             0.8888888888888888,
             "#fdca26"
            ],
            [
             1,
             "#f0f921"
            ]
           ],
           "sequentialminus": [
            [
             0,
             "#0d0887"
            ],
            [
             0.1111111111111111,
             "#46039f"
            ],
            [
             0.2222222222222222,
             "#7201a8"
            ],
            [
             0.3333333333333333,
             "#9c179e"
            ],
            [
             0.4444444444444444,
             "#bd3786"
            ],
            [
             0.5555555555555556,
             "#d8576b"
            ],
            [
             0.6666666666666666,
             "#ed7953"
            ],
            [
             0.7777777777777778,
             "#fb9f3a"
            ],
            [
             0.8888888888888888,
             "#fdca26"
            ],
            [
             1,
             "#f0f921"
            ]
           ]
          },
          "colorway": [
           "#636efa",
           "#EF553B",
           "#00cc96",
           "#ab63fa",
           "#FFA15A",
           "#19d3f3",
           "#FF6692",
           "#B6E880",
           "#FF97FF",
           "#FECB52"
          ],
          "font": {
           "color": "#2a3f5f"
          },
          "geo": {
           "bgcolor": "white",
           "lakecolor": "white",
           "landcolor": "#E5ECF6",
           "showlakes": true,
           "showland": true,
           "subunitcolor": "white"
          },
          "hoverlabel": {
           "align": "left"
          },
          "hovermode": "closest",
          "mapbox": {
           "style": "light"
          },
          "paper_bgcolor": "white",
          "plot_bgcolor": "#E5ECF6",
          "polar": {
           "angularaxis": {
            "gridcolor": "white",
            "linecolor": "white",
            "ticks": ""
           },
           "bgcolor": "#E5ECF6",
           "radialaxis": {
            "gridcolor": "white",
            "linecolor": "white",
            "ticks": ""
           }
          },
          "scene": {
           "xaxis": {
            "backgroundcolor": "#E5ECF6",
            "gridcolor": "white",
            "gridwidth": 2,
            "linecolor": "white",
            "showbackground": true,
            "ticks": "",
            "zerolinecolor": "white"
           },
           "yaxis": {
            "backgroundcolor": "#E5ECF6",
            "gridcolor": "white",
            "gridwidth": 2,
            "linecolor": "white",
            "showbackground": true,
            "ticks": "",
            "zerolinecolor": "white"
           },
           "zaxis": {
            "backgroundcolor": "#E5ECF6",
            "gridcolor": "white",
            "gridwidth": 2,
            "linecolor": "white",
            "showbackground": true,
            "ticks": "",
            "zerolinecolor": "white"
           }
          },
          "shapedefaults": {
           "line": {
            "color": "#2a3f5f"
           }
          },
          "ternary": {
           "aaxis": {
            "gridcolor": "white",
            "linecolor": "white",
            "ticks": ""
           },
           "baxis": {
            "gridcolor": "white",
            "linecolor": "white",
            "ticks": ""
           },
           "bgcolor": "#E5ECF6",
           "caxis": {
            "gridcolor": "white",
            "linecolor": "white",
            "ticks": ""
           }
          },
          "title": {
           "x": 0.05
          },
          "xaxis": {
           "automargin": true,
           "gridcolor": "white",
           "linecolor": "white",
           "ticks": "",
           "title": {
            "standoff": 15
           },
           "zerolinecolor": "white",
           "zerolinewidth": 2
          },
          "yaxis": {
           "automargin": true,
           "gridcolor": "white",
           "linecolor": "white",
           "ticks": "",
           "title": {
            "standoff": 15
           },
           "zerolinecolor": "white",
           "zerolinewidth": 2
          }
         }
        },
        "xaxis": {
         "anchor": "y",
         "domain": [
          0,
          1
         ],
         "title": {
          "text": "Time"
         }
        },
        "yaxis": {
         "anchor": "x",
         "domain": [
          0,
          1
         ],
         "title": {
          "text": "Pounds used in beer production"
         }
        }
       }
      },
      "text/html": [
       "<div>                            <div id=\"76ce8e52-cc15-40d6-84ac-51e3eda41e7e\" class=\"plotly-graph-div\" style=\"height:525px; width:100%;\"></div>            <script type=\"text/javascript\">                require([\"plotly\"], function(Plotly) {                    window.PLOTLYENV=window.PLOTLYENV || {};                                    if (document.getElementById(\"76ce8e52-cc15-40d6-84ac-51e3eda41e7e\")) {                    Plotly.newPlot(                        \"76ce8e52-cc15-40d6-84ac-51e3eda41e7e\",                        [{\"alignmentgroup\":\"True\",\"hovertemplate\":\"type=Malt and malt products<br>date=%{x}<br>month_current=%{y}<extra></extra>\",\"legendgroup\":\"Malt and malt products\",\"marker\":{\"color\":\"#636efa\",\"pattern\":{\"shape\":\"\"}},\"name\":\"Malt and malt products\",\"offsetgroup\":\"Malt and malt products\",\"orientation\":\"v\",\"showlegend\":true,\"textposition\":\"auto\",\"x\":[\"2008-01-01T00:00:00\",\"2011-07-01T00:00:00\",\"2010-11-01T00:00:00\",\"2010-12-01T00:00:00\",\"2011-01-01T00:00:00\",\"2011-02-01T00:00:00\",\"2011-03-01T00:00:00\",\"2011-04-01T00:00:00\",\"2011-05-01T00:00:00\",\"2011-06-01T00:00:00\",\"2011-08-01T00:00:00\",\"2010-09-01T00:00:00\",\"2011-09-01T00:00:00\",\"2011-10-01T00:00:00\",\"2011-11-01T00:00:00\",\"2011-12-01T00:00:00\",\"2012-02-01T00:00:00\",\"2012-03-01T00:00:00\",\"2012-04-01T00:00:00\",\"2012-05-01T00:00:00\",\"2010-10-01T00:00:00\",\"2010-08-01T00:00:00\",\"2008-11-01T00:00:00\",\"2009-09-01T00:00:00\",\"2009-01-01T00:00:00\",\"2009-02-01T00:00:00\",\"2009-03-01T00:00:00\",\"2009-04-01T00:00:00\",\"2009-05-01T00:00:00\",\"2009-06-01T00:00:00\",\"2009-07-01T00:00:00\",\"2009-08-01T00:00:00\",\"2009-10-01T00:00:00\",\"2010-07-01T00:00:00\",\"2009-11-01T00:00:00\",\"2009-12-01T00:00:00\",\"2010-01-01T00:00:00\",\"2010-02-01T00:00:00\",\"2010-03-01T00:00:00\",\"2010-04-01T00:00:00\",\"2010-05-01T00:00:00\",\"2010-06-01T00:00:00\",\"2012-06-01T00:00:00\",\"2012-07-01T00:00:00\",\"2012-08-01T00:00:00\",\"2015-03-01T00:00:00\",\"2014-07-01T00:00:00\",\"2014-08-01T00:00:00\",\"2014-09-01T00:00:00\",\"2014-10-01T00:00:00\",\"2014-11-01T00:00:00\",\"2014-12-01T00:00:00\",\"2015-01-01T00:00:00\",\"2015-02-01T00:00:00\",\"2015-04-01T00:00:00\",\"2012-09-01T00:00:00\",\"2015-05-01T00:00:00\",\"2015-06-01T00:00:00\",\"2015-07-01T00:00:00\",\"2015-08-01T00:00:00\",\"2015-09-01T00:00:00\",\"2015-10-01T00:00:00\",\"2015-11-01T00:00:00\",\"2015-12-01T00:00:00\",\"2014-06-01T00:00:00\",\"2014-05-01T00:00:00\",\"2014-04-01T00:00:00\",\"2014-03-01T00:00:00\",\"2012-10-01T00:00:00\",\"2012-11-01T00:00:00\",\"2012-12-01T00:00:00\",\"2013-01-01T00:00:00\",\"2013-02-01T00:00:00\",\"2013-03-01T00:00:00\",\"2013-04-01T00:00:00\",\"2013-05-01T00:00:00\",\"2013-06-01T00:00:00\",\"2013-07-01T00:00:00\",\"2013-08-01T00:00:00\",\"2013-09-01T00:00:00\",\"2013-10-01T00:00:00\",\"2013-11-01T00:00:00\",\"2013-12-01T00:00:00\",\"2014-01-01T00:00:00\",\"2014-02-01T00:00:00\",\"2008-12-01T00:00:00\",\"2012-01-01T00:00:00\",\"2008-04-01T00:00:00\",\"2008-05-01T00:00:00\",\"2008-06-01T00:00:00\",\"2008-10-01T00:00:00\",\"2008-08-01T00:00:00\",\"2008-03-01T00:00:00\",\"2008-07-01T00:00:00\",\"2008-09-01T00:00:00\",\"2008-02-01T00:00:00\"],\"xaxis\":\"x\",\"y\":[374165152,350751002,298251207,285382073,322480722,307076591,363234183,349781343,352623620,372541998,361924350,329671455,312845217,313380880,303152329,293640890,320430694,366122047,357106000,373071360,333230020,358726926,322733711,370369895,361377478,339472713,380133298,384396702,391469434,381247341,382672919,362521445,333286901,384726834,309688888,302237874,330304432,305543380,366733254,374018118,399504457,380521275,387306474,363222892,362799587,319448327,370565836,342497886,346653525,329412159,272737485,153777615,314189672,292567431,310767436,336789908,332384559,383818029,351222725,326075404,328674963,305864536,248702560,155495923,382399712,332831907,314317091,335350528,321542825,295672895,299861553,326450615,311283986,340319408,334351807,353589770,370101067,367999200,339968116,303711377,321371392,275715285,294248188,315728713,293750079,318741733,315214803,388639443,411307544,415161326,353803777,389391266,399855819,405393784,362587470,355687578],\"yaxis\":\"y\",\"type\":\"bar\"},{\"alignmentgroup\":\"True\",\"hovertemplate\":\"type=Sugar and syrups<br>date=%{x}<br>month_current=%{y}<extra></extra>\",\"legendgroup\":\"Sugar and syrups\",\"marker\":{\"color\":\"#EF553B\",\"pattern\":{\"shape\":\"\"}},\"name\":\"Sugar and syrups\",\"offsetgroup\":\"Sugar and syrups\",\"orientation\":\"v\",\"showlegend\":true,\"textposition\":\"auto\",\"x\":[\"2011-01-01T00:00:00\",\"2009-08-01T00:00:00\",\"2013-11-01T00:00:00\",\"2010-06-01T00:00:00\",\"2008-09-01T00:00:00\",\"2012-02-01T00:00:00\",\"2015-04-01T00:00:00\",\"2009-09-01T00:00:00\",\"2013-05-01T00:00:00\",\"2014-08-01T00:00:00\",\"2012-03-01T00:00:00\",\"2015-05-01T00:00:00\",\"2014-09-01T00:00:00\",\"2013-04-01T00:00:00\",\"2009-07-01T00:00:00\",\"2010-07-01T00:00:00\",\"2011-06-01T00:00:00\",\"2011-10-01T00:00:00\",\"2009-06-01T00:00:00\",\"2015-06-01T00:00:00\",\"2010-08-01T00:00:00\",\"2014-07-01T00:00:00\",\"2011-07-01T00:00:00\",\"2008-04-01T00:00:00\",\"2011-05-01T00:00:00\",\"2013-09-01T00:00:00\",\"2014-12-01T00:00:00\",\"2008-02-01T00:00:00\",\"2013-08-01T00:00:00\",\"2008-06-01T00:00:00\",\"2014-11-01T00:00:00\",\"2010-01-01T00:00:00\",\"2010-03-01T00:00:00\",\"2015-01-01T00:00:00\",\"2011-11-01T00:00:00\",\"2013-07-01T00:00:00\",\"2011-09-01T00:00:00\",\"2009-12-01T00:00:00\",\"2014-03-01T00:00:00\",\"2012-01-01T00:00:00\",\"2010-04-01T00:00:00\",\"2015-02-01T00:00:00\",\"2011-12-01T00:00:00\",\"2011-08-01T00:00:00\",\"2009-11-01T00:00:00\",\"2014-10-01T00:00:00\",\"2008-08-01T00:00:00\",\"2013-06-01T00:00:00\",\"2013-10-01T00:00:00\",\"2010-05-01T00:00:00\",\"2009-10-01T00:00:00\",\"2015-03-01T00:00:00\",\"2013-03-01T00:00:00\",\"2012-04-01T00:00:00\",\"2009-05-01T00:00:00\",\"2011-02-01T00:00:00\",\"2015-09-01T00:00:00\",\"2014-01-01T00:00:00\",\"2009-02-01T00:00:00\",\"2011-03-01T00:00:00\",\"2010-11-01T00:00:00\",\"2012-08-01T00:00:00\",\"2009-01-01T00:00:00\",\"2015-10-01T00:00:00\",\"2008-05-01T00:00:00\",\"2014-02-01T00:00:00\",\"2012-12-01T00:00:00\",\"2008-12-01T00:00:00\",\"2013-01-01T00:00:00\",\"2015-11-01T00:00:00\",\"2012-09-01T00:00:00\",\"2014-04-01T00:00:00\",\"2010-12-01T00:00:00\",\"2008-03-01T00:00:00\",\"2008-11-01T00:00:00\",\"2008-07-01T00:00:00\",\"2015-12-01T00:00:00\",\"2012-11-01T00:00:00\",\"2008-10-01T00:00:00\",\"2012-10-01T00:00:00\",\"2010-10-01T00:00:00\",\"2014-05-01T00:00:00\",\"2010-02-01T00:00:00\",\"2013-02-01T00:00:00\",\"2011-04-01T00:00:00\",\"2012-06-01T00:00:00\",\"2009-03-01T00:00:00\",\"2010-09-01T00:00:00\",\"2013-12-01T00:00:00\",\"2008-01-01T00:00:00\",\"2012-05-01T00:00:00\",\"2014-06-01T00:00:00\",\"2015-07-01T00:00:00\",\"2009-04-01T00:00:00\",\"2012-07-01T00:00:00\",\"2015-08-01T00:00:00\"],\"xaxis\":\"x\",\"y\":[73793509,61354833,58514321,67266337,71982604,65344809,82896506,50025197,96158421,84424807,79859286,81171257,71386473,92273777,64776817,76584550,67178952,65478836,69563483,78547713,75815015,79758226,62190400,81199989,66314234,62065299,11292897,80188744,79896297,81012422,61665023,47308358,61007512,71798065,55627592,89540845,61317581,39077880,86871712,62988309,73040421,74138605,52413557,60003874,44926666,77825404,83928121,87459068,66002563,76115769,47840939,82468474,85703037,82481856,75011893,63374850,71270147,72039259,69375203,74925793,59184495,77156577,67834569,77650579,89946309,74414600,59586860,38952441,72878590,61470208,65251144,83132566,49709103,78907213,44000736,76728131,11332454,64916501,42828943,70185532,67265699,81403402,46718854,71244280,68297327,89443470,70030415,69053125,61764460,78358212,87785168,78715950,74805384,71341108,92543919,80080228],\"yaxis\":\"y\",\"type\":\"bar\"},{\"alignmentgroup\":\"True\",\"hovertemplate\":\"type=Rice and rice products<br>date=%{x}<br>month_current=%{y}<extra></extra>\",\"legendgroup\":\"Rice and rice products\",\"marker\":{\"color\":\"#00cc96\",\"pattern\":{\"shape\":\"\"}},\"name\":\"Rice and rice products\",\"offsetgroup\":\"Rice and rice products\",\"orientation\":\"v\",\"showlegend\":true,\"textposition\":\"auto\",\"x\":[\"2008-08-01T00:00:00\",\"2010-08-01T00:00:00\",\"2014-11-01T00:00:00\",\"2011-09-01T00:00:00\",\"2014-04-01T00:00:00\",\"2011-02-01T00:00:00\",\"2011-05-01T00:00:00\",\"2013-09-01T00:00:00\",\"2011-01-01T00:00:00\",\"2010-09-01T00:00:00\",\"2010-03-01T00:00:00\",\"2011-10-01T00:00:00\",\"2014-03-01T00:00:00\",\"2013-12-01T00:00:00\",\"2008-04-01T00:00:00\",\"2010-04-01T00:00:00\",\"2011-07-01T00:00:00\",\"2011-06-01T00:00:00\",\"2010-12-01T00:00:00\",\"2014-06-01T00:00:00\",\"2014-09-01T00:00:00\",\"2010-06-01T00:00:00\",\"2010-07-01T00:00:00\",\"2011-04-01T00:00:00\",\"2008-03-01T00:00:00\",\"2010-11-01T00:00:00\",\"2014-07-01T00:00:00\",\"2011-08-01T00:00:00\",\"2014-02-01T00:00:00\",\"2010-10-01T00:00:00\",\"2014-01-01T00:00:00\",\"2014-10-01T00:00:00\",\"2010-05-01T00:00:00\",\"2013-10-01T00:00:00\",\"2014-05-01T00:00:00\",\"2011-03-01T00:00:00\",\"2014-08-01T00:00:00\",\"2013-11-01T00:00:00\",\"2008-07-01T00:00:00\",\"2012-11-01T00:00:00\",\"2014-12-01T00:00:00\",\"2008-06-01T00:00:00\",\"2013-02-01T00:00:00\",\"2009-04-01T00:00:00\",\"2015-08-01T00:00:00\",\"2012-06-01T00:00:00\",\"2009-05-01T00:00:00\",\"2013-03-01T00:00:00\",\"2015-07-01T00:00:00\",\"2012-05-01T00:00:00\",\"2009-06-01T00:00:00\",\"2010-02-01T00:00:00\",\"2013-04-01T00:00:00\",\"2012-04-01T00:00:00\",\"2009-07-01T00:00:00\",\"2012-03-01T00:00:00\",\"2009-08-01T00:00:00\",\"2012-07-01T00:00:00\",\"2009-03-01T00:00:00\",\"2015-09-01T00:00:00\",\"2012-12-01T00:00:00\",\"2008-11-01T00:00:00\",\"2015-12-01T00:00:00\",\"2012-10-01T00:00:00\",\"2008-01-01T00:00:00\",\"2008-05-01T00:00:00\",\"2008-12-01T00:00:00\",\"2015-11-01T00:00:00\",\"2013-01-01T00:00:00\",\"2012-09-01T00:00:00\",\"2009-01-01T00:00:00\",\"2015-10-01T00:00:00\",\"2008-10-01T00:00:00\",\"2009-02-01T00:00:00\",\"2012-08-01T00:00:00\",\"2015-05-01T00:00:00\",\"2015-06-01T00:00:00\",\"2013-07-01T00:00:00\",\"2013-08-01T00:00:00\",\"2009-12-01T00:00:00\",\"2015-02-01T00:00:00\",\"2008-02-01T00:00:00\",\"2009-11-01T00:00:00\",\"2011-12-01T00:00:00\",\"2012-01-01T00:00:00\",\"2008-09-01T00:00:00\",\"2015-03-01T00:00:00\",\"2013-06-01T00:00:00\",\"2010-01-01T00:00:00\",\"2015-01-01T00:00:00\",\"2009-10-01T00:00:00\",\"2009-09-01T00:00:00\",\"2012-02-01T00:00:00\",\"2013-05-01T00:00:00\",\"2015-04-01T00:00:00\",\"2011-11-01T00:00:00\"],\"xaxis\":\"x\",\"y\":[70993476,63192375,47373098,55188865,55893495,54287863,62118962,53400257,108112318,54884345,59991160,50132872,48705125,47832575,73309991,59803024,69787950,69701464,47504543,47368927,56748056,66627541,68031711,53392697,72629666,53779401,64828200,72428017,48969378,55450803,52099471,54599783,69284131,54082902,59209512,62041512,58158328,44402687,74945452,61082730,44864070,71779022,61926310,63166930,58190840,59527958,67120251,62869950,64827600,61702673,64576127,55198940,63584763,57264320,63277242,59022797,61417028,60381322,64006735,48134917,51883289,53971515,36403087,59885904,72402143,76219021,61716256,38579400,62177066,62119884,59961083,45050667,58607059,60150183,65214228,59210512,47366346,76426446,66799703,51919861,48975137,66061597,50460060,46841203,63568058,61739894,48710754,64271218,59701345,52438465,55167784,57686245,54333308,65774053,55895095,43496310],\"yaxis\":\"y\",\"type\":\"bar\"},{\"alignmentgroup\":\"True\",\"hovertemplate\":\"type=Corn and corn products<br>date=%{x}<br>month_current=%{y}<extra></extra>\",\"legendgroup\":\"Corn and corn products\",\"marker\":{\"color\":\"#ab63fa\",\"pattern\":{\"shape\":\"\"}},\"name\":\"Corn and corn products\",\"offsetgroup\":\"Corn and corn products\",\"orientation\":\"v\",\"showlegend\":true,\"textposition\":\"auto\",\"x\":[\"2011-02-01T00:00:00\",\"2011-09-01T00:00:00\",\"2013-01-01T00:00:00\",\"2014-02-01T00:00:00\",\"2011-11-01T00:00:00\",\"2008-05-01T00:00:00\",\"2011-10-01T00:00:00\",\"2012-12-01T00:00:00\",\"2013-09-01T00:00:00\",\"2012-09-01T00:00:00\",\"2011-03-01T00:00:00\",\"2011-12-01T00:00:00\",\"2012-10-01T00:00:00\",\"2008-04-01T00:00:00\",\"2013-08-01T00:00:00\",\"2014-03-01T00:00:00\",\"2011-04-01T00:00:00\",\"2011-07-01T00:00:00\",\"2012-08-01T00:00:00\",\"2013-07-01T00:00:00\",\"2013-05-01T00:00:00\",\"2013-11-01T00:00:00\",\"2008-06-01T00:00:00\",\"2012-04-01T00:00:00\",\"2013-04-01T00:00:00\",\"2011-06-01T00:00:00\",\"2012-02-01T00:00:00\",\"2008-07-01T00:00:00\",\"2013-12-01T00:00:00\",\"2013-06-01T00:00:00\",\"2012-05-01T00:00:00\",\"2011-08-01T00:00:00\",\"2013-03-01T00:00:00\",\"2012-06-01T00:00:00\",\"2011-05-01T00:00:00\",\"2014-01-01T00:00:00\",\"2013-02-01T00:00:00\",\"2012-03-01T00:00:00\",\"2012-01-01T00:00:00\",\"2008-01-01T00:00:00\",\"2013-10-01T00:00:00\",\"2012-07-01T00:00:00\",\"2014-06-01T00:00:00\",\"2009-12-01T00:00:00\",\"2008-03-01T00:00:00\",\"2008-10-01T00:00:00\",\"2009-07-01T00:00:00\",\"2008-08-01T00:00:00\",\"2010-02-01T00:00:00\",\"2009-03-01T00:00:00\",\"2009-09-01T00:00:00\",\"2015-09-01T00:00:00\",\"2010-08-01T00:00:00\",\"2014-08-01T00:00:00\",\"2009-04-01T00:00:00\",\"2014-12-01T00:00:00\",\"2010-07-01T00:00:00\",\"2015-08-01T00:00:00\",\"2015-05-01T00:00:00\",\"2010-03-01T00:00:00\",\"2009-05-01T00:00:00\",\"2014-09-01T00:00:00\",\"2010-06-01T00:00:00\",\"2009-08-01T00:00:00\",\"2015-07-01T00:00:00\",\"2009-06-01T00:00:00\",\"2014-10-01T00:00:00\",\"2010-05-01T00:00:00\",\"2014-11-01T00:00:00\",\"2015-06-01T00:00:00\",\"2014-07-01T00:00:00\",\"2010-09-01T00:00:00\",\"2010-04-01T00:00:00\",\"2015-02-01T00:00:00\",\"2015-03-01T00:00:00\",\"2015-12-01T00:00:00\",\"2008-12-01T00:00:00\",\"2010-12-01T00:00:00\",\"2014-04-01T00:00:00\",\"2014-05-01T00:00:00\",\"2009-11-01T00:00:00\",\"2011-01-01T00:00:00\",\"2010-11-01T00:00:00\",\"2015-11-01T00:00:00\",\"2008-11-01T00:00:00\",\"2008-09-01T00:00:00\",\"2009-01-01T00:00:00\",\"2009-10-01T00:00:00\",\"2008-02-01T00:00:00\",\"2010-01-01T00:00:00\",\"2012-11-01T00:00:00\",\"2015-04-01T00:00:00\",\"2010-10-01T00:00:00\",\"2015-10-01T00:00:00\",\"2009-02-01T00:00:00\",\"2015-01-01T00:00:00\"],\"xaxis\":\"x\",\"y\":[53981943,47180399,50597106,49718568,53879230,63945802,48090884,43809820,51834721,50320517,61094976,50507994,50852126,61555980,50568490,53923554,58628353,47864835,53320491,49297406,53185970,41543251,65645480,61313630,46416330,49399750,62631394,66406321,48242094,53527463,66220273,49085339,47314812,63113188,50573951,60186876,46499056,62376094,61859978,57563519,53528251,62878256,59290119,45851254,60800221,63047343,68510353,64953210,54486996,66543131,54632420,41626738,60424525,49539298,67266636,30884481,58694301,49124855,59463385,60991969,62481084,46554596,60811086,57684547,47503607,62107546,46194312,62684555,38032693,58932810,47760795,77399155,61273430,49291032,53588473,27270242,49919452,48503335,51063013,59741914,47018983,58632672,47348859,31612117,53628776,59787127,63115693,55590153,59513161,56705162,44981825,50651219,51427974,41417962,60966715,59759340],\"yaxis\":\"y\",\"type\":\"bar\"},{\"alignmentgroup\":\"True\",\"hovertemplate\":\"type=Hops (dry)<br>date=%{x}<br>month_current=%{y}<extra></extra>\",\"legendgroup\":\"Hops (dry)\",\"marker\":{\"color\":\"#FFA15A\",\"pattern\":{\"shape\":\"\"}},\"name\":\"Hops (dry)\",\"offsetgroup\":\"Hops (dry)\",\"orientation\":\"v\",\"showlegend\":true,\"textposition\":\"auto\",\"x\":[\"2013-04-01T00:00:00\",\"2012-03-01T00:00:00\",\"2009-07-01T00:00:00\",\"2009-09-01T00:00:00\",\"2015-05-01T00:00:00\",\"2008-04-01T00:00:00\",\"2009-10-01T00:00:00\",\"2013-05-01T00:00:00\",\"2012-01-01T00:00:00\",\"2009-08-01T00:00:00\",\"2015-04-01T00:00:00\",\"2012-02-01T00:00:00\",\"2015-03-01T00:00:00\",\"2008-01-01T00:00:00\",\"2008-09-01T00:00:00\",\"2009-02-01T00:00:00\",\"2012-10-01T00:00:00\",\"2015-12-01T00:00:00\",\"2012-11-01T00:00:00\",\"2008-11-01T00:00:00\",\"2012-09-01T00:00:00\",\"2015-11-01T00:00:00\",\"2008-12-01T00:00:00\",\"2015-10-01T00:00:00\",\"2012-12-01T00:00:00\",\"2012-08-01T00:00:00\",\"2009-01-01T00:00:00\",\"2015-09-01T00:00:00\",\"2008-05-01T00:00:00\",\"2012-07-01T00:00:00\",\"2009-06-01T00:00:00\",\"2013-01-01T00:00:00\",\"2009-03-01T00:00:00\",\"2015-08-01T00:00:00\",\"2012-06-01T00:00:00\",\"2009-04-01T00:00:00\",\"2013-02-01T00:00:00\",\"2013-06-01T00:00:00\",\"2012-05-01T00:00:00\",\"2015-07-01T00:00:00\",\"2009-05-01T00:00:00\",\"2015-06-01T00:00:00\",\"2013-03-01T00:00:00\",\"2012-04-01T00:00:00\",\"2009-11-01T00:00:00\",\"2011-01-01T00:00:00\",\"2010-06-01T00:00:00\",\"2013-12-01T00:00:00\",\"2014-10-01T00:00:00\",\"2010-05-01T00:00:00\",\"2013-10-01T00:00:00\",\"2014-09-01T00:00:00\",\"2011-07-01T00:00:00\",\"2011-12-01T00:00:00\",\"2014-08-01T00:00:00\",\"2013-11-01T00:00:00\",\"2011-06-01T00:00:00\",\"2010-07-01T00:00:00\",\"2014-07-01T00:00:00\",\"2010-08-01T00:00:00\",\"2011-05-01T00:00:00\",\"2010-09-01T00:00:00\",\"2010-04-01T00:00:00\",\"2011-04-01T00:00:00\",\"2014-06-01T00:00:00\",\"2010-10-01T00:00:00\",\"2014-01-01T00:00:00\",\"2008-03-01T00:00:00\",\"2011-03-01T00:00:00\",\"2014-05-01T00:00:00\",\"2010-11-01T00:00:00\",\"2014-02-01T00:00:00\",\"2011-02-01T00:00:00\",\"2014-04-01T00:00:00\",\"2010-12-01T00:00:00\",\"2008-07-01T00:00:00\",\"2011-08-01T00:00:00\",\"2008-10-01T00:00:00\",\"2010-02-01T00:00:00\",\"2011-09-01T00:00:00\",\"2014-12-01T00:00:00\",\"2013-08-01T00:00:00\",\"2011-10-01T00:00:00\",\"2010-01-01T00:00:00\",\"2015-01-01T00:00:00\",\"2011-11-01T00:00:00\",\"2008-06-01T00:00:00\",\"2014-11-01T00:00:00\",\"2010-03-01T00:00:00\",\"2013-07-01T00:00:00\",\"2008-02-01T00:00:00\",\"2015-02-01T00:00:00\",\"2013-09-01T00:00:00\",\"2008-08-01T00:00:00\",\"2009-12-01T00:00:00\",\"2014-03-01T00:00:00\"],\"xaxis\":\"x\",\"y\":[9791137,10288665,7309199,5216389,2188410,6864440,1326445,10286943,9562820,5393471,2184404,1366949,3743541,4506546,3788942,4601598,9505007,284114545,10621547,3897905,10180667,1360528,1576751,1826524,7808600,10374025,1461121,4335014,7470130,12188084,6854083,9164708,6787391,1807220,12720422,5574889,9456485,12319034,12583340,2352314,7051829,2991932,9754327,11641934,4442654,6059066,10418215,2129685,1899541,9080801,1681113,4289504,9514024,11606511,1835895,1440544,10603566,8297261,2423064,7272871,10076039,6437916,8240399,9942341,2894437,9244763,1890937,6067167,10736471,2173226,7727370,1733845,7617974,2167689,6540100,1759452,7575266,3788949,4899463,7462299,284055954,1670049,7238838,4765924,1899000,8455615,7361941,1492949,7932387,11044977,1815271,1754927,2339398,5992025,3887961,3719722],\"yaxis\":\"y\",\"type\":\"bar\"},{\"alignmentgroup\":\"True\",\"hovertemplate\":\"type=Other<br>date=%{x}<br>month_current=%{y}<extra></extra>\",\"legendgroup\":\"Other\",\"marker\":{\"color\":\"#19d3f3\",\"pattern\":{\"shape\":\"\"}},\"name\":\"Other\",\"offsetgroup\":\"Other\",\"orientation\":\"v\",\"showlegend\":true,\"textposition\":\"auto\",\"x\":[\"2014-02-01T00:00:00\",\"2013-05-01T00:00:00\",\"2014-03-01T00:00:00\",\"2015-02-01T00:00:00\",\"2014-05-01T00:00:00\",\"2012-12-01T00:00:00\",\"2015-03-01T00:00:00\",\"2014-01-01T00:00:00\",\"2012-11-01T00:00:00\",\"2015-10-01T00:00:00\",\"2013-07-01T00:00:00\",\"2015-09-01T00:00:00\",\"2014-04-01T00:00:00\",\"2015-01-01T00:00:00\",\"2015-11-01T00:00:00\",\"2014-12-01T00:00:00\",\"2013-09-01T00:00:00\",\"2014-06-01T00:00:00\",\"2013-12-01T00:00:00\",\"2008-01-01T00:00:00\",\"2013-03-01T00:00:00\",\"2015-05-01T00:00:00\",\"2014-09-01T00:00:00\",\"2015-06-01T00:00:00\",\"2013-10-01T00:00:00\",\"2013-04-01T00:00:00\",\"2008-04-01T00:00:00\",\"2013-02-01T00:00:00\",\"2015-07-01T00:00:00\",\"2008-02-01T00:00:00\",\"2014-08-01T00:00:00\",\"2014-11-01T00:00:00\",\"2013-08-01T00:00:00\",\"2013-11-01T00:00:00\",\"2015-08-01T00:00:00\",\"2008-03-01T00:00:00\",\"2014-07-01T00:00:00\",\"2013-01-01T00:00:00\",\"2015-04-01T00:00:00\",\"2014-10-01T00:00:00\",\"2013-06-01T00:00:00\",\"2015-12-01T00:00:00\",\"2010-10-01T00:00:00\",\"2009-08-01T00:00:00\",\"2010-06-01T00:00:00\",\"2010-05-01T00:00:00\",\"2011-12-01T00:00:00\",\"2010-04-01T00:00:00\",\"2010-03-01T00:00:00\",\"2012-01-01T00:00:00\",\"2010-02-01T00:00:00\",\"2008-08-01T00:00:00\",\"2011-05-01T00:00:00\",\"2012-02-01T00:00:00\",\"2009-12-01T00:00:00\",\"2012-03-01T00:00:00\",\"2009-11-01T00:00:00\",\"2009-10-01T00:00:00\",\"2009-09-01T00:00:00\",\"2011-11-01T00:00:00\",\"2010-07-01T00:00:00\",\"2010-08-01T00:00:00\",\"2011-01-01T00:00:00\",\"2011-04-01T00:00:00\",\"2011-06-01T00:00:00\",\"2011-03-01T00:00:00\",\"2011-07-01T00:00:00\",\"2008-06-01T00:00:00\",\"2011-02-01T00:00:00\",\"2011-08-01T00:00:00\",\"2010-09-01T00:00:00\",\"2010-12-01T00:00:00\",\"2010-11-01T00:00:00\",\"2011-09-01T00:00:00\",\"2008-07-01T00:00:00\",\"2012-10-01T00:00:00\",\"2011-10-01T00:00:00\",\"2012-04-01T00:00:00\",\"2010-01-01T00:00:00\",\"2008-11-01T00:00:00\",\"2012-07-01T00:00:00\",\"2008-09-01T00:00:00\",\"2012-09-01T00:00:00\",\"2012-06-01T00:00:00\",\"2008-12-01T00:00:00\",\"2009-05-01T00:00:00\",\"2009-03-01T00:00:00\",\"2009-01-01T00:00:00\",\"2009-06-01T00:00:00\",\"2009-04-01T00:00:00\",\"2008-10-01T00:00:00\",\"2012-08-01T00:00:00\",\"2012-05-01T00:00:00\",\"2009-02-01T00:00:00\",\"2009-07-01T00:00:00\",\"2008-05-01T00:00:00\"],\"xaxis\":\"x\",\"y\":[11645142,12546040,13362414,12263652,15253410,9358030,14164052,10970144,9681814,13718274,13505472,18361202,13188832,11573104,13861638,2442418,12336644,32242095,12527321,1291615,13802289,16048061,17318046,33086953,11808695,11928594,1332607,9279419,25049222,1599119,13675594,13116911,13373297,11793486,13967238,2211210,25013032,10673797,14074835,13016053,13473911,3237774,8888902,10315854,12877498,11525375,8090886,11213037,11678127,8994300,9022834,1664171,10565868,7134068,8051559,11713920,9915569,8944515,11250446,8504780,13378852,9572674,7972930,10127397,11982901,10489641,9659056,2446573,7997916,9175477,9180751,8217736,9117383,10334415,1437970,10274692,9544745,9872076,10537742,1247790,10558223,1732698,11155361,11784212,1574456,6915331,6604657,1424001,6216613,6169478,1568462,10626133,10260031,939857,13368693,1804156],\"yaxis\":\"y\",\"type\":\"bar\"},{\"alignmentgroup\":\"True\",\"hovertemplate\":\"type=Barley and barley products<br>date=%{x}<br>month_current=%{y}<extra></extra>\",\"legendgroup\":\"Barley and barley products\",\"marker\":{\"color\":\"#FF6692\",\"pattern\":{\"shape\":\"\"}},\"name\":\"Barley and barley products\",\"offsetgroup\":\"Barley and barley products\",\"orientation\":\"v\",\"showlegend\":true,\"textposition\":\"auto\",\"x\":[\"2014-06-01T00:00:00\",\"2008-03-01T00:00:00\",\"2008-10-01T00:00:00\",\"2014-05-01T00:00:00\",\"2010-11-01T00:00:00\",\"2010-10-01T00:00:00\",\"2009-01-01T00:00:00\",\"2009-02-01T00:00:00\",\"2015-10-01T00:00:00\",\"2010-12-01T00:00:00\",\"2015-05-01T00:00:00\",\"2014-03-01T00:00:00\",\"2014-04-01T00:00:00\",\"2008-01-01T00:00:00\",\"2011-01-01T00:00:00\",\"2015-09-01T00:00:00\",\"2011-02-01T00:00:00\",\"2015-11-01T00:00:00\",\"2008-12-01T00:00:00\",\"2014-02-01T00:00:00\",\"2011-03-01T00:00:00\",\"2015-12-01T00:00:00\",\"2008-07-01T00:00:00\",\"2011-04-01T00:00:00\",\"2014-01-01T00:00:00\",\"2008-11-01T00:00:00\",\"2011-05-01T00:00:00\",\"2010-09-01T00:00:00\",\"2010-07-01T00:00:00\",\"2014-07-01T00:00:00\",\"2015-06-01T00:00:00\",\"2015-01-01T00:00:00\",\"2010-01-01T00:00:00\",\"2009-06-01T00:00:00\",\"2008-02-01T00:00:00\",\"2009-12-01T00:00:00\",\"2015-02-01T00:00:00\",\"2009-11-01T00:00:00\",\"2010-08-01T00:00:00\",\"2009-07-01T00:00:00\",\"2015-03-01T00:00:00\",\"2009-10-01T00:00:00\",\"2008-09-01T00:00:00\",\"2015-04-01T00:00:00\",\"2009-09-01T00:00:00\",\"2015-07-01T00:00:00\",\"2010-02-01T00:00:00\",\"2014-12-01T00:00:00\",\"2009-05-01T00:00:00\",\"2010-03-01T00:00:00\",\"2014-11-01T00:00:00\",\"2010-04-01T00:00:00\",\"2015-08-01T00:00:00\",\"2009-04-01T00:00:00\",\"2014-10-01T00:00:00\",\"2010-05-01T00:00:00\",\"2014-09-01T00:00:00\",\"2010-06-01T00:00:00\",\"2008-08-01T00:00:00\",\"2009-08-01T00:00:00\",\"2009-03-01T00:00:00\",\"2014-08-01T00:00:00\",\"2013-12-01T00:00:00\",\"2008-05-01T00:00:00\",\"2011-06-01T00:00:00\",\"2013-10-01T00:00:00\",\"2013-09-01T00:00:00\",\"2011-10-01T00:00:00\",\"2013-08-01T00:00:00\",\"2011-11-01T00:00:00\",\"2008-04-01T00:00:00\",\"2013-07-01T00:00:00\",\"2011-12-01T00:00:00\",\"2012-01-01T00:00:00\",\"2013-06-01T00:00:00\",\"2008-06-01T00:00:00\",\"2013-05-01T00:00:00\",\"2012-03-01T00:00:00\",\"2013-04-01T00:00:00\",\"2012-04-01T00:00:00\",\"2012-05-01T00:00:00\",\"2013-03-01T00:00:00\",\"2012-06-01T00:00:00\",\"2013-02-01T00:00:00\",\"2012-07-01T00:00:00\",\"2013-01-01T00:00:00\",\"2012-08-01T00:00:00\",\"2012-09-01T00:00:00\",\"2012-12-01T00:00:00\",\"2012-10-01T00:00:00\",\"2012-11-01T00:00:00\",\"2011-09-01T00:00:00\",\"2012-02-01T00:00:00\",\"2011-08-01T00:00:00\",\"2013-11-01T00:00:00\",\"2011-07-01T00:00:00\"],\"xaxis\":\"x\",\"y\":[23906204,6950276,3825118,11263219,5235825,6203762,2169601,3334476,13833433,12815197,11006146,20694786,10091164,3800844,4705175,26802044,4322047,8852396,6152633,8893650,11614373,11466970,3395619,4768751,8185386,3309266,5564462,14107767,5224206,11164504,24840171,8728262,3668374,8146509,3236714,7271474,9108543,3374449,5276045,4185235,22013439,3615556,8282404,9432668,8106300,11059580,3726630,9077439,3684818,10220654,10643784,5030962,11696242,3349556,14289508,4903020,25194159,11280602,3772040,3789027,7094005,10774103,19579344,3660048,10363329,10271881,19626718,6773403,10069803,5909830,3912088,9479272,11793946,5391781,18971859,7751285,9322039,15647530,8355161,7634002,7116069,15469983,17104839,7486134,9486054,7749970,8622164,16834020,14176754,9353404,7563555,32343039,5493934,6775228,7902110,6014579],\"yaxis\":\"y\",\"type\":\"bar\"},{\"alignmentgroup\":\"True\",\"hovertemplate\":\"type=Wheat and wheat products<br>date=%{x}<br>month_current=%{y}<extra></extra>\",\"legendgroup\":\"Wheat and wheat products\",\"marker\":{\"color\":\"#B6E880\",\"pattern\":{\"shape\":\"\"}},\"name\":\"Wheat and wheat products\",\"offsetgroup\":\"Wheat and wheat products\",\"orientation\":\"v\",\"showlegend\":true,\"textposition\":\"auto\",\"x\":[\"2013-04-01T00:00:00\",\"2012-05-01T00:00:00\",\"2009-08-01T00:00:00\",\"2013-11-01T00:00:00\",\"2008-09-01T00:00:00\",\"2013-03-01T00:00:00\",\"2015-04-01T00:00:00\",\"2014-01-01T00:00:00\",\"2009-09-01T00:00:00\",\"2009-10-01T00:00:00\",\"2015-03-01T00:00:00\",\"2012-04-01T00:00:00\",\"2009-11-01T00:00:00\",\"2011-08-01T00:00:00\",\"2015-05-01T00:00:00\",\"2014-03-01T00:00:00\",\"2012-03-01T00:00:00\",\"2015-01-01T00:00:00\",\"2011-07-01T00:00:00\",\"2010-01-01T00:00:00\",\"2008-02-01T00:00:00\",\"2013-05-01T00:00:00\",\"2012-02-01T00:00:00\",\"2014-12-01T00:00:00\",\"2010-02-01T00:00:00\",\"2010-03-01T00:00:00\",\"2014-11-01T00:00:00\",\"2012-01-01T00:00:00\",\"2011-03-01T00:00:00\",\"2015-02-01T00:00:00\",\"2009-07-01T00:00:00\",\"2010-04-01T00:00:00\",\"2012-12-01T00:00:00\",\"2011-06-01T00:00:00\",\"2015-12-01T00:00:00\",\"2012-11-01T00:00:00\",\"2008-11-01T00:00:00\",\"2012-10-01T00:00:00\",\"2008-10-01T00:00:00\",\"2013-12-01T00:00:00\",\"2008-12-01T00:00:00\",\"2015-11-01T00:00:00\",\"2008-05-01T00:00:00\",\"2012-09-01T00:00:00\",\"2011-05-01T00:00:00\",\"2009-01-01T00:00:00\",\"2015-10-01T00:00:00\",\"2008-01-01T00:00:00\",\"2011-04-01T00:00:00\",\"2009-02-01T00:00:00\",\"2015-09-01T00:00:00\",\"2012-08-01T00:00:00\",\"2009-03-01T00:00:00\",\"2013-01-01T00:00:00\",\"2015-08-01T00:00:00\",\"2009-04-01T00:00:00\",\"2012-07-01T00:00:00\",\"2009-05-01T00:00:00\",\"2015-07-01T00:00:00\",\"2009-06-01T00:00:00\",\"2015-06-01T00:00:00\",\"2013-02-01T00:00:00\",\"2012-06-01T00:00:00\",\"2013-06-01T00:00:00\",\"2009-12-01T00:00:00\",\"2010-09-01T00:00:00\",\"2014-02-01T00:00:00\",\"2014-09-01T00:00:00\",\"2013-10-01T00:00:00\",\"2011-11-01T00:00:00\",\"2014-07-01T00:00:00\",\"2010-06-01T00:00:00\",\"2011-09-01T00:00:00\",\"2013-09-01T00:00:00\",\"2010-08-01T00:00:00\",\"2010-12-01T00:00:00\",\"2013-07-01T00:00:00\",\"2008-06-01T00:00:00\",\"2008-07-01T00:00:00\",\"2014-08-01T00:00:00\",\"2011-02-01T00:00:00\",\"2010-07-01T00:00:00\",\"2014-05-01T00:00:00\",\"2008-08-01T00:00:00\",\"2011-12-01T00:00:00\",\"2008-04-01T00:00:00\",\"2010-05-01T00:00:00\",\"2014-06-01T00:00:00\",\"2014-10-01T00:00:00\",\"2011-01-01T00:00:00\",\"2013-08-01T00:00:00\",\"2010-10-01T00:00:00\",\"2011-10-01T00:00:00\",\"2008-03-01T00:00:00\",\"2014-04-01T00:00:00\",\"2010-11-01T00:00:00\"],\"xaxis\":\"x\",\"y\":[2339352,2141313,1298648,1331387,1840600,2721578,2543086,1372263,1934968,1025133,3719861,2001345,1116613,1749667,3270150,3621626,2817135,1316582,1523087,1409685,1240983,4781594,1358318,946014,1683401,2762670,1345356,1319508,5019351,2060046,1475523,2247616,1789996,2305971,1070326,1709859,959228,1762481,1431903,2311377,1348759,1292617,1697578,2676324,1721632,873714,1568734,1177186,1816659,1142813,3829592,2286719,2175247,1537526,3015906,1569606,2062199,1712205,4133710,1966215,4325143,1823446,2947584,3161620,1851868,2150923,2120033,3802119,1915107,1297888,4202335,2896874,2260859,2861762,1379102,1588739,2159949,2258532,1371856,3109619,955671,1628102,3267690,1588068,1612682,1404733,2264521,4273103,1872895,1210137,1940771,1053279,1555618,1888250,2547858,1097679],\"yaxis\":\"y\",\"type\":\"bar\"},{\"alignmentgroup\":\"True\",\"hovertemplate\":\"type=Hops (used as extracts)<br>date=%{x}<br>month_current=%{y}<extra></extra>\",\"legendgroup\":\"Hops (used as extracts)\",\"marker\":{\"color\":\"#FF97FF\",\"pattern\":{\"shape\":\"\"}},\"name\":\"Hops (used as extracts)\",\"offsetgroup\":\"Hops (used as extracts)\",\"orientation\":\"v\",\"showlegend\":true,\"textposition\":\"auto\",\"x\":[\"2008-03-01T00:00:00\",\"2014-05-01T00:00:00\",\"2013-01-01T00:00:00\",\"2011-06-01T00:00:00\",\"2010-10-01T00:00:00\",\"2015-08-01T00:00:00\",\"2013-08-01T00:00:00\",\"2011-02-01T00:00:00\",\"2012-07-01T00:00:00\",\"2008-05-01T00:00:00\",\"2013-12-01T00:00:00\",\"2009-04-01T00:00:00\",\"2009-03-01T00:00:00\",\"2009-05-01T00:00:00\",\"2011-09-01T00:00:00\",\"2015-07-01T00:00:00\",\"2012-12-01T00:00:00\",\"2012-08-01T00:00:00\",\"2009-02-01T00:00:00\",\"2015-12-01T00:00:00\",\"2012-10-01T00:00:00\",\"2011-01-01T00:00:00\",\"2014-03-01T00:00:00\",\"2011-08-01T00:00:00\",\"2008-11-01T00:00:00\",\"2008-06-01T00:00:00\",\"2015-11-01T00:00:00\",\"2010-12-01T00:00:00\",\"2013-09-01T00:00:00\",\"2012-11-01T00:00:00\",\"2008-12-01T00:00:00\",\"2012-09-01T00:00:00\",\"2015-10-01T00:00:00\",\"2014-04-01T00:00:00\",\"2008-07-01T00:00:00\",\"2009-01-01T00:00:00\",\"2013-11-01T00:00:00\",\"2010-11-01T00:00:00\",\"2008-01-01T00:00:00\",\"2015-09-01T00:00:00\",\"2012-06-01T00:00:00\",\"2014-10-01T00:00:00\",\"2008-09-01T00:00:00\",\"2010-05-01T00:00:00\",\"2010-06-01T00:00:00\",\"2012-03-01T00:00:00\",\"2013-04-01T00:00:00\",\"2013-10-01T00:00:00\",\"2009-12-01T00:00:00\",\"2015-01-01T00:00:00\",\"2014-01-01T00:00:00\",\"2012-02-01T00:00:00\",\"2010-01-01T00:00:00\",\"2014-09-01T00:00:00\",\"2014-12-01T00:00:00\",\"2011-05-01T00:00:00\",\"2015-06-01T00:00:00\",\"2008-02-01T00:00:00\",\"2013-05-01T00:00:00\",\"2010-02-01T00:00:00\",\"2011-03-01T00:00:00\",\"2008-08-01T00:00:00\",\"2014-11-01T00:00:00\",\"2012-01-01T00:00:00\",\"2011-12-01T00:00:00\",\"2013-06-01T00:00:00\",\"2010-03-01T00:00:00\",\"2011-07-01T00:00:00\",\"2009-11-01T00:00:00\",\"2015-02-01T00:00:00\",\"2014-08-01T00:00:00\",\"2009-10-01T00:00:00\",\"2011-04-01T00:00:00\",\"2011-10-01T00:00:00\",\"2009-06-01T00:00:00\",\"2014-06-01T00:00:00\",\"2010-09-01T00:00:00\",\"2010-04-01T00:00:00\",\"2015-05-01T00:00:00\",\"2009-07-01T00:00:00\",\"2013-02-01T00:00:00\",\"2014-02-01T00:00:00\",\"2008-10-01T00:00:00\",\"2009-08-01T00:00:00\",\"2010-08-01T00:00:00\",\"2015-04-01T00:00:00\",\"2014-07-01T00:00:00\",\"2011-11-01T00:00:00\",\"2010-07-01T00:00:00\",\"2009-09-01T00:00:00\",\"2013-03-01T00:00:00\",\"2012-04-01T00:00:00\",\"2015-03-01T00:00:00\",\"2008-04-01T00:00:00\",\"2013-07-01T00:00:00\",\"2012-05-01T00:00:00\"],\"xaxis\":\"x\",\"y\":[1195722,345805,323285,338467,293914,312425,324649,275963,391852,545875,312373,388369,382897,450264,298977,339168,293877,472469,345975,41207,309173,296605,351254,324190,329906,513130,258557,255382,310392,303256,272045,301893,330925,321444,508794,324497,282732,281893,621912,339156,474060,334633,337294,396737,355258,335010,302532,325023,260877,298514,298281,361152,271405,341156,42981,438895,403948,476688,323157,268589,350949,377424,262480,293488,238892,338940,320406,333313,289240,298894,312437,302264,330339,306588,381321,403502,300116,456519,345805,359130,324126,298524,337430,322875,718808,321444,339167,290356,369505,305344,372356,338454,321462,503072,345552,346461],\"yaxis\":\"y\",\"type\":\"bar\"}],                        {\"template\":{\"data\":{\"histogram2dcontour\":[{\"type\":\"histogram2dcontour\",\"colorbar\":{\"outlinewidth\":0,\"ticks\":\"\"},\"colorscale\":[[0.0,\"#0d0887\"],[0.1111111111111111,\"#46039f\"],[0.2222222222222222,\"#7201a8\"],[0.3333333333333333,\"#9c179e\"],[0.4444444444444444,\"#bd3786\"],[0.5555555555555556,\"#d8576b\"],[0.6666666666666666,\"#ed7953\"],[0.7777777777777778,\"#fb9f3a\"],[0.8888888888888888,\"#fdca26\"],[1.0,\"#f0f921\"]]}],\"choropleth\":[{\"type\":\"choropleth\",\"colorbar\":{\"outlinewidth\":0,\"ticks\":\"\"}}],\"histogram2d\":[{\"type\":\"histogram2d\",\"colorbar\":{\"outlinewidth\":0,\"ticks\":\"\"},\"colorscale\":[[0.0,\"#0d0887\"],[0.1111111111111111,\"#46039f\"],[0.2222222222222222,\"#7201a8\"],[0.3333333333333333,\"#9c179e\"],[0.4444444444444444,\"#bd3786\"],[0.5555555555555556,\"#d8576b\"],[0.6666666666666666,\"#ed7953\"],[0.7777777777777778,\"#fb9f3a\"],[0.8888888888888888,\"#fdca26\"],[1.0,\"#f0f921\"]]}],\"heatmap\":[{\"type\":\"heatmap\",\"colorbar\":{\"outlinewidth\":0,\"ticks\":\"\"},\"colorscale\":[[0.0,\"#0d0887\"],[0.1111111111111111,\"#46039f\"],[0.2222222222222222,\"#7201a8\"],[0.3333333333333333,\"#9c179e\"],[0.4444444444444444,\"#bd3786\"],[0.5555555555555556,\"#d8576b\"],[0.6666666666666666,\"#ed7953\"],[0.7777777777777778,\"#fb9f3a\"],[0.8888888888888888,\"#fdca26\"],[1.0,\"#f0f921\"]]}],\"heatmapgl\":[{\"type\":\"heatmapgl\",\"colorbar\":{\"outlinewidth\":0,\"ticks\":\"\"},\"colorscale\":[[0.0,\"#0d0887\"],[0.1111111111111111,\"#46039f\"],[0.2222222222222222,\"#7201a8\"],[0.3333333333333333,\"#9c179e\"],[0.4444444444444444,\"#bd3786\"],[0.5555555555555556,\"#d8576b\"],[0.6666666666666666,\"#ed7953\"],[0.7777777777777778,\"#fb9f3a\"],[0.8888888888888888,\"#fdca26\"],[1.0,\"#f0f921\"]]}],\"contourcarpet\":[{\"type\":\"contourcarpet\",\"colorbar\":{\"outlinewidth\":0,\"ticks\":\"\"}}],\"contour\":[{\"type\":\"contour\",\"colorbar\":{\"outlinewidth\":0,\"ticks\":\"\"},\"colorscale\":[[0.0,\"#0d0887\"],[0.1111111111111111,\"#46039f\"],[0.2222222222222222,\"#7201a8\"],[0.3333333333333333,\"#9c179e\"],[0.4444444444444444,\"#bd3786\"],[0.5555555555555556,\"#d8576b\"],[0.6666666666666666,\"#ed7953\"],[0.7777777777777778,\"#fb9f3a\"],[0.8888888888888888,\"#fdca26\"],[1.0,\"#f0f921\"]]}],\"surface\":[{\"type\":\"surface\",\"colorbar\":{\"outlinewidth\":0,\"ticks\":\"\"},\"colorscale\":[[0.0,\"#0d0887\"],[0.1111111111111111,\"#46039f\"],[0.2222222222222222,\"#7201a8\"],[0.3333333333333333,\"#9c179e\"],[0.4444444444444444,\"#bd3786\"],[0.5555555555555556,\"#d8576b\"],[0.6666666666666666,\"#ed7953\"],[0.7777777777777778,\"#fb9f3a\"],[0.8888888888888888,\"#fdca26\"],[1.0,\"#f0f921\"]]}],\"mesh3d\":[{\"type\":\"mesh3d\",\"colorbar\":{\"outlinewidth\":0,\"ticks\":\"\"}}],\"scatter\":[{\"fillpattern\":{\"fillmode\":\"overlay\",\"size\":10,\"solidity\":0.2},\"type\":\"scatter\"}],\"parcoords\":[{\"type\":\"parcoords\",\"line\":{\"colorbar\":{\"outlinewidth\":0,\"ticks\":\"\"}}}],\"scatterpolargl\":[{\"type\":\"scatterpolargl\",\"marker\":{\"colorbar\":{\"outlinewidth\":0,\"ticks\":\"\"}}}],\"bar\":[{\"error_x\":{\"color\":\"#2a3f5f\"},\"error_y\":{\"color\":\"#2a3f5f\"},\"marker\":{\"line\":{\"color\":\"#E5ECF6\",\"width\":0.5},\"pattern\":{\"fillmode\":\"overlay\",\"size\":10,\"solidity\":0.2}},\"type\":\"bar\"}],\"scattergeo\":[{\"type\":\"scattergeo\",\"marker\":{\"colorbar\":{\"outlinewidth\":0,\"ticks\":\"\"}}}],\"scatterpolar\":[{\"type\":\"scatterpolar\",\"marker\":{\"colorbar\":{\"outlinewidth\":0,\"ticks\":\"\"}}}],\"histogram\":[{\"marker\":{\"pattern\":{\"fillmode\":\"overlay\",\"size\":10,\"solidity\":0.2}},\"type\":\"histogram\"}],\"scattergl\":[{\"type\":\"scattergl\",\"marker\":{\"colorbar\":{\"outlinewidth\":0,\"ticks\":\"\"}}}],\"scatter3d\":[{\"type\":\"scatter3d\",\"line\":{\"colorbar\":{\"outlinewidth\":0,\"ticks\":\"\"}},\"marker\":{\"colorbar\":{\"outlinewidth\":0,\"ticks\":\"\"}}}],\"scattermapbox\":[{\"type\":\"scattermapbox\",\"marker\":{\"colorbar\":{\"outlinewidth\":0,\"ticks\":\"\"}}}],\"scatterternary\":[{\"type\":\"scatterternary\",\"marker\":{\"colorbar\":{\"outlinewidth\":0,\"ticks\":\"\"}}}],\"scattercarpet\":[{\"type\":\"scattercarpet\",\"marker\":{\"colorbar\":{\"outlinewidth\":0,\"ticks\":\"\"}}}],\"carpet\":[{\"aaxis\":{\"endlinecolor\":\"#2a3f5f\",\"gridcolor\":\"white\",\"linecolor\":\"white\",\"minorgridcolor\":\"white\",\"startlinecolor\":\"#2a3f5f\"},\"baxis\":{\"endlinecolor\":\"#2a3f5f\",\"gridcolor\":\"white\",\"linecolor\":\"white\",\"minorgridcolor\":\"white\",\"startlinecolor\":\"#2a3f5f\"},\"type\":\"carpet\"}],\"table\":[{\"cells\":{\"fill\":{\"color\":\"#EBF0F8\"},\"line\":{\"color\":\"white\"}},\"header\":{\"fill\":{\"color\":\"#C8D4E3\"},\"line\":{\"color\":\"white\"}},\"type\":\"table\"}],\"barpolar\":[{\"marker\":{\"line\":{\"color\":\"#E5ECF6\",\"width\":0.5},\"pattern\":{\"fillmode\":\"overlay\",\"size\":10,\"solidity\":0.2}},\"type\":\"barpolar\"}],\"pie\":[{\"automargin\":true,\"type\":\"pie\"}]},\"layout\":{\"autotypenumbers\":\"strict\",\"colorway\":[\"#636efa\",\"#EF553B\",\"#00cc96\",\"#ab63fa\",\"#FFA15A\",\"#19d3f3\",\"#FF6692\",\"#B6E880\",\"#FF97FF\",\"#FECB52\"],\"font\":{\"color\":\"#2a3f5f\"},\"hovermode\":\"closest\",\"hoverlabel\":{\"align\":\"left\"},\"paper_bgcolor\":\"white\",\"plot_bgcolor\":\"#E5ECF6\",\"polar\":{\"bgcolor\":\"#E5ECF6\",\"angularaxis\":{\"gridcolor\":\"white\",\"linecolor\":\"white\",\"ticks\":\"\"},\"radialaxis\":{\"gridcolor\":\"white\",\"linecolor\":\"white\",\"ticks\":\"\"}},\"ternary\":{\"bgcolor\":\"#E5ECF6\",\"aaxis\":{\"gridcolor\":\"white\",\"linecolor\":\"white\",\"ticks\":\"\"},\"baxis\":{\"gridcolor\":\"white\",\"linecolor\":\"white\",\"ticks\":\"\"},\"caxis\":{\"gridcolor\":\"white\",\"linecolor\":\"white\",\"ticks\":\"\"}},\"coloraxis\":{\"colorbar\":{\"outlinewidth\":0,\"ticks\":\"\"}},\"colorscale\":{\"sequential\":[[0.0,\"#0d0887\"],[0.1111111111111111,\"#46039f\"],[0.2222222222222222,\"#7201a8\"],[0.3333333333333333,\"#9c179e\"],[0.4444444444444444,\"#bd3786\"],[0.5555555555555556,\"#d8576b\"],[0.6666666666666666,\"#ed7953\"],[0.7777777777777778,\"#fb9f3a\"],[0.8888888888888888,\"#fdca26\"],[1.0,\"#f0f921\"]],\"sequentialminus\":[[0.0,\"#0d0887\"],[0.1111111111111111,\"#46039f\"],[0.2222222222222222,\"#7201a8\"],[0.3333333333333333,\"#9c179e\"],[0.4444444444444444,\"#bd3786\"],[0.5555555555555556,\"#d8576b\"],[0.6666666666666666,\"#ed7953\"],[0.7777777777777778,\"#fb9f3a\"],[0.8888888888888888,\"#fdca26\"],[1.0,\"#f0f921\"]],\"diverging\":[[0,\"#8e0152\"],[0.1,\"#c51b7d\"],[0.2,\"#de77ae\"],[0.3,\"#f1b6da\"],[0.4,\"#fde0ef\"],[0.5,\"#f7f7f7\"],[0.6,\"#e6f5d0\"],[0.7,\"#b8e186\"],[0.8,\"#7fbc41\"],[0.9,\"#4d9221\"],[1,\"#276419\"]]},\"xaxis\":{\"gridcolor\":\"white\",\"linecolor\":\"white\",\"ticks\":\"\",\"title\":{\"standoff\":15},\"zerolinecolor\":\"white\",\"automargin\":true,\"zerolinewidth\":2},\"yaxis\":{\"gridcolor\":\"white\",\"linecolor\":\"white\",\"ticks\":\"\",\"title\":{\"standoff\":15},\"zerolinecolor\":\"white\",\"automargin\":true,\"zerolinewidth\":2},\"scene\":{\"xaxis\":{\"backgroundcolor\":\"#E5ECF6\",\"gridcolor\":\"white\",\"linecolor\":\"white\",\"showbackground\":true,\"ticks\":\"\",\"zerolinecolor\":\"white\",\"gridwidth\":2},\"yaxis\":{\"backgroundcolor\":\"#E5ECF6\",\"gridcolor\":\"white\",\"linecolor\":\"white\",\"showbackground\":true,\"ticks\":\"\",\"zerolinecolor\":\"white\",\"gridwidth\":2},\"zaxis\":{\"backgroundcolor\":\"#E5ECF6\",\"gridcolor\":\"white\",\"linecolor\":\"white\",\"showbackground\":true,\"ticks\":\"\",\"zerolinecolor\":\"white\",\"gridwidth\":2}},\"shapedefaults\":{\"line\":{\"color\":\"#2a3f5f\"}},\"annotationdefaults\":{\"arrowcolor\":\"#2a3f5f\",\"arrowhead\":0,\"arrowwidth\":1},\"geo\":{\"bgcolor\":\"white\",\"landcolor\":\"#E5ECF6\",\"subunitcolor\":\"white\",\"showland\":true,\"showlakes\":true,\"lakecolor\":\"white\"},\"title\":{\"x\":0.05},\"mapbox\":{\"style\":\"light\"}}},\"xaxis\":{\"anchor\":\"y\",\"domain\":[0.0,1.0],\"title\":{\"text\":\"Time\"}},\"yaxis\":{\"anchor\":\"x\",\"domain\":[0.0,1.0],\"title\":{\"text\":\"Pounds used in beer production\"}},\"legend\":{\"title\":{\"text\":\"Material\"},\"tracegroupgap\":0,\"traceorder\":\"reversed\"},\"margin\":{\"t\":60},\"barmode\":\"relative\"},                        {\"responsive\": true}                    ).then(function(){\n",
       "                            \n",
       "var gd = document.getElementById('76ce8e52-cc15-40d6-84ac-51e3eda41e7e');\n",
       "var x = new MutationObserver(function (mutations, observer) {{\n",
       "        var display = window.getComputedStyle(gd).display;\n",
       "        if (!display || display === 'none') {{\n",
       "            console.log([gd, 'removed!']);\n",
       "            Plotly.purge(gd);\n",
       "            observer.disconnect();\n",
       "        }}\n",
       "}});\n",
       "\n",
       "// Listen for the removal of the full notebook cells\n",
       "var notebookContainer = gd.closest('#notebook-container');\n",
       "if (notebookContainer) {{\n",
       "    x.observe(notebookContainer, {childList: true});\n",
       "}}\n",
       "\n",
       "// Listen for the clearing of the current output cell\n",
       "var outputEl = gd.closest('.output');\n",
       "if (outputEl) {{\n",
       "    x.observe(outputEl, {childList: true});\n",
       "}}\n",
       "\n",
       "                        })                };                });            </script>        </div>"
      ]
     },
     "metadata": {},
     "output_type": "display_data"
    }
   ],
   "source": [
    "bm_over_time = bm_over_time[bm_over_time['year'] < 2016]\n",
    "bm_over_time = bm_over_time.sort_values(by='type', key=lambda x: bm_over_time['month_current'].groupby(bm_over_time['type']).transform('sum'), ascending=False)\n",
    "fig = px.bar(\n",
    "    bm_over_time,\n",
    "    x='date',\n",
    "    y='month_current',\n",
    "    color='type',\n",
    ")\n",
    "\n",
    "fig.update_layout(\n",
    "    legend_traceorder=\"reversed\", \n",
    "    xaxis_title='Time',\n",
    "    yaxis_title='Pounds used in beer production',\n",
    "    legend_title='Material'\n",
    ")\n",
    "\n",
    "fig.show()"
   ]
  },
  {
   "cell_type": "markdown",
   "id": "85cde86f",
   "metadata": {},
   "source": [
    "We can also create an alternative plot showing just the total values for the grain and non-grain categories:"
   ]
  },
  {
   "cell_type": "code",
   "execution_count": 332,
   "id": "433e70b4",
   "metadata": {},
   "outputs": [
    {
     "data": {
      "application/vnd.plotly.v1+json": {
       "config": {
        "plotlyServerURL": "https://plot.ly"
       },
       "data": [
        {
         "alignmentgroup": "True",
         "hovertemplate": "type=Total Grain products<br>date=%{x}<br>month_current=%{y}<extra></extra>",
         "legendgroup": "Total Grain products",
         "marker": {
          "color": "#636efa",
          "pattern": {
           "shape": ""
          }
         },
         "name": "Total Grain products",
         "offsetgroup": "Total Grain products",
         "orientation": "v",
         "showlegend": true,
         "textposition": "auto",
         "type": "bar",
         "x": [
          "2008-01-01T00:00:00",
          "2008-02-01T00:00:00",
          "2008-03-01T00:00:00",
          "2008-04-01T00:00:00",
          "2008-05-01T00:00:00",
          "2008-06-01T00:00:00",
          "2008-07-01T00:00:00",
          "2008-08-01T00:00:00",
          "2008-09-01T00:00:00",
          "2008-10-01T00:00:00",
          "2008-11-01T00:00:00",
          "2008-12-01T00:00:00",
          "2009-01-01T00:00:00",
          "2009-02-01T00:00:00",
          "2009-03-01T00:00:00",
          "2009-04-01T00:00:00",
          "2009-05-01T00:00:00",
          "2009-06-01T00:00:00",
          "2009-07-01T00:00:00",
          "2009-08-01T00:00:00",
          "2009-09-01T00:00:00",
          "2009-10-01T00:00:00",
          "2009-11-01T00:00:00",
          "2009-12-01T00:00:00",
          "2010-01-01T00:00:00",
          "2010-02-01T00:00:00",
          "2010-03-01T00:00:00",
          "2010-04-01T00:00:00",
          "2010-05-01T00:00:00",
          "2010-06-01T00:00:00",
          "2010-07-01T00:00:00",
          "2010-08-01T00:00:00",
          "2010-09-01T00:00:00",
          "2010-10-01T00:00:00",
          "2010-11-01T00:00:00",
          "2010-12-01T00:00:00",
          "2011-01-01T00:00:00",
          "2011-02-01T00:00:00",
          "2011-03-01T00:00:00",
          "2011-04-01T00:00:00",
          "2011-05-01T00:00:00",
          "2011-06-01T00:00:00",
          "2011-07-01T00:00:00",
          "2011-08-01T00:00:00",
          "2011-09-01T00:00:00",
          "2011-10-01T00:00:00",
          "2011-11-01T00:00:00",
          "2011-12-01T00:00:00",
          "2012-01-01T00:00:00",
          "2012-02-01T00:00:00",
          "2012-03-01T00:00:00",
          "2012-04-01T00:00:00",
          "2012-05-01T00:00:00",
          "2012-06-01T00:00:00",
          "2012-07-01T00:00:00",
          "2012-08-01T00:00:00",
          "2012-09-01T00:00:00",
          "2012-10-01T00:00:00",
          "2012-11-01T00:00:00",
          "2012-12-01T00:00:00",
          "2013-01-01T00:00:00",
          "2013-02-01T00:00:00",
          "2013-03-01T00:00:00",
          "2013-04-01T00:00:00",
          "2013-05-01T00:00:00",
          "2013-06-01T00:00:00",
          "2013-07-01T00:00:00",
          "2013-08-01T00:00:00",
          "2013-09-01T00:00:00",
          "2013-10-01T00:00:00",
          "2013-11-01T00:00:00",
          "2013-12-01T00:00:00",
          "2014-01-01T00:00:00",
          "2014-02-01T00:00:00",
          "2014-03-01T00:00:00",
          "2014-04-01T00:00:00",
          "2014-05-01T00:00:00",
          "2014-06-01T00:00:00",
          "2014-07-01T00:00:00",
          "2014-08-01T00:00:00",
          "2014-09-01T00:00:00",
          "2014-10-01T00:00:00",
          "2014-11-01T00:00:00",
          "2014-12-01T00:00:00",
          "2015-01-01T00:00:00",
          "2015-02-01T00:00:00",
          "2015-03-01T00:00:00",
          "2015-04-01T00:00:00",
          "2015-05-01T00:00:00",
          "2015-06-01T00:00:00",
          "2015-07-01T00:00:00",
          "2015-08-01T00:00:00",
          "2015-09-01T00:00:00",
          "2015-10-01T00:00:00",
          "2015-11-01T00:00:00",
          "2015-12-01T00:00:00"
         ],
         "xaxis": "x",
         "y": [
          509108844,
          485740033,
          542124232,
          528822235,
          556829993,
          562595645,
          551513032,
          530698060,
          494237495,
          480715200,
          434602496,
          437878833,
          487497569,
          465066900,
          519952416,
          519749430,
          526467792,
          518043738,
          520121272,
          486710695,
          492729828,
          448685527,
          411658993,
          409132331,
          451788998,
          420639347,
          500699707,
          502373150,
          538640684,
          522137378,
          518305154,
          488998973,
          478213645,
          447365838,
          405712971,
          395793887,
          495141024,
          420624115,
          503004395,
          468387803,
          472602627,
          504312512,
          475941453,
          491962601,
          449818379,
          419933657,
          407735587,
          404396715,
          447354128,
          444247648,
          505985603,
          485319297,
          510251688,
          530000043,
          498030723,
          492243189,
          468740653,
          443396740,
          411010864,
          411521412,
          448512283,
          429018932,
          468695731,
          455047413,
          486653426,
          510033227,
          505362273,
          469346883,
          431434835,
          441169533,
          370894720,
          412213578,
          437572709,
          403451708,
          462295619,
          433912621,
          466314242,
          517238065,
          498521670,
          464079234,
          478952455,
          446368657,
          370132416,
          239549619,
          436432321,
          402002189,
          447480854,
          429289504,
          465334752,
          519282499,
          478747222,
          448103247,
          449068254,
          407735332,
          329039090,
          231706548
         ],
         "yaxis": "y"
        },
        {
         "alignmentgroup": "True",
         "hovertemplate": "type=Total Non-Grain products<br>date=%{x}<br>month_current=%{y}<extra></extra>",
         "legendgroup": "Total Non-Grain products",
         "marker": {
          "color": "#EF553B",
          "pattern": {
           "shape": ""
          }
         },
         "name": "Total Non-Grain products",
         "offsetgroup": "Total Non-Grain products",
         "orientation": "v",
         "showlegend": true,
         "textposition": "auto",
         "type": "bar",
         "x": [
          "2008-01-01T00:00:00",
          "2008-02-01T00:00:00",
          "2008-03-01T00:00:00",
          "2008-04-01T00:00:00",
          "2008-05-01T00:00:00",
          "2008-06-01T00:00:00",
          "2008-07-01T00:00:00",
          "2008-08-01T00:00:00",
          "2008-09-01T00:00:00",
          "2008-10-01T00:00:00",
          "2008-11-01T00:00:00",
          "2008-12-01T00:00:00",
          "2009-01-01T00:00:00",
          "2009-02-01T00:00:00",
          "2009-03-01T00:00:00",
          "2009-04-01T00:00:00",
          "2009-05-01T00:00:00",
          "2009-06-01T00:00:00",
          "2009-07-01T00:00:00",
          "2009-08-01T00:00:00",
          "2009-09-01T00:00:00",
          "2009-10-01T00:00:00",
          "2009-11-01T00:00:00",
          "2009-12-01T00:00:00",
          "2010-01-01T00:00:00",
          "2010-02-01T00:00:00",
          "2010-03-01T00:00:00",
          "2010-04-01T00:00:00",
          "2010-05-01T00:00:00",
          "2010-06-01T00:00:00",
          "2010-07-01T00:00:00",
          "2010-08-01T00:00:00",
          "2010-09-01T00:00:00",
          "2010-10-01T00:00:00",
          "2010-11-01T00:00:00",
          "2010-12-01T00:00:00",
          "2011-01-01T00:00:00",
          "2011-02-01T00:00:00",
          "2011-03-01T00:00:00",
          "2011-04-01T00:00:00",
          "2011-05-01T00:00:00",
          "2011-06-01T00:00:00",
          "2011-07-01T00:00:00",
          "2011-08-01T00:00:00",
          "2011-09-01T00:00:00",
          "2011-10-01T00:00:00",
          "2011-11-01T00:00:00",
          "2011-12-01T00:00:00",
          "2012-01-01T00:00:00",
          "2012-02-01T00:00:00",
          "2012-03-01T00:00:00",
          "2012-04-01T00:00:00",
          "2012-05-01T00:00:00",
          "2012-06-01T00:00:00",
          "2012-07-01T00:00:00",
          "2012-08-01T00:00:00",
          "2012-09-01T00:00:00",
          "2012-10-01T00:00:00",
          "2012-11-01T00:00:00",
          "2012-12-01T00:00:00",
          "2013-01-01T00:00:00",
          "2013-02-01T00:00:00",
          "2013-03-01T00:00:00",
          "2013-04-01T00:00:00",
          "2013-05-01T00:00:00",
          "2013-06-01T00:00:00",
          "2013-07-01T00:00:00",
          "2013-08-01T00:00:00",
          "2013-09-01T00:00:00",
          "2013-10-01T00:00:00",
          "2013-11-01T00:00:00",
          "2013-12-01T00:00:00",
          "2014-01-01T00:00:00",
          "2014-02-01T00:00:00",
          "2014-03-01T00:00:00",
          "2014-04-01T00:00:00",
          "2014-05-01T00:00:00",
          "2014-06-01T00:00:00",
          "2014-07-01T00:00:00",
          "2014-08-01T00:00:00",
          "2014-09-01T00:00:00",
          "2014-10-01T00:00:00",
          "2014-11-01T00:00:00",
          "2014-12-01T00:00:00",
          "2015-01-01T00:00:00",
          "2015-02-01T00:00:00",
          "2015-03-01T00:00:00",
          "2015-04-01T00:00:00",
          "2015-05-01T00:00:00",
          "2015-06-01T00:00:00",
          "2015-07-01T00:00:00",
          "2015-08-01T00:00:00",
          "2015-09-01T00:00:00",
          "2015-10-01T00:00:00",
          "2015-11-01T00:00:00",
          "2015-12-01T00:00:00"
         ],
         "xaxis": "x",
         "y": [
          84778285,
          84079822,
          88381312,
          89900108,
          99766470,
          91334066,
          80434347,
          91961741,
          77841538,
          48523784,
          49476337,
          42375693,
          71044188,
          75262633,
          83805360,
          83473844,
          89429317,
          83015500,
          85813839,
          77387033,
          66797376,
          58414163,
          59574129,
          51278277,
          62883429,
          60909740,
          80938432,
          92950376,
          97118682,
          90917308,
          98630168,
          93379368,
          84971908,
          85693278,
          76311141,
          64722321,
          88122110,
          79266703,
          96502854,
          88697404,
          87395036,
          90103886,
          81696793,
          77078807,
          79413272,
          82569007,
          72878343,
          72349846,
          81838917,
          74206978,
          102196881,
          104334320,
          110975000,
          114422164,
          115682078,
          98629204,
          86889065,
          90274404,
          85523118,
          77047367,
          93040380,
          90304310,
          109632009,
          114296040,
          119314561,
          113590953,
          114436846,
          95264292,
          77051733,
          79817394,
          72031083,
          76733839,
          85198621,
          88092111,
          104305102,
          98810531,
          99175843,
          114255984,
          107533489,
          100248733,
          93335179,
          93075631,
          76537363,
          297834250,
          85568683,
          88456078,
          100697529,
          99477189,
          99753533,
          115030546,
          102546088,
          96167111,
          94305519,
          93526302,
          76950931,
          298725980
         ],
         "yaxis": "y"
        }
       ],
       "layout": {
        "barmode": "relative",
        "legend": {
         "title": {
          "text": "Material"
         },
         "tracegroupgap": 0,
         "traceorder": "reversed"
        },
        "margin": {
         "t": 60
        },
        "template": {
         "data": {
          "bar": [
           {
            "error_x": {
             "color": "#2a3f5f"
            },
            "error_y": {
             "color": "#2a3f5f"
            },
            "marker": {
             "line": {
              "color": "#E5ECF6",
              "width": 0.5
             },
             "pattern": {
              "fillmode": "overlay",
              "size": 10,
              "solidity": 0.2
             }
            },
            "type": "bar"
           }
          ],
          "barpolar": [
           {
            "marker": {
             "line": {
              "color": "#E5ECF6",
              "width": 0.5
             },
             "pattern": {
              "fillmode": "overlay",
              "size": 10,
              "solidity": 0.2
             }
            },
            "type": "barpolar"
           }
          ],
          "carpet": [
           {
            "aaxis": {
             "endlinecolor": "#2a3f5f",
             "gridcolor": "white",
             "linecolor": "white",
             "minorgridcolor": "white",
             "startlinecolor": "#2a3f5f"
            },
            "baxis": {
             "endlinecolor": "#2a3f5f",
             "gridcolor": "white",
             "linecolor": "white",
             "minorgridcolor": "white",
             "startlinecolor": "#2a3f5f"
            },
            "type": "carpet"
           }
          ],
          "choropleth": [
           {
            "colorbar": {
             "outlinewidth": 0,
             "ticks": ""
            },
            "type": "choropleth"
           }
          ],
          "contour": [
           {
            "colorbar": {
             "outlinewidth": 0,
             "ticks": ""
            },
            "colorscale": [
             [
              0,
              "#0d0887"
             ],
             [
              0.1111111111111111,
              "#46039f"
             ],
             [
              0.2222222222222222,
              "#7201a8"
             ],
             [
              0.3333333333333333,
              "#9c179e"
             ],
             [
              0.4444444444444444,
              "#bd3786"
             ],
             [
              0.5555555555555556,
              "#d8576b"
             ],
             [
              0.6666666666666666,
              "#ed7953"
             ],
             [
              0.7777777777777778,
              "#fb9f3a"
             ],
             [
              0.8888888888888888,
              "#fdca26"
             ],
             [
              1,
              "#f0f921"
             ]
            ],
            "type": "contour"
           }
          ],
          "contourcarpet": [
           {
            "colorbar": {
             "outlinewidth": 0,
             "ticks": ""
            },
            "type": "contourcarpet"
           }
          ],
          "heatmap": [
           {
            "colorbar": {
             "outlinewidth": 0,
             "ticks": ""
            },
            "colorscale": [
             [
              0,
              "#0d0887"
             ],
             [
              0.1111111111111111,
              "#46039f"
             ],
             [
              0.2222222222222222,
              "#7201a8"
             ],
             [
              0.3333333333333333,
              "#9c179e"
             ],
             [
              0.4444444444444444,
              "#bd3786"
             ],
             [
              0.5555555555555556,
              "#d8576b"
             ],
             [
              0.6666666666666666,
              "#ed7953"
             ],
             [
              0.7777777777777778,
              "#fb9f3a"
             ],
             [
              0.8888888888888888,
              "#fdca26"
             ],
             [
              1,
              "#f0f921"
             ]
            ],
            "type": "heatmap"
           }
          ],
          "heatmapgl": [
           {
            "colorbar": {
             "outlinewidth": 0,
             "ticks": ""
            },
            "colorscale": [
             [
              0,
              "#0d0887"
             ],
             [
              0.1111111111111111,
              "#46039f"
             ],
             [
              0.2222222222222222,
              "#7201a8"
             ],
             [
              0.3333333333333333,
              "#9c179e"
             ],
             [
              0.4444444444444444,
              "#bd3786"
             ],
             [
              0.5555555555555556,
              "#d8576b"
             ],
             [
              0.6666666666666666,
              "#ed7953"
             ],
             [
              0.7777777777777778,
              "#fb9f3a"
             ],
             [
              0.8888888888888888,
              "#fdca26"
             ],
             [
              1,
              "#f0f921"
             ]
            ],
            "type": "heatmapgl"
           }
          ],
          "histogram": [
           {
            "marker": {
             "pattern": {
              "fillmode": "overlay",
              "size": 10,
              "solidity": 0.2
             }
            },
            "type": "histogram"
           }
          ],
          "histogram2d": [
           {
            "colorbar": {
             "outlinewidth": 0,
             "ticks": ""
            },
            "colorscale": [
             [
              0,
              "#0d0887"
             ],
             [
              0.1111111111111111,
              "#46039f"
             ],
             [
              0.2222222222222222,
              "#7201a8"
             ],
             [
              0.3333333333333333,
              "#9c179e"
             ],
             [
              0.4444444444444444,
              "#bd3786"
             ],
             [
              0.5555555555555556,
              "#d8576b"
             ],
             [
              0.6666666666666666,
              "#ed7953"
             ],
             [
              0.7777777777777778,
              "#fb9f3a"
             ],
             [
              0.8888888888888888,
              "#fdca26"
             ],
             [
              1,
              "#f0f921"
             ]
            ],
            "type": "histogram2d"
           }
          ],
          "histogram2dcontour": [
           {
            "colorbar": {
             "outlinewidth": 0,
             "ticks": ""
            },
            "colorscale": [
             [
              0,
              "#0d0887"
             ],
             [
              0.1111111111111111,
              "#46039f"
             ],
             [
              0.2222222222222222,
              "#7201a8"
             ],
             [
              0.3333333333333333,
              "#9c179e"
             ],
             [
              0.4444444444444444,
              "#bd3786"
             ],
             [
              0.5555555555555556,
              "#d8576b"
             ],
             [
              0.6666666666666666,
              "#ed7953"
             ],
             [
              0.7777777777777778,
              "#fb9f3a"
             ],
             [
              0.8888888888888888,
              "#fdca26"
             ],
             [
              1,
              "#f0f921"
             ]
            ],
            "type": "histogram2dcontour"
           }
          ],
          "mesh3d": [
           {
            "colorbar": {
             "outlinewidth": 0,
             "ticks": ""
            },
            "type": "mesh3d"
           }
          ],
          "parcoords": [
           {
            "line": {
             "colorbar": {
              "outlinewidth": 0,
              "ticks": ""
             }
            },
            "type": "parcoords"
           }
          ],
          "pie": [
           {
            "automargin": true,
            "type": "pie"
           }
          ],
          "scatter": [
           {
            "fillpattern": {
             "fillmode": "overlay",
             "size": 10,
             "solidity": 0.2
            },
            "type": "scatter"
           }
          ],
          "scatter3d": [
           {
            "line": {
             "colorbar": {
              "outlinewidth": 0,
              "ticks": ""
             }
            },
            "marker": {
             "colorbar": {
              "outlinewidth": 0,
              "ticks": ""
             }
            },
            "type": "scatter3d"
           }
          ],
          "scattercarpet": [
           {
            "marker": {
             "colorbar": {
              "outlinewidth": 0,
              "ticks": ""
             }
            },
            "type": "scattercarpet"
           }
          ],
          "scattergeo": [
           {
            "marker": {
             "colorbar": {
              "outlinewidth": 0,
              "ticks": ""
             }
            },
            "type": "scattergeo"
           }
          ],
          "scattergl": [
           {
            "marker": {
             "colorbar": {
              "outlinewidth": 0,
              "ticks": ""
             }
            },
            "type": "scattergl"
           }
          ],
          "scattermapbox": [
           {
            "marker": {
             "colorbar": {
              "outlinewidth": 0,
              "ticks": ""
             }
            },
            "type": "scattermapbox"
           }
          ],
          "scatterpolar": [
           {
            "marker": {
             "colorbar": {
              "outlinewidth": 0,
              "ticks": ""
             }
            },
            "type": "scatterpolar"
           }
          ],
          "scatterpolargl": [
           {
            "marker": {
             "colorbar": {
              "outlinewidth": 0,
              "ticks": ""
             }
            },
            "type": "scatterpolargl"
           }
          ],
          "scatterternary": [
           {
            "marker": {
             "colorbar": {
              "outlinewidth": 0,
              "ticks": ""
             }
            },
            "type": "scatterternary"
           }
          ],
          "surface": [
           {
            "colorbar": {
             "outlinewidth": 0,
             "ticks": ""
            },
            "colorscale": [
             [
              0,
              "#0d0887"
             ],
             [
              0.1111111111111111,
              "#46039f"
             ],
             [
              0.2222222222222222,
              "#7201a8"
             ],
             [
              0.3333333333333333,
              "#9c179e"
             ],
             [
              0.4444444444444444,
              "#bd3786"
             ],
             [
              0.5555555555555556,
              "#d8576b"
             ],
             [
              0.6666666666666666,
              "#ed7953"
             ],
             [
              0.7777777777777778,
              "#fb9f3a"
             ],
             [
              0.8888888888888888,
              "#fdca26"
             ],
             [
              1,
              "#f0f921"
             ]
            ],
            "type": "surface"
           }
          ],
          "table": [
           {
            "cells": {
             "fill": {
              "color": "#EBF0F8"
             },
             "line": {
              "color": "white"
             }
            },
            "header": {
             "fill": {
              "color": "#C8D4E3"
             },
             "line": {
              "color": "white"
             }
            },
            "type": "table"
           }
          ]
         },
         "layout": {
          "annotationdefaults": {
           "arrowcolor": "#2a3f5f",
           "arrowhead": 0,
           "arrowwidth": 1
          },
          "autotypenumbers": "strict",
          "coloraxis": {
           "colorbar": {
            "outlinewidth": 0,
            "ticks": ""
           }
          },
          "colorscale": {
           "diverging": [
            [
             0,
             "#8e0152"
            ],
            [
             0.1,
             "#c51b7d"
            ],
            [
             0.2,
             "#de77ae"
            ],
            [
             0.3,
             "#f1b6da"
            ],
            [
             0.4,
             "#fde0ef"
            ],
            [
             0.5,
             "#f7f7f7"
            ],
            [
             0.6,
             "#e6f5d0"
            ],
            [
             0.7,
             "#b8e186"
            ],
            [
             0.8,
             "#7fbc41"
            ],
            [
             0.9,
             "#4d9221"
            ],
            [
             1,
             "#276419"
            ]
           ],
           "sequential": [
            [
             0,
             "#0d0887"
            ],
            [
             0.1111111111111111,
             "#46039f"
            ],
            [
             0.2222222222222222,
             "#7201a8"
            ],
            [
             0.3333333333333333,
             "#9c179e"
            ],
            [
             0.4444444444444444,
             "#bd3786"
            ],
            [
             0.5555555555555556,
             "#d8576b"
            ],
            [
             0.6666666666666666,
             "#ed7953"
            ],
            [
             0.7777777777777778,
             "#fb9f3a"
            ],
            [
             0.8888888888888888,
             "#fdca26"
            ],
            [
             1,
             "#f0f921"
            ]
           ],
           "sequentialminus": [
            [
             0,
             "#0d0887"
            ],
            [
             0.1111111111111111,
             "#46039f"
            ],
            [
             0.2222222222222222,
             "#7201a8"
            ],
            [
             0.3333333333333333,
             "#9c179e"
            ],
            [
             0.4444444444444444,
             "#bd3786"
            ],
            [
             0.5555555555555556,
             "#d8576b"
            ],
            [
             0.6666666666666666,
             "#ed7953"
            ],
            [
             0.7777777777777778,
             "#fb9f3a"
            ],
            [
             0.8888888888888888,
             "#fdca26"
            ],
            [
             1,
             "#f0f921"
            ]
           ]
          },
          "colorway": [
           "#636efa",
           "#EF553B",
           "#00cc96",
           "#ab63fa",
           "#FFA15A",
           "#19d3f3",
           "#FF6692",
           "#B6E880",
           "#FF97FF",
           "#FECB52"
          ],
          "font": {
           "color": "#2a3f5f"
          },
          "geo": {
           "bgcolor": "white",
           "lakecolor": "white",
           "landcolor": "#E5ECF6",
           "showlakes": true,
           "showland": true,
           "subunitcolor": "white"
          },
          "hoverlabel": {
           "align": "left"
          },
          "hovermode": "closest",
          "mapbox": {
           "style": "light"
          },
          "paper_bgcolor": "white",
          "plot_bgcolor": "#E5ECF6",
          "polar": {
           "angularaxis": {
            "gridcolor": "white",
            "linecolor": "white",
            "ticks": ""
           },
           "bgcolor": "#E5ECF6",
           "radialaxis": {
            "gridcolor": "white",
            "linecolor": "white",
            "ticks": ""
           }
          },
          "scene": {
           "xaxis": {
            "backgroundcolor": "#E5ECF6",
            "gridcolor": "white",
            "gridwidth": 2,
            "linecolor": "white",
            "showbackground": true,
            "ticks": "",
            "zerolinecolor": "white"
           },
           "yaxis": {
            "backgroundcolor": "#E5ECF6",
            "gridcolor": "white",
            "gridwidth": 2,
            "linecolor": "white",
            "showbackground": true,
            "ticks": "",
            "zerolinecolor": "white"
           },
           "zaxis": {
            "backgroundcolor": "#E5ECF6",
            "gridcolor": "white",
            "gridwidth": 2,
            "linecolor": "white",
            "showbackground": true,
            "ticks": "",
            "zerolinecolor": "white"
           }
          },
          "shapedefaults": {
           "line": {
            "color": "#2a3f5f"
           }
          },
          "ternary": {
           "aaxis": {
            "gridcolor": "white",
            "linecolor": "white",
            "ticks": ""
           },
           "baxis": {
            "gridcolor": "white",
            "linecolor": "white",
            "ticks": ""
           },
           "bgcolor": "#E5ECF6",
           "caxis": {
            "gridcolor": "white",
            "linecolor": "white",
            "ticks": ""
           }
          },
          "title": {
           "x": 0.05
          },
          "xaxis": {
           "automargin": true,
           "gridcolor": "white",
           "linecolor": "white",
           "ticks": "",
           "title": {
            "standoff": 15
           },
           "zerolinecolor": "white",
           "zerolinewidth": 2
          },
          "yaxis": {
           "automargin": true,
           "gridcolor": "white",
           "linecolor": "white",
           "ticks": "",
           "title": {
            "standoff": 15
           },
           "zerolinecolor": "white",
           "zerolinewidth": 2
          }
         }
        },
        "xaxis": {
         "anchor": "y",
         "domain": [
          0,
          1
         ],
         "title": {
          "text": "Time"
         }
        },
        "yaxis": {
         "anchor": "x",
         "domain": [
          0,
          1
         ],
         "title": {
          "text": "Pounds used in beer production"
         }
        }
       }
      },
      "text/html": [
       "<div>                            <div id=\"4f01dc5b-e606-40c1-9418-1c2577b5ad1e\" class=\"plotly-graph-div\" style=\"height:525px; width:100%;\"></div>            <script type=\"text/javascript\">                require([\"plotly\"], function(Plotly) {                    window.PLOTLYENV=window.PLOTLYENV || {};                                    if (document.getElementById(\"4f01dc5b-e606-40c1-9418-1c2577b5ad1e\")) {                    Plotly.newPlot(                        \"4f01dc5b-e606-40c1-9418-1c2577b5ad1e\",                        [{\"alignmentgroup\":\"True\",\"hovertemplate\":\"type=Total Grain products<br>date=%{x}<br>month_current=%{y}<extra></extra>\",\"legendgroup\":\"Total Grain products\",\"marker\":{\"color\":\"#636efa\",\"pattern\":{\"shape\":\"\"}},\"name\":\"Total Grain products\",\"offsetgroup\":\"Total Grain products\",\"orientation\":\"v\",\"showlegend\":true,\"textposition\":\"auto\",\"x\":[\"2008-01-01T00:00:00\",\"2008-02-01T00:00:00\",\"2008-03-01T00:00:00\",\"2008-04-01T00:00:00\",\"2008-05-01T00:00:00\",\"2008-06-01T00:00:00\",\"2008-07-01T00:00:00\",\"2008-08-01T00:00:00\",\"2008-09-01T00:00:00\",\"2008-10-01T00:00:00\",\"2008-11-01T00:00:00\",\"2008-12-01T00:00:00\",\"2009-01-01T00:00:00\",\"2009-02-01T00:00:00\",\"2009-03-01T00:00:00\",\"2009-04-01T00:00:00\",\"2009-05-01T00:00:00\",\"2009-06-01T00:00:00\",\"2009-07-01T00:00:00\",\"2009-08-01T00:00:00\",\"2009-09-01T00:00:00\",\"2009-10-01T00:00:00\",\"2009-11-01T00:00:00\",\"2009-12-01T00:00:00\",\"2010-01-01T00:00:00\",\"2010-02-01T00:00:00\",\"2010-03-01T00:00:00\",\"2010-04-01T00:00:00\",\"2010-05-01T00:00:00\",\"2010-06-01T00:00:00\",\"2010-07-01T00:00:00\",\"2010-08-01T00:00:00\",\"2010-09-01T00:00:00\",\"2010-10-01T00:00:00\",\"2010-11-01T00:00:00\",\"2010-12-01T00:00:00\",\"2011-01-01T00:00:00\",\"2011-02-01T00:00:00\",\"2011-03-01T00:00:00\",\"2011-04-01T00:00:00\",\"2011-05-01T00:00:00\",\"2011-06-01T00:00:00\",\"2011-07-01T00:00:00\",\"2011-08-01T00:00:00\",\"2011-09-01T00:00:00\",\"2011-10-01T00:00:00\",\"2011-11-01T00:00:00\",\"2011-12-01T00:00:00\",\"2012-01-01T00:00:00\",\"2012-02-01T00:00:00\",\"2012-03-01T00:00:00\",\"2012-04-01T00:00:00\",\"2012-05-01T00:00:00\",\"2012-06-01T00:00:00\",\"2012-07-01T00:00:00\",\"2012-08-01T00:00:00\",\"2012-09-01T00:00:00\",\"2012-10-01T00:00:00\",\"2012-11-01T00:00:00\",\"2012-12-01T00:00:00\",\"2013-01-01T00:00:00\",\"2013-02-01T00:00:00\",\"2013-03-01T00:00:00\",\"2013-04-01T00:00:00\",\"2013-05-01T00:00:00\",\"2013-06-01T00:00:00\",\"2013-07-01T00:00:00\",\"2013-08-01T00:00:00\",\"2013-09-01T00:00:00\",\"2013-10-01T00:00:00\",\"2013-11-01T00:00:00\",\"2013-12-01T00:00:00\",\"2014-01-01T00:00:00\",\"2014-02-01T00:00:00\",\"2014-03-01T00:00:00\",\"2014-04-01T00:00:00\",\"2014-05-01T00:00:00\",\"2014-06-01T00:00:00\",\"2014-07-01T00:00:00\",\"2014-08-01T00:00:00\",\"2014-09-01T00:00:00\",\"2014-10-01T00:00:00\",\"2014-11-01T00:00:00\",\"2014-12-01T00:00:00\",\"2015-01-01T00:00:00\",\"2015-02-01T00:00:00\",\"2015-03-01T00:00:00\",\"2015-04-01T00:00:00\",\"2015-05-01T00:00:00\",\"2015-06-01T00:00:00\",\"2015-07-01T00:00:00\",\"2015-08-01T00:00:00\",\"2015-09-01T00:00:00\",\"2015-10-01T00:00:00\",\"2015-11-01T00:00:00\",\"2015-12-01T00:00:00\"],\"xaxis\":\"x\",\"y\":[509108844,485740033,542124232,528822235,556829993,562595645,551513032,530698060,494237495,480715200,434602496,437878833,487497569,465066900,519952416,519749430,526467792,518043738,520121272,486710695,492729828,448685527,411658993,409132331,451788998,420639347,500699707,502373150,538640684,522137378,518305154,488998973,478213645,447365838,405712971,395793887,495141024,420624115,503004395,468387803,472602627,504312512,475941453,491962601,449818379,419933657,407735587,404396715,447354128,444247648,505985603,485319297,510251688,530000043,498030723,492243189,468740653,443396740,411010864,411521412,448512283,429018932,468695731,455047413,486653426,510033227,505362273,469346883,431434835,441169533,370894720,412213578,437572709,403451708,462295619,433912621,466314242,517238065,498521670,464079234,478952455,446368657,370132416,239549619,436432321,402002189,447480854,429289504,465334752,519282499,478747222,448103247,449068254,407735332,329039090,231706548],\"yaxis\":\"y\",\"type\":\"bar\"},{\"alignmentgroup\":\"True\",\"hovertemplate\":\"type=Total Non-Grain products<br>date=%{x}<br>month_current=%{y}<extra></extra>\",\"legendgroup\":\"Total Non-Grain products\",\"marker\":{\"color\":\"#EF553B\",\"pattern\":{\"shape\":\"\"}},\"name\":\"Total Non-Grain products\",\"offsetgroup\":\"Total Non-Grain products\",\"orientation\":\"v\",\"showlegend\":true,\"textposition\":\"auto\",\"x\":[\"2008-01-01T00:00:00\",\"2008-02-01T00:00:00\",\"2008-03-01T00:00:00\",\"2008-04-01T00:00:00\",\"2008-05-01T00:00:00\",\"2008-06-01T00:00:00\",\"2008-07-01T00:00:00\",\"2008-08-01T00:00:00\",\"2008-09-01T00:00:00\",\"2008-10-01T00:00:00\",\"2008-11-01T00:00:00\",\"2008-12-01T00:00:00\",\"2009-01-01T00:00:00\",\"2009-02-01T00:00:00\",\"2009-03-01T00:00:00\",\"2009-04-01T00:00:00\",\"2009-05-01T00:00:00\",\"2009-06-01T00:00:00\",\"2009-07-01T00:00:00\",\"2009-08-01T00:00:00\",\"2009-09-01T00:00:00\",\"2009-10-01T00:00:00\",\"2009-11-01T00:00:00\",\"2009-12-01T00:00:00\",\"2010-01-01T00:00:00\",\"2010-02-01T00:00:00\",\"2010-03-01T00:00:00\",\"2010-04-01T00:00:00\",\"2010-05-01T00:00:00\",\"2010-06-01T00:00:00\",\"2010-07-01T00:00:00\",\"2010-08-01T00:00:00\",\"2010-09-01T00:00:00\",\"2010-10-01T00:00:00\",\"2010-11-01T00:00:00\",\"2010-12-01T00:00:00\",\"2011-01-01T00:00:00\",\"2011-02-01T00:00:00\",\"2011-03-01T00:00:00\",\"2011-04-01T00:00:00\",\"2011-05-01T00:00:00\",\"2011-06-01T00:00:00\",\"2011-07-01T00:00:00\",\"2011-08-01T00:00:00\",\"2011-09-01T00:00:00\",\"2011-10-01T00:00:00\",\"2011-11-01T00:00:00\",\"2011-12-01T00:00:00\",\"2012-01-01T00:00:00\",\"2012-02-01T00:00:00\",\"2012-03-01T00:00:00\",\"2012-04-01T00:00:00\",\"2012-05-01T00:00:00\",\"2012-06-01T00:00:00\",\"2012-07-01T00:00:00\",\"2012-08-01T00:00:00\",\"2012-09-01T00:00:00\",\"2012-10-01T00:00:00\",\"2012-11-01T00:00:00\",\"2012-12-01T00:00:00\",\"2013-01-01T00:00:00\",\"2013-02-01T00:00:00\",\"2013-03-01T00:00:00\",\"2013-04-01T00:00:00\",\"2013-05-01T00:00:00\",\"2013-06-01T00:00:00\",\"2013-07-01T00:00:00\",\"2013-08-01T00:00:00\",\"2013-09-01T00:00:00\",\"2013-10-01T00:00:00\",\"2013-11-01T00:00:00\",\"2013-12-01T00:00:00\",\"2014-01-01T00:00:00\",\"2014-02-01T00:00:00\",\"2014-03-01T00:00:00\",\"2014-04-01T00:00:00\",\"2014-05-01T00:00:00\",\"2014-06-01T00:00:00\",\"2014-07-01T00:00:00\",\"2014-08-01T00:00:00\",\"2014-09-01T00:00:00\",\"2014-10-01T00:00:00\",\"2014-11-01T00:00:00\",\"2014-12-01T00:00:00\",\"2015-01-01T00:00:00\",\"2015-02-01T00:00:00\",\"2015-03-01T00:00:00\",\"2015-04-01T00:00:00\",\"2015-05-01T00:00:00\",\"2015-06-01T00:00:00\",\"2015-07-01T00:00:00\",\"2015-08-01T00:00:00\",\"2015-09-01T00:00:00\",\"2015-10-01T00:00:00\",\"2015-11-01T00:00:00\",\"2015-12-01T00:00:00\"],\"xaxis\":\"x\",\"y\":[84778285,84079822,88381312,89900108,99766470,91334066,80434347,91961741,77841538,48523784,49476337,42375693,71044188,75262633,83805360,83473844,89429317,83015500,85813839,77387033,66797376,58414163,59574129,51278277,62883429,60909740,80938432,92950376,97118682,90917308,98630168,93379368,84971908,85693278,76311141,64722321,88122110,79266703,96502854,88697404,87395036,90103886,81696793,77078807,79413272,82569007,72878343,72349846,81838917,74206978,102196881,104334320,110975000,114422164,115682078,98629204,86889065,90274404,85523118,77047367,93040380,90304310,109632009,114296040,119314561,113590953,114436846,95264292,77051733,79817394,72031083,76733839,85198621,88092111,104305102,98810531,99175843,114255984,107533489,100248733,93335179,93075631,76537363,297834250,85568683,88456078,100697529,99477189,99753533,115030546,102546088,96167111,94305519,93526302,76950931,298725980],\"yaxis\":\"y\",\"type\":\"bar\"}],                        {\"template\":{\"data\":{\"histogram2dcontour\":[{\"type\":\"histogram2dcontour\",\"colorbar\":{\"outlinewidth\":0,\"ticks\":\"\"},\"colorscale\":[[0.0,\"#0d0887\"],[0.1111111111111111,\"#46039f\"],[0.2222222222222222,\"#7201a8\"],[0.3333333333333333,\"#9c179e\"],[0.4444444444444444,\"#bd3786\"],[0.5555555555555556,\"#d8576b\"],[0.6666666666666666,\"#ed7953\"],[0.7777777777777778,\"#fb9f3a\"],[0.8888888888888888,\"#fdca26\"],[1.0,\"#f0f921\"]]}],\"choropleth\":[{\"type\":\"choropleth\",\"colorbar\":{\"outlinewidth\":0,\"ticks\":\"\"}}],\"histogram2d\":[{\"type\":\"histogram2d\",\"colorbar\":{\"outlinewidth\":0,\"ticks\":\"\"},\"colorscale\":[[0.0,\"#0d0887\"],[0.1111111111111111,\"#46039f\"],[0.2222222222222222,\"#7201a8\"],[0.3333333333333333,\"#9c179e\"],[0.4444444444444444,\"#bd3786\"],[0.5555555555555556,\"#d8576b\"],[0.6666666666666666,\"#ed7953\"],[0.7777777777777778,\"#fb9f3a\"],[0.8888888888888888,\"#fdca26\"],[1.0,\"#f0f921\"]]}],\"heatmap\":[{\"type\":\"heatmap\",\"colorbar\":{\"outlinewidth\":0,\"ticks\":\"\"},\"colorscale\":[[0.0,\"#0d0887\"],[0.1111111111111111,\"#46039f\"],[0.2222222222222222,\"#7201a8\"],[0.3333333333333333,\"#9c179e\"],[0.4444444444444444,\"#bd3786\"],[0.5555555555555556,\"#d8576b\"],[0.6666666666666666,\"#ed7953\"],[0.7777777777777778,\"#fb9f3a\"],[0.8888888888888888,\"#fdca26\"],[1.0,\"#f0f921\"]]}],\"heatmapgl\":[{\"type\":\"heatmapgl\",\"colorbar\":{\"outlinewidth\":0,\"ticks\":\"\"},\"colorscale\":[[0.0,\"#0d0887\"],[0.1111111111111111,\"#46039f\"],[0.2222222222222222,\"#7201a8\"],[0.3333333333333333,\"#9c179e\"],[0.4444444444444444,\"#bd3786\"],[0.5555555555555556,\"#d8576b\"],[0.6666666666666666,\"#ed7953\"],[0.7777777777777778,\"#fb9f3a\"],[0.8888888888888888,\"#fdca26\"],[1.0,\"#f0f921\"]]}],\"contourcarpet\":[{\"type\":\"contourcarpet\",\"colorbar\":{\"outlinewidth\":0,\"ticks\":\"\"}}],\"contour\":[{\"type\":\"contour\",\"colorbar\":{\"outlinewidth\":0,\"ticks\":\"\"},\"colorscale\":[[0.0,\"#0d0887\"],[0.1111111111111111,\"#46039f\"],[0.2222222222222222,\"#7201a8\"],[0.3333333333333333,\"#9c179e\"],[0.4444444444444444,\"#bd3786\"],[0.5555555555555556,\"#d8576b\"],[0.6666666666666666,\"#ed7953\"],[0.7777777777777778,\"#fb9f3a\"],[0.8888888888888888,\"#fdca26\"],[1.0,\"#f0f921\"]]}],\"surface\":[{\"type\":\"surface\",\"colorbar\":{\"outlinewidth\":0,\"ticks\":\"\"},\"colorscale\":[[0.0,\"#0d0887\"],[0.1111111111111111,\"#46039f\"],[0.2222222222222222,\"#7201a8\"],[0.3333333333333333,\"#9c179e\"],[0.4444444444444444,\"#bd3786\"],[0.5555555555555556,\"#d8576b\"],[0.6666666666666666,\"#ed7953\"],[0.7777777777777778,\"#fb9f3a\"],[0.8888888888888888,\"#fdca26\"],[1.0,\"#f0f921\"]]}],\"mesh3d\":[{\"type\":\"mesh3d\",\"colorbar\":{\"outlinewidth\":0,\"ticks\":\"\"}}],\"scatter\":[{\"fillpattern\":{\"fillmode\":\"overlay\",\"size\":10,\"solidity\":0.2},\"type\":\"scatter\"}],\"parcoords\":[{\"type\":\"parcoords\",\"line\":{\"colorbar\":{\"outlinewidth\":0,\"ticks\":\"\"}}}],\"scatterpolargl\":[{\"type\":\"scatterpolargl\",\"marker\":{\"colorbar\":{\"outlinewidth\":0,\"ticks\":\"\"}}}],\"bar\":[{\"error_x\":{\"color\":\"#2a3f5f\"},\"error_y\":{\"color\":\"#2a3f5f\"},\"marker\":{\"line\":{\"color\":\"#E5ECF6\",\"width\":0.5},\"pattern\":{\"fillmode\":\"overlay\",\"size\":10,\"solidity\":0.2}},\"type\":\"bar\"}],\"scattergeo\":[{\"type\":\"scattergeo\",\"marker\":{\"colorbar\":{\"outlinewidth\":0,\"ticks\":\"\"}}}],\"scatterpolar\":[{\"type\":\"scatterpolar\",\"marker\":{\"colorbar\":{\"outlinewidth\":0,\"ticks\":\"\"}}}],\"histogram\":[{\"marker\":{\"pattern\":{\"fillmode\":\"overlay\",\"size\":10,\"solidity\":0.2}},\"type\":\"histogram\"}],\"scattergl\":[{\"type\":\"scattergl\",\"marker\":{\"colorbar\":{\"outlinewidth\":0,\"ticks\":\"\"}}}],\"scatter3d\":[{\"type\":\"scatter3d\",\"line\":{\"colorbar\":{\"outlinewidth\":0,\"ticks\":\"\"}},\"marker\":{\"colorbar\":{\"outlinewidth\":0,\"ticks\":\"\"}}}],\"scattermapbox\":[{\"type\":\"scattermapbox\",\"marker\":{\"colorbar\":{\"outlinewidth\":0,\"ticks\":\"\"}}}],\"scatterternary\":[{\"type\":\"scatterternary\",\"marker\":{\"colorbar\":{\"outlinewidth\":0,\"ticks\":\"\"}}}],\"scattercarpet\":[{\"type\":\"scattercarpet\",\"marker\":{\"colorbar\":{\"outlinewidth\":0,\"ticks\":\"\"}}}],\"carpet\":[{\"aaxis\":{\"endlinecolor\":\"#2a3f5f\",\"gridcolor\":\"white\",\"linecolor\":\"white\",\"minorgridcolor\":\"white\",\"startlinecolor\":\"#2a3f5f\"},\"baxis\":{\"endlinecolor\":\"#2a3f5f\",\"gridcolor\":\"white\",\"linecolor\":\"white\",\"minorgridcolor\":\"white\",\"startlinecolor\":\"#2a3f5f\"},\"type\":\"carpet\"}],\"table\":[{\"cells\":{\"fill\":{\"color\":\"#EBF0F8\"},\"line\":{\"color\":\"white\"}},\"header\":{\"fill\":{\"color\":\"#C8D4E3\"},\"line\":{\"color\":\"white\"}},\"type\":\"table\"}],\"barpolar\":[{\"marker\":{\"line\":{\"color\":\"#E5ECF6\",\"width\":0.5},\"pattern\":{\"fillmode\":\"overlay\",\"size\":10,\"solidity\":0.2}},\"type\":\"barpolar\"}],\"pie\":[{\"automargin\":true,\"type\":\"pie\"}]},\"layout\":{\"autotypenumbers\":\"strict\",\"colorway\":[\"#636efa\",\"#EF553B\",\"#00cc96\",\"#ab63fa\",\"#FFA15A\",\"#19d3f3\",\"#FF6692\",\"#B6E880\",\"#FF97FF\",\"#FECB52\"],\"font\":{\"color\":\"#2a3f5f\"},\"hovermode\":\"closest\",\"hoverlabel\":{\"align\":\"left\"},\"paper_bgcolor\":\"white\",\"plot_bgcolor\":\"#E5ECF6\",\"polar\":{\"bgcolor\":\"#E5ECF6\",\"angularaxis\":{\"gridcolor\":\"white\",\"linecolor\":\"white\",\"ticks\":\"\"},\"radialaxis\":{\"gridcolor\":\"white\",\"linecolor\":\"white\",\"ticks\":\"\"}},\"ternary\":{\"bgcolor\":\"#E5ECF6\",\"aaxis\":{\"gridcolor\":\"white\",\"linecolor\":\"white\",\"ticks\":\"\"},\"baxis\":{\"gridcolor\":\"white\",\"linecolor\":\"white\",\"ticks\":\"\"},\"caxis\":{\"gridcolor\":\"white\",\"linecolor\":\"white\",\"ticks\":\"\"}},\"coloraxis\":{\"colorbar\":{\"outlinewidth\":0,\"ticks\":\"\"}},\"colorscale\":{\"sequential\":[[0.0,\"#0d0887\"],[0.1111111111111111,\"#46039f\"],[0.2222222222222222,\"#7201a8\"],[0.3333333333333333,\"#9c179e\"],[0.4444444444444444,\"#bd3786\"],[0.5555555555555556,\"#d8576b\"],[0.6666666666666666,\"#ed7953\"],[0.7777777777777778,\"#fb9f3a\"],[0.8888888888888888,\"#fdca26\"],[1.0,\"#f0f921\"]],\"sequentialminus\":[[0.0,\"#0d0887\"],[0.1111111111111111,\"#46039f\"],[0.2222222222222222,\"#7201a8\"],[0.3333333333333333,\"#9c179e\"],[0.4444444444444444,\"#bd3786\"],[0.5555555555555556,\"#d8576b\"],[0.6666666666666666,\"#ed7953\"],[0.7777777777777778,\"#fb9f3a\"],[0.8888888888888888,\"#fdca26\"],[1.0,\"#f0f921\"]],\"diverging\":[[0,\"#8e0152\"],[0.1,\"#c51b7d\"],[0.2,\"#de77ae\"],[0.3,\"#f1b6da\"],[0.4,\"#fde0ef\"],[0.5,\"#f7f7f7\"],[0.6,\"#e6f5d0\"],[0.7,\"#b8e186\"],[0.8,\"#7fbc41\"],[0.9,\"#4d9221\"],[1,\"#276419\"]]},\"xaxis\":{\"gridcolor\":\"white\",\"linecolor\":\"white\",\"ticks\":\"\",\"title\":{\"standoff\":15},\"zerolinecolor\":\"white\",\"automargin\":true,\"zerolinewidth\":2},\"yaxis\":{\"gridcolor\":\"white\",\"linecolor\":\"white\",\"ticks\":\"\",\"title\":{\"standoff\":15},\"zerolinecolor\":\"white\",\"automargin\":true,\"zerolinewidth\":2},\"scene\":{\"xaxis\":{\"backgroundcolor\":\"#E5ECF6\",\"gridcolor\":\"white\",\"linecolor\":\"white\",\"showbackground\":true,\"ticks\":\"\",\"zerolinecolor\":\"white\",\"gridwidth\":2},\"yaxis\":{\"backgroundcolor\":\"#E5ECF6\",\"gridcolor\":\"white\",\"linecolor\":\"white\",\"showbackground\":true,\"ticks\":\"\",\"zerolinecolor\":\"white\",\"gridwidth\":2},\"zaxis\":{\"backgroundcolor\":\"#E5ECF6\",\"gridcolor\":\"white\",\"linecolor\":\"white\",\"showbackground\":true,\"ticks\":\"\",\"zerolinecolor\":\"white\",\"gridwidth\":2}},\"shapedefaults\":{\"line\":{\"color\":\"#2a3f5f\"}},\"annotationdefaults\":{\"arrowcolor\":\"#2a3f5f\",\"arrowhead\":0,\"arrowwidth\":1},\"geo\":{\"bgcolor\":\"white\",\"landcolor\":\"#E5ECF6\",\"subunitcolor\":\"white\",\"showland\":true,\"showlakes\":true,\"lakecolor\":\"white\"},\"title\":{\"x\":0.05},\"mapbox\":{\"style\":\"light\"}}},\"xaxis\":{\"anchor\":\"y\",\"domain\":[0.0,1.0],\"title\":{\"text\":\"Time\"}},\"yaxis\":{\"anchor\":\"x\",\"domain\":[0.0,1.0],\"title\":{\"text\":\"Pounds used in beer production\"}},\"legend\":{\"title\":{\"text\":\"Material\"},\"tracegroupgap\":0,\"traceorder\":\"reversed\"},\"margin\":{\"t\":60},\"barmode\":\"relative\"},                        {\"responsive\": true}                    ).then(function(){\n",
       "                            \n",
       "var gd = document.getElementById('4f01dc5b-e606-40c1-9418-1c2577b5ad1e');\n",
       "var x = new MutationObserver(function (mutations, observer) {{\n",
       "        var display = window.getComputedStyle(gd).display;\n",
       "        if (!display || display === 'none') {{\n",
       "            console.log([gd, 'removed!']);\n",
       "            Plotly.purge(gd);\n",
       "            observer.disconnect();\n",
       "        }}\n",
       "}});\n",
       "\n",
       "// Listen for the removal of the full notebook cells\n",
       "var notebookContainer = gd.closest('#notebook-container');\n",
       "if (notebookContainer) {{\n",
       "    x.observe(notebookContainer, {childList: true});\n",
       "}}\n",
       "\n",
       "// Listen for the clearing of the current output cell\n",
       "var outputEl = gd.closest('.output');\n",
       "if (outputEl) {{\n",
       "    x.observe(outputEl, {childList: true});\n",
       "}}\n",
       "\n",
       "                        })                };                });            </script>        </div>"
      ]
     },
     "metadata": {},
     "output_type": "display_data"
    }
   ],
   "source": [
    "bm_totals = brewing_materials[\n",
    "    (brewing_materials['material_type'].str.contains('Total')) &\n",
    "    (brewing_materials['material_type'].str.contains('Total Used') == False)\n",
    "]\n",
    "\n",
    "bm_totals = bm_totals[bm_totals['year'] < 2016]\n",
    "\n",
    "fig = px.bar(\n",
    "    bm_totals,\n",
    "    x='date',\n",
    "    y='month_current',\n",
    "    color='type'\n",
    ")\n",
    "\n",
    "fig.update_layout(\n",
    "    legend_traceorder=\"reversed\", \n",
    "    xaxis_title='Time',\n",
    "    yaxis_title='Pounds used in beer production',\n",
    "    legend_title='Material'\n",
    ")\n",
    "\n",
    "fig.show()"
   ]
  },
  {
   "cell_type": "markdown",
   "id": "2154585a",
   "metadata": {},
   "source": [
    "### Brewer Size Distribution"
   ]
  },
  {
   "cell_type": "markdown",
   "id": "39fcbc6a",
   "metadata": {},
   "source": [
    "First, we can take a look at the total barrels produced by brewer size each year."
   ]
  },
  {
   "cell_type": "code",
   "execution_count": 613,
   "id": "b10cae5a",
   "metadata": {},
   "outputs": [
    {
     "data": {
      "application/vnd.plotly.v1+json": {
       "config": {
        "plotlyServerURL": "https://plot.ly"
       },
       "data": [
        {
         "alignmentgroup": "True",
         "hovertemplate": "brewer_size=6,000,001 Barrels and Over<br>year=%{x}<br>total_barrels=%{y}<extra></extra>",
         "legendgroup": "6,000,001 Barrels and Over",
         "marker": {
          "color": "#636efa",
          "pattern": {
           "shape": ""
          }
         },
         "name": "6,000,001 Barrels and Over",
         "offsetgroup": "6,000,001 Barrels and Over",
         "orientation": "v",
         "showlegend": true,
         "textposition": "auto",
         "type": "bar",
         "x": [
          2009,
          2010,
          2011,
          2012,
          2013,
          2014,
          2015,
          2016,
          2017,
          2018
         ],
         "xaxis": "x",
         "y": [
          171232881.59,
          426003.3829999997,
          1254333.7459999989,
          821100.636,
          1087970.73,
          2639561.5529999994,
          2453623.13,
          3052311.4800000004,
          8792844.25,
          5859956.25
         ],
         "yaxis": "y"
        },
        {
         "alignmentgroup": "True",
         "hovertemplate": "brewer_size=Other<br>year=%{x}<br>total_barrels=%{y}<extra></extra>",
         "legendgroup": "Other",
         "marker": {
          "color": "#EF553B",
          "pattern": {
           "shape": ""
          }
         },
         "name": "Other",
         "offsetgroup": "Other",
         "orientation": "v",
         "showlegend": true,
         "textposition": "auto",
         "type": "bar",
         "x": [
          2009,
          2009,
          2009,
          2009,
          2009,
          2009,
          2009,
          2009,
          2010,
          2010,
          2010,
          2010,
          2010,
          2010,
          2010,
          2011,
          2011,
          2011,
          2011,
          2011,
          2011,
          2012,
          2012,
          2012,
          2012,
          2012,
          2012,
          2013,
          2013,
          2013,
          2013,
          2013,
          2013,
          2014,
          2014,
          2014,
          2014,
          2014,
          2014,
          2015,
          2015,
          2015,
          2015,
          2015,
          2015,
          2015,
          2016,
          2016,
          2016,
          2016,
          2016,
          2016,
          2016,
          2017,
          2017,
          2017,
          2017,
          2017,
          2017,
          2017,
          2018,
          2018,
          2018,
          2018,
          2018,
          2018,
          2018,
          2019,
          2019
         ],
         "xaxis": "x",
         "y": [
          9970404.28,
          1501976.56,
          1412244.73,
          895133.22,
          442753.54,
          859934.81,
          400401.17,
          3.7,
          160771860.70000002,
          6123725.23,
          1226091.75,
          1544051.1,
          911065.75,
          560159.3400000001,
          1059505.1630000006,
          8448633.99,
          7926808.210000002,
          1157839.9,
          1754234.5499999996,
          893273.36,
          662095.4599999998,
          6864214.06,
          4654830.640000001,
          7810357.340000001,
          1468172.4599999995,
          2179429.59,
          913884.27,
          13394409.41,
          4821249.3,
          4797758.09,
          7637584.410000003,
          1824548.27,
          2271814.7,
          138677888.13,
          25151895.32,
          6055336.28,
          3836841.48,
          9093514.820000002,
          1548669.55,
          136122437.44,
          23939648.17,
          4997347.64,
          5050717.11,
          10645528.1,
          1887855.83,
          0,
          131659359.17,
          26452765.43,
          4999263.95,
          4293996.9,
          10469048.22,
          993337.9200000032,
          4.43,
          135615117.47,
          17288133.2,
          4868564.08,
          6253029.02,
          2656419.36,
          1073977.86,
          6.73,
          131336734.02,
          17410932.97,
          6076447.34,
          1618340.3800000008,
          3058297.9499999965,
          1238268.8999999994,
          7.4700000000000015,
          125788474.04,
          18344022.83
         ],
         "yaxis": "y"
        },
        {
         "alignmentgroup": "True",
         "hovertemplate": "brewer_size=500,001 to 1,000,000 Barrels<br>year=%{x}<br>total_barrels=%{y}<extra></extra>",
         "legendgroup": "500,001 to 1,000,000 Barrels",
         "marker": {
          "color": "#00cc96",
          "pattern": {
           "shape": ""
          }
         },
         "name": "500,001 to 1,000,000 Barrels",
         "offsetgroup": "500,001 to 1,000,000 Barrels",
         "orientation": "v",
         "showlegend": true,
         "textposition": "auto",
         "type": "bar",
         "x": [
          2009,
          2010,
          2011,
          2012,
          2013,
          2014,
          2015,
          2016,
          2017,
          2018
         ],
         "xaxis": "x",
         "y": [
          4831385.68,
          15450769.1,
          17703591,
          157780750.14999998,
          602141.4229999988,
          1959533.497,
          2242859.09,
          1550640.4199999997,
          2062332.14,
          2170405.47
         ],
         "yaxis": "y"
        },
        {
         "alignmentgroup": "True",
         "hovertemplate": "brewer_size=100,001 to 500,000 Barrels<br>year=%{x}<br>total_barrels=%{y}<extra></extra>",
         "legendgroup": "100,001 to 500,000 Barrels",
         "marker": {
          "color": "#ab63fa",
          "pattern": {
           "shape": ""
          }
         },
         "name": "100,001 to 500,000 Barrels",
         "offsetgroup": "100,001 to 500,000 Barrels",
         "orientation": "v",
         "showlegend": true,
         "textposition": "auto",
         "type": "bar",
         "x": [
          2009,
          2010,
          2011,
          2012,
          2013,
          2014,
          2015,
          2016,
          2017,
          2018
         ],
         "xaxis": "x",
         "y": [
          5422155.72,
          7138171.64,
          13524548.35,
          11735116,
          153023498.63,
          698737.8779999996,
          835835.99,
          2461722.990000003,
          1565335.71,
          2124238.48
         ],
         "yaxis": "y"
        },
        {
         "alignmentgroup": "True",
         "hovertemplate": "brewer_size=1,000,001 to 1,999,999 Barrels<br>year=%{x}<br>total_barrels=%{y}<extra></extra>",
         "legendgroup": "1,000,001 to 1,999,999 Barrels",
         "marker": {
          "color": "#FFA15A",
          "pattern": {
           "shape": ""
          }
         },
         "name": "1,000,001 to 1,999,999 Barrels",
         "offsetgroup": "1,000,001 to 1,999,999 Barrels",
         "orientation": "v",
         "showlegend": true,
         "textposition": "auto",
         "type": "bar",
         "x": [
          2011,
          2012,
          2013,
          2014,
          2015,
          2016,
          2017,
          2018
         ],
         "xaxis": "x",
         "y": [
          138963353.84,
          516746.493,
          1693579.7260000012,
          1042199.4199999996,
          1427754.07,
          1577515.3899999997,
          2230144.53,
          3120044.87
         ],
         "yaxis": "y"
        },
        {
         "alignmentgroup": "True",
         "hovertemplate": "brewer_size=2,000,000 to 6,000,000 Barrels<br>year=%{x}<br>total_barrels=%{y}<extra></extra>",
         "legendgroup": "2,000,000 to 6,000,000 Barrels",
         "marker": {
          "color": "#19d3f3",
          "pattern": {
           "shape": ""
          }
         },
         "name": "2,000,000 to 6,000,000 Barrels",
         "offsetgroup": "2,000,000 to 6,000,000 Barrels",
         "orientation": "v",
         "showlegend": true,
         "textposition": "auto",
         "type": "bar",
         "x": [
          2011,
          2012,
          2013,
          2014,
          2015,
          2016,
          2017,
          2018
         ],
         "xaxis": "x",
         "y": [
          458109.82800000056,
          1402600.6719999998,
          842820.06,
          1310960.0899999996,
          1509411.47,
          2329947.35,
          3175932.85,
          8777286.219999999
         ],
         "yaxis": "y"
        }
       ],
       "layout": {
        "barmode": "relative",
        "legend": {
         "title": {
          "text": "brewer_size"
         },
         "tracegroupgap": 0
        },
        "margin": {
         "t": 60
        },
        "template": {
         "data": {
          "bar": [
           {
            "error_x": {
             "color": "#2a3f5f"
            },
            "error_y": {
             "color": "#2a3f5f"
            },
            "marker": {
             "line": {
              "color": "#E5ECF6",
              "width": 0.5
             },
             "pattern": {
              "fillmode": "overlay",
              "size": 10,
              "solidity": 0.2
             }
            },
            "type": "bar"
           }
          ],
          "barpolar": [
           {
            "marker": {
             "line": {
              "color": "#E5ECF6",
              "width": 0.5
             },
             "pattern": {
              "fillmode": "overlay",
              "size": 10,
              "solidity": 0.2
             }
            },
            "type": "barpolar"
           }
          ],
          "carpet": [
           {
            "aaxis": {
             "endlinecolor": "#2a3f5f",
             "gridcolor": "white",
             "linecolor": "white",
             "minorgridcolor": "white",
             "startlinecolor": "#2a3f5f"
            },
            "baxis": {
             "endlinecolor": "#2a3f5f",
             "gridcolor": "white",
             "linecolor": "white",
             "minorgridcolor": "white",
             "startlinecolor": "#2a3f5f"
            },
            "type": "carpet"
           }
          ],
          "choropleth": [
           {
            "colorbar": {
             "outlinewidth": 0,
             "ticks": ""
            },
            "type": "choropleth"
           }
          ],
          "contour": [
           {
            "colorbar": {
             "outlinewidth": 0,
             "ticks": ""
            },
            "colorscale": [
             [
              0,
              "#0d0887"
             ],
             [
              0.1111111111111111,
              "#46039f"
             ],
             [
              0.2222222222222222,
              "#7201a8"
             ],
             [
              0.3333333333333333,
              "#9c179e"
             ],
             [
              0.4444444444444444,
              "#bd3786"
             ],
             [
              0.5555555555555556,
              "#d8576b"
             ],
             [
              0.6666666666666666,
              "#ed7953"
             ],
             [
              0.7777777777777778,
              "#fb9f3a"
             ],
             [
              0.8888888888888888,
              "#fdca26"
             ],
             [
              1,
              "#f0f921"
             ]
            ],
            "type": "contour"
           }
          ],
          "contourcarpet": [
           {
            "colorbar": {
             "outlinewidth": 0,
             "ticks": ""
            },
            "type": "contourcarpet"
           }
          ],
          "heatmap": [
           {
            "colorbar": {
             "outlinewidth": 0,
             "ticks": ""
            },
            "colorscale": [
             [
              0,
              "#0d0887"
             ],
             [
              0.1111111111111111,
              "#46039f"
             ],
             [
              0.2222222222222222,
              "#7201a8"
             ],
             [
              0.3333333333333333,
              "#9c179e"
             ],
             [
              0.4444444444444444,
              "#bd3786"
             ],
             [
              0.5555555555555556,
              "#d8576b"
             ],
             [
              0.6666666666666666,
              "#ed7953"
             ],
             [
              0.7777777777777778,
              "#fb9f3a"
             ],
             [
              0.8888888888888888,
              "#fdca26"
             ],
             [
              1,
              "#f0f921"
             ]
            ],
            "type": "heatmap"
           }
          ],
          "heatmapgl": [
           {
            "colorbar": {
             "outlinewidth": 0,
             "ticks": ""
            },
            "colorscale": [
             [
              0,
              "#0d0887"
             ],
             [
              0.1111111111111111,
              "#46039f"
             ],
             [
              0.2222222222222222,
              "#7201a8"
             ],
             [
              0.3333333333333333,
              "#9c179e"
             ],
             [
              0.4444444444444444,
              "#bd3786"
             ],
             [
              0.5555555555555556,
              "#d8576b"
             ],
             [
              0.6666666666666666,
              "#ed7953"
             ],
             [
              0.7777777777777778,
              "#fb9f3a"
             ],
             [
              0.8888888888888888,
              "#fdca26"
             ],
             [
              1,
              "#f0f921"
             ]
            ],
            "type": "heatmapgl"
           }
          ],
          "histogram": [
           {
            "marker": {
             "pattern": {
              "fillmode": "overlay",
              "size": 10,
              "solidity": 0.2
             }
            },
            "type": "histogram"
           }
          ],
          "histogram2d": [
           {
            "colorbar": {
             "outlinewidth": 0,
             "ticks": ""
            },
            "colorscale": [
             [
              0,
              "#0d0887"
             ],
             [
              0.1111111111111111,
              "#46039f"
             ],
             [
              0.2222222222222222,
              "#7201a8"
             ],
             [
              0.3333333333333333,
              "#9c179e"
             ],
             [
              0.4444444444444444,
              "#bd3786"
             ],
             [
              0.5555555555555556,
              "#d8576b"
             ],
             [
              0.6666666666666666,
              "#ed7953"
             ],
             [
              0.7777777777777778,
              "#fb9f3a"
             ],
             [
              0.8888888888888888,
              "#fdca26"
             ],
             [
              1,
              "#f0f921"
             ]
            ],
            "type": "histogram2d"
           }
          ],
          "histogram2dcontour": [
           {
            "colorbar": {
             "outlinewidth": 0,
             "ticks": ""
            },
            "colorscale": [
             [
              0,
              "#0d0887"
             ],
             [
              0.1111111111111111,
              "#46039f"
             ],
             [
              0.2222222222222222,
              "#7201a8"
             ],
             [
              0.3333333333333333,
              "#9c179e"
             ],
             [
              0.4444444444444444,
              "#bd3786"
             ],
             [
              0.5555555555555556,
              "#d8576b"
             ],
             [
              0.6666666666666666,
              "#ed7953"
             ],
             [
              0.7777777777777778,
              "#fb9f3a"
             ],
             [
              0.8888888888888888,
              "#fdca26"
             ],
             [
              1,
              "#f0f921"
             ]
            ],
            "type": "histogram2dcontour"
           }
          ],
          "mesh3d": [
           {
            "colorbar": {
             "outlinewidth": 0,
             "ticks": ""
            },
            "type": "mesh3d"
           }
          ],
          "parcoords": [
           {
            "line": {
             "colorbar": {
              "outlinewidth": 0,
              "ticks": ""
             }
            },
            "type": "parcoords"
           }
          ],
          "pie": [
           {
            "automargin": true,
            "type": "pie"
           }
          ],
          "scatter": [
           {
            "fillpattern": {
             "fillmode": "overlay",
             "size": 10,
             "solidity": 0.2
            },
            "type": "scatter"
           }
          ],
          "scatter3d": [
           {
            "line": {
             "colorbar": {
              "outlinewidth": 0,
              "ticks": ""
             }
            },
            "marker": {
             "colorbar": {
              "outlinewidth": 0,
              "ticks": ""
             }
            },
            "type": "scatter3d"
           }
          ],
          "scattercarpet": [
           {
            "marker": {
             "colorbar": {
              "outlinewidth": 0,
              "ticks": ""
             }
            },
            "type": "scattercarpet"
           }
          ],
          "scattergeo": [
           {
            "marker": {
             "colorbar": {
              "outlinewidth": 0,
              "ticks": ""
             }
            },
            "type": "scattergeo"
           }
          ],
          "scattergl": [
           {
            "marker": {
             "colorbar": {
              "outlinewidth": 0,
              "ticks": ""
             }
            },
            "type": "scattergl"
           }
          ],
          "scattermapbox": [
           {
            "marker": {
             "colorbar": {
              "outlinewidth": 0,
              "ticks": ""
             }
            },
            "type": "scattermapbox"
           }
          ],
          "scatterpolar": [
           {
            "marker": {
             "colorbar": {
              "outlinewidth": 0,
              "ticks": ""
             }
            },
            "type": "scatterpolar"
           }
          ],
          "scatterpolargl": [
           {
            "marker": {
             "colorbar": {
              "outlinewidth": 0,
              "ticks": ""
             }
            },
            "type": "scatterpolargl"
           }
          ],
          "scatterternary": [
           {
            "marker": {
             "colorbar": {
              "outlinewidth": 0,
              "ticks": ""
             }
            },
            "type": "scatterternary"
           }
          ],
          "surface": [
           {
            "colorbar": {
             "outlinewidth": 0,
             "ticks": ""
            },
            "colorscale": [
             [
              0,
              "#0d0887"
             ],
             [
              0.1111111111111111,
              "#46039f"
             ],
             [
              0.2222222222222222,
              "#7201a8"
             ],
             [
              0.3333333333333333,
              "#9c179e"
             ],
             [
              0.4444444444444444,
              "#bd3786"
             ],
             [
              0.5555555555555556,
              "#d8576b"
             ],
             [
              0.6666666666666666,
              "#ed7953"
             ],
             [
              0.7777777777777778,
              "#fb9f3a"
             ],
             [
              0.8888888888888888,
              "#fdca26"
             ],
             [
              1,
              "#f0f921"
             ]
            ],
            "type": "surface"
           }
          ],
          "table": [
           {
            "cells": {
             "fill": {
              "color": "#EBF0F8"
             },
             "line": {
              "color": "white"
             }
            },
            "header": {
             "fill": {
              "color": "#C8D4E3"
             },
             "line": {
              "color": "white"
             }
            },
            "type": "table"
           }
          ]
         },
         "layout": {
          "annotationdefaults": {
           "arrowcolor": "#2a3f5f",
           "arrowhead": 0,
           "arrowwidth": 1
          },
          "autotypenumbers": "strict",
          "coloraxis": {
           "colorbar": {
            "outlinewidth": 0,
            "ticks": ""
           }
          },
          "colorscale": {
           "diverging": [
            [
             0,
             "#8e0152"
            ],
            [
             0.1,
             "#c51b7d"
            ],
            [
             0.2,
             "#de77ae"
            ],
            [
             0.3,
             "#f1b6da"
            ],
            [
             0.4,
             "#fde0ef"
            ],
            [
             0.5,
             "#f7f7f7"
            ],
            [
             0.6,
             "#e6f5d0"
            ],
            [
             0.7,
             "#b8e186"
            ],
            [
             0.8,
             "#7fbc41"
            ],
            [
             0.9,
             "#4d9221"
            ],
            [
             1,
             "#276419"
            ]
           ],
           "sequential": [
            [
             0,
             "#0d0887"
            ],
            [
             0.1111111111111111,
             "#46039f"
            ],
            [
             0.2222222222222222,
             "#7201a8"
            ],
            [
             0.3333333333333333,
             "#9c179e"
            ],
            [
             0.4444444444444444,
             "#bd3786"
            ],
            [
             0.5555555555555556,
             "#d8576b"
            ],
            [
             0.6666666666666666,
             "#ed7953"
            ],
            [
             0.7777777777777778,
             "#fb9f3a"
            ],
            [
             0.8888888888888888,
             "#fdca26"
            ],
            [
             1,
             "#f0f921"
            ]
           ],
           "sequentialminus": [
            [
             0,
             "#0d0887"
            ],
            [
             0.1111111111111111,
             "#46039f"
            ],
            [
             0.2222222222222222,
             "#7201a8"
            ],
            [
             0.3333333333333333,
             "#9c179e"
            ],
            [
             0.4444444444444444,
             "#bd3786"
            ],
            [
             0.5555555555555556,
             "#d8576b"
            ],
            [
             0.6666666666666666,
             "#ed7953"
            ],
            [
             0.7777777777777778,
             "#fb9f3a"
            ],
            [
             0.8888888888888888,
             "#fdca26"
            ],
            [
             1,
             "#f0f921"
            ]
           ]
          },
          "colorway": [
           "#636efa",
           "#EF553B",
           "#00cc96",
           "#ab63fa",
           "#FFA15A",
           "#19d3f3",
           "#FF6692",
           "#B6E880",
           "#FF97FF",
           "#FECB52"
          ],
          "font": {
           "color": "#2a3f5f"
          },
          "geo": {
           "bgcolor": "white",
           "lakecolor": "white",
           "landcolor": "#E5ECF6",
           "showlakes": true,
           "showland": true,
           "subunitcolor": "white"
          },
          "hoverlabel": {
           "align": "left"
          },
          "hovermode": "closest",
          "mapbox": {
           "style": "light"
          },
          "paper_bgcolor": "white",
          "plot_bgcolor": "#E5ECF6",
          "polar": {
           "angularaxis": {
            "gridcolor": "white",
            "linecolor": "white",
            "ticks": ""
           },
           "bgcolor": "#E5ECF6",
           "radialaxis": {
            "gridcolor": "white",
            "linecolor": "white",
            "ticks": ""
           }
          },
          "scene": {
           "xaxis": {
            "backgroundcolor": "#E5ECF6",
            "gridcolor": "white",
            "gridwidth": 2,
            "linecolor": "white",
            "showbackground": true,
            "ticks": "",
            "zerolinecolor": "white"
           },
           "yaxis": {
            "backgroundcolor": "#E5ECF6",
            "gridcolor": "white",
            "gridwidth": 2,
            "linecolor": "white",
            "showbackground": true,
            "ticks": "",
            "zerolinecolor": "white"
           },
           "zaxis": {
            "backgroundcolor": "#E5ECF6",
            "gridcolor": "white",
            "gridwidth": 2,
            "linecolor": "white",
            "showbackground": true,
            "ticks": "",
            "zerolinecolor": "white"
           }
          },
          "shapedefaults": {
           "line": {
            "color": "#2a3f5f"
           }
          },
          "ternary": {
           "aaxis": {
            "gridcolor": "white",
            "linecolor": "white",
            "ticks": ""
           },
           "baxis": {
            "gridcolor": "white",
            "linecolor": "white",
            "ticks": ""
           },
           "bgcolor": "#E5ECF6",
           "caxis": {
            "gridcolor": "white",
            "linecolor": "white",
            "ticks": ""
           }
          },
          "title": {
           "x": 0.05
          },
          "xaxis": {
           "automargin": true,
           "gridcolor": "white",
           "linecolor": "white",
           "ticks": "",
           "title": {
            "standoff": 15
           },
           "zerolinecolor": "white",
           "zerolinewidth": 2
          },
          "yaxis": {
           "automargin": true,
           "gridcolor": "white",
           "linecolor": "white",
           "ticks": "",
           "title": {
            "standoff": 15
           },
           "zerolinecolor": "white",
           "zerolinewidth": 2
          }
         }
        },
        "xaxis": {
         "anchor": "y",
         "domain": [
          0,
          1
         ],
         "title": {
          "text": "year"
         }
        },
        "yaxis": {
         "anchor": "x",
         "domain": [
          0,
          1
         ],
         "title": {
          "text": "total_barrels"
         }
        }
       }
      },
      "text/html": [
       "<div>                            <div id=\"85595b53-a5c9-4ff3-8554-b683cad2d207\" class=\"plotly-graph-div\" style=\"height:525px; width:100%;\"></div>            <script type=\"text/javascript\">                require([\"plotly\"], function(Plotly) {                    window.PLOTLYENV=window.PLOTLYENV || {};                                    if (document.getElementById(\"85595b53-a5c9-4ff3-8554-b683cad2d207\")) {                    Plotly.newPlot(                        \"85595b53-a5c9-4ff3-8554-b683cad2d207\",                        [{\"alignmentgroup\":\"True\",\"hovertemplate\":\"brewer_size=6,000,001 Barrels and Over<br>year=%{x}<br>total_barrels=%{y}<extra></extra>\",\"legendgroup\":\"6,000,001 Barrels and Over\",\"marker\":{\"color\":\"#636efa\",\"pattern\":{\"shape\":\"\"}},\"name\":\"6,000,001 Barrels and Over\",\"offsetgroup\":\"6,000,001 Barrels and Over\",\"orientation\":\"v\",\"showlegend\":true,\"textposition\":\"auto\",\"x\":[2009,2010,2011,2012,2013,2014,2015,2016,2017,2018],\"xaxis\":\"x\",\"y\":[171232881.59,426003.3829999997,1254333.7459999989,821100.636,1087970.73,2639561.5529999994,2453623.13,3052311.4800000004,8792844.25,5859956.25],\"yaxis\":\"y\",\"type\":\"bar\"},{\"alignmentgroup\":\"True\",\"hovertemplate\":\"brewer_size=Other<br>year=%{x}<br>total_barrels=%{y}<extra></extra>\",\"legendgroup\":\"Other\",\"marker\":{\"color\":\"#EF553B\",\"pattern\":{\"shape\":\"\"}},\"name\":\"Other\",\"offsetgroup\":\"Other\",\"orientation\":\"v\",\"showlegend\":true,\"textposition\":\"auto\",\"x\":[2009,2009,2009,2009,2009,2009,2009,2009,2010,2010,2010,2010,2010,2010,2010,2011,2011,2011,2011,2011,2011,2012,2012,2012,2012,2012,2012,2013,2013,2013,2013,2013,2013,2014,2014,2014,2014,2014,2014,2015,2015,2015,2015,2015,2015,2015,2016,2016,2016,2016,2016,2016,2016,2017,2017,2017,2017,2017,2017,2017,2018,2018,2018,2018,2018,2018,2018,2019,2019],\"xaxis\":\"x\",\"y\":[9970404.28,1501976.56,1412244.73,895133.22,442753.54,859934.81,400401.17,3.7,160771860.70000002,6123725.23,1226091.75,1544051.1,911065.75,560159.3400000001,1059505.1630000006,8448633.99,7926808.210000002,1157839.9,1754234.5499999996,893273.36,662095.4599999998,6864214.06,4654830.640000001,7810357.340000001,1468172.4599999995,2179429.59,913884.27,13394409.41,4821249.3,4797758.09,7637584.410000003,1824548.27,2271814.7,138677888.13,25151895.32,6055336.28,3836841.48,9093514.820000002,1548669.55,136122437.44,23939648.17,4997347.64,5050717.11,10645528.1,1887855.83,0.0,131659359.17,26452765.43,4999263.95,4293996.9,10469048.22,993337.9200000032,4.43,135615117.47,17288133.2,4868564.08,6253029.02,2656419.36,1073977.86,6.73,131336734.02,17410932.97,6076447.34,1618340.3800000008,3058297.9499999965,1238268.8999999994,7.4700000000000015,125788474.04,18344022.83],\"yaxis\":\"y\",\"type\":\"bar\"},{\"alignmentgroup\":\"True\",\"hovertemplate\":\"brewer_size=500,001 to 1,000,000 Barrels<br>year=%{x}<br>total_barrels=%{y}<extra></extra>\",\"legendgroup\":\"500,001 to 1,000,000 Barrels\",\"marker\":{\"color\":\"#00cc96\",\"pattern\":{\"shape\":\"\"}},\"name\":\"500,001 to 1,000,000 Barrels\",\"offsetgroup\":\"500,001 to 1,000,000 Barrels\",\"orientation\":\"v\",\"showlegend\":true,\"textposition\":\"auto\",\"x\":[2009,2010,2011,2012,2013,2014,2015,2016,2017,2018],\"xaxis\":\"x\",\"y\":[4831385.68,15450769.1,17703591.0,157780750.14999998,602141.4229999988,1959533.497,2242859.09,1550640.4199999997,2062332.14,2170405.47],\"yaxis\":\"y\",\"type\":\"bar\"},{\"alignmentgroup\":\"True\",\"hovertemplate\":\"brewer_size=100,001 to 500,000 Barrels<br>year=%{x}<br>total_barrels=%{y}<extra></extra>\",\"legendgroup\":\"100,001 to 500,000 Barrels\",\"marker\":{\"color\":\"#ab63fa\",\"pattern\":{\"shape\":\"\"}},\"name\":\"100,001 to 500,000 Barrels\",\"offsetgroup\":\"100,001 to 500,000 Barrels\",\"orientation\":\"v\",\"showlegend\":true,\"textposition\":\"auto\",\"x\":[2009,2010,2011,2012,2013,2014,2015,2016,2017,2018],\"xaxis\":\"x\",\"y\":[5422155.72,7138171.64,13524548.35,11735116.0,153023498.63,698737.8779999996,835835.99,2461722.990000003,1565335.71,2124238.48],\"yaxis\":\"y\",\"type\":\"bar\"},{\"alignmentgroup\":\"True\",\"hovertemplate\":\"brewer_size=1,000,001 to 1,999,999 Barrels<br>year=%{x}<br>total_barrels=%{y}<extra></extra>\",\"legendgroup\":\"1,000,001 to 1,999,999 Barrels\",\"marker\":{\"color\":\"#FFA15A\",\"pattern\":{\"shape\":\"\"}},\"name\":\"1,000,001 to 1,999,999 Barrels\",\"offsetgroup\":\"1,000,001 to 1,999,999 Barrels\",\"orientation\":\"v\",\"showlegend\":true,\"textposition\":\"auto\",\"x\":[2011,2012,2013,2014,2015,2016,2017,2018],\"xaxis\":\"x\",\"y\":[138963353.84,516746.493,1693579.7260000012,1042199.4199999996,1427754.07,1577515.3899999997,2230144.53,3120044.87],\"yaxis\":\"y\",\"type\":\"bar\"},{\"alignmentgroup\":\"True\",\"hovertemplate\":\"brewer_size=2,000,000 to 6,000,000 Barrels<br>year=%{x}<br>total_barrels=%{y}<extra></extra>\",\"legendgroup\":\"2,000,000 to 6,000,000 Barrels\",\"marker\":{\"color\":\"#19d3f3\",\"pattern\":{\"shape\":\"\"}},\"name\":\"2,000,000 to 6,000,000 Barrels\",\"offsetgroup\":\"2,000,000 to 6,000,000 Barrels\",\"orientation\":\"v\",\"showlegend\":true,\"textposition\":\"auto\",\"x\":[2011,2012,2013,2014,2015,2016,2017,2018],\"xaxis\":\"x\",\"y\":[458109.82800000056,1402600.6719999998,842820.06,1310960.0899999996,1509411.47,2329947.35,3175932.85,8777286.219999999],\"yaxis\":\"y\",\"type\":\"bar\"}],                        {\"template\":{\"data\":{\"histogram2dcontour\":[{\"type\":\"histogram2dcontour\",\"colorbar\":{\"outlinewidth\":0,\"ticks\":\"\"},\"colorscale\":[[0.0,\"#0d0887\"],[0.1111111111111111,\"#46039f\"],[0.2222222222222222,\"#7201a8\"],[0.3333333333333333,\"#9c179e\"],[0.4444444444444444,\"#bd3786\"],[0.5555555555555556,\"#d8576b\"],[0.6666666666666666,\"#ed7953\"],[0.7777777777777778,\"#fb9f3a\"],[0.8888888888888888,\"#fdca26\"],[1.0,\"#f0f921\"]]}],\"choropleth\":[{\"type\":\"choropleth\",\"colorbar\":{\"outlinewidth\":0,\"ticks\":\"\"}}],\"histogram2d\":[{\"type\":\"histogram2d\",\"colorbar\":{\"outlinewidth\":0,\"ticks\":\"\"},\"colorscale\":[[0.0,\"#0d0887\"],[0.1111111111111111,\"#46039f\"],[0.2222222222222222,\"#7201a8\"],[0.3333333333333333,\"#9c179e\"],[0.4444444444444444,\"#bd3786\"],[0.5555555555555556,\"#d8576b\"],[0.6666666666666666,\"#ed7953\"],[0.7777777777777778,\"#fb9f3a\"],[0.8888888888888888,\"#fdca26\"],[1.0,\"#f0f921\"]]}],\"heatmap\":[{\"type\":\"heatmap\",\"colorbar\":{\"outlinewidth\":0,\"ticks\":\"\"},\"colorscale\":[[0.0,\"#0d0887\"],[0.1111111111111111,\"#46039f\"],[0.2222222222222222,\"#7201a8\"],[0.3333333333333333,\"#9c179e\"],[0.4444444444444444,\"#bd3786\"],[0.5555555555555556,\"#d8576b\"],[0.6666666666666666,\"#ed7953\"],[0.7777777777777778,\"#fb9f3a\"],[0.8888888888888888,\"#fdca26\"],[1.0,\"#f0f921\"]]}],\"heatmapgl\":[{\"type\":\"heatmapgl\",\"colorbar\":{\"outlinewidth\":0,\"ticks\":\"\"},\"colorscale\":[[0.0,\"#0d0887\"],[0.1111111111111111,\"#46039f\"],[0.2222222222222222,\"#7201a8\"],[0.3333333333333333,\"#9c179e\"],[0.4444444444444444,\"#bd3786\"],[0.5555555555555556,\"#d8576b\"],[0.6666666666666666,\"#ed7953\"],[0.7777777777777778,\"#fb9f3a\"],[0.8888888888888888,\"#fdca26\"],[1.0,\"#f0f921\"]]}],\"contourcarpet\":[{\"type\":\"contourcarpet\",\"colorbar\":{\"outlinewidth\":0,\"ticks\":\"\"}}],\"contour\":[{\"type\":\"contour\",\"colorbar\":{\"outlinewidth\":0,\"ticks\":\"\"},\"colorscale\":[[0.0,\"#0d0887\"],[0.1111111111111111,\"#46039f\"],[0.2222222222222222,\"#7201a8\"],[0.3333333333333333,\"#9c179e\"],[0.4444444444444444,\"#bd3786\"],[0.5555555555555556,\"#d8576b\"],[0.6666666666666666,\"#ed7953\"],[0.7777777777777778,\"#fb9f3a\"],[0.8888888888888888,\"#fdca26\"],[1.0,\"#f0f921\"]]}],\"surface\":[{\"type\":\"surface\",\"colorbar\":{\"outlinewidth\":0,\"ticks\":\"\"},\"colorscale\":[[0.0,\"#0d0887\"],[0.1111111111111111,\"#46039f\"],[0.2222222222222222,\"#7201a8\"],[0.3333333333333333,\"#9c179e\"],[0.4444444444444444,\"#bd3786\"],[0.5555555555555556,\"#d8576b\"],[0.6666666666666666,\"#ed7953\"],[0.7777777777777778,\"#fb9f3a\"],[0.8888888888888888,\"#fdca26\"],[1.0,\"#f0f921\"]]}],\"mesh3d\":[{\"type\":\"mesh3d\",\"colorbar\":{\"outlinewidth\":0,\"ticks\":\"\"}}],\"scatter\":[{\"fillpattern\":{\"fillmode\":\"overlay\",\"size\":10,\"solidity\":0.2},\"type\":\"scatter\"}],\"parcoords\":[{\"type\":\"parcoords\",\"line\":{\"colorbar\":{\"outlinewidth\":0,\"ticks\":\"\"}}}],\"scatterpolargl\":[{\"type\":\"scatterpolargl\",\"marker\":{\"colorbar\":{\"outlinewidth\":0,\"ticks\":\"\"}}}],\"bar\":[{\"error_x\":{\"color\":\"#2a3f5f\"},\"error_y\":{\"color\":\"#2a3f5f\"},\"marker\":{\"line\":{\"color\":\"#E5ECF6\",\"width\":0.5},\"pattern\":{\"fillmode\":\"overlay\",\"size\":10,\"solidity\":0.2}},\"type\":\"bar\"}],\"scattergeo\":[{\"type\":\"scattergeo\",\"marker\":{\"colorbar\":{\"outlinewidth\":0,\"ticks\":\"\"}}}],\"scatterpolar\":[{\"type\":\"scatterpolar\",\"marker\":{\"colorbar\":{\"outlinewidth\":0,\"ticks\":\"\"}}}],\"histogram\":[{\"marker\":{\"pattern\":{\"fillmode\":\"overlay\",\"size\":10,\"solidity\":0.2}},\"type\":\"histogram\"}],\"scattergl\":[{\"type\":\"scattergl\",\"marker\":{\"colorbar\":{\"outlinewidth\":0,\"ticks\":\"\"}}}],\"scatter3d\":[{\"type\":\"scatter3d\",\"line\":{\"colorbar\":{\"outlinewidth\":0,\"ticks\":\"\"}},\"marker\":{\"colorbar\":{\"outlinewidth\":0,\"ticks\":\"\"}}}],\"scattermapbox\":[{\"type\":\"scattermapbox\",\"marker\":{\"colorbar\":{\"outlinewidth\":0,\"ticks\":\"\"}}}],\"scatterternary\":[{\"type\":\"scatterternary\",\"marker\":{\"colorbar\":{\"outlinewidth\":0,\"ticks\":\"\"}}}],\"scattercarpet\":[{\"type\":\"scattercarpet\",\"marker\":{\"colorbar\":{\"outlinewidth\":0,\"ticks\":\"\"}}}],\"carpet\":[{\"aaxis\":{\"endlinecolor\":\"#2a3f5f\",\"gridcolor\":\"white\",\"linecolor\":\"white\",\"minorgridcolor\":\"white\",\"startlinecolor\":\"#2a3f5f\"},\"baxis\":{\"endlinecolor\":\"#2a3f5f\",\"gridcolor\":\"white\",\"linecolor\":\"white\",\"minorgridcolor\":\"white\",\"startlinecolor\":\"#2a3f5f\"},\"type\":\"carpet\"}],\"table\":[{\"cells\":{\"fill\":{\"color\":\"#EBF0F8\"},\"line\":{\"color\":\"white\"}},\"header\":{\"fill\":{\"color\":\"#C8D4E3\"},\"line\":{\"color\":\"white\"}},\"type\":\"table\"}],\"barpolar\":[{\"marker\":{\"line\":{\"color\":\"#E5ECF6\",\"width\":0.5},\"pattern\":{\"fillmode\":\"overlay\",\"size\":10,\"solidity\":0.2}},\"type\":\"barpolar\"}],\"pie\":[{\"automargin\":true,\"type\":\"pie\"}]},\"layout\":{\"autotypenumbers\":\"strict\",\"colorway\":[\"#636efa\",\"#EF553B\",\"#00cc96\",\"#ab63fa\",\"#FFA15A\",\"#19d3f3\",\"#FF6692\",\"#B6E880\",\"#FF97FF\",\"#FECB52\"],\"font\":{\"color\":\"#2a3f5f\"},\"hovermode\":\"closest\",\"hoverlabel\":{\"align\":\"left\"},\"paper_bgcolor\":\"white\",\"plot_bgcolor\":\"#E5ECF6\",\"polar\":{\"bgcolor\":\"#E5ECF6\",\"angularaxis\":{\"gridcolor\":\"white\",\"linecolor\":\"white\",\"ticks\":\"\"},\"radialaxis\":{\"gridcolor\":\"white\",\"linecolor\":\"white\",\"ticks\":\"\"}},\"ternary\":{\"bgcolor\":\"#E5ECF6\",\"aaxis\":{\"gridcolor\":\"white\",\"linecolor\":\"white\",\"ticks\":\"\"},\"baxis\":{\"gridcolor\":\"white\",\"linecolor\":\"white\",\"ticks\":\"\"},\"caxis\":{\"gridcolor\":\"white\",\"linecolor\":\"white\",\"ticks\":\"\"}},\"coloraxis\":{\"colorbar\":{\"outlinewidth\":0,\"ticks\":\"\"}},\"colorscale\":{\"sequential\":[[0.0,\"#0d0887\"],[0.1111111111111111,\"#46039f\"],[0.2222222222222222,\"#7201a8\"],[0.3333333333333333,\"#9c179e\"],[0.4444444444444444,\"#bd3786\"],[0.5555555555555556,\"#d8576b\"],[0.6666666666666666,\"#ed7953\"],[0.7777777777777778,\"#fb9f3a\"],[0.8888888888888888,\"#fdca26\"],[1.0,\"#f0f921\"]],\"sequentialminus\":[[0.0,\"#0d0887\"],[0.1111111111111111,\"#46039f\"],[0.2222222222222222,\"#7201a8\"],[0.3333333333333333,\"#9c179e\"],[0.4444444444444444,\"#bd3786\"],[0.5555555555555556,\"#d8576b\"],[0.6666666666666666,\"#ed7953\"],[0.7777777777777778,\"#fb9f3a\"],[0.8888888888888888,\"#fdca26\"],[1.0,\"#f0f921\"]],\"diverging\":[[0,\"#8e0152\"],[0.1,\"#c51b7d\"],[0.2,\"#de77ae\"],[0.3,\"#f1b6da\"],[0.4,\"#fde0ef\"],[0.5,\"#f7f7f7\"],[0.6,\"#e6f5d0\"],[0.7,\"#b8e186\"],[0.8,\"#7fbc41\"],[0.9,\"#4d9221\"],[1,\"#276419\"]]},\"xaxis\":{\"gridcolor\":\"white\",\"linecolor\":\"white\",\"ticks\":\"\",\"title\":{\"standoff\":15},\"zerolinecolor\":\"white\",\"automargin\":true,\"zerolinewidth\":2},\"yaxis\":{\"gridcolor\":\"white\",\"linecolor\":\"white\",\"ticks\":\"\",\"title\":{\"standoff\":15},\"zerolinecolor\":\"white\",\"automargin\":true,\"zerolinewidth\":2},\"scene\":{\"xaxis\":{\"backgroundcolor\":\"#E5ECF6\",\"gridcolor\":\"white\",\"linecolor\":\"white\",\"showbackground\":true,\"ticks\":\"\",\"zerolinecolor\":\"white\",\"gridwidth\":2},\"yaxis\":{\"backgroundcolor\":\"#E5ECF6\",\"gridcolor\":\"white\",\"linecolor\":\"white\",\"showbackground\":true,\"ticks\":\"\",\"zerolinecolor\":\"white\",\"gridwidth\":2},\"zaxis\":{\"backgroundcolor\":\"#E5ECF6\",\"gridcolor\":\"white\",\"linecolor\":\"white\",\"showbackground\":true,\"ticks\":\"\",\"zerolinecolor\":\"white\",\"gridwidth\":2}},\"shapedefaults\":{\"line\":{\"color\":\"#2a3f5f\"}},\"annotationdefaults\":{\"arrowcolor\":\"#2a3f5f\",\"arrowhead\":0,\"arrowwidth\":1},\"geo\":{\"bgcolor\":\"white\",\"landcolor\":\"#E5ECF6\",\"subunitcolor\":\"white\",\"showland\":true,\"showlakes\":true,\"lakecolor\":\"white\"},\"title\":{\"x\":0.05},\"mapbox\":{\"style\":\"light\"}}},\"xaxis\":{\"anchor\":\"y\",\"domain\":[0.0,1.0],\"title\":{\"text\":\"year\"}},\"yaxis\":{\"anchor\":\"x\",\"domain\":[0.0,1.0],\"title\":{\"text\":\"total_barrels\"}},\"legend\":{\"title\":{\"text\":\"brewer_size\"},\"tracegroupgap\":0},\"margin\":{\"t\":60},\"barmode\":\"relative\"},                        {\"responsive\": true}                    ).then(function(){\n",
       "                            \n",
       "var gd = document.getElementById('85595b53-a5c9-4ff3-8554-b683cad2d207');\n",
       "var x = new MutationObserver(function (mutations, observer) {{\n",
       "        var display = window.getComputedStyle(gd).display;\n",
       "        if (!display || display === 'none') {{\n",
       "            console.log([gd, 'removed!']);\n",
       "            Plotly.purge(gd);\n",
       "            observer.disconnect();\n",
       "        }}\n",
       "}});\n",
       "\n",
       "// Listen for the removal of the full notebook cells\n",
       "var notebookContainer = gd.closest('#notebook-container');\n",
       "if (notebookContainer) {{\n",
       "    x.observe(notebookContainer, {childList: true});\n",
       "}}\n",
       "\n",
       "// Listen for the clearing of the current output cell\n",
       "var outputEl = gd.closest('.output');\n",
       "if (outputEl) {{\n",
       "    x.observe(outputEl, {childList: true});\n",
       "}}\n",
       "\n",
       "                        })                };                });            </script>        </div>"
      ]
     },
     "metadata": {},
     "output_type": "display_data"
    }
   ],
   "source": [
    "bs = brewer_size[\n",
    "    (brewer_size['brewer_size'].str.contains('Total') == False) &\n",
    "    (np.isnan(brewer_size['total_barrels']) == False)\n",
    "].copy()\n",
    "\n",
    "\n",
    "def parse_first_num(text):\n",
    "    words = text.split(' ')\n",
    "    nums = []\n",
    "    for word in words: \n",
    "        num = re.findall(r'[0-9]+', word)\n",
    "        if len(num):\n",
    "            nums.append(num)\n",
    "            \n",
    "    if len(nums):\n",
    "        return \"\".join(nums[0])\n",
    "    else:\n",
    "        return \"0\"\n",
    "\n",
    "bs_sort = bs['brewer_size'].apply(lambda x: int(parse_first_num(x)))\n",
    "bs['brewer_size'] = fct_lump(bs['brewer_size'], 5, w=bs_sort)\n",
    "fct_reorder(bs['brewer_size'], bs_sort)\n",
    "\n",
    "fig = px.bar(\n",
    "    bs,\n",
    "    x='year',\n",
    "    y='total_barrels',\n",
    "    color='brewer_size'\n",
    ")\n",
    "\n",
    "fig.show()"
   ]
  },
  {
   "cell_type": "markdown",
   "id": "39b5ae18",
   "metadata": {},
   "source": [
    "We can reduce the number of brewer size options by lumping together some of the values to form a larger range:"
   ]
  },
  {
   "cell_type": "code",
   "execution_count": 537,
   "id": "2b9d92db",
   "metadata": {},
   "outputs": [
    {
     "data": {
      "application/vnd.plotly.v1+json": {
       "config": {
        "plotlyServerURL": "https://plot.ly"
       },
       "data": [
        {
         "alignmentgroup": "True",
         "hovertemplate": "brewer_size=6,000,001 Barrels and Over<br>year=%{x}<br>total_barrels=%{y}<extra></extra>",
         "legendgroup": "6,000,001 Barrels and Over",
         "marker": {
          "color": "#636efa",
          "pattern": {
           "shape": ""
          }
         },
         "name": "6,000,001 Barrels and Over",
         "offsetgroup": "6,000,001 Barrels and Over",
         "orientation": "v",
         "showlegend": true,
         "textposition": "auto",
         "type": "bar",
         "x": [
          2009,
          2010,
          2011,
          2012,
          2013,
          2014,
          2015,
          2015,
          2016,
          2017
         ],
         "xaxis": "x",
         "y": [
          171232881.59,
          1059505.1630000006,
          893273.36,
          1468172.4599999995,
          4797758.09,
          25151895.32,
          136122437.44,
          0,
          2461722.990000003,
          2062332.14
         ],
         "yaxis": "y"
        },
        {
         "alignmentgroup": "True",
         "hovertemplate": "brewer_size=Other<br>year=%{x}<br>total_barrels=%{y}<extra></extra>",
         "legendgroup": "Other",
         "marker": {
          "color": "#EF553B",
          "pattern": {
           "shape": ""
          }
         },
         "name": "Other",
         "offsetgroup": "Other",
         "orientation": "v",
         "showlegend": true,
         "textposition": "auto",
         "type": "bar",
         "x": [
          2009,
          2009,
          2009,
          2009,
          2009,
          2009,
          2009,
          2009,
          2010,
          2010,
          2010,
          2010,
          2010,
          2010,
          2011,
          2011,
          2011,
          2011,
          2011,
          2011,
          2011,
          2012,
          2012,
          2012,
          2012,
          2012,
          2012,
          2012,
          2012,
          2013,
          2013,
          2013,
          2013,
          2013,
          2013,
          2013,
          2013,
          2014,
          2014,
          2014,
          2014,
          2014,
          2014,
          2014,
          2015,
          2015,
          2015,
          2015,
          2015,
          2015,
          2015,
          2016,
          2016,
          2016,
          2016,
          2016,
          2016,
          2016,
          2017,
          2017,
          2017,
          2017,
          2017,
          2017,
          2017,
          2018,
          2018,
          2018,
          2018,
          2018,
          2018
         ],
         "xaxis": "x",
         "y": [
          9970404.28,
          1501976.56,
          1412244.73,
          895133.22,
          442753.54,
          859934.81,
          400401.17,
          3.7,
          7138171.64,
          6123725.23,
          1226091.75,
          1544051.1,
          911065.75,
          560159.3400000001,
          17703591,
          13524548.35,
          8448633.99,
          7926808.210000002,
          1157839.9,
          1754234.5499999996,
          662095.4599999998,
          157780750.14999998,
          11735116,
          6864214.06,
          4654830.640000001,
          7810357.340000001,
          2179429.59,
          1402600.6719999998,
          516746.493,
          153023498.63,
          13394409.41,
          4821249.3,
          7637584.410000003,
          1087970.73,
          842820.06,
          1693579.7260000012,
          602141.4229999988,
          138677888.13,
          6055336.28,
          2639561.5529999994,
          1310960.0899999996,
          1042199.4199999996,
          1959533.497,
          698737.8779999996,
          23939648.17,
          1887855.83,
          2453623.13,
          1509411.47,
          1427754.07,
          2242859.09,
          835835.99,
          4293996.9,
          10469048.22,
          3052311.4800000004,
          2329947.35,
          1577515.3899999997,
          1550640.4199999997,
          993337.9200000032,
          17288133.2,
          4868564.08,
          6253029.02,
          8792844.25,
          3175932.85,
          2230144.53,
          1565335.71,
          131336734.02,
          17410932.97,
          6076447.34,
          5859956.25,
          8777286.219999999,
          3120044.87
         ],
         "yaxis": "y"
        },
        {
         "alignmentgroup": "True",
         "hovertemplate": "brewer_size=500,001 to 1,000,000 Barrels<br>year=%{x}<br>total_barrels=%{y}<extra></extra>",
         "legendgroup": "500,001 to 1,000,000 Barrels",
         "marker": {
          "color": "#00cc96",
          "pattern": {
           "shape": ""
          }
         },
         "name": "500,001 to 1,000,000 Barrels",
         "offsetgroup": "500,001 to 1,000,000 Barrels",
         "orientation": "v",
         "showlegend": true,
         "textposition": "auto",
         "type": "bar",
         "x": [
          2009,
          2010,
          2011,
          2013,
          2014,
          2015,
          2016,
          2017
         ],
         "xaxis": "x",
         "y": [
          4831385.68,
          160771860.70000002,
          1254333.7459999989,
          2271814.7,
          9093514.820000002,
          5050717.11,
          26452765.43,
          1073977.86
         ],
         "yaxis": "y"
        },
        {
         "alignmentgroup": "True",
         "hovertemplate": "brewer_size=100,001 to 500,000 Barrels<br>year=%{x}<br>total_barrels=%{y}<extra></extra>",
         "legendgroup": "100,001 to 500,000 Barrels",
         "marker": {
          "color": "#ab63fa",
          "pattern": {
           "shape": ""
          }
         },
         "name": "100,001 to 500,000 Barrels",
         "offsetgroup": "100,001 to 500,000 Barrels",
         "orientation": "v",
         "showlegend": true,
         "textposition": "auto",
         "type": "bar",
         "x": [
          2009,
          2010,
          2011,
          2011,
          2012,
          2014,
          2015,
          2016,
          2017,
          2017
         ],
         "xaxis": "x",
         "y": [
          5422155.72,
          15450769.1,
          138963353.84,
          458109.82800000056,
          821100.636,
          1548669.55,
          10645528.1,
          4999263.95,
          135615117.47,
          6.73
         ],
         "yaxis": "y"
        },
        {
         "alignmentgroup": "True",
         "hovertemplate": "brewer_size=1,000,001 to 1,999,999 Barrels<br>year=%{x}<br>total_barrels=%{y}<extra></extra>",
         "legendgroup": "1,000,001 to 1,999,999 Barrels",
         "marker": {
          "color": "#FFA15A",
          "pattern": {
           "shape": ""
          }
         },
         "name": "1,000,001 to 1,999,999 Barrels",
         "offsetgroup": "1,000,001 to 1,999,999 Barrels",
         "orientation": "v",
         "showlegend": true,
         "textposition": "auto",
         "type": "bar",
         "x": [
          2010,
          2012,
          2013,
          2014,
          2015,
          2016,
          2016,
          2017
         ],
         "xaxis": "x",
         "y": [
          426003.3829999997,
          913884.27,
          1824548.27,
          3836841.48,
          4997347.64,
          131659359.17,
          4.43,
          2656419.36
         ],
         "yaxis": "y"
        }
       ],
       "layout": {
        "barmode": "relative",
        "legend": {
         "title": {
          "text": "brewer_size"
         },
         "tracegroupgap": 0
        },
        "margin": {
         "t": 60
        },
        "template": {
         "data": {
          "bar": [
           {
            "error_x": {
             "color": "#2a3f5f"
            },
            "error_y": {
             "color": "#2a3f5f"
            },
            "marker": {
             "line": {
              "color": "#E5ECF6",
              "width": 0.5
             },
             "pattern": {
              "fillmode": "overlay",
              "size": 10,
              "solidity": 0.2
             }
            },
            "type": "bar"
           }
          ],
          "barpolar": [
           {
            "marker": {
             "line": {
              "color": "#E5ECF6",
              "width": 0.5
             },
             "pattern": {
              "fillmode": "overlay",
              "size": 10,
              "solidity": 0.2
             }
            },
            "type": "barpolar"
           }
          ],
          "carpet": [
           {
            "aaxis": {
             "endlinecolor": "#2a3f5f",
             "gridcolor": "white",
             "linecolor": "white",
             "minorgridcolor": "white",
             "startlinecolor": "#2a3f5f"
            },
            "baxis": {
             "endlinecolor": "#2a3f5f",
             "gridcolor": "white",
             "linecolor": "white",
             "minorgridcolor": "white",
             "startlinecolor": "#2a3f5f"
            },
            "type": "carpet"
           }
          ],
          "choropleth": [
           {
            "colorbar": {
             "outlinewidth": 0,
             "ticks": ""
            },
            "type": "choropleth"
           }
          ],
          "contour": [
           {
            "colorbar": {
             "outlinewidth": 0,
             "ticks": ""
            },
            "colorscale": [
             [
              0,
              "#0d0887"
             ],
             [
              0.1111111111111111,
              "#46039f"
             ],
             [
              0.2222222222222222,
              "#7201a8"
             ],
             [
              0.3333333333333333,
              "#9c179e"
             ],
             [
              0.4444444444444444,
              "#bd3786"
             ],
             [
              0.5555555555555556,
              "#d8576b"
             ],
             [
              0.6666666666666666,
              "#ed7953"
             ],
             [
              0.7777777777777778,
              "#fb9f3a"
             ],
             [
              0.8888888888888888,
              "#fdca26"
             ],
             [
              1,
              "#f0f921"
             ]
            ],
            "type": "contour"
           }
          ],
          "contourcarpet": [
           {
            "colorbar": {
             "outlinewidth": 0,
             "ticks": ""
            },
            "type": "contourcarpet"
           }
          ],
          "heatmap": [
           {
            "colorbar": {
             "outlinewidth": 0,
             "ticks": ""
            },
            "colorscale": [
             [
              0,
              "#0d0887"
             ],
             [
              0.1111111111111111,
              "#46039f"
             ],
             [
              0.2222222222222222,
              "#7201a8"
             ],
             [
              0.3333333333333333,
              "#9c179e"
             ],
             [
              0.4444444444444444,
              "#bd3786"
             ],
             [
              0.5555555555555556,
              "#d8576b"
             ],
             [
              0.6666666666666666,
              "#ed7953"
             ],
             [
              0.7777777777777778,
              "#fb9f3a"
             ],
             [
              0.8888888888888888,
              "#fdca26"
             ],
             [
              1,
              "#f0f921"
             ]
            ],
            "type": "heatmap"
           }
          ],
          "heatmapgl": [
           {
            "colorbar": {
             "outlinewidth": 0,
             "ticks": ""
            },
            "colorscale": [
             [
              0,
              "#0d0887"
             ],
             [
              0.1111111111111111,
              "#46039f"
             ],
             [
              0.2222222222222222,
              "#7201a8"
             ],
             [
              0.3333333333333333,
              "#9c179e"
             ],
             [
              0.4444444444444444,
              "#bd3786"
             ],
             [
              0.5555555555555556,
              "#d8576b"
             ],
             [
              0.6666666666666666,
              "#ed7953"
             ],
             [
              0.7777777777777778,
              "#fb9f3a"
             ],
             [
              0.8888888888888888,
              "#fdca26"
             ],
             [
              1,
              "#f0f921"
             ]
            ],
            "type": "heatmapgl"
           }
          ],
          "histogram": [
           {
            "marker": {
             "pattern": {
              "fillmode": "overlay",
              "size": 10,
              "solidity": 0.2
             }
            },
            "type": "histogram"
           }
          ],
          "histogram2d": [
           {
            "colorbar": {
             "outlinewidth": 0,
             "ticks": ""
            },
            "colorscale": [
             [
              0,
              "#0d0887"
             ],
             [
              0.1111111111111111,
              "#46039f"
             ],
             [
              0.2222222222222222,
              "#7201a8"
             ],
             [
              0.3333333333333333,
              "#9c179e"
             ],
             [
              0.4444444444444444,
              "#bd3786"
             ],
             [
              0.5555555555555556,
              "#d8576b"
             ],
             [
              0.6666666666666666,
              "#ed7953"
             ],
             [
              0.7777777777777778,
              "#fb9f3a"
             ],
             [
              0.8888888888888888,
              "#fdca26"
             ],
             [
              1,
              "#f0f921"
             ]
            ],
            "type": "histogram2d"
           }
          ],
          "histogram2dcontour": [
           {
            "colorbar": {
             "outlinewidth": 0,
             "ticks": ""
            },
            "colorscale": [
             [
              0,
              "#0d0887"
             ],
             [
              0.1111111111111111,
              "#46039f"
             ],
             [
              0.2222222222222222,
              "#7201a8"
             ],
             [
              0.3333333333333333,
              "#9c179e"
             ],
             [
              0.4444444444444444,
              "#bd3786"
             ],
             [
              0.5555555555555556,
              "#d8576b"
             ],
             [
              0.6666666666666666,
              "#ed7953"
             ],
             [
              0.7777777777777778,
              "#fb9f3a"
             ],
             [
              0.8888888888888888,
              "#fdca26"
             ],
             [
              1,
              "#f0f921"
             ]
            ],
            "type": "histogram2dcontour"
           }
          ],
          "mesh3d": [
           {
            "colorbar": {
             "outlinewidth": 0,
             "ticks": ""
            },
            "type": "mesh3d"
           }
          ],
          "parcoords": [
           {
            "line": {
             "colorbar": {
              "outlinewidth": 0,
              "ticks": ""
             }
            },
            "type": "parcoords"
           }
          ],
          "pie": [
           {
            "automargin": true,
            "type": "pie"
           }
          ],
          "scatter": [
           {
            "fillpattern": {
             "fillmode": "overlay",
             "size": 10,
             "solidity": 0.2
            },
            "type": "scatter"
           }
          ],
          "scatter3d": [
           {
            "line": {
             "colorbar": {
              "outlinewidth": 0,
              "ticks": ""
             }
            },
            "marker": {
             "colorbar": {
              "outlinewidth": 0,
              "ticks": ""
             }
            },
            "type": "scatter3d"
           }
          ],
          "scattercarpet": [
           {
            "marker": {
             "colorbar": {
              "outlinewidth": 0,
              "ticks": ""
             }
            },
            "type": "scattercarpet"
           }
          ],
          "scattergeo": [
           {
            "marker": {
             "colorbar": {
              "outlinewidth": 0,
              "ticks": ""
             }
            },
            "type": "scattergeo"
           }
          ],
          "scattergl": [
           {
            "marker": {
             "colorbar": {
              "outlinewidth": 0,
              "ticks": ""
             }
            },
            "type": "scattergl"
           }
          ],
          "scattermapbox": [
           {
            "marker": {
             "colorbar": {
              "outlinewidth": 0,
              "ticks": ""
             }
            },
            "type": "scattermapbox"
           }
          ],
          "scatterpolar": [
           {
            "marker": {
             "colorbar": {
              "outlinewidth": 0,
              "ticks": ""
             }
            },
            "type": "scatterpolar"
           }
          ],
          "scatterpolargl": [
           {
            "marker": {
             "colorbar": {
              "outlinewidth": 0,
              "ticks": ""
             }
            },
            "type": "scatterpolargl"
           }
          ],
          "scatterternary": [
           {
            "marker": {
             "colorbar": {
              "outlinewidth": 0,
              "ticks": ""
             }
            },
            "type": "scatterternary"
           }
          ],
          "surface": [
           {
            "colorbar": {
             "outlinewidth": 0,
             "ticks": ""
            },
            "colorscale": [
             [
              0,
              "#0d0887"
             ],
             [
              0.1111111111111111,
              "#46039f"
             ],
             [
              0.2222222222222222,
              "#7201a8"
             ],
             [
              0.3333333333333333,
              "#9c179e"
             ],
             [
              0.4444444444444444,
              "#bd3786"
             ],
             [
              0.5555555555555556,
              "#d8576b"
             ],
             [
              0.6666666666666666,
              "#ed7953"
             ],
             [
              0.7777777777777778,
              "#fb9f3a"
             ],
             [
              0.8888888888888888,
              "#fdca26"
             ],
             [
              1,
              "#f0f921"
             ]
            ],
            "type": "surface"
           }
          ],
          "table": [
           {
            "cells": {
             "fill": {
              "color": "#EBF0F8"
             },
             "line": {
              "color": "white"
             }
            },
            "header": {
             "fill": {
              "color": "#C8D4E3"
             },
             "line": {
              "color": "white"
             }
            },
            "type": "table"
           }
          ]
         },
         "layout": {
          "annotationdefaults": {
           "arrowcolor": "#2a3f5f",
           "arrowhead": 0,
           "arrowwidth": 1
          },
          "autotypenumbers": "strict",
          "coloraxis": {
           "colorbar": {
            "outlinewidth": 0,
            "ticks": ""
           }
          },
          "colorscale": {
           "diverging": [
            [
             0,
             "#8e0152"
            ],
            [
             0.1,
             "#c51b7d"
            ],
            [
             0.2,
             "#de77ae"
            ],
            [
             0.3,
             "#f1b6da"
            ],
            [
             0.4,
             "#fde0ef"
            ],
            [
             0.5,
             "#f7f7f7"
            ],
            [
             0.6,
             "#e6f5d0"
            ],
            [
             0.7,
             "#b8e186"
            ],
            [
             0.8,
             "#7fbc41"
            ],
            [
             0.9,
             "#4d9221"
            ],
            [
             1,
             "#276419"
            ]
           ],
           "sequential": [
            [
             0,
             "#0d0887"
            ],
            [
             0.1111111111111111,
             "#46039f"
            ],
            [
             0.2222222222222222,
             "#7201a8"
            ],
            [
             0.3333333333333333,
             "#9c179e"
            ],
            [
             0.4444444444444444,
             "#bd3786"
            ],
            [
             0.5555555555555556,
             "#d8576b"
            ],
            [
             0.6666666666666666,
             "#ed7953"
            ],
            [
             0.7777777777777778,
             "#fb9f3a"
            ],
            [
             0.8888888888888888,
             "#fdca26"
            ],
            [
             1,
             "#f0f921"
            ]
           ],
           "sequentialminus": [
            [
             0,
             "#0d0887"
            ],
            [
             0.1111111111111111,
             "#46039f"
            ],
            [
             0.2222222222222222,
             "#7201a8"
            ],
            [
             0.3333333333333333,
             "#9c179e"
            ],
            [
             0.4444444444444444,
             "#bd3786"
            ],
            [
             0.5555555555555556,
             "#d8576b"
            ],
            [
             0.6666666666666666,
             "#ed7953"
            ],
            [
             0.7777777777777778,
             "#fb9f3a"
            ],
            [
             0.8888888888888888,
             "#fdca26"
            ],
            [
             1,
             "#f0f921"
            ]
           ]
          },
          "colorway": [
           "#636efa",
           "#EF553B",
           "#00cc96",
           "#ab63fa",
           "#FFA15A",
           "#19d3f3",
           "#FF6692",
           "#B6E880",
           "#FF97FF",
           "#FECB52"
          ],
          "font": {
           "color": "#2a3f5f"
          },
          "geo": {
           "bgcolor": "white",
           "lakecolor": "white",
           "landcolor": "#E5ECF6",
           "showlakes": true,
           "showland": true,
           "subunitcolor": "white"
          },
          "hoverlabel": {
           "align": "left"
          },
          "hovermode": "closest",
          "mapbox": {
           "style": "light"
          },
          "paper_bgcolor": "white",
          "plot_bgcolor": "#E5ECF6",
          "polar": {
           "angularaxis": {
            "gridcolor": "white",
            "linecolor": "white",
            "ticks": ""
           },
           "bgcolor": "#E5ECF6",
           "radialaxis": {
            "gridcolor": "white",
            "linecolor": "white",
            "ticks": ""
           }
          },
          "scene": {
           "xaxis": {
            "backgroundcolor": "#E5ECF6",
            "gridcolor": "white",
            "gridwidth": 2,
            "linecolor": "white",
            "showbackground": true,
            "ticks": "",
            "zerolinecolor": "white"
           },
           "yaxis": {
            "backgroundcolor": "#E5ECF6",
            "gridcolor": "white",
            "gridwidth": 2,
            "linecolor": "white",
            "showbackground": true,
            "ticks": "",
            "zerolinecolor": "white"
           },
           "zaxis": {
            "backgroundcolor": "#E5ECF6",
            "gridcolor": "white",
            "gridwidth": 2,
            "linecolor": "white",
            "showbackground": true,
            "ticks": "",
            "zerolinecolor": "white"
           }
          },
          "shapedefaults": {
           "line": {
            "color": "#2a3f5f"
           }
          },
          "ternary": {
           "aaxis": {
            "gridcolor": "white",
            "linecolor": "white",
            "ticks": ""
           },
           "baxis": {
            "gridcolor": "white",
            "linecolor": "white",
            "ticks": ""
           },
           "bgcolor": "#E5ECF6",
           "caxis": {
            "gridcolor": "white",
            "linecolor": "white",
            "ticks": ""
           }
          },
          "title": {
           "x": 0.05
          },
          "xaxis": {
           "automargin": true,
           "gridcolor": "white",
           "linecolor": "white",
           "ticks": "",
           "title": {
            "standoff": 15
           },
           "zerolinecolor": "white",
           "zerolinewidth": 2
          },
          "yaxis": {
           "automargin": true,
           "gridcolor": "white",
           "linecolor": "white",
           "ticks": "",
           "title": {
            "standoff": 15
           },
           "zerolinecolor": "white",
           "zerolinewidth": 2
          }
         }
        },
        "xaxis": {
         "anchor": "y",
         "domain": [
          0,
          1
         ],
         "title": {
          "text": "year"
         }
        },
        "yaxis": {
         "anchor": "x",
         "domain": [
          0,
          1
         ],
         "title": {
          "text": "total_barrels"
         }
        }
       }
      },
      "text/html": [
       "<div>                            <div id=\"963d9eef-061a-4b8b-a8c2-bad0a98e5041\" class=\"plotly-graph-div\" style=\"height:525px; width:100%;\"></div>            <script type=\"text/javascript\">                require([\"plotly\"], function(Plotly) {                    window.PLOTLYENV=window.PLOTLYENV || {};                                    if (document.getElementById(\"963d9eef-061a-4b8b-a8c2-bad0a98e5041\")) {                    Plotly.newPlot(                        \"963d9eef-061a-4b8b-a8c2-bad0a98e5041\",                        [{\"alignmentgroup\":\"True\",\"hovertemplate\":\"brewer_size=6,000,001 Barrels and Over<br>year=%{x}<br>total_barrels=%{y}<extra></extra>\",\"legendgroup\":\"6,000,001 Barrels and Over\",\"marker\":{\"color\":\"#636efa\",\"pattern\":{\"shape\":\"\"}},\"name\":\"6,000,001 Barrels and Over\",\"offsetgroup\":\"6,000,001 Barrels and Over\",\"orientation\":\"v\",\"showlegend\":true,\"textposition\":\"auto\",\"x\":[2009,2010,2011,2012,2013,2014,2015,2015,2016,2017],\"xaxis\":\"x\",\"y\":[171232881.59,1059505.1630000006,893273.36,1468172.4599999995,4797758.09,25151895.32,136122437.44,0.0,2461722.990000003,2062332.14],\"yaxis\":\"y\",\"type\":\"bar\"},{\"alignmentgroup\":\"True\",\"hovertemplate\":\"brewer_size=Other<br>year=%{x}<br>total_barrels=%{y}<extra></extra>\",\"legendgroup\":\"Other\",\"marker\":{\"color\":\"#EF553B\",\"pattern\":{\"shape\":\"\"}},\"name\":\"Other\",\"offsetgroup\":\"Other\",\"orientation\":\"v\",\"showlegend\":true,\"textposition\":\"auto\",\"x\":[2009,2009,2009,2009,2009,2009,2009,2009,2010,2010,2010,2010,2010,2010,2011,2011,2011,2011,2011,2011,2011,2012,2012,2012,2012,2012,2012,2012,2012,2013,2013,2013,2013,2013,2013,2013,2013,2014,2014,2014,2014,2014,2014,2014,2015,2015,2015,2015,2015,2015,2015,2016,2016,2016,2016,2016,2016,2016,2017,2017,2017,2017,2017,2017,2017,2018,2018,2018,2018,2018,2018],\"xaxis\":\"x\",\"y\":[9970404.28,1501976.56,1412244.73,895133.22,442753.54,859934.81,400401.17,3.7,7138171.64,6123725.23,1226091.75,1544051.1,911065.75,560159.3400000001,17703591.0,13524548.35,8448633.99,7926808.210000002,1157839.9,1754234.5499999996,662095.4599999998,157780750.14999998,11735116.0,6864214.06,4654830.640000001,7810357.340000001,2179429.59,1402600.6719999998,516746.493,153023498.63,13394409.41,4821249.3,7637584.410000003,1087970.73,842820.06,1693579.7260000012,602141.4229999988,138677888.13,6055336.28,2639561.5529999994,1310960.0899999996,1042199.4199999996,1959533.497,698737.8779999996,23939648.17,1887855.83,2453623.13,1509411.47,1427754.07,2242859.09,835835.99,4293996.9,10469048.22,3052311.4800000004,2329947.35,1577515.3899999997,1550640.4199999997,993337.9200000032,17288133.2,4868564.08,6253029.02,8792844.25,3175932.85,2230144.53,1565335.71,131336734.02,17410932.97,6076447.34,5859956.25,8777286.219999999,3120044.87],\"yaxis\":\"y\",\"type\":\"bar\"},{\"alignmentgroup\":\"True\",\"hovertemplate\":\"brewer_size=500,001 to 1,000,000 Barrels<br>year=%{x}<br>total_barrels=%{y}<extra></extra>\",\"legendgroup\":\"500,001 to 1,000,000 Barrels\",\"marker\":{\"color\":\"#00cc96\",\"pattern\":{\"shape\":\"\"}},\"name\":\"500,001 to 1,000,000 Barrels\",\"offsetgroup\":\"500,001 to 1,000,000 Barrels\",\"orientation\":\"v\",\"showlegend\":true,\"textposition\":\"auto\",\"x\":[2009,2010,2011,2013,2014,2015,2016,2017],\"xaxis\":\"x\",\"y\":[4831385.68,160771860.70000002,1254333.7459999989,2271814.7,9093514.820000002,5050717.11,26452765.43,1073977.86],\"yaxis\":\"y\",\"type\":\"bar\"},{\"alignmentgroup\":\"True\",\"hovertemplate\":\"brewer_size=100,001 to 500,000 Barrels<br>year=%{x}<br>total_barrels=%{y}<extra></extra>\",\"legendgroup\":\"100,001 to 500,000 Barrels\",\"marker\":{\"color\":\"#ab63fa\",\"pattern\":{\"shape\":\"\"}},\"name\":\"100,001 to 500,000 Barrels\",\"offsetgroup\":\"100,001 to 500,000 Barrels\",\"orientation\":\"v\",\"showlegend\":true,\"textposition\":\"auto\",\"x\":[2009,2010,2011,2011,2012,2014,2015,2016,2017,2017],\"xaxis\":\"x\",\"y\":[5422155.72,15450769.1,138963353.84,458109.82800000056,821100.636,1548669.55,10645528.1,4999263.95,135615117.47,6.73],\"yaxis\":\"y\",\"type\":\"bar\"},{\"alignmentgroup\":\"True\",\"hovertemplate\":\"brewer_size=1,000,001 to 1,999,999 Barrels<br>year=%{x}<br>total_barrels=%{y}<extra></extra>\",\"legendgroup\":\"1,000,001 to 1,999,999 Barrels\",\"marker\":{\"color\":\"#FFA15A\",\"pattern\":{\"shape\":\"\"}},\"name\":\"1,000,001 to 1,999,999 Barrels\",\"offsetgroup\":\"1,000,001 to 1,999,999 Barrels\",\"orientation\":\"v\",\"showlegend\":true,\"textposition\":\"auto\",\"x\":[2010,2012,2013,2014,2015,2016,2016,2017],\"xaxis\":\"x\",\"y\":[426003.3829999997,913884.27,1824548.27,3836841.48,4997347.64,131659359.17,4.43,2656419.36],\"yaxis\":\"y\",\"type\":\"bar\"}],                        {\"template\":{\"data\":{\"histogram2dcontour\":[{\"type\":\"histogram2dcontour\",\"colorbar\":{\"outlinewidth\":0,\"ticks\":\"\"},\"colorscale\":[[0.0,\"#0d0887\"],[0.1111111111111111,\"#46039f\"],[0.2222222222222222,\"#7201a8\"],[0.3333333333333333,\"#9c179e\"],[0.4444444444444444,\"#bd3786\"],[0.5555555555555556,\"#d8576b\"],[0.6666666666666666,\"#ed7953\"],[0.7777777777777778,\"#fb9f3a\"],[0.8888888888888888,\"#fdca26\"],[1.0,\"#f0f921\"]]}],\"choropleth\":[{\"type\":\"choropleth\",\"colorbar\":{\"outlinewidth\":0,\"ticks\":\"\"}}],\"histogram2d\":[{\"type\":\"histogram2d\",\"colorbar\":{\"outlinewidth\":0,\"ticks\":\"\"},\"colorscale\":[[0.0,\"#0d0887\"],[0.1111111111111111,\"#46039f\"],[0.2222222222222222,\"#7201a8\"],[0.3333333333333333,\"#9c179e\"],[0.4444444444444444,\"#bd3786\"],[0.5555555555555556,\"#d8576b\"],[0.6666666666666666,\"#ed7953\"],[0.7777777777777778,\"#fb9f3a\"],[0.8888888888888888,\"#fdca26\"],[1.0,\"#f0f921\"]]}],\"heatmap\":[{\"type\":\"heatmap\",\"colorbar\":{\"outlinewidth\":0,\"ticks\":\"\"},\"colorscale\":[[0.0,\"#0d0887\"],[0.1111111111111111,\"#46039f\"],[0.2222222222222222,\"#7201a8\"],[0.3333333333333333,\"#9c179e\"],[0.4444444444444444,\"#bd3786\"],[0.5555555555555556,\"#d8576b\"],[0.6666666666666666,\"#ed7953\"],[0.7777777777777778,\"#fb9f3a\"],[0.8888888888888888,\"#fdca26\"],[1.0,\"#f0f921\"]]}],\"heatmapgl\":[{\"type\":\"heatmapgl\",\"colorbar\":{\"outlinewidth\":0,\"ticks\":\"\"},\"colorscale\":[[0.0,\"#0d0887\"],[0.1111111111111111,\"#46039f\"],[0.2222222222222222,\"#7201a8\"],[0.3333333333333333,\"#9c179e\"],[0.4444444444444444,\"#bd3786\"],[0.5555555555555556,\"#d8576b\"],[0.6666666666666666,\"#ed7953\"],[0.7777777777777778,\"#fb9f3a\"],[0.8888888888888888,\"#fdca26\"],[1.0,\"#f0f921\"]]}],\"contourcarpet\":[{\"type\":\"contourcarpet\",\"colorbar\":{\"outlinewidth\":0,\"ticks\":\"\"}}],\"contour\":[{\"type\":\"contour\",\"colorbar\":{\"outlinewidth\":0,\"ticks\":\"\"},\"colorscale\":[[0.0,\"#0d0887\"],[0.1111111111111111,\"#46039f\"],[0.2222222222222222,\"#7201a8\"],[0.3333333333333333,\"#9c179e\"],[0.4444444444444444,\"#bd3786\"],[0.5555555555555556,\"#d8576b\"],[0.6666666666666666,\"#ed7953\"],[0.7777777777777778,\"#fb9f3a\"],[0.8888888888888888,\"#fdca26\"],[1.0,\"#f0f921\"]]}],\"surface\":[{\"type\":\"surface\",\"colorbar\":{\"outlinewidth\":0,\"ticks\":\"\"},\"colorscale\":[[0.0,\"#0d0887\"],[0.1111111111111111,\"#46039f\"],[0.2222222222222222,\"#7201a8\"],[0.3333333333333333,\"#9c179e\"],[0.4444444444444444,\"#bd3786\"],[0.5555555555555556,\"#d8576b\"],[0.6666666666666666,\"#ed7953\"],[0.7777777777777778,\"#fb9f3a\"],[0.8888888888888888,\"#fdca26\"],[1.0,\"#f0f921\"]]}],\"mesh3d\":[{\"type\":\"mesh3d\",\"colorbar\":{\"outlinewidth\":0,\"ticks\":\"\"}}],\"scatter\":[{\"fillpattern\":{\"fillmode\":\"overlay\",\"size\":10,\"solidity\":0.2},\"type\":\"scatter\"}],\"parcoords\":[{\"type\":\"parcoords\",\"line\":{\"colorbar\":{\"outlinewidth\":0,\"ticks\":\"\"}}}],\"scatterpolargl\":[{\"type\":\"scatterpolargl\",\"marker\":{\"colorbar\":{\"outlinewidth\":0,\"ticks\":\"\"}}}],\"bar\":[{\"error_x\":{\"color\":\"#2a3f5f\"},\"error_y\":{\"color\":\"#2a3f5f\"},\"marker\":{\"line\":{\"color\":\"#E5ECF6\",\"width\":0.5},\"pattern\":{\"fillmode\":\"overlay\",\"size\":10,\"solidity\":0.2}},\"type\":\"bar\"}],\"scattergeo\":[{\"type\":\"scattergeo\",\"marker\":{\"colorbar\":{\"outlinewidth\":0,\"ticks\":\"\"}}}],\"scatterpolar\":[{\"type\":\"scatterpolar\",\"marker\":{\"colorbar\":{\"outlinewidth\":0,\"ticks\":\"\"}}}],\"histogram\":[{\"marker\":{\"pattern\":{\"fillmode\":\"overlay\",\"size\":10,\"solidity\":0.2}},\"type\":\"histogram\"}],\"scattergl\":[{\"type\":\"scattergl\",\"marker\":{\"colorbar\":{\"outlinewidth\":0,\"ticks\":\"\"}}}],\"scatter3d\":[{\"type\":\"scatter3d\",\"line\":{\"colorbar\":{\"outlinewidth\":0,\"ticks\":\"\"}},\"marker\":{\"colorbar\":{\"outlinewidth\":0,\"ticks\":\"\"}}}],\"scattermapbox\":[{\"type\":\"scattermapbox\",\"marker\":{\"colorbar\":{\"outlinewidth\":0,\"ticks\":\"\"}}}],\"scatterternary\":[{\"type\":\"scatterternary\",\"marker\":{\"colorbar\":{\"outlinewidth\":0,\"ticks\":\"\"}}}],\"scattercarpet\":[{\"type\":\"scattercarpet\",\"marker\":{\"colorbar\":{\"outlinewidth\":0,\"ticks\":\"\"}}}],\"carpet\":[{\"aaxis\":{\"endlinecolor\":\"#2a3f5f\",\"gridcolor\":\"white\",\"linecolor\":\"white\",\"minorgridcolor\":\"white\",\"startlinecolor\":\"#2a3f5f\"},\"baxis\":{\"endlinecolor\":\"#2a3f5f\",\"gridcolor\":\"white\",\"linecolor\":\"white\",\"minorgridcolor\":\"white\",\"startlinecolor\":\"#2a3f5f\"},\"type\":\"carpet\"}],\"table\":[{\"cells\":{\"fill\":{\"color\":\"#EBF0F8\"},\"line\":{\"color\":\"white\"}},\"header\":{\"fill\":{\"color\":\"#C8D4E3\"},\"line\":{\"color\":\"white\"}},\"type\":\"table\"}],\"barpolar\":[{\"marker\":{\"line\":{\"color\":\"#E5ECF6\",\"width\":0.5},\"pattern\":{\"fillmode\":\"overlay\",\"size\":10,\"solidity\":0.2}},\"type\":\"barpolar\"}],\"pie\":[{\"automargin\":true,\"type\":\"pie\"}]},\"layout\":{\"autotypenumbers\":\"strict\",\"colorway\":[\"#636efa\",\"#EF553B\",\"#00cc96\",\"#ab63fa\",\"#FFA15A\",\"#19d3f3\",\"#FF6692\",\"#B6E880\",\"#FF97FF\",\"#FECB52\"],\"font\":{\"color\":\"#2a3f5f\"},\"hovermode\":\"closest\",\"hoverlabel\":{\"align\":\"left\"},\"paper_bgcolor\":\"white\",\"plot_bgcolor\":\"#E5ECF6\",\"polar\":{\"bgcolor\":\"#E5ECF6\",\"angularaxis\":{\"gridcolor\":\"white\",\"linecolor\":\"white\",\"ticks\":\"\"},\"radialaxis\":{\"gridcolor\":\"white\",\"linecolor\":\"white\",\"ticks\":\"\"}},\"ternary\":{\"bgcolor\":\"#E5ECF6\",\"aaxis\":{\"gridcolor\":\"white\",\"linecolor\":\"white\",\"ticks\":\"\"},\"baxis\":{\"gridcolor\":\"white\",\"linecolor\":\"white\",\"ticks\":\"\"},\"caxis\":{\"gridcolor\":\"white\",\"linecolor\":\"white\",\"ticks\":\"\"}},\"coloraxis\":{\"colorbar\":{\"outlinewidth\":0,\"ticks\":\"\"}},\"colorscale\":{\"sequential\":[[0.0,\"#0d0887\"],[0.1111111111111111,\"#46039f\"],[0.2222222222222222,\"#7201a8\"],[0.3333333333333333,\"#9c179e\"],[0.4444444444444444,\"#bd3786\"],[0.5555555555555556,\"#d8576b\"],[0.6666666666666666,\"#ed7953\"],[0.7777777777777778,\"#fb9f3a\"],[0.8888888888888888,\"#fdca26\"],[1.0,\"#f0f921\"]],\"sequentialminus\":[[0.0,\"#0d0887\"],[0.1111111111111111,\"#46039f\"],[0.2222222222222222,\"#7201a8\"],[0.3333333333333333,\"#9c179e\"],[0.4444444444444444,\"#bd3786\"],[0.5555555555555556,\"#d8576b\"],[0.6666666666666666,\"#ed7953\"],[0.7777777777777778,\"#fb9f3a\"],[0.8888888888888888,\"#fdca26\"],[1.0,\"#f0f921\"]],\"diverging\":[[0,\"#8e0152\"],[0.1,\"#c51b7d\"],[0.2,\"#de77ae\"],[0.3,\"#f1b6da\"],[0.4,\"#fde0ef\"],[0.5,\"#f7f7f7\"],[0.6,\"#e6f5d0\"],[0.7,\"#b8e186\"],[0.8,\"#7fbc41\"],[0.9,\"#4d9221\"],[1,\"#276419\"]]},\"xaxis\":{\"gridcolor\":\"white\",\"linecolor\":\"white\",\"ticks\":\"\",\"title\":{\"standoff\":15},\"zerolinecolor\":\"white\",\"automargin\":true,\"zerolinewidth\":2},\"yaxis\":{\"gridcolor\":\"white\",\"linecolor\":\"white\",\"ticks\":\"\",\"title\":{\"standoff\":15},\"zerolinecolor\":\"white\",\"automargin\":true,\"zerolinewidth\":2},\"scene\":{\"xaxis\":{\"backgroundcolor\":\"#E5ECF6\",\"gridcolor\":\"white\",\"linecolor\":\"white\",\"showbackground\":true,\"ticks\":\"\",\"zerolinecolor\":\"white\",\"gridwidth\":2},\"yaxis\":{\"backgroundcolor\":\"#E5ECF6\",\"gridcolor\":\"white\",\"linecolor\":\"white\",\"showbackground\":true,\"ticks\":\"\",\"zerolinecolor\":\"white\",\"gridwidth\":2},\"zaxis\":{\"backgroundcolor\":\"#E5ECF6\",\"gridcolor\":\"white\",\"linecolor\":\"white\",\"showbackground\":true,\"ticks\":\"\",\"zerolinecolor\":\"white\",\"gridwidth\":2}},\"shapedefaults\":{\"line\":{\"color\":\"#2a3f5f\"}},\"annotationdefaults\":{\"arrowcolor\":\"#2a3f5f\",\"arrowhead\":0,\"arrowwidth\":1},\"geo\":{\"bgcolor\":\"white\",\"landcolor\":\"#E5ECF6\",\"subunitcolor\":\"white\",\"showland\":true,\"showlakes\":true,\"lakecolor\":\"white\"},\"title\":{\"x\":0.05},\"mapbox\":{\"style\":\"light\"}}},\"xaxis\":{\"anchor\":\"y\",\"domain\":[0.0,1.0],\"title\":{\"text\":\"year\"}},\"yaxis\":{\"anchor\":\"x\",\"domain\":[0.0,1.0],\"title\":{\"text\":\"total_barrels\"}},\"legend\":{\"title\":{\"text\":\"brewer_size\"},\"tracegroupgap\":0},\"margin\":{\"t\":60},\"barmode\":\"relative\"},                        {\"responsive\": true}                    ).then(function(){\n",
       "                            \n",
       "var gd = document.getElementById('963d9eef-061a-4b8b-a8c2-bad0a98e5041');\n",
       "var x = new MutationObserver(function (mutations, observer) {{\n",
       "        var display = window.getComputedStyle(gd).display;\n",
       "        if (!display || display === 'none') {{\n",
       "            console.log([gd, 'removed!']);\n",
       "            Plotly.purge(gd);\n",
       "            observer.disconnect();\n",
       "        }}\n",
       "}});\n",
       "\n",
       "// Listen for the removal of the full notebook cells\n",
       "var notebookContainer = gd.closest('#notebook-container');\n",
       "if (notebookContainer) {{\n",
       "    x.observe(notebookContainer, {childList: true});\n",
       "}}\n",
       "\n",
       "// Listen for the clearing of the current output cell\n",
       "var outputEl = gd.closest('.output');\n",
       "if (outputEl) {{\n",
       "    x.observe(outputEl, {childList: true});\n",
       "}}\n",
       "\n",
       "                        })                };                });            </script>        </div>"
      ]
     },
     "metadata": {},
     "output_type": "display_data"
    }
   ],
   "source": [
    "\n",
    "fig = px.bar(\n",
    "    bs,\n",
    "    x='year',\n",
    "    y='total_barrels',\n",
    "    color='brewer_size'\n",
    ")\n",
    "\n",
    "fig.show()"
   ]
  },
  {
   "cell_type": "code",
   "execution_count": null,
   "id": "cde1c202",
   "metadata": {},
   "outputs": [],
   "source": []
  }
 ],
 "metadata": {
  "kernelspec": {
   "display_name": "Python 3 (ipykernel)",
   "language": "python",
   "name": "python3"
  },
  "language_info": {
   "codemirror_mode": {
    "name": "ipython",
    "version": 3
   },
   "file_extension": ".py",
   "mimetype": "text/x-python",
   "name": "python",
   "nbconvert_exporter": "python",
   "pygments_lexer": "ipython3",
   "version": "3.10.4"
  }
 },
 "nbformat": 4,
 "nbformat_minor": 5
}
